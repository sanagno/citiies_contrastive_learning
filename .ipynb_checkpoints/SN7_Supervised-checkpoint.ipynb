{
 "cells": [
  {
   "cell_type": "code",
   "execution_count": 1,
   "id": "94f8d51f",
   "metadata": {},
   "outputs": [],
   "source": [
    "import torch\n",
    "import torch.nn as nn\n",
    "import torch.nn.functional as F\n",
    "import torchvision\n",
    "import torchvision.transforms as transforms\n",
    "import matplotlib.pyplot as plt\n",
    "import numpy as np\n",
    "from PIL import Image\n",
    "import numpy as np\n",
    "from torch.utils.data import Dataset, DataLoader\n",
    "import json\n",
    "import os\n",
    "import glob\n",
    "from geopy.geocoders import Nominatim\n",
    "import re\n",
    "import pandas as pd\n",
    "from torchvision.io import read_image\n",
    "from sklearn.preprocessing import LabelEncoder\n",
    "from torch.utils.tensorboard import SummaryWriter\n",
    "import sklearn\n",
    "from sklearn.model_selection import train_test_split\n",
    "from sklearn.model_selection import StratifiedShuffleSplit\n",
    "import math\n",
    "from PIL import ImageFile\n",
    "from torchvision.transforms import InterpolationMode\n",
    "ImageFile.LOAD_TRUNCATED_IMAGES = True   #OTHERWISE TRUNCATED IMAGE FILE ERROR SOMEWHERE IN ENUMERATE(DATALOADER)!!!!"
   ]
  },
  {
   "cell_type": "code",
   "execution_count": 2,
   "id": "56e6b7d2",
   "metadata": {},
   "outputs": [],
   "source": [
    "writer = SummaryWriter()"
   ]
  },
  {
   "cell_type": "code",
   "execution_count": 3,
   "id": "e929587e",
   "metadata": {},
   "outputs": [
    {
     "name": "stdout",
     "output_type": "stream",
     "text": [
      "(12268863488, 12806062080)\n"
     ]
    }
   ],
   "source": [
    "torch.cuda.current_device()\n",
    "torch.cuda.set_device(1)\n",
    "print(torch.cuda.mem_get_info(torch.cuda.current_device()))\n",
    "device = torch.cuda.current_device()"
   ]
  },
  {
   "cell_type": "code",
   "execution_count": 4,
   "id": "468f7b15",
   "metadata": {},
   "outputs": [],
   "source": [
    "# Hyper-parameters \n",
    "num_epochs = 100\n",
    "batch_size = 256\n",
    "learning_rate = 0.01"
   ]
  },
  {
   "cell_type": "code",
   "execution_count": 5,
   "id": "af46e3c0",
   "metadata": {},
   "outputs": [],
   "source": [
    "#READ THE LABELS.CSV FILE GENERATED IN PREPROCESSING.IPYNB, HEADER ALREADY GONE HERE!!!\n",
    "image_id_and_labels = pd.read_csv('ids_and_labels.csv',delimiter=',',header=1)\n",
    "#print(image_id_and_labels.values)\n",
    "image_id_and_labels_arr = np.array(image_id_and_labels.values)\n",
    "#print(image_id_and_labels_arr)"
   ]
  },
  {
   "cell_type": "code",
   "execution_count": 6,
   "id": "dde8883b",
   "metadata": {},
   "outputs": [],
   "source": [
    "#ENCODE THE COUNTRY LABELS SO THAT DATASET CAN READ THEM As TENSORS\n",
    "#label_encoder = LabelEncoder()\n",
    "#image_id_and_labels_encoded = image_id_and_labels_arr.copy()\n",
    "#label_encoder.fit(image_id_and_labels_encoded[:,3])\n",
    "#encoded_countries = label_encoder.transform(image_id_and_labels_encoded[:,3])\n",
    "#print(encoded_countries)\n",
    "#image_id_and_labels_encoded[:,3] = encoded_countries\n",
    "#print(image_id_and_labels_encoded)"
   ]
  },
  {
   "cell_type": "code",
   "execution_count": null,
   "id": "af490df0",
   "metadata": {},
   "outputs": [],
   "source": [
    "#TRAIN-VAL SPLIT AND SAVE AS SEPERATE CSV FILES\n",
    "\n",
    "#ids_labels_train, ids_labels_val = train_test_split(image_id_and_labels_encoded, test_size=0.2, random_state=42)\n",
    "\n",
    "#stratSplit = StratifiedShuffleSplit(n_splits=1, test_size = 0.25, random_state=42)\n",
    "#for train_idx, test_idx in stratSplit.split(image_id_and_labels_encoded, np.zeros(len(image_id_and_labels_encoded))):\n",
    "    #ids_labels_train, ids_labels_val = image_id_and_labels_encoded[train_idx], image_id_and_labels_encoded[test_idx]\n",
    "    \n",
    "\n",
    "#print(len(ids_labels_train))\n",
    "#print(len(ids_labels_val))\n",
    "#np.savetxt(\"ids_and_labels_train.csv\", ids_labels_train, delimiter=\",\", fmt='%s')\n",
    "#np.savetxt(\"ids_and_labels_val.csv\", ids_labels_val, delimiter=\",\", fmt='%s')"
   ]
  },
  {
   "cell_type": "code",
   "execution_count": null,
   "id": "d3353ad7",
   "metadata": {},
   "outputs": [],
   "source": [
    "print(len(np.unique(ids_labels_train[:,3])))\n",
    "print(len(np.unique(ids_labels_val[:,3])))\n",
    "print(len(np.unique(image_id_and_labels_encoded[:,3])))  #NO OF COUNTRIES OVERALL"
   ]
  },
  {
   "cell_type": "code",
   "execution_count": 7,
   "id": "787935b0",
   "metadata": {},
   "outputs": [],
   "source": [
    "#CUSTOM DATASET CLASS\n",
    "#class SN7Dataset(Dataset):\n",
    "    \n",
    "   # def __init__(self, transform=None, train=True):\n",
    "        \n",
    "        #if train == True:\n",
    "            #self.img_ids_labels = pd.read_csv(\"ids_and_labels_train.csv\", header = None) \n",
    "        #else:\n",
    "            #self.img_ids_labels = pd.read_csv(\"ids_and_labels_val.csv\", header = None)\n",
    "            \n",
    "        #self.img_dir = '/local/home/stuff/datasets/Challenge_7/train'\n",
    "        #self.transform = transform\n",
    "        \n",
    "    #def __getitem__(self, idx):\n",
    "        \n",
    "        #image_id = self.img_ids_labels.iloc[idx, 0]\n",
    "        #pattern = \"mosaic_(.*?).tif\"\n",
    "        #location_id = re.search(pattern, image_id).group(1)\n",
    "        ##print(image_id)\n",
    "        #print(location_id)\n",
    "        #img_path = os.path.join(self.img_dir, location_id, 'images', image_id )\n",
    "        #image = torchvision.transforms.ToTensor()(Image.open(img_path))[0:3,:,:]  #TAKE RGB CHANNELS ONLY FOR RESNET COMPATIBILITY!!!\n",
    "        #label = torch.from_numpy(np.asarray(self.img_ids_labels.iloc[idx, 3]))\n",
    "        #if self.transform:\n",
    "            #image = self.transform(image)\n",
    "        #if self.target_transform:\n",
    "            #label = self.target_transform(label)\n",
    "        #return image, label\n",
    "        \n",
    "    #def __len__(self):\n",
    "        \n",
    "        #return len(self.img_ids_labels)\n",
    "\n",
    "class SN7Dataset(Dataset):\n",
    "    \n",
    "    def __init__(self, transform=None, train=True):\n",
    "        \n",
    "        if train == True:\n",
    "            self.img_ids_labels = pd.read_csv(\"ids_and_labels_train_repeated.csv\", header = None) \n",
    "        else:\n",
    "            self.img_ids_labels = pd.read_csv(\"ids_and_labels_val_repeated.csv\", header = None)\n",
    "            \n",
    "        self.img_dir = '/local/home/stuff/datasets/Challenge_7/train'\n",
    "        self.transform = transform\n",
    "        \n",
    "    def __getitem__(self, idx):\n",
    "        #print(self.img_ids_labels.iloc[idx, 0])\n",
    "        image_id, patch_id = self.img_ids_labels.iloc[idx, 0].split(\"!\")[1],self.img_ids_labels.iloc[idx, 0].split(\"!\")[0]\n",
    "        pattern = \"mosaic_(.*?).tif\"\n",
    "        location_id = re.search(pattern, image_id).group(1)\n",
    "        #print(image_id)\n",
    "        #print(location_id)\n",
    "        img_path = os.path.join(self.img_dir, location_id, 'images', image_id )\n",
    "        image = torchvision.transforms.ToTensor()(Image.open(img_path))[0:3,:,:]  #TAKE RGB CHANNELS ONLY FOR RESNET COMPATIBILITY!!!\n",
    "        \n",
    "        image_padded = torch.nn.functional.pad(image, pad=(0, 1024 - image.shape[2], 0, 1024 - image.shape[1]))\n",
    "        patches = image_padded.unfold(1, 256, 256).unfold(2, 256, 256)\n",
    "        patches = patches.reshape(3, -1, 256, 256)\n",
    "        patches = patches.permute(1,0,2,3)\n",
    "        \n",
    "        image = patches[int(patch_id)]\n",
    "        \n",
    "        label = torch.from_numpy(np.asarray(self.img_ids_labels.iloc[idx, 3])).type(torch.LongTensor)\n",
    "        \n",
    "        #patches = patches.view(-1, 3, 256, 256)\n",
    "        #print(patches.shape)\n",
    "        #label = label.flatten()\n",
    "        #label = label.type(torch.LongTensor)\n",
    "        \n",
    "        \n",
    "        image = self.transform(image)\n",
    "                \n",
    "            \n",
    "        #if self.target_transform:\n",
    "            #label = self.target_transform(label)\n",
    "            \n",
    "        \n",
    "        return image, label\n",
    "        \n",
    "    def __len__(self):\n",
    "        \n",
    "        return len(self.img_ids_labels)"
   ]
  },
  {
   "cell_type": "code",
   "execution_count": 8,
   "id": "064b9aec",
   "metadata": {},
   "outputs": [
    {
     "name": "stdout",
     "output_type": "stream",
     "text": [
      "torch.Size([256, 3, 256, 256])\n",
      "torch.Size([256])\n"
     ]
    }
   ],
   "source": [
    "#INSTANTIATE DATASETS\n",
    "#transform = transforms.Compose([torchvision.transforms.Resize((1023,1023)), torchvision.transforms.Normalize((0.5, 0.5, 0.5), (0.5, 0.5, 0.5))])   #OTHERWISE SOME IMAGES 1024, SOME 1023!!!\n",
    "transform = torchvision.transforms.Normalize((0.5, 0.5, 0.5), (0.5, 0.5, 0.5))\n",
    "train_dataset = SN7Dataset(train=True, transform = transform)\n",
    "val_dataset = SN7Dataset(train=False, transform = transform)\n",
    "\n",
    "train_loader = DataLoader(dataset=train_dataset, batch_size = batch_size, shuffle = True, num_workers = 10)\n",
    "val_loader = DataLoader(dataset=val_dataset, batch_size = batch_size, shuffle = True, num_workers = 10)\n",
    "\n",
    "#CHECK FOR TRAIN\n",
    "#first_data = train_dataset[345]\n",
    "#img, label = first_data\n",
    "#plt.imshow(img.permute(1,2,0))     #OTHER WAY TO PLOT????????\n",
    "#print(label_encoder.inverse_transform(label.detach().reshape(-1,1)))\n",
    "#print(img.shape)\n",
    "#print(type(img))\n",
    "#print(type(label))\n",
    "\n",
    "\n",
    "dataiter = iter(train_loader)\n",
    "data = dataiter.next()\n",
    "imgs, labels = data\n",
    "print(imgs.shape)\n",
    "print(labels.shape)\n",
    "\n",
    "#for i in range(6):\n",
    "#    plt.subplot(2,3,i+1)\n",
    "#    plt.imshow(np.transpose(imgs[i]))\n",
    "#    print(label_encoder.inverse_transform(labels[i].detach().reshape(-1,1)))\n",
    "#plt.show()\n",
    "\n",
    "#print(len(train_dataset))"
   ]
  },
  {
   "cell_type": "code",
   "execution_count": 9,
   "id": "4bc81f6c",
   "metadata": {},
   "outputs": [],
   "source": [
    "#CHECK FOR VAL\n",
    "\n",
    "#first_data = val_dataset[271]\n",
    "#img, label = first_data\n",
    "#plt.imshow(img.permute(1,2,0))     #OTHER WAY TO PLOT????????\n",
    "#print(label_encoder.inverse_transform(label.detach().reshape(-1,1)))\n",
    "#print(img.shape)\n",
    "#print(type(img))\n",
    "#print(type(label))\n",
    "\n",
    "\n",
    "#dataiter = iter(val_loader)\n",
    "#data = dataiter.next()\n",
    "#imgs, labels = data\n",
    "#print(imgs.shape)\n",
    "#print(labels.shape)\n",
    "\n",
    "#for i in range(6):\n",
    "#    plt.subplot(2,3,i+1)\n",
    "#    plt.imshow(np.transpose(imgs[i]))\n",
    "#    print(label_encoder.inverse_transform(labels[i].detach().reshape(-1,1)))\n",
    "#plt.show()\n",
    "\n",
    "#print(len(val_dataset))"
   ]
  },
  {
   "cell_type": "code",
   "execution_count": 11,
   "id": "68cca531",
   "metadata": {},
   "outputs": [
    {
     "name": "stdout",
     "output_type": "stream",
     "text": [
      "torch.Size([256, 3, 256, 256])\n"
     ]
    },
    {
     "data": {
      "image/png": "[encoded data removed]",
      "text/plain": [
       "<Figure size 432x288 with 1 Axes>"
      ]
     },
     "metadata": {
      "needs_background": "light"
     },
     "output_type": "display_data"
    }
   ],
   "source": [
    "#CHECK FOR NORMALIZED IMAGES\n",
    "\n",
    "def imshow(img):\n",
    "    img = img / 2 + 0.5  # unnormalize\n",
    "    npimg = img.numpy()\n",
    "    plt.imshow(np.transpose(npimg, (1, 2, 0)))\n",
    "    plt.show()\n",
    "\n",
    "\n",
    "# get some random training images\n",
    "dataiter = iter(train_loader)\n",
    "images, labels = dataiter.next()\n",
    "print(images.shape)\n",
    "\n",
    "# show images\n",
    "imshow(torchvision.utils.make_grid(images))"
   ]
  },
  {
   "cell_type": "code",
   "execution_count": 12,
   "id": "aad31de6",
   "metadata": {},
   "outputs": [],
   "source": [
    "#MODEL, LOSS AND OPTIMIZER\n",
    "model = torchvision.models.resnet18().to(device)  #NOT PRETRAINED!\n",
    "criterion = nn.CrossEntropyLoss()\n",
    "optimizer = torch.optim.SGD(model.parameters(), lr=learning_rate)"
   ]
  },
  {
   "cell_type": "code",
   "execution_count": null,
   "id": "c1fc35ab",
   "metadata": {},
   "outputs": [],
   "source": [
    "#DATA PARALLELISM FOR MULTİPLE GPUs\n",
    "device = f'cuda:{model.device_ids[0]}'\n",
    "model = nn.DataParallel(torchvision.models.resnet18(), device_ids = [2, 3]).to(device)\n",
    "#NOTE: LOSS DIDNT DECREASE IN THIS CASE, %0 ACCURACY FOR ALL CLASSES!!!!"
   ]
  },
  {
   "cell_type": "code",
   "execution_count": 13,
   "id": "75faa093",
   "metadata": {},
   "outputs": [
    {
     "name": "stdout",
     "output_type": "stream",
     "text": [
      "Epoch [1/100], Step [30/67], Loss: 3.3298\n",
      "Epoch [1/100], Step [60/67], Loss: 2.6176\n",
      "Epoch [2/100], Step [30/67], Loss: 2.0071\n",
      "Epoch [2/100], Step [60/67], Loss: 1.9367\n",
      "Epoch [3/100], Step [30/67], Loss: 1.7671\n",
      "Epoch [3/100], Step [60/67], Loss: 1.6731\n",
      "Epoch [4/100], Step [30/67], Loss: 1.5440\n",
      "Epoch [4/100], Step [60/67], Loss: 1.4006\n",
      "Epoch [5/100], Step [30/67], Loss: 1.4424\n",
      "Epoch [5/100], Step [60/67], Loss: 1.3531\n",
      "Epoch [6/100], Step [30/67], Loss: 1.1492\n"
     ]
    },
    {
     "ename": "KeyboardInterrupt",
     "evalue": "",
     "output_type": "error",
     "traceback": [
      "\u001b[0;31m---------------------------------------------------------------------------\u001b[0m",
      "\u001b[0;31mKeyboardInterrupt\u001b[0m                         Traceback (most recent call last)",
      "Input \u001b[0;32mIn [13]\u001b[0m, in \u001b[0;36m<cell line: 6>\u001b[0;34m()\u001b[0m\n\u001b[1;32m     18\u001b[0m loss\u001b[38;5;241m.\u001b[39mbackward()\n\u001b[1;32m     19\u001b[0m optimizer\u001b[38;5;241m.\u001b[39mstep()\n\u001b[0;32m---> 21\u001b[0m running_loss \u001b[38;5;241m+\u001b[39m\u001b[38;5;241m=\u001b[39m \u001b[43mloss\u001b[49m\u001b[38;5;241;43m.\u001b[39;49m\u001b[43mitem\u001b[49m\u001b[43m(\u001b[49m\u001b[43m)\u001b[49m\n\u001b[1;32m     22\u001b[0m _, predicted \u001b[38;5;241m=\u001b[39m torch\u001b[38;5;241m.\u001b[39mmax(outputs\u001b[38;5;241m.\u001b[39mdata, \u001b[38;5;241m1\u001b[39m)\n\u001b[1;32m     23\u001b[0m running_correct \u001b[38;5;241m+\u001b[39m\u001b[38;5;241m=\u001b[39m (predicted \u001b[38;5;241m==\u001b[39m labels)\u001b[38;5;241m.\u001b[39msum()\u001b[38;5;241m.\u001b[39mitem()\n",
      "\u001b[0;31mKeyboardInterrupt\u001b[0m: "
     ]
    }
   ],
   "source": [
    "#TRAINING LOOP\n",
    "n_total_steps = len(train_loader)\n",
    "running_loss = 0.0\n",
    "running_correct = 0\n",
    "checkpoints = 30\n",
    "for epoch in range(num_epochs):\n",
    "    for i, (images, labels) in enumerate(train_loader):\n",
    "        \n",
    "        images = images.to(device)\n",
    "        labels = labels.to(device)\n",
    "\n",
    "        # Forward pass\n",
    "        outputs = model(images)\n",
    "        loss = criterion(outputs, labels)\n",
    "\n",
    "        # Backward and optimize\n",
    "        optimizer.zero_grad()\n",
    "        loss.backward()\n",
    "        optimizer.step()\n",
    "        \n",
    "        running_loss += loss.item()\n",
    "        _, predicted = torch.max(outputs.data, 1)\n",
    "        running_correct += (predicted == labels).sum().item()\n",
    "\n",
    "        if (i+1) % checkpoints == 0:\n",
    "            print (f'Epoch [{epoch+1}/{num_epochs}], Step [{i+1}/{n_total_steps}], Loss: {loss.item():.4f}')\n",
    "            writer.add_scalar('training_loss', running_loss/checkpoints, epoch * n_total_steps + i)\n",
    "            running_accuracy = running_correct/checkpoints/predicted.size(0)\n",
    "            writer.add_scalar('accuracy', running_accuracy, epoch * n_total_steps + i)\n",
    "            running_loss = 0.0\n",
    "            running_correct = 0\n",
    "\n",
    "writer.flush()\n",
    "writer.close()\n",
    "\n",
    "print('Finished Training')"
   ]
  },
  {
   "cell_type": "code",
   "execution_count": 13,
   "id": "8ac4c718",
   "metadata": {},
   "outputs": [
    {
     "name": "stdout",
     "output_type": "stream",
     "text": [
      "31\n",
      "Accuracy of the network: 87.34110169491525 %\n",
      "Accuracy of Algérie / ⵍⵣⵣⴰⵢⴻⵔ / الجزائر: 91.96428571428571 %\n",
      "Accuracy of Australia: 75.0 %\n",
      "Accuracy of Brasil: 91.66666666666667 %\n",
      "Accuracy of Chile: 95.3125 %\n",
      "Accuracy of Ghana: 79.16666666666667 %\n",
      "Accuracy of India: 69.75 %\n",
      "Accuracy of Jamaica: 93.75 %\n",
      "Accuracy of México: 95.0 %\n",
      "Accuracy of Nederland: 92.5 %\n",
      "Accuracy of Oʻzbekiston: 80.55555555555556 %\n",
      "Accuracy of Panamá: 76.25 %\n",
      "Accuracy of Perú: 77.34375 %\n",
      "Accuracy of Philippines: 89.84375 %\n",
      "Accuracy of România: 76.38888888888889 %\n",
      "Accuracy of South Africa: 86.71875 %\n",
      "Accuracy of Sénégal: 92.96875 %\n",
      "Accuracy of Uganda: 68.75 %\n",
      "Accuracy of United Kingdom: 86.93181818181819 %\n",
      "Accuracy of United States: 92.07089552238806 %\n",
      "Accuracy of Zambia: 96.875 %\n",
      "Accuracy of Россия: 75.0 %\n",
      "Accuracy of الإمارات العربية المتحدة: 93.75 %\n",
      "Accuracy of السعودية: 98.61111111111111 %\n",
      "Accuracy of السودان: 82.03125 %\n",
      "Accuracy of الكويت: 71.25 %\n",
      "Accuracy of اليمن: 66.96428571428571 %\n",
      "Accuracy of ليبيا: 96.25 %\n",
      "Accuracy of مصر: 93.05555555555556 %\n",
      "Accuracy of বাংলাদেশ: 81.25 %\n",
      "Accuracy of 中国: 94.47463768115942 %\n",
      "Accuracy of 대한민국: 69.64285714285714 %\n"
     ]
    }
   ],
   "source": [
    "#print(type(ids_labels_val[:,3]))\n",
    "#val_classes = label_encoder.inverse_transform(ids_labels_val[:,3].astype('int'))\n",
    "#classes = np.unique(val_classes)\n",
    "\n",
    "classes = ['Algérie / ⵍⵣⵣⴰⵢⴻⵔ / الجزائر', 'Australia', 'Brasil', 'Chile', 'Ghana',\n",
    " 'India', 'Jamaica', 'México', 'Nederland', 'Oʻzbekiston', 'Panamá', 'Perú',\n",
    " 'Philippines', 'România', 'South Africa', 'Sénégal', 'Uganda',\n",
    " 'United Kingdom', 'United States', 'Zambia', 'Россия',\n",
    " 'الإمارات العربية المتحدة' ,'السعودية' ,'السودان' ,'الكويت' ,'اليمن' ,'ليبيا',\n",
    " 'مصر', 'বাংলাদেশ', '中国', '대한민국']\n",
    "\n",
    "print(len(classes))\n",
    "\n",
    "with torch.no_grad():\n",
    "    n_correct = 0\n",
    "    n_samples = 0\n",
    "    n_class_correct = [0 for i in range(len(classes))]\n",
    "    n_class_samples = [0 for i in range(len(classes))]\n",
    "    for images, labels in val_loader:\n",
    "        images = images.to(device)  \n",
    "        #print(labels.shape)\n",
    "        labels = labels.to(device)\n",
    "        outputs = model(images)\n",
    "        # max returns (value ,index)\n",
    "        _, predicted = torch.max(outputs.data, 1)\n",
    "        n_samples += labels.size(0)\n",
    "        n_correct += (predicted == labels).sum().item()\n",
    "        \n",
    "        for i in range(len(labels)):\n",
    "            label = labels[i]\n",
    "            pred = predicted[i]\n",
    "            if (label == pred):\n",
    "                n_class_correct[label] += 1\n",
    "            n_class_samples[label] += 1\n",
    "\n",
    "    acc = 100.0 * n_correct / n_samples\n",
    "    print(f'Accuracy of the network: {acc} %')\n",
    "\n",
    "    for i in range(len(classes)):\n",
    "        acc = 100.0 * n_class_correct[i] / n_class_samples[i]\n",
    "        print(f'Accuracy of {classes[i]}: {acc} %')"
   ]
  },
  {
   "cell_type": "code",
   "execution_count": null,
   "id": "801ca109",
   "metadata": {},
   "outputs": [],
   "source": [
    "torch.save(model.state_dict(),'Supervised_Model.pth')"
   ]
  },
  {
   "cell_type": "code",
   "execution_count": null,
   "id": "818a5ffd",
   "metadata": {},
   "outputs": [],
   "source": [
    "#MAY NEED TO SPLIT DATA WITH BALANCED CLASSES!!!(EQUAL NUM OF SAMPLES FROM EACH CLASS)\n",
    "torch.cuda.empty_cache()"
   ]
  },
  {
   "cell_type": "code",
   "execution_count": null,
   "id": "5f3e6186",
   "metadata": {},
   "outputs": [],
   "source": []
  }
 ],
 "metadata": {
  "kernelspec": {
   "display_name": "Python 3 (ipykernel)",
   "language": "python",
   "name": "python3"
  },
  "language_info": {
   "codemirror_mode": {
    "name": "ipython",
    "version": 3
   },
   "file_extension": ".py",
   "mimetype": "text/x-python",
   "name": "python",
   "nbconvert_exporter": "python",
   "pygments_lexer": "ipython3",
   "version": "3.8.5"
  }
 },
 "nbformat": 4,
 "nbformat_minor": 5
}

{
 "cells": [
  {
   "cell_type": "code",
   "execution_count": 2,
   "id": "e230cf96",
   "metadata": {},
   "outputs": [],
   "source": [
    "from pathlib import Path\n",
    "import argparse\n",
    "import json\n",
    "import os\n",
    "import random\n",
    "import signal\n",
    "import sys\n",
    "import time\n",
    "import urllib\n",
    "\n",
    "from torch import nn, optim\n",
    "from torchvision import datasets, transforms\n",
    "import torch\n",
    "torch.cuda.empty_cache()\n",
    "\n",
    "import resnet\n",
    "\n",
    "import numpy as np\n",
    "from PIL import Image\n",
    "import numpy as np\n",
    "from torch.utils.data import Dataset, DataLoader\n",
    "import json\n",
    "\n",
    "import glob\n",
    "from geopy.geocoders import Nominatim\n",
    "import re\n",
    "import pandas as pd\n",
    "from torchvision.io import read_image\n",
    "from sklearn.preprocessing import LabelEncoder\n",
    "from torch.utils.tensorboard import SummaryWriter\n",
    "import sklearn\n",
    "from sklearn.model_selection import train_test_split\n",
    "from sklearn.model_selection import StratifiedShuffleSplit\n",
    "import math\n",
    "from PIL import ImageFile\n",
    "ImageFile.LOAD_TRUNCATED_IMAGES = True   #OTHERWISE TRUNCATED IMAGE FILE ERROR SOMEWHERE IN ENUMERATE(DATALOADER)!!!!\n",
    "\n",
    "import resnet\n",
    "\n",
    "import torchvision"
   ]
  },
  {
   "cell_type": "code",
   "execution_count": 2,
   "id": "544397dd",
   "metadata": {},
   "outputs": [],
   "source": [
    "ids_and_labels_train = pd.read_csv('../../ids_and_labels_train_repeated.csv',delimiter=',',header=1)\n",
    "ids_and_labels_val = pd.read_csv('../../ids_and_labels_val_repeated.csv',delimiter=',',header=1)\n",
    "    \n",
    "ids_and_labels_train_arr = np.array(ids_and_labels_train.values)\n",
    "ids_and_labels_val_arr = np.array(ids_and_labels_val.values)\n",
    "    \n",
    "num_rows = ids_and_labels_train_arr.shape[0]\n",
    "random_indices = np.random.choice(num_rows, size=int(np.round(10*num_rows/100.0)), replace=False)\n",
    "    \n",
    "    \n",
    "selected_training_samples = ids_and_labels_train_arr[random_indices,:]\n",
    "    \n",
    "np.savetxt(\"ids_and_labels_train_subset_10.csv\", selected_training_samples, delimiter=\",\", fmt='%s')"
   ]
  },
  {
   "cell_type": "code",
   "execution_count": 3,
   "id": "81f4c249",
   "metadata": {},
   "outputs": [],
   "source": [
    "ids_and_labels_train = pd.read_csv('fmow/csv_file.csv',delimiter=',',header=1)\n",
    "ids_and_labels_val = pd.read_csv('fmow/csv_file_val.csv',delimiter=',',header=1)\n",
    "    \n",
    "ids_and_labels_train_arr = np.array(ids_and_labels_train.values)\n",
    "ids_and_labels_val_arr = np.array(ids_and_labels_val.values)\n",
    "    \n",
    "num_rows = ids_and_labels_train_arr.shape[0]\n",
    "random_indices = np.random.choice(num_rows, size=int(np.round(10*num_rows/100.0)), replace=False)\n",
    "    \n",
    "    \n",
    "selected_training_samples = ids_and_labels_train_arr[random_indices,:]\n",
    "    \n",
    "np.savetxt(\"fmow/csv_train_10.csv\", selected_training_samples, delimiter=\",\", fmt='%s')"
   ]
  },
  {
   "cell_type": "code",
   "execution_count": 4,
   "id": "1d348798",
   "metadata": {},
   "outputs": [],
   "source": [
    "ids_and_labels_train = pd.read_csv('fmow/csv_file.csv',delimiter=',',header=1)\n",
    "ids_and_labels_val = pd.read_csv('fmow/csv_file_val.csv',delimiter=',',header=1)\n",
    "    \n",
    "ids_and_labels_train_arr = np.array(ids_and_labels_train.values)\n",
    "ids_and_labels_val_arr = np.array(ids_and_labels_val.values)\n",
    "    \n",
    "num_rows = ids_and_labels_train_arr.shape[0]\n",
    "random_indices = np.random.choice(num_rows, size=int(np.round(1*num_rows/100.0)), replace=False)\n",
    "    \n",
    "    \n",
    "selected_training_samples = ids_and_labels_train_arr[random_indices,:]\n",
    "    \n",
    "np.savetxt(\"fmow/csv_train_1.csv\", selected_training_samples, delimiter=\",\", fmt='%s')"
   ]
  },
  {
   "cell_type": "code",
   "execution_count": null,
   "id": "45a2e833",
   "metadata": {},
   "outputs": [],
   "source": []
  }
 ],
 "metadata": {
  "kernelspec": {
   "display_name": "Python 3 (ipykernel)",
   "language": "python",
   "name": "python3"
  },
  "language_info": {
   "codemirror_mode": {
    "name": "ipython",
    "version": 3
   },
   "file_extension": ".py",
   "mimetype": "text/x-python",
   "name": "python",
   "nbconvert_exporter": "python",
   "pygments_lexer": "ipython3",
   "version": "3.8.5"
  }
 },
 "nbformat": 4,
 "nbformat_minor": 5
}

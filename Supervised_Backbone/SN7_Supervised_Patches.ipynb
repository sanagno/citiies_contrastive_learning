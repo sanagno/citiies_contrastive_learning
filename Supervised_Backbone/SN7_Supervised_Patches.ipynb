{
 "cells": [
  {
   "cell_type": "code",
   "execution_count": 1,
   "id": "94f8d51f",
   "metadata": {},
   "outputs": [],
   "source": [
    "import torch\n",
    "import torch.nn as nn\n",
    "import torch.nn.functional as F\n",
    "import torchvision\n",
    "import torchvision.transforms as transforms\n",
    "import matplotlib.pyplot as plt\n",
    "import numpy as np\n",
    "from PIL import Image\n",
    "import numpy as np\n",
    "from torch.utils.data import Dataset, DataLoader\n",
    "import json\n",
    "import os\n",
    "import glob\n",
    "from geopy.geocoders import Nominatim\n",
    "import re\n",
    "import pandas as pd\n",
    "from torchvision.io import read_image\n",
    "from sklearn.preprocessing import LabelEncoder\n",
    "from torch.utils.tensorboard import SummaryWriter\n",
    "import sklearn\n",
    "from sklearn.model_selection import train_test_split\n",
    "from sklearn.model_selection import StratifiedShuffleSplit\n",
    "import math\n",
    "from PIL import ImageFile\n",
    "ImageFile.LOAD_TRUNCATED_IMAGES = True   #OTHERWISE TRUNCATED IMAGE FILE ERROR SOMEWHERE IN ENUMERATE(DATALOADER)!!!!"
   ]
  },
  {
   "cell_type": "code",
   "execution_count": 2,
   "id": "56e6b7d2",
   "metadata": {},
   "outputs": [],
   "source": [
    "writer = SummaryWriter()"
   ]
  },
  {
   "cell_type": "code",
   "execution_count": 3,
   "id": "e929587e",
   "metadata": {},
   "outputs": [
    {
     "name": "stdout",
     "output_type": "stream",
     "text": [
      "(94856867526528, 94856774457508)\n"
     ]
    }
   ],
   "source": [
    "torch.cuda.current_device()\n",
    "torch.cuda.set_device(3)\n",
    "print(torch.cuda.mem_get_info(torch.cuda.current_device()))\n",
    "device = torch.cuda.current_device()"
   ]
  },
  {
   "cell_type": "code",
   "execution_count": 4,
   "id": "78113a44",
   "metadata": {},
   "outputs": [],
   "source": [
    "# Hyper-parameters \n",
    "num_epochs = 80\n",
    "batch_size = 16\n",
    "learning_rate = 0.01"
   ]
  },
  {
   "cell_type": "code",
   "execution_count": 6,
   "id": "af46e3c0",
   "metadata": {},
   "outputs": [],
   "source": [
    "#READ THE LABELS.CSV FILE GENERATED IN PREPROCESSING.IPYNB, HEADER ALREADY GONE HERE!!!\n",
    "image_id_and_labels = pd.read_csv('ids_and_labels.csv',delimiter=',',header=1)\n",
    "#print(image_id_and_labels.values)\n",
    "image_id_and_labels_arr = np.array(image_id_and_labels.values)\n",
    "#print(image_id_and_labels_arr)"
   ]
  },
  {
   "cell_type": "code",
   "execution_count": 7,
   "id": "dde8883b",
   "metadata": {},
   "outputs": [
    {
     "name": "stdout",
     "output_type": "stream",
     "text": [
      "[['global_monthly_2018_09_mosaic_L15-0331E-1257N_1327_3160_13.tif' nan\n",
      "  'California' 18]\n",
      " ['global_monthly_2018_06_mosaic_L15-0331E-1257N_1327_3160_13.tif' nan\n",
      "  'California' 18]\n",
      " ['global_monthly_2018_11_mosaic_L15-0331E-1257N_1327_3160_13.tif' nan\n",
      "  'California' 18]\n",
      " ...\n",
      " ['global_monthly_2019_01_mosaic_L15-1848E-0793N_7394_5018_13.tif'\n",
      "  'Melbourne' 'Victoria' 1]\n",
      " ['global_monthly_2018_12_mosaic_L15-1848E-0793N_7394_5018_13.tif'\n",
      "  'Melbourne' 'Victoria' 1]\n",
      " ['global_monthly_2019_06_mosaic_L15-1848E-0793N_7394_5018_13.tif'\n",
      "  'Melbourne' 'Victoria' 1]]\n"
     ]
    }
   ],
   "source": [
    "#ENCODE THE COUNTRY LABELS SO THAT DATASET CAN READ THEM As TENSORS\n",
    "label_encoder = LabelEncoder()\n",
    "image_id_and_labels_encoded = image_id_and_labels_arr.copy()\n",
    "label_encoder.fit(image_id_and_labels_encoded[:,3])\n",
    "encoded_countries = label_encoder.transform(image_id_and_labels_encoded[:,3])\n",
    "#print(encoded_countries)\n",
    "image_id_and_labels_encoded[:,3] = encoded_countries\n",
    "print(image_id_and_labels_encoded)"
   ]
  },
  {
   "cell_type": "code",
   "execution_count": 8,
   "id": "af490df0",
   "metadata": {},
   "outputs": [
    {
     "name": "stdout",
     "output_type": "stream",
     "text": [
      "1066\n",
      "356\n"
     ]
    }
   ],
   "source": [
    "#TRAIN-VAL SPLIT AND SAVE AS SEPERATE CSV FILES\n",
    "\n",
    "#ids_labels_train, ids_labels_val = train_test_split(image_id_and_labels_encoded, test_size=0.2, random_state=42)\n",
    "\n",
    "stratSplit = StratifiedShuffleSplit(n_splits=1, test_size = 0.25, random_state=42)\n",
    "for train_idx, test_idx in stratSplit.split(image_id_and_labels_encoded, np.zeros(len(image_id_and_labels_encoded))):\n",
    "    ids_labels_train, ids_labels_val = image_id_and_labels_encoded[train_idx], image_id_and_labels_encoded[test_idx]\n",
    "    \n",
    "\n",
    "print(len(ids_labels_train))\n",
    "print(len(ids_labels_val))\n",
    "np.savetxt(\"ids_and_labels_train.csv\", ids_labels_train, delimiter=\",\", fmt='%s')\n",
    "np.savetxt(\"ids_and_labels_val.csv\", ids_labels_val, delimiter=\",\", fmt='%s')"
   ]
  },
  {
   "cell_type": "code",
   "execution_count": 9,
   "id": "d3353ad7",
   "metadata": {},
   "outputs": [
    {
     "name": "stdout",
     "output_type": "stream",
     "text": [
      "31\n",
      "31\n",
      "31\n"
     ]
    }
   ],
   "source": [
    "print(len(np.unique(ids_labels_train[:,3])))\n",
    "print(len(np.unique(ids_labels_val[:,3])))\n",
    "print(len(np.unique(image_id_and_labels_encoded[:,3])))  #NO OF COUNTRIES OVERALL"
   ]
  },
  {
   "cell_type": "code",
   "execution_count": 18,
   "id": "787935b0",
   "metadata": {},
   "outputs": [],
   "source": [
    "#CUSTOM DATASET CLASS\n",
    "class SN7Dataset(Dataset):\n",
    "    \n",
    "    def __init__(self, transform=None, train=True):\n",
    "        \n",
    "        if train == True:\n",
    "            self.img_ids_labels = pd.read_csv(\"ids_and_labels_train.csv\", header = None) \n",
    "        else:\n",
    "            self.img_ids_labels = pd.read_csv(\"ids_and_labels_val.csv\", header = None)\n",
    "            \n",
    "        self.img_dir = '/local/home/stuff/datasets/Challenge_7/train'\n",
    "        self.transform = transform\n",
    "        \n",
    "    def __getitem__(self, idx):\n",
    "        \n",
    "        image_id = self.img_ids_labels.iloc[idx, 0]\n",
    "        pattern = \"mosaic_(.*?).tif\"\n",
    "        location_id = re.search(pattern, image_id).group(1)\n",
    "        #print(image_id)\n",
    "        #print(location_id)\n",
    "        img_path = os.path.join(self.img_dir, location_id, 'images', image_id )\n",
    "        image = torchvision.transforms.ToTensor()(Image.open(img_path))[0:3,:,:]  #TAKE RGB CHANNELS ONLY FOR RESNET COMPATIBILITY!!!\n",
    "        \n",
    "        image_padded = torch.nn.functional.pad(image, pad=(0, 1024 - image.shape[2], 0, 1024 - image.shape[1]))\n",
    "        patches = image_padded.unfold(1, 256, 256).unfold(2, 256, 256)\n",
    "        patches = patches.reshape(3, -1, 256, 256)\n",
    "        patches = patches.permute(1,0,2,3)\n",
    "        \n",
    "        label = torch.from_numpy(np.asarray(self.img_ids_labels.iloc[idx, 3]))*torch.ones(patches.size(0))\n",
    "        \n",
    "        #patches = patches.view(-1, 3, 256, 256)\n",
    "        #label = label.flatten()\n",
    "        #label = label.type(torch.LongTensor)\n",
    "        \n",
    "        if self.transform:\n",
    "            patches = self.transform(patches)\n",
    "        #if self.target_transform:\n",
    "            #label = self.target_transform(label)\n",
    "            \n",
    "        \n",
    "        return patches, label\n",
    "        \n",
    "    def __len__(self):\n",
    "        \n",
    "        return len(self.img_ids_labels)"
   ]
  },
  {
   "cell_type": "code",
   "execution_count": 19,
   "id": "064b9aec",
   "metadata": {},
   "outputs": [
    {
     "name": "stdout",
     "output_type": "stream",
     "text": [
      "torch.Size([16, 16, 3, 256, 256])\n",
      "torch.Size([16, 16])\n"
     ]
    }
   ],
   "source": [
    "#INSTANTIATE DATASETS\n",
    "transform = transforms.Compose([torchvision.transforms.Normalize((0.5, 0.5, 0.5), (0.5, 0.5, 0.5))])   #OTHERWISE SOME IMAGES 1024, SOME 1023!!!\n",
    "\n",
    "train_dataset = SN7Dataset(train=True, transform = transform)\n",
    "val_dataset = SN7Dataset(train=False, transform = transform)\n",
    "\n",
    "train_loader = DataLoader(dataset=train_dataset, batch_size = batch_size, shuffle = True)\n",
    "val_loader = DataLoader(dataset=val_dataset, batch_size = batch_size, shuffle = True)\n",
    "\n",
    "#CHECK FOR TRAIN\n",
    "#first_data = train_dataset[345]\n",
    "#img, label = first_data\n",
    "#plt.imshow(img.permute(1,2,0))     #OTHER WAY TO PLOT????????\n",
    "#print(label_encoder.inverse_transform(label.detach().reshape(-1,1)))\n",
    "#print(img.shape)\n",
    "#print(type(img))\n",
    "#print(type(label))\n",
    "\n",
    "\n",
    "dataiter = iter(train_loader)\n",
    "data = dataiter.next()\n",
    "imgs, labels = data\n",
    "print(imgs.shape)\n",
    "print(labels.shape)\n",
    "\n",
    "#for i in range(6):\n",
    "#    plt.subplot(2,3,i+1)\n",
    "#    plt.imshow(np.transpose(imgs[i]))\n",
    "#    print(label_encoder.inverse_transform(labels[i].detach().reshape(-1,1)))\n",
    "#plt.show()\n",
    "\n",
    "#print(len(train_dataset))"
   ]
  },
  {
   "cell_type": "code",
   "execution_count": 20,
   "id": "4bc81f6c",
   "metadata": {},
   "outputs": [],
   "source": [
    "#CHECK FOR VAL\n",
    "\n",
    "#first_data = val_dataset[271]\n",
    "#img, label = first_data\n",
    "#plt.imshow(img.permute(1,2,0))     #OTHER WAY TO PLOT????????\n",
    "#print(label_encoder.inverse_transform(label.detach().reshape(-1,1)))\n",
    "#print(img.shape)\n",
    "#print(type(img))\n",
    "#print(type(label))\n",
    "\n",
    "\n",
    "#dataiter = iter(val_loader)\n",
    "#data = dataiter.next()\n",
    "#imgs, labels = data\n",
    "#print(imgs.shape)\n",
    "#print(labels.shape)\n",
    "\n",
    "#for i in range(6):\n",
    "#    plt.subplot(2,3,i+1)\n",
    "#    plt.imshow(np.transpose(imgs[i]))\n",
    "#    print(label_encoder.inverse_transform(labels[i].detach().reshape(-1,1)))\n",
    "#plt.show()\n",
    "\n",
    "#print(len(val_dataset))"
   ]
  },
  {
   "cell_type": "code",
   "execution_count": 21,
   "id": "68cca531",
   "metadata": {},
   "outputs": [
    {
     "name": "stdout",
     "output_type": "stream",
     "text": [
      "torch.Size([256, 3, 256, 256])\n",
      "tensor([11, 11, 11, 11, 11, 11, 11, 11, 11, 11, 11, 11, 11, 11, 11, 11, 18, 18,\n",
      "        18, 18, 18, 18, 18, 18, 18, 18, 18, 18, 18, 18, 18, 18, 18, 18, 18, 18,\n",
      "        18, 18, 18, 18, 18, 18, 18, 18, 18, 18, 18, 18, 23, 23, 23, 23, 23, 23,\n",
      "        23, 23, 23, 23, 23, 23, 23, 23, 23, 23, 29, 29, 29, 29, 29, 29, 29, 29,\n",
      "        29, 29, 29, 29, 29, 29, 29, 29, 18, 18, 18, 18, 18, 18, 18, 18, 18, 18,\n",
      "        18, 18, 18, 18, 18, 18,  5,  5,  5,  5,  5,  5,  5,  5,  5,  5,  5,  5,\n",
      "         5,  5,  5,  5,  0,  0,  0,  0,  0,  0,  0,  0,  0,  0,  0,  0,  0,  0,\n",
      "         0,  0, 29, 29, 29, 29, 29, 29, 29, 29, 29, 29, 29, 29, 29, 29, 29, 29,\n",
      "         5,  5,  5,  5,  5,  5,  5,  5,  5,  5,  5,  5,  5,  5,  5,  5, 29, 29,\n",
      "        29, 29, 29, 29, 29, 29, 29, 29, 29, 29, 29, 29, 29, 29,  1,  1,  1,  1,\n",
      "         1,  1,  1,  1,  1,  1,  1,  1,  1,  1,  1,  1, 29, 29, 29, 29, 29, 29,\n",
      "        29, 29, 29, 29, 29, 29, 29, 29, 29, 29, 25, 25, 25, 25, 25, 25, 25, 25,\n",
      "        25, 25, 25, 25, 25, 25, 25, 25, 18, 18, 18, 18, 18, 18, 18, 18, 18, 18,\n",
      "        18, 18, 18, 18, 18, 18,  6,  6,  6,  6,  6,  6,  6,  6,  6,  6,  6,  6,\n",
      "         6,  6,  6,  6], dtype=torch.int32)\n"
     ]
    },
    {
     "data": {
      "image/png": "[encoded data removed]",
      "text/plain": [
       "<Figure size 432x288 with 1 Axes>"
      ]
     },
     "metadata": {
      "needs_background": "light"
     },
     "output_type": "display_data"
    }
   ],
   "source": [
    "#CHECK FOR NORMALIZED IMAGES\n",
    "\n",
    "def imshow(img):\n",
    "    img = img / 2 + 0.5  # unnormalize\n",
    "    npimg = img.numpy()\n",
    "    plt.imshow(np.transpose(npimg, (1, 2, 0)))\n",
    "    plt.show()\n",
    "\n",
    "\n",
    "# get some random training images\n",
    "dataiter = iter(train_loader)\n",
    "images, labels = dataiter.next()\n",
    "images = images.view(-1,3,256,256)   #MAKES THE EFFECTIVE BATCH SIZE: BACTH_SIZE*16 !!!!\n",
    "labels = labels.flatten().int()\n",
    "print(images.shape)\n",
    "print(labels)\n",
    "\n",
    "# show images\n",
    "imshow(torchvision.utils.make_grid(images))"
   ]
  },
  {
   "cell_type": "code",
   "execution_count": 22,
   "id": "aad31de6",
   "metadata": {},
   "outputs": [],
   "source": [
    "#MODEL, LOSS AND OPTIMIZER\n",
    "model = torchvision.models.resnet18().to(device)  #NOT PRETRAINED!\n",
    "criterion = nn.CrossEntropyLoss()\n",
    "optimizer = torch.optim.SGD(model.parameters(), lr=learning_rate)\n",
    "#scheduler = torch.optim.lr_scheduler.StepLR(optimizer, step_size=30, gamma=0.1)"
   ]
  },
  {
   "cell_type": "code",
   "execution_count": 16,
   "id": "c1fc35ab",
   "metadata": {},
   "outputs": [
    {
     "ename": "AttributeError",
     "evalue": "'ResNet' object has no attribute 'device_ids'",
     "output_type": "error",
     "traceback": [
      "\u001b[0;31m---------------------------------------------------------------------------\u001b[0m",
      "\u001b[0;31mAttributeError\u001b[0m                            Traceback (most recent call last)",
      "Input \u001b[0;32mIn [16]\u001b[0m, in \u001b[0;36m<cell line: 2>\u001b[0;34m()\u001b[0m\n\u001b[1;32m      1\u001b[0m \u001b[38;5;66;03m#DATA PARALLELISM FOR MULTİPLE GPUs\u001b[39;00m\n\u001b[0;32m----> 2\u001b[0m device \u001b[38;5;241m=\u001b[39m \u001b[38;5;124mf\u001b[39m\u001b[38;5;124m'\u001b[39m\u001b[38;5;124mcuda:\u001b[39m\u001b[38;5;132;01m{\u001b[39;00mmodel\u001b[38;5;241m.\u001b[39mdevice_ids[\u001b[38;5;241m0\u001b[39m]\u001b[38;5;132;01m}\u001b[39;00m\u001b[38;5;124m'\u001b[39m\n\u001b[1;32m      3\u001b[0m model \u001b[38;5;241m=\u001b[39m nn\u001b[38;5;241m.\u001b[39mDataParallel(torchvision\u001b[38;5;241m.\u001b[39mmodels\u001b[38;5;241m.\u001b[39mresnet18(), device_ids \u001b[38;5;241m=\u001b[39m [\u001b[38;5;241m2\u001b[39m, \u001b[38;5;241m3\u001b[39m])\u001b[38;5;241m.\u001b[39mto(device)\n",
      "File \u001b[0;32m~/miniconda3/lib/python3.8/site-packages/torch/nn/modules/module.py:1185\u001b[0m, in \u001b[0;36mModule.__getattr__\u001b[0;34m(self, name)\u001b[0m\n\u001b[1;32m   1183\u001b[0m     \u001b[38;5;28;01mif\u001b[39;00m name \u001b[38;5;129;01min\u001b[39;00m modules:\n\u001b[1;32m   1184\u001b[0m         \u001b[38;5;28;01mreturn\u001b[39;00m modules[name]\n\u001b[0;32m-> 1185\u001b[0m \u001b[38;5;28;01mraise\u001b[39;00m \u001b[38;5;167;01mAttributeError\u001b[39;00m(\u001b[38;5;124m\"\u001b[39m\u001b[38;5;124m'\u001b[39m\u001b[38;5;132;01m{}\u001b[39;00m\u001b[38;5;124m'\u001b[39m\u001b[38;5;124m object has no attribute \u001b[39m\u001b[38;5;124m'\u001b[39m\u001b[38;5;132;01m{}\u001b[39;00m\u001b[38;5;124m'\u001b[39m\u001b[38;5;124m\"\u001b[39m\u001b[38;5;241m.\u001b[39mformat(\n\u001b[1;32m   1186\u001b[0m     \u001b[38;5;28mtype\u001b[39m(\u001b[38;5;28mself\u001b[39m)\u001b[38;5;241m.\u001b[39m\u001b[38;5;18m__name__\u001b[39m, name))\n",
      "\u001b[0;31mAttributeError\u001b[0m: 'ResNet' object has no attribute 'device_ids'"
     ]
    }
   ],
   "source": [
    "#DATA PARALLELISM FOR MULTİPLE GPUs\n",
    "device = f'cuda:{model.device_ids[0]}'\n",
    "model = nn.DataParallel(torchvision.models.resnet18(), device_ids = [2, 3]).to(device)\n",
    "#NOTE: LOSS DIDNT DECREASE IN THIS CASE, %0 ACCURACY FOR ALL CLASSES!!!!"
   ]
  },
  {
   "cell_type": "code",
   "execution_count": 17,
   "id": "75faa093",
   "metadata": {},
   "outputs": [
    {
     "name": "stdout",
     "output_type": "stream",
     "text": [
      "Epoch [1/80], Step [30/67], Loss: 3.2367\n"
     ]
    },
    {
     "ename": "KeyboardInterrupt",
     "evalue": "",
     "output_type": "error",
     "traceback": [
      "\u001b[0;31m---------------------------------------------------------------------------\u001b[0m",
      "\u001b[0;31mKeyboardInterrupt\u001b[0m                         Traceback (most recent call last)",
      "Input \u001b[0;32mIn [17]\u001b[0m, in \u001b[0;36m<cell line: 6>\u001b[0;34m()\u001b[0m\n\u001b[1;32m     23\u001b[0m optimizer\u001b[38;5;241m.\u001b[39mstep()\n\u001b[1;32m     24\u001b[0m \u001b[38;5;66;03m#scheduler.step()\u001b[39;00m\n\u001b[0;32m---> 26\u001b[0m running_loss \u001b[38;5;241m+\u001b[39m\u001b[38;5;241m=\u001b[39m \u001b[43mloss\u001b[49m\u001b[38;5;241;43m.\u001b[39;49m\u001b[43mitem\u001b[49m\u001b[43m(\u001b[49m\u001b[43m)\u001b[49m\n\u001b[1;32m     27\u001b[0m _, predicted \u001b[38;5;241m=\u001b[39m torch\u001b[38;5;241m.\u001b[39mmax(outputs\u001b[38;5;241m.\u001b[39mdata, \u001b[38;5;241m1\u001b[39m)\n\u001b[1;32m     28\u001b[0m running_correct \u001b[38;5;241m+\u001b[39m\u001b[38;5;241m=\u001b[39m (predicted \u001b[38;5;241m==\u001b[39m labels)\u001b[38;5;241m.\u001b[39msum()\u001b[38;5;241m.\u001b[39mitem()\n",
      "\u001b[0;31mKeyboardInterrupt\u001b[0m: "
     ]
    }
   ],
   "source": [
    "#TRAINING LOOP\n",
    "n_total_steps = len(train_loader)\n",
    "running_loss = 0.0\n",
    "running_correct = 0\n",
    "checkpoints = 30\n",
    "for epoch in range(num_epochs):\n",
    "    for i, (images, labels) in enumerate(train_loader):\n",
    "        \n",
    "        images = images.view(-1, 3, 256, 256)    \n",
    "        labels = labels.flatten()\n",
    "        labels = labels.type(torch.LongTensor)\n",
    "        \n",
    "        images = images.to(device)\n",
    "        labels = labels.to(device)\n",
    "\n",
    "        # Forward pass\n",
    "        outputs = model(images)\n",
    "        loss = criterion(outputs, labels)\n",
    "\n",
    "        # Backward and optimize\n",
    "        optimizer.zero_grad()\n",
    "        loss.backward()\n",
    "        optimizer.step()\n",
    "        #scheduler.step()\n",
    "        \n",
    "        running_loss += loss.item()\n",
    "        _, predicted = torch.max(outputs.data, 1)\n",
    "        running_correct += (predicted == labels).sum().item()\n",
    "\n",
    "        if (i+1) % checkpoints == 0:\n",
    "            print (f'Epoch [{epoch+1}/{num_epochs}], Step [{i+1}/{n_total_steps}], Loss: {loss.item():.4f}')\n",
    "            writer.add_scalar('training_loss', running_loss/checkpoints, epoch * n_total_steps + i)\n",
    "            running_accuracy = running_correct/checkpoints/predicted.size(0)\n",
    "            writer.add_scalar('accuracy', running_accuracy, epoch * n_total_steps + i)\n",
    "            running_loss = 0.0\n",
    "            running_correct = 0\n",
    "\n",
    "writer.flush()\n",
    "writer.close()\n",
    "\n",
    "print('Finished Training')"
   ]
  },
  {
   "cell_type": "code",
   "execution_count": 8,
   "id": "8ac4c718",
   "metadata": {},
   "outputs": [
    {
     "ename": "NameError",
     "evalue": "name 'ids_labels_val' is not defined",
     "output_type": "error",
     "traceback": [
      "\u001b[0;31m---------------------------------------------------------------------------\u001b[0m",
      "\u001b[0;31mNameError\u001b[0m                                 Traceback (most recent call last)",
      "Input \u001b[0;32mIn [8]\u001b[0m, in \u001b[0;36m<cell line: 2>\u001b[0;34m()\u001b[0m\n\u001b[1;32m      1\u001b[0m \u001b[38;5;66;03m#print(type(ids_labels_val[:,3]))\u001b[39;00m\n\u001b[0;32m----> 2\u001b[0m val_classes \u001b[38;5;241m=\u001b[39m label_encoder\u001b[38;5;241m.\u001b[39minverse_transform(\u001b[43mids_labels_val\u001b[49m[:,\u001b[38;5;241m3\u001b[39m]\u001b[38;5;241m.\u001b[39mastype(\u001b[38;5;124m'\u001b[39m\u001b[38;5;124mint\u001b[39m\u001b[38;5;124m'\u001b[39m))\n\u001b[1;32m      3\u001b[0m \u001b[38;5;28mprint\u001b[39m(val_classes)\n\u001b[1;32m      4\u001b[0m classes \u001b[38;5;241m=\u001b[39m np\u001b[38;5;241m.\u001b[39munique(val_classes)\n",
      "\u001b[0;31mNameError\u001b[0m: name 'ids_labels_val' is not defined"
     ]
    }
   ],
   "source": [
    "#print(type(ids_labels_val[:,3]))\n",
    "val_classes = label_encoder.inverse_transform(ids_labels_val[:,3].astype('int'))\n",
    "print(val_classes)\n",
    "classes = np.unique(val_classes)\n",
    "#print(len(classes))\n",
    "\n",
    "with torch.no_grad():\n",
    "    n_correct = 0\n",
    "    n_samples = 0\n",
    "    n_class_correct = [0 for i in range(len(classes))]\n",
    "    n_class_samples = [0 for i in range(len(classes))]\n",
    "    for images, labels in val_loader:\n",
    "        \n",
    "        images = images.view(-1, 3, 256, 256)     \n",
    "        labels = labels.flatten()\n",
    "        labels = labels.type(torch.LongTensor)\n",
    "        \n",
    "        images = images.to(device)  \n",
    "        #print(labels.shape)\n",
    "        labels = labels.to(device)\n",
    "        outputs = model(images)\n",
    "        # max returns (value ,index)\n",
    "        _, predicted = torch.max(outputs.data, 1)\n",
    "        n_samples += labels.size(0)\n",
    "        n_correct += (predicted == labels).sum().item()\n",
    "        \n",
    "        for i in range(len(labels)):\n",
    "            label = labels[i]\n",
    "            pred = predicted[i]\n",
    "            if (label == pred):\n",
    "                n_class_correct[label] += 1\n",
    "            n_class_samples[label] += 1\n",
    "\n",
    "    acc = 100.0 * n_correct / n_samples\n",
    "    print(f'Accuracy of the network: {acc} %')\n",
    "\n",
    "    for i in range(len(classes)):\n",
    "        acc = 100.0 * n_class_correct[i] / n_class_samples[i]\n",
    "        print(f'Accuracy of {classes[i]}: {acc} %')"
   ]
  },
  {
   "cell_type": "code",
   "execution_count": 21,
   "id": "b35fdf09",
   "metadata": {},
   "outputs": [],
   "source": [
    "torch.save(model.state_dict(),'supervised_model_patch.pth')"
   ]
  },
  {
   "cell_type": "code",
   "execution_count": 22,
   "id": "818a5ffd",
   "metadata": {},
   "outputs": [],
   "source": [
    "#MAY NEED TO SPLIT DATA WITH BALANCED CLASSES!!!(EQUAL NUM OF SAMPLES FROM EACH CLASS)\n",
    "torch.cuda.empty_cache()"
   ]
  },
  {
   "cell_type": "code",
   "execution_count": null,
   "id": "5f3e6186",
   "metadata": {},
   "outputs": [],
   "source": []
  }
 ],
 "metadata": {
  "kernelspec": {
   "display_name": "Python 3 (ipykernel)",
   "language": "python",
   "name": "python3"
  },
  "language_info": {
   "codemirror_mode": {
    "name": "ipython",
    "version": 3
   },
   "file_extension": ".py",
   "mimetype": "text/x-python",
   "name": "python",
   "nbconvert_exporter": "python",
   "pygments_lexer": "ipython3",
   "version": "3.8.5"
  }
 },
 "nbformat": 4,
 "nbformat_minor": 5
}

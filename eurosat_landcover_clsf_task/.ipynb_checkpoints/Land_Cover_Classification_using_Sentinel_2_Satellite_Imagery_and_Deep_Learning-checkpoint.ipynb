{
 "cells": [
  {
   "cell_type": "markdown",
   "metadata": {
    "id": "yIRetYxsRR55"
   },
   "source": [
    "# Land Cover Classification using Deep Learning Techniques and EuroSAT"
   ]
  },
  {
   "cell_type": "markdown",
   "metadata": {
    "id": "M6JsEhzJOcK7"
   },
   "source": [
    "## Mounting google drive for dataset access and saving models"
   ]
  },
  {
   "cell_type": "markdown",
   "metadata": {
    "id": "_IXnwZosOmWf"
   },
   "source": [
    "## Libraries"
   ]
  },
  {
   "cell_type": "code",
   "execution_count": 18,
   "metadata": {
    "id": "PeoZuzGnMqDX"
   },
   "outputs": [],
   "source": [
    "import os\n",
    "import matplotlib.pyplot as plt\n",
    "import pandas as pd\n",
    "import numpy as np\n",
    "from PIL import Image\n",
    "from tqdm import tqdm\n",
    "from tqdm.notebook import tqdm\n",
    "import seaborn as sns\n",
    "\n",
    "\n",
    "from sklearn.metrics import confusion_matrix\n",
    "from sklearn import model_selection\n",
    "\n",
    "import torch\n",
    "import torchvision.models as models\n",
    "import torch.nn as nn\n",
    "from torch.utils.data import DataLoader, Dataset, random_split\n",
    "from torchvision.transforms import transforms\n",
    "from torchvision.utils import make_grid\n",
    "import torch.nn.functional as F\n",
    "\n",
    "import resnet\n",
    "\n",
    "#os.environ[\"CUDA_DEVICE_ORDER\"]=\"PCI_BUS_ID\"   # see issue #152\n",
    "os.environ[\"CUDA_VISIBLE_DEVICES\"]=\"0\""
   ]
  },
  {
   "cell_type": "markdown",
   "metadata": {
    "id": "K-P8BijwRxi4"
   },
   "source": [
    "## Config"
   ]
  },
  {
   "cell_type": "code",
   "execution_count": 19,
   "metadata": {
    "id": "ROWWNdbwRf-m"
   },
   "outputs": [],
   "source": [
    "ROOT_PATH = '/local/home/bsoyuer/citiies_contrastive_learning/eurosat_landcover_clsf_task'\n",
    "BASE_PATH = os.path.join(ROOT_PATH, '2750')\n",
    "DATA_PATH = os.path.join(ROOT_PATH, '2750')\n",
    "FULL_DATA_DF = os.path.join(ROOT_PATH, 'FULL_DATA.csv')\n",
    "\n",
    "if not os.path.isdir(DATA_PATH):\n",
    "    os.mkdir(DATA_PATH)\n",
    "\n",
    "IDX_CLASS_LABELS = {\n",
    "    0: 'AnnualCrop',\n",
    "    1: 'Forest', \n",
    "    2: 'HerbaceousVegetation',\n",
    "    3: 'Highway',\n",
    "    4: 'Industrial',\n",
    "    5: 'Pasture',\n",
    "    6: 'PermanentCrop',\n",
    "    7: 'Residential',\n",
    "    8: 'River',\n",
    "    9: 'SeaLake'\n",
    "}\n",
    "CLASSES = ['AnnualCrop', 'Forest', 'HerbaceousVegetation', 'Highway', 'Industrial', 'Pasture','PermanentCrop','Residential','River', 'SeaLake']\n",
    "CLASS_IDX_LABELS = dict()\n",
    "for key, val in IDX_CLASS_LABELS.items():\n",
    "    CLASS_IDX_LABELS[val] = key\n",
    "\n",
    "NUM_CLASSES = len(IDX_CLASS_LABELS.items())\n",
    "torch.manual_seed(10)\n",
    "VALID_SIZE = 0.1\n"
   ]
  },
  {
   "cell_type": "code",
   "execution_count": 20,
   "metadata": {},
   "outputs": [
    {
     "name": "stdout",
     "output_type": "stream",
     "text": [
      "1\n"
     ]
    }
   ],
   "source": [
    "print(torch.cuda.device_count())"
   ]
  },
  {
   "cell_type": "code",
   "execution_count": 21,
   "metadata": {},
   "outputs": [
    {
     "name": "stdout",
     "output_type": "stream",
     "text": [
      "0\n"
     ]
    }
   ],
   "source": [
    "print(torch.cuda.current_device())"
   ]
  },
  {
   "cell_type": "markdown",
   "metadata": {
    "id": "SXfpIeszVnIH"
   },
   "source": [
    "## Utils"
   ]
  },
  {
   "cell_type": "code",
   "execution_count": 22,
   "metadata": {
    "id": "GzZU-zxpV4Jv"
   },
   "outputs": [],
   "source": [
    "## Give idx of each class name\n",
    "def encode_label(label):\n",
    "    idx = CLASS_IDX_LABELS[label] \n",
    "    return idx\n",
    "\n",
    "## Take in idx and return the class name\n",
    "def decode_target(target, text_labels=True):\n",
    "    result = []\n",
    "    if text_labels:\n",
    "        return IDX_CLASS_LABELS[target]\n",
    "    else:\n",
    "        return target\n",
    "\n",
    "## Show batches of images\n",
    "def show_batch(dl):\n",
    "    for images, labels in dl:\n",
    "        fig, ax = plt.subplots(figsize=(16, 8))\n",
    "        ax.set_xticks([]); ax.set_yticks([])\n",
    "        ax.imshow(make_grid(images, nrow=16).permute(1, 2, 0))\n",
    "        break"
   ]
  },
  {
   "cell_type": "code",
   "execution_count": 23,
   "metadata": {
    "colab": {
     "base_uri": "https://localhost:8080/"
    },
    "id": "L-ZkBdO5VQ0P",
    "outputId": "c3da824b-e0d5-427e-cee9-1d6462a0b550"
   },
   "outputs": [
    {
     "name": "stdout",
     "output_type": "stream",
     "text": [
      "1 HerbaceousVegetation\n",
      "HerbaceousVegetation\n"
     ]
    }
   ],
   "source": [
    "## Example for decoding and encoding\n",
    "print(encode_label('Forest'), decode_target(2))\n",
    "print(decode_target(2, text_labels=True))"
   ]
  },
  {
   "cell_type": "markdown",
   "metadata": {
    "id": "Q5wPFaZiZOOY"
   },
   "source": [
    "## Pre-Processing data folders to train and test\n",
    "Run this code cells only if you don't have the required dataframe"
   ]
  },
  {
   "cell_type": "code",
   "execution_count": 13,
   "metadata": {
    "id": "MEPwz31nZRxF"
   },
   "outputs": [
    {
     "name": "stdout",
     "output_type": "stream",
     "text": [
      "Directory Path:  /local/home/bsoyuer/citiies_contrastive_learning/eurosat_landcover_clsf_task/2750\n",
      "Directory Name:  ['Residential', 'River', 'SeaLake', 'AnnualCrop', 'HerbaceousVegetation', 'Forest', 'Pasture', 'Industrial', 'PermanentCrop', 'Highway']\n",
      "Filename :  []\n",
      "----------------------------------------------------------------------------------------------------------------------------------------------------------------------------------------------------------------------------\n",
      "Directory Path:  /local/home/bsoyuer/citiies_contrastive_learning/eurosat_landcover_clsf_task/2750/Residential\n",
      "Directory Name:  []\n",
      "Filename :  ['Residential_1751.jpg', 'Residential_1781.jpg', 'Residential_1391.jpg', 'Residential_2272.jpg', 'Residential_2560.jpg', 'Residential_2740.jpg', 'Residential_873.jpg', 'Residential_1532.jpg', 'Residential_2589.jpg', 'Residential_1631.jpg', 'Residential_382.jpg', 'Residential_2429.jpg', 'Residential_324.jpg', 'Residential_369.jpg', 'Residential_190.jpg', 'Residential_669.jpg', 'Residential_424.jpg', 'Residential_2537.jpg', 'Residential_2540.jpg', 'Residential_1048.jpg', 'Residential_822.jpg', 'Residential_1317.jpg', 'Residential_377.jpg', 'Residential_30.jpg', 'Residential_1104.jpg', 'Residential_2677.jpg', 'Residential_1171.jpg', 'Residential_1827.jpg', 'Residential_470.jpg', 'Residential_1869.jpg', 'Residential_1531.jpg', 'Residential_409.jpg', 'Residential_2484.jpg', 'Residential_1043.jpg', 'Residential_1085.jpg', 'Residential_2008.jpg', 'Residential_224.jpg', 'Residential_205.jpg', 'Residential_48.jpg', 'Residential_197.jpg', 'Residential_2187.jpg', 'Residential_1608.jpg', 'Residential_2348.jpg', 'Residential_1585.jpg', 'Residential_570.jpg', 'Residential_1386.jpg', 'Residential_1826.jpg', 'Residential_2278.jpg', 'Residential_2294.jpg', 'Residential_2624.jpg', 'Residential_1233.jpg', 'Residential_680.jpg', 'Residential_2637.jpg', 'Residential_1702.jpg', 'Residential_2982.jpg', 'Residential_2020.jpg', 'Residential_155.jpg', 'Residential_2821.jpg', 'Residential_783.jpg', 'Residential_1527.jpg', 'Residential_2954.jpg', 'Residential_2937.jpg', 'Residential_2885.jpg', 'Residential_350.jpg', 'Residential_1431.jpg', 'Residential_1891.jpg', 'Residential_2981.jpg', 'Residential_676.jpg', 'Residential_1670.jpg', 'Residential_263.jpg', 'Residential_2909.jpg', 'Residential_2614.jpg', 'Residential_1959.jpg', 'Residential_2228.jpg', 'Residential_2125.jpg', 'Residential_2946.jpg', 'Residential_1965.jpg', 'Residential_1939.jpg', 'Residential_200.jpg', 'Residential_259.jpg', 'Residential_1207.jpg', 'Residential_2554.jpg', 'Residential_1469.jpg', 'Residential_2941.jpg', 'Residential_2051.jpg', 'Residential_719.jpg', 'Residential_1249.jpg', 'Residential_2162.jpg', 'Residential_1493.jpg', 'Residential_587.jpg', 'Residential_538.jpg', 'Residential_2297.jpg', 'Residential_2288.jpg', 'Residential_1977.jpg', 'Residential_732.jpg', 'Residential_229.jpg', 'Residential_2392.jpg', 'Residential_1542.jpg', 'Residential_1066.jpg', 'Residential_863.jpg', 'Residential_1025.jpg', 'Residential_134.jpg', 'Residential_2324.jpg', 'Residential_824.jpg', 'Residential_2433.jpg', 'Residential_646.jpg', 'Residential_693.jpg', 'Residential_2331.jpg', 'Residential_222.jpg', 'Residential_1148.jpg', 'Residential_939.jpg', 'Residential_1129.jpg', 'Residential_1034.jpg', 'Residential_1071.jpg', 'Residential_2602.jpg', 'Residential_2156.jpg', 'Residential_667.jpg', 'Residential_299.jpg', 'Residential_1943.jpg', 'Residential_2095.jpg', 'Residential_1008.jpg', 'Residential_1717.jpg', 'Residential_1370.jpg', 'Residential_582.jpg', 'Residential_183.jpg', 'Residential_1835.jpg', 'Residential_658.jpg', 'Residential_1411.jpg', 'Residential_2963.jpg', 'Residential_2391.jpg', 'Residential_578.jpg', 'Residential_2970.jpg', 'Residential_1425.jpg', 'Residential_1495.jpg', 'Residential_1912.jpg', 'Residential_1524.jpg', 'Residential_1217.jpg', 'Residential_563.jpg', 'Residential_1536.jpg', 'Residential_1035.jpg', 'Residential_2068.jpg', 'Residential_2521.jpg', 'Residential_1211.jpg', 'Residential_2881.jpg', 'Residential_2268.jpg', 'Residential_1510.jpg', 'Residential_774.jpg', 'Residential_958.jpg', 'Residential_2935.jpg', 'Residential_1504.jpg', 'Residential_2321.jpg', 'Residential_2243.jpg', 'Residential_1447.jpg', 'Residential_2860.jpg', 'Residential_588.jpg', 'Residential_2849.jpg', 'Residential_514.jpg', 'Residential_1541.jpg', 'Residential_2338.jpg', 'Residential_1855.jpg', 'Residential_897.jpg', 'Residential_1063.jpg', 'Residential_2455.jpg', 'Residential_1174.jpg', 'Residential_2510.jpg', 'Residential_1609.jpg', 'Residential_892.jpg', 'Residential_2126.jpg', 'Residential_2171.jpg', 'Residential_474.jpg', 'Residential_2695.jpg', 'Residential_2689.jpg', 'Residential_895.jpg', 'Residential_46.jpg', 'Residential_1216.jpg', 'Residential_954.jpg', 'Residential_959.jpg', 'Residential_195.jpg', 'Residential_1263.jpg', 'Residential_1948.jpg', 'Residential_694.jpg', 'Residential_1676.jpg', 'Residential_551.jpg', 'Residential_559.jpg', 'Residential_1011.jpg', 'Residential_2412.jpg', 'Residential_2712.jpg', 'Residential_2271.jpg', 'Residential_2049.jpg', 'Residential_374.jpg', 'Residential_2575.jpg', 'Residential_708.jpg', 'Residential_675.jpg', 'Residential_90.jpg', 'Residential_1222.jpg', 'Residential_1683.jpg', 'Residential_784.jpg', 'Residential_2644.jpg', 'Residential_2029.jpg', 'Residential_724.jpg', 'Residential_546.jpg', 'Residential_1832.jpg', 'Residential_1995.jpg', 'Residential_239.jpg', 'Residential_2713.jpg', 'Residential_2194.jpg', 'Residential_1288.jpg', 'Residential_231.jpg', 'Residential_798.jpg', 'Residential_1521.jpg', 'Residential_262.jpg', 'Residential_2807.jpg', 'Residential_1091.jpg', 'Residential_45.jpg', 'Residential_258.jpg', 'Residential_216.jpg', 'Residential_230.jpg', 'Residential_567.jpg', 'Residential_1684.jpg', 'Residential_2142.jpg', 'Residential_526.jpg', 'Residential_1848.jpg', 'Residential_1579.jpg', 'Residential_700.jpg', 'Residential_1172.jpg', 'Residential_1960.jpg', 'Residential_2066.jpg', 'Residential_110.jpg', 'Residential_722.jpg', 'Residential_2962.jpg', 'Residential_1533.jpg', 'Residential_780.jpg', 'Residential_1901.jpg', 'Residential_1428.jpg', 'Residential_2176.jpg', 'Residential_725.jpg', 'Residential_2307.jpg', 'Residential_2696.jpg', 'Residential_2477.jpg', 'Residential_1246.jpg', 'Residential_1817.jpg', 'Residential_2481.jpg', 'Residential_2724.jpg', 'Residential_687.jpg', 'Residential_894.jpg', 'Residential_520.jpg', 'Residential_2757.jpg', 'Residential_2327.jpg', 'Residential_2252.jpg', 'Residential_1193.jpg', 'Residential_2636.jpg', 'Residential_1540.jpg', 'Residential_2594.jpg', 'Residential_1910.jpg', 'Residential_11.jpg', 'Residential_433.jpg', 'Residential_281.jpg', 'Residential_2320.jpg', 'Residential_2600.jpg', 'Residential_2172.jpg', 'Residential_266.jpg', 'Residential_1863.jpg', 'Residential_17.jpg', 'Residential_2706.jpg', 'Residential_1796.jpg', 'Residential_1642.jpg', 'Residential_2587.jpg', 'Residential_1162.jpg', 'Residential_2827.jpg', 'Residential_571.jpg', 'Residential_2419.jpg', 'Residential_2722.jpg', 'Residential_2572.jpg', 'Residential_1461.jpg', 'Residential_2161.jpg', 'Residential_729.jpg', 'Residential_1695.jpg', 'Residential_2158.jpg', 'Residential_2574.jpg', 'Residential_1453.jpg', 'Residential_2543.jpg', 'Residential_243.jpg', 'Residential_499.jpg', 'Residential_2293.jpg', 'Residential_1474.jpg', 'Residential_1580.jpg', 'Residential_1486.jpg', 'Residential_984.jpg', 'Residential_2670.jpg', 'Residential_1390.jpg', 'Residential_2295.jpg', 'Residential_590.jpg', 'Residential_1534.jpg', 'Residential_1156.jpg', 'Residential_1096.jpg', 'Residential_2831.jpg', 'Residential_82.jpg', 'Residential_2971.jpg', 'Residential_343.jpg', 'Residential_2114.jpg', 'Residential_2054.jpg', 'Residential_523.jpg', 'Residential_380.jpg', 'Residential_925.jpg', 'Residential_251.jpg', 'Residential_2092.jpg', 'Residential_827.jpg', 'Residential_1691.jpg', 'Residential_2304.jpg', 'Residential_2325.jpg', 'Residential_399.jpg', 'Residential_1638.jpg', 'Residential_997.jpg', 'Residential_1406.jpg', 'Residential_2385.jpg', 'Residential_1484.jpg', 'Residential_1928.jpg', 'Residential_577.jpg', 'Residential_2135.jpg', 'Residential_985.jpg', 'Residential_475.jpg', 'Residential_2450.jpg', 'Residential_211.jpg', 'Residential_2464.jpg', 'Residential_2089.jpg', 'Residential_2542.jpg', 'Residential_2377.jpg', 'Residential_1507.jpg', 'Residential_361.jpg', 'Residential_1221.jpg', 'Residential_198.jpg', 'Residential_1526.jpg', 'Residential_1019.jpg', 'Residential_554.jpg', 'Residential_2551.jpg', 'Residential_1335.jpg', 'Residential_728.jpg', 'Residential_2157.jpg', 'Residential_1203.jpg', 'Residential_1675.jpg', 'Residential_566.jpg', 'Residential_745.jpg', 'Residential_1299.jpg', 'Residential_2746.jpg', 'Residential_2148.jpg', 'Residential_416.jpg', 'Residential_2355.jpg', 'Residential_2283.jpg', 'Residential_1095.jpg', 'Residential_2978.jpg', 'Residential_2684.jpg', 'Residential_1931.jpg', 'Residential_368.jpg', 'Residential_1838.jpg', 'Residential_603.jpg', 'Residential_1290.jpg', 'Residential_796.jpg', 'Residential_2650.jpg', 'Residential_1525.jpg', 'Residential_1763.jpg', 'Residential_1816.jpg', 'Residential_1107.jpg', 'Residential_771.jpg', 'Residential_1491.jpg', 'Residential_1252.jpg', 'Residential_2106.jpg', 'Residential_845.jpg', 'Residential_664.jpg', 'Residential_2133.jpg', 'Residential_1167.jpg', 'Residential_779.jpg', 'Residential_591.jpg', 'Residential_2030.jpg', 'Residential_589.jpg', 'Residential_307.jpg', 'Residential_60.jpg', 'Residential_1641.jpg', 'Residential_1755.jpg', 'Residential_2609.jpg', 'Residential_13.jpg', 'Residential_99.jpg', 'Residential_2864.jpg', 'Residential_301.jpg', 'Residential_1520.jpg', 'Residential_2745.jpg', 'Residential_768.jpg', 'Residential_1353.jpg', 'Residential_2091.jpg', 'Residential_2284.jpg', 'Residential_1255.jpg', 'Residential_812.jpg', 'Residential_1789.jpg', 'Residential_2457.jpg', 'Residential_1940.jpg', 'Residential_573.jpg', 'Residential_417.jpg', 'Residential_2087.jpg', 'Residential_2990.jpg', 'Residential_305.jpg', 'Residential_1142.jpg', 'Residential_2979.jpg', 'Residential_906.jpg', 'Residential_1440.jpg', 'Residential_2522.jpg', 'Residential_1970.jpg', 'Residential_932.jpg', 'Residential_2872.jpg', 'Residential_1759.jpg', 'Residential_432.jpg', 'Residential_220.jpg', 'Residential_2341.jpg', 'Residential_2980.jpg', 'Residential_594.jpg', 'Residential_1655.jpg', 'Residential_1157.jpg', 'Residential_854.jpg', 'Residential_2428.jpg', 'Residential_2186.jpg', 'Residential_606.jpg', 'Residential_1865.jpg', 'Residential_400.jpg', 'Residential_2992.jpg', 'Residential_2573.jpg', 'Residential_2598.jpg', 'Residential_1681.jpg', 'Residential_869.jpg', 'Residential_524.jpg', 'Residential_1621.jpg', 'Residential_2850.jpg', 'Residential_2795.jpg', 'Residential_486.jpg', 'Residential_1365.jpg', 'Residential_1445.jpg', 'Residential_2645.jpg', 'Residential_2648.jpg', 'Residential_1954.jpg', 'Residential_1582.jpg', 'Residential_2217.jpg', 'Residential_2526.jpg', 'Residential_1636.jpg', 'Residential_2800.jpg', 'Residential_1516.jpg', 'Residential_777.jpg', 'Residential_799.jpg', 'Residential_2516.jpg', 'Residential_2793.jpg', 'Residential_2012.jpg', 'Residential_657.jpg', 'Residential_2736.jpg', 'Residential_2084.jpg', 'Residential_1819.jpg', 'Residential_2503.jpg', 'Residential_223.jpg', 'Residential_2761.jpg', 'Residential_688.jpg', 'Residential_302.jpg', 'Residential_1475.jpg', 'Residential_2258.jpg', 'Residential_2818.jpg', 'Residential_2996.jpg', 'Residential_2750.jpg', 'Residential_690.jpg', 'Residential_634.jpg', 'Residential_446.jpg', 'Residential_1062.jpg', 'Residential_788.jpg', 'Residential_1623.jpg', 'Residential_1881.jpg', 'Residential_2778.jpg', 'Residential_1051.jpg', 'Residential_193.jpg', 'Residential_1511.jpg', 'Residential_2183.jpg', 'Residential_695.jpg', 'Residential_1971.jpg', 'Residential_63.jpg', 'Residential_1224.jpg', 'Residential_1409.jpg', 'Residential_885.jpg', 'Residential_237.jpg', 'Residential_772.jpg', 'Residential_2017.jpg', 'Residential_268.jpg', 'Residential_2672.jpg', 'Residential_2149.jpg', 'Residential_1966.jpg', 'Residential_404.jpg', 'Residential_473.jpg', 'Residential_610.jpg', 'Residential_1454.jpg', 'Residential_345.jpg', 'Residential_849.jpg', 'Residential_1376.jpg', 'Residential_64.jpg', 'Residential_2232.jpg', 'Residential_1116.jpg', 'Residential_1144.jpg', 'Residential_2480.jpg', 'Residential_1458.jpg', 'Residential_1238.jpg', 'Residential_2523.jpg', 'Residential_2471.jpg', 'Residential_1012.jpg', 'Residential_2005.jpg', 'Residential_1806.jpg', 'Residential_2646.jpg', 'Residential_2891.jpg', 'Residential_2424.jpg', 'Residential_430.jpg', 'Residential_2678.jpg', 'Residential_1740.jpg', 'Residential_2989.jpg', 'Residential_418.jpg', 'Residential_2442.jpg', 'Residential_2065.jpg', 'Residential_782.jpg', 'Residential_682.jpg', 'Residential_2498.jpg', 'Residential_227.jpg', 'Residential_2144.jpg', 'Residential_2667.jpg', 'Residential_1998.jpg', 'Residential_318.jpg', 'Residential_671.jpg', 'Residential_971.jpg', 'Residential_1061.jpg', 'Residential_2610.jpg', 'Residential_583.jpg', 'Residential_12.jpg', 'Residential_88.jpg', 'Residential_1978.jpg', 'Residential_293.jpg', 'Residential_2628.jpg', 'Residential_957.jpg', 'Residential_2673.jpg', 'Residential_2763.jpg', 'Residential_1487.jpg', 'Residential_2857.jpg', 'Residential_1738.jpg', 'Residential_2056.jpg', 'Residential_2854.jpg', 'Residential_2267.jpg', 'Residential_2634.jpg', 'Residential_2784.jpg', 'Residential_476.jpg', 'Residential_3.jpg', 'Residential_628.jpg', 'Residential_2472.jpg', 'Residential_2314.jpg', 'Residential_1349.jpg', 'Residential_2843.jpg', 'Residential_609.jpg', 'Residential_924.jpg', 'Residential_112.jpg', 'Residential_864.jpg', 'Residential_2584.jpg', 'Residential_173.jpg', 'Residential_1555.jpg', 'Residential_1803.jpg', 'Residential_1958.jpg', 'Residential_1094.jpg', 'Residential_1036.jpg', 'Residential_2733.jpg', 'Residential_442.jpg', 'Residential_621.jpg', 'Residential_2257.jpg', 'Residential_1837.jpg', 'Residential_1371.jpg', 'Residential_1134.jpg', 'Residential_521.jpg', 'Residential_1183.jpg', 'Residential_451.jpg', 'Residential_581.jpg', 'Residential_2917.jpg', 'Residential_1668.jpg', 'Residential_1297.jpg', 'Residential_1711.jpg', 'Residential_287.jpg', 'Residential_18.jpg', 'Residential_893.jpg', 'Residential_325.jpg', 'Residential_1745.jpg', 'Residential_1748.jpg', 'Residential_1220.jpg', 'Residential_2813.jpg', 'Residential_83.jpg', 'Residential_137.jpg', 'Residential_2868.jpg', 'Residential_968.jpg', 'Residential_2374.jpg', 'Residential_877.jpg', 'Residential_1746.jpg', 'Residential_1923.jpg', 'Residential_1787.jpg', 'Residential_913.jpg', 'Residential_1079.jpg', 'Residential_1308.jpg', 'Residential_2260.jpg', 'Residential_1824.jpg', 'Residential_686.jpg', 'Residential_2697.jpg', 'Residential_20.jpg', 'Residential_637.jpg', 'Residential_1064.jpg', 'Residential_1004.jpg', 'Residential_456.jpg', 'Residential_2524.jpg', 'Residential_321.jpg', 'Residential_2469.jpg', 'Residential_651.jpg', 'Residential_1348.jpg', 'Residential_2418.jpg', 'Residential_1972.jpg', 'Residential_2731.jpg', 'Residential_1158.jpg', 'Residential_354.jpg', 'Residential_270.jpg', 'Residential_1401.jpg', 'Residential_2720.jpg', 'Residential_500.jpg', 'Residential_2203.jpg', 'Residential_1093.jpg', 'Residential_1529.jpg', 'Residential_2150.jpg', 'Residential_139.jpg', 'Residential_705.jpg', 'Residential_1981.jpg', 'Residential_1556.jpg', 'Residential_1359.jpg', 'Residential_636.jpg', 'Residential_1509.jpg', 'Residential_1908.jpg', 'Residential_120.jpg', 'Residential_2340.jpg', 'Residential_2958.jpg', 'Residential_837.jpg', 'Residential_1640.jpg', 'Residential_2511.jpg', 'Residential_2308.jpg', 'Residential_1822.jpg', 'Residential_672.jpg', 'Residential_584.jpg', 'Residential_455.jpg', 'Residential_2165.jpg', 'Residential_1190.jpg', 'Residential_1733.jpg', 'Residential_260.jpg', 'Residential_2070.jpg', 'Residential_1661.jpg', 'Residential_2947.jpg', 'Residential_1626.jpg', 'Residential_1178.jpg', 'Residential_2879.jpg', 'Residential_1794.jpg', 'Residential_2725.jpg', 'Residential_1782.jpg', 'Residential_2701.jpg', 'Residential_1329.jpg', 'Residential_2661.jpg', 'Residential_1177.jpg', 'Residential_1169.jpg', 'Residential_663.jpg', 'Residential_1336.jpg', 'Residential_2975.jpg', 'Residential_1477.jpg', 'Residential_2921.jpg', 'Residential_579.jpg', 'Residential_1382.jpg', 'Residential_1260.jpg', 'Residential_1602.jpg', 'Residential_1314.jpg', 'Residential_738.jpg', 'Residential_326.jpg', 'Residential_1098.jpg', 'Residential_240.jpg', 'Residential_1945.jpg', 'Residential_1680.jpg', 'Residential_1992.jpg', 'Residential_928.jpg', 'Residential_1384.jpg', 'Residential_506.jpg', 'Residential_2601.jpg', 'Residential_2274.jpg', 'Residential_2036.jpg', 'Residential_85.jpg', 'Residential_1605.jpg', 'Residential_1356.jpg', 'Residential_1460.jpg', 'Residential_503.jpg', 'Residential_547.jpg', 'Residential_1968.jpg', 'Residential_1847.jpg', 'Residential_878.jpg', 'Residential_1769.jpg', 'Residential_723.jpg', 'Residential_1619.jpg', 'Residential_973.jpg', 'Residential_839.jpg', 'Residential_1842.jpg', 'Residential_843.jpg', 'Residential_543.jpg', 'Residential_1081.jpg', 'Residential_726.jpg', 'Residential_35.jpg', 'Residential_481.jpg', 'Residential_355.jpg', 'Residential_1017.jpg', 'Residential_2495.jpg', 'Residential_2414.jpg', 'Residential_2461.jpg', 'Residential_1092.jpg', 'Residential_1489.jpg', 'Residential_41.jpg', 'Residential_519.jpg', 'Residential_1839.jpg', 'Residential_2323.jpg', 'Residential_1235.jpg', 'Residential_1352.jpg', 'Residential_860.jpg', 'Residential_2178.jpg', 'Residential_244.jpg', 'Residential_867.jpg', 'Residential_1935.jpg', 'Residential_1889.jpg', 'Residential_2417.jpg', 'Residential_140.jpg', 'Residential_2427.jpg', 'Residential_858.jpg', 'Residential_123.jpg', 'Residential_2494.jpg', 'Residential_907.jpg', 'Residential_1701.jpg', 'Residential_145.jpg', 'Residential_568.jpg', 'Residential_974.jpg', 'Residential_1870.jpg', 'Residential_2607.jpg', 'Residential_2618.jpg', 'Residential_2988.jpg', 'Residential_2585.jpg', 'Residential_2247.jpg', 'Residential_1072.jpg', 'Residential_1494.jpg', 'Residential_36.jpg', 'Residential_177.jpg', 'Residential_2007.jpg', 'Residential_821.jpg', 'Residential_1611.jpg', 'Residential_1715.jpg', 'Residential_1856.jpg', 'Residential_1286.jpg', 'Residential_2798.jpg', 'Residential_905.jpg', 'Residential_1228.jpg', 'Residential_2899.jpg', 'Residential_187.jpg', 'Residential_721.jpg', 'Residential_2939.jpg', 'Residential_1882.jpg', 'Residential_1268.jpg', 'Residential_544.jpg', 'Residential_2622.jpg', 'Residential_2468.jpg', 'Residential_2834.jpg', 'Residential_539.jpg', 'Residential_2499.jpg', 'Residential_541.jpg', 'Residential_536.jpg', 'Residential_492.jpg', 'Residential_592.jpg', 'Residential_2393.jpg', 'Residential_2475.jpg', 'Residential_1344.jpg', 'Residential_2548.jpg', 'Residential_1126.jpg', 'Residential_1543.jpg', 'Residential_512.jpg', 'Residential_838.jpg', 'Residential_612.jpg', 'Residential_2812.jpg', 'Residential_389.jpg', 'Residential_2146.jpg', 'Residential_1333.jpg', 'Residential_2797.jpg', 'Residential_146.jpg', 'Residential_309.jpg', 'Residential_1037.jpg', 'Residential_2704.jpg', 'Residential_912.jpg', 'Residential_1648.jpg', 'Residential_91.jpg', 'Residential_819.jpg', 'Residential_1559.jpg', 'Residential_2167.jpg', 'Residential_2997.jpg', 'Residential_1076.jpg', 'Residential_2269.jpg', 'Residential_1433.jpg', 'Residential_937.jpg', 'Residential_1251.jpg', 'Residential_282.jpg', 'Residential_2093.jpg', 'Residential_2593.jpg', 'Residential_2209.jpg', 'Residential_1897.jpg', 'Residential_1195.jpg', 'Residential_2914.jpg', 'Residential_1028.jpg', 'Residential_2563.jpg', 'Residential_767.jpg', 'Residential_1236.jpg', 'Residential_1315.jpg', 'Residential_174.jpg', 'Residential_213.jpg', 'Residential_388.jpg', 'Residential_2010.jpg', 'Residential_2703.jpg', 'Residential_1147.jpg', 'Residential_962.jpg', 'Residential_2143.jpg', 'Residential_1342.jpg', 'Residential_2753.jpg', 'Residential_2159.jpg', 'Residential_2024.jpg', 'Residential_2927.jpg', 'Residential_2354.jpg', 'Residential_1625.jpg', 'Residential_661.jpg', 'Residential_654.jpg', 'Residential_1400.jpg', 'Residential_1215.jpg', 'Residential_1176.jpg', 'Residential_2329.jpg', 'Residential_2974.jpg', 'Residential_2169.jpg', 'Residential_1205.jpg', 'Residential_2820.jpg', 'Residential_1234.jpg', 'Residential_267.jpg', 'Residential_1539.jpg', 'Residential_2977.jpg', 'Residential_2145.jpg', 'Residential_929.jpg', 'Residential_1413.jpg', 'Residential_1624.jpg', 'Residential_54.jpg', 'Residential_252.jpg', 'Residential_666.jpg', 'Residential_2504.jpg', 'Residential_1581.jpg', 'Residential_2838.jpg', 'Residential_963.jpg', 'Residential_2221.jpg', 'Residential_2069.jpg', 'Residential_2531.jpg', 'Residential_236.jpg', 'Residential_2951.jpg', 'Residential_2519.jpg', 'Residential_2249.jpg', 'Residential_829.jpg', 'Residential_1523.jpg', 'Residential_549.jpg', 'Residential_2520.jpg', 'Residential_2119.jpg', 'Residential_338.jpg', 'Residential_2642.jpg', 'Residential_33.jpg', 'Residential_1369.jpg', 'Residential_1818.jpg', 'Residential_856.jpg', 'Residential_940.jpg', 'Residential_2801.jpg', 'Residential_2372.jpg', 'Residential_2090.jpg', 'Residential_370.jpg', 'Residential_2669.jpg', 'Residential_1599.jpg', 'Residential_2662.jpg', 'Residential_2964.jpg', 'Residential_2699.jpg', 'Residential_1014.jpg', 'Residential_2462.jpg', 'Residential_852.jpg', 'Residential_2929.jpg', 'Residential_204.jpg', 'Residential_1843.jpg', 'Residential_2863.jpg', 'Residential_394.jpg', 'Residential_2155.jpg', 'Residential_2206.jpg', 'Residential_101.jpg', 'Residential_2729.jpg', 'Residential_2120.jpg', 'Residential_2009.jpg', 'Residential_129.jpg', 'Residential_951.jpg', 'Residential_1106.jpg', 'Residential_844.jpg', 'Residential_1057.jpg', 'Residential_1647.jpg', 'Residential_2231.jpg', 'Residential_1446.jpg', 'Residential_2883.jpg', 'Residential_458.jpg', 'Residential_1742.jpg', 'Residential_69.jpg', 'Residential_132.jpg', 'Residential_1103.jpg', 'Residential_2651.jpg', 'Residential_644.jpg', 'Residential_2305.jpg', 'Residential_1325.jpg', 'Residential_1612.jpg', 'Residential_1773.jpg', 'Residential_335.jpg', 'Residential_2919.jpg', 'Residential_2199.jpg', 'Residential_2517.jpg', 'Residential_1009.jpg', 'Residential_1713.jpg', 'Residential_2396.jpg', 'Residential_2040.jpg', 'Residential_1603.jpg', 'Residential_2303.jpg', 'Residential_306.jpg', 'Residential_1646.jpg', 'Residential_2559.jpg', 'Residential_1988.jpg', 'Residential_1653.jpg', 'Residential_1201.jpg', 'Residential_1322.jpg', 'Residential_391.jpg', 'Residential_342.jpg', 'Residential_2215.jpg', 'Residential_37.jpg', 'Residential_217.jpg', 'Residential_255.jpg', 'Residential_422.jpg', 'Residential_1501.jpg', 'Residential_2709.jpg', 'Residential_1710.jpg', 'Residential_1421.jpg', 'Residential_1672.jpg', 'Residential_1734.jpg', 'Residential_2782.jpg', 'Residential_1762.jpg', 'Residential_882.jpg', 'Residential_1649.jpg', 'Residential_1200.jpg', 'Residential_77.jpg', 'Residential_76.jpg', 'Residential_2363.jpg', 'Residential_2532.jpg', 'Residential_611.jpg', 'Residential_2894.jpg', 'Residential_995.jpg', 'Residential_286.jpg', 'Residential_986.jpg', 'Residential_1844.jpg', 'Residential_535.jpg', 'Residential_375.jpg', 'Residential_1859.jpg', 'Residential_1808.jpg', 'Residential_2027.jpg', 'Residential_1194.jpg', 'Residential_226.jpg', 'Residential_1041.jpg', 'Residential_2986.jpg', 'Residential_1994.jpg', 'Residential_1121.jpg', 'Residential_2387.jpg', 'Residential_2241.jpg', 'Residential_2107.jpg', 'Residential_92.jpg', 'Residential_1902.jpg', 'Residential_1056.jpg', 'Residential_1033.jpg', 'Residential_1548.jpg', 'Residential_960.jpg', 'Residential_1801.jpg', 'Residential_431.jpg', 'Residential_2347.jpg', 'Residential_1687.jpg', 'Residential_1253.jpg', 'Residential_1448.jpg', 'Residential_1139.jpg', 'Residential_961.jpg', 'Residential_373.jpg', 'Residential_2707.jpg', 'Residential_2116.jpg', 'Residential_1375.jpg', 'Residential_2984.jpg', 'Residential_759.jpg', 'Residential_2416.jpg', 'Residential_2328.jpg', 'Residential_1561.jpg', 'Residential_2492.jpg', 'Residential_459.jpg', 'Residential_2041.jpg', 'Residential_618.jpg', 'Residential_273.jpg', 'Residential_161.jpg', 'Residential_295.jpg', 'Residential_2244.jpg', 'Residential_1254.jpg', 'Residential_1629.jpg', 'Residential_201.jpg', 'Residential_2487.jpg', 'Residential_1588.jpg', 'Residential_218.jpg', 'Residential_2200.jpg', 'Residential_2333.jpg', 'Residential_2721.jpg', 'Residential_1550.jpg', 'Residential_2791.jpg', 'Residential_1732.jpg', 'Residential_2413.jpg', 'Residential_2446.jpg', 'Residential_2893.jpg', 'Residential_748.jpg', 'Residential_565.jpg', 'Residential_2595.jpg', 'Residential_1468.jpg', 'Residential_859.jpg', 'Residential_1024.jpg', 'Residential_529.jpg', 'Residential_850.jpg', 'Residential_1049.jpg', 'Residential_656.jpg', 'Residential_1777.jpg', 'Residential_1814.jpg', 'Residential_977.jpg', 'Residential_1244.jpg', 'Residential_1720.jpg', 'Residential_2580.jpg', 'Residential_275.jpg', 'Residential_1398.jpg', 'Residential_363.jpg', 'Residential_508.jpg', 'Residential_1497.jpg', 'Residential_2376.jpg', 'Residential_2802.jpg', 'Residential_2281.jpg', 'Residential_2649.jpg', 'Residential_2136.jpg', 'Residential_809.jpg', 'Residential_1003.jpg', 'Residential_387.jpg', 'Residential_21.jpg', 'Residential_2043.jpg', 'Residential_2505.jpg', 'Residential_706.jpg', 'Residential_2298.jpg', 'Residential_2625.jpg', 'Residential_713.jpg', 'Residential_182.jpg', 'Residential_673.jpg', 'Residential_2445.jpg', 'Residential_2867.jpg', 'Residential_322.jpg', 'Residential_2080.jpg', 'Residential_792.jpg', 'Residential_2180.jpg', 'Residential_900.jpg', 'Residential_1488.jpg', 'Residential_647.jpg', 'Residential_383.jpg', 'Residential_2460.jpg', 'Residential_2415.jpg', 'Residential_2398.jpg', 'Residential_1405.jpg', 'Residential_1726.jpg', 'Residential_1926.jpg', 'Residential_2675.jpg', 'Residential_1485.jpg', 'Residential_1975.jpg', 'Residential_1213.jpg', 'Residential_310.jpg', 'Residential_2930.jpg', 'Residential_1191.jpg', 'Residential_2832.jpg', 'Residential_2384.jpg', 'Residential_346.jpg', 'Residential_1739.jpg', 'Residential_2815.jpg', 'Residential_2545.jpg', 'Residential_38.jpg', 'Residential_426.jpg', 'Residential_327.jpg', 'Residential_2097.jpg', 'Residential_1862.jpg', 'Residential_2786.jpg', 'Residential_1937.jpg', 'Residential_1270.jpg', 'Residential_1368.jpg', 'Residential_2356.jpg', 'Residential_2047.jpg', 'Residential_883.jpg', 'Residential_2265.jpg', 'Residential_793.jpg', 'Residential_2014.jpg', 'Residential_1893.jpg', 'Residential_681.jpg', 'Residential_2823.jpg', 'Residential_1441.jpg', 'Residential_1697.jpg', 'Residential_1070.jpg', 'Residential_2048.jpg', 'Residential_627.jpg', 'Residential_2892.jpg', 'Residential_2808.jpg', 'Residential_1047.jpg', 'Residential_1724.jpg', 'Residential_1161.jpg', 'Residential_2825.jpg', 'Residential_1764.jpg', 'Residential_1961.jpg', 'Residential_2888.jpg', 'Residential_2197.jpg', 'Residential_2444.jpg', 'Residential_116.jpg', 'Residential_1422.jpg', 'Residential_75.jpg', 'Residential_1622.jpg', 'Residential_2491.jpg', 'Residential_2682.jpg', 'Residential_1699.jpg', 'Residential_1159.jpg', 'Residential_52.jpg', 'Residential_241.jpg', 'Residential_2286.jpg', 'Residential_1673.jpg', 'Residential_2410.jpg', 'Residential_2553.jpg', 'Residential_2626.jpg', 'Residential_2936.jpg', 'Residential_249.jpg', 'Residential_280.jpg', 'Residential_2379.jpg', 'Residential_1868.jpg', 'Residential_649.jpg', 'Residential_2483.jpg', 'Residential_2620.jpg', 'Residential_2390.jpg', 'Residential_2170.jpg', 'Residential_914.jpg', 'Residential_2094.jpg', 'Residential_2874.jpg', 'Residential_233.jpg', 'Residential_2719.jpg', 'Residential_1115.jpg', 'Residential_1483.jpg', 'Residential_2976.jpg', 'Residential_2741.jpg', 'Residential_2514.jpg', 'Residential_504.jpg', 'Residential_2224.jpg', 'Residential_1311.jpg', 'Residential_1379.jpg', 'Residential_756.jpg', 'Residential_2175.jpg', 'Residential_1443.jpg', 'Residential_2586.jpg', 'Residential_1515.jpg', 'Residential_2003.jpg', 'Residential_1414.jpg', 'Residential_1549.jpg', 'Residential_2771.jpg', 'Residential_7.jpg', 'Residential_96.jpg', 'Residential_2972.jpg', 'Residential_1750.jpg', 'Residential_2276.jpg', 'Residential_1795.jpg', 'Residential_2207.jpg', 'Residential_550.jpg', 'Residential_264.jpg', 'Residential_1735.jpg', 'Residential_81.jpg', 'Residential_2565.jpg', 'Residential_2599.jpg', 'Residential_1451.jpg', 'Residential_84.jpg', 'Residential_896.jpg', 'Residential_72.jpg', 'Residential_2289.jpg', 'Residential_357.jpg', 'Residential_1394.jpg', 'Residential_1708.jpg', 'Residential_1265.jpg', 'Residential_806.jpg', 'Residential_43.jpg', 'Residential_1257.jpg', 'Residential_2845.jpg', 'Residential_2855.jpg', 'Residential_160.jpg', 'Residential_1700.jpg', 'Residential_537.jpg', 'Residential_2779.jpg', 'Residential_1934.jpg', 'Residential_948.jpg', 'Residential_1334.jpg', 'Residential_1772.jpg', 'Residential_2290.jpg', 'Residential_2878.jpg', 'Residential_235.jpg', 'Residential_366.jpg', 'Residential_865.jpg', 'Residential_44.jpg', 'Residential_1022.jpg', 'Residential_2762.jpg', 'Residential_114.jpg', 'Residential_454.jpg', 'Residential_271.jpg', 'Residential_2847.jpg', 'Residential_362.jpg', 'Residential_2151.jpg', 'Residential_1577.jpg', 'Residential_685.jpg', 'Residential_1416.jpg', 'Residential_1283.jpg', 'Residential_831.jpg', 'Residential_2021.jpg', 'Residential_2004.jpg', 'Residential_1689.jpg', 'Residential_1210.jpg', 'Residential_2273.jpg', 'Residential_1424.jpg', 'Residential_2313.jpg', 'Residential_2904.jpg', 'Residential_1100.jpg', 'Residential_696.jpg', 'Residential_2287.jpg', 'Residential_530.jpg', 'Residential_830.jpg', 'Residential_1459.jpg', 'Residential_848.jpg', 'Residential_1130.jpg', 'Residential_2901.jpg', 'Residential_758.jpg', 'Residential_2765.jpg', 'Residential_57.jpg', 'Residential_128.jpg', 'Residential_2083.jpg', 'Residential_1679.jpg', 'Residential_2400.jpg', 'Residential_1214.jpg', 'Residential_1918.jpg', 'Residential_917.jpg', 'Residential_1429.jpg', 'Residential_1900.jpg', 'Residential_2088.jpg', 'Residential_2606.jpg', 'Residential_1119.jpg', 'Residential_2969.jpg', 'Residential_1113.jpg', 'Residential_868.jpg', 'Residential_1470.jpg', 'Residential_2210.jpg', 'Residential_483.jpg', 'Residential_410.jpg', 'Residential_1241.jpg', 'Residential_2117.jpg', 'Residential_938.jpg', 'Residential_1973.jpg', 'Residential_525.jpg', 'Residential_2688.jpg', 'Residential_1230.jpg', 'Residential_1109.jpg', 'Residential_2747.jpg', 'Residential_1120.jpg', 'Residential_1097.jpg', 'Residential_2383.jpg', 'Residential_1225.jpg', 'Residential_619.jpg', 'Residential_1380.jpg', 'Residential_1383.jpg', 'Residential_1.jpg', 'Residential_2359.jpg', 'Residential_689.jpg', 'Residential_1779.jpg', 'Residential_2115.jpg', 'Residential_272.jpg', 'Residential_1737.jpg', 'Residential_2242.jpg', 'Residential_730.jpg', 'Residential_2582.jpg', 'Residential_1573.jpg', 'Residential_552.jpg', 'Residential_2772.jpg', 'Residential_1685.jpg', 'Residential_2018.jpg', 'Residential_274.jpg', 'Residential_168.jpg', 'Residential_1743.jpg', 'Residential_2994.jpg', 'Residential_2739.jpg', 'Residential_159.jpg', 'Residential_522.jpg', 'Residential_1274.jpg', 'Residential_32.jpg', 'Residential_2769.jpg', 'Residential_2248.jpg', 'Residential_70.jpg', 'Residential_1133.jpg', 'Residential_1427.jpg', 'Residential_835.jpg', 'Residential_989.jpg', 'Residential_2222.jpg', 'Residential_602.jpg', 'Residential_1404.jpg', 'Residential_889.jpg', 'Residential_2075.jpg', 'Residential_2811.jpg', 'Residential_1871.jpg', 'Residential_1674.jpg', 'Residential_472.jpg', 'Residential_1528.jpg', 'Residential_2806.jpg', 'Residential_1690.jpg', 'Residential_1821.jpg', 'Residential_1332.jpg', 'Residential_351.jpg', 'Residential_1015.jpg', 'Residential_818.jpg', 'Residential_1498.jpg', 'Residential_104.jpg', 'Residential_1013.jpg', 'Residential_1080.jpg', 'Residential_2013.jpg', 'Residential_2856.jpg', 'Residential_344.jpg', 'Residential_1229.jpg', 'Residential_1399.jpg', 'Residential_2875.jpg', 'Residential_2865.jpg', 'Residential_2437.jpg', 'Residential_2254.jpg', 'Residential_2775.jpg', 'Residential_122.jpg', 'Residential_2810.jpg', 'Residential_727.jpg', 'Residential_802.jpg', 'Residential_1793.jpg', 'Residential_1568.jpg', 'Residential_734.jpg', 'Residential_742.jpg', 'Residential_2067.jpg', 'Residential_1303.jpg', 'Residential_527.jpg', 'Residential_1377.jpg', 'Residential_1917.jpg', 'Residential_918.jpg', 'Residential_665.jpg', 'Residential_991.jpg', 'Residential_1168.jpg', 'Residential_1704.jpg', 'Residential_1620.jpg', 'Residential_2072.jpg', 'Residential_1765.jpg', 'Residential_2489.jpg', 'Residential_1186.jpg', 'Residential_773.jpg', 'Residential_2861.jpg', 'Residential_2691.jpg', 'Residential_1942.jpg', 'Residential_423.jpg', 'Residential_580.jpg', 'Residential_613.jpg', 'Residential_111.jpg', 'Residential_1198.jpg', 'Residential_1432.jpg', 'Residential_2371.jpg', 'Residential_108.jpg', 'Residential_2296.jpg', 'Residential_762.jpg', 'Residential_1276.jpg', 'Residential_2262.jpg', 'Residential_2555.jpg', 'Residential_2193.jpg', 'Residential_78.jpg', 'Residential_466.jpg', 'Residential_1846.jpg', 'Residential_2239.jpg', 'Residential_1020.jpg', 'Residential_2710.jpg', 'Residential_2726.jpg', 'Residential_189.jpg', 'Residential_153.jpg', 'Residential_1639.jpg', 'Residential_595.jpg', 'Residential_2528.jpg', 'Residential_2441.jpg', 'Residential_813.jpg', 'Residential_1709.jpg', 'Residential_1589.jpg', 'Residential_816.jpg', 'Residential_1420.jpg', 'Residential_1397.jpg', 'Residential_176.jpg', 'Residential_246.jpg', 'Residential_2351.jpg', 'Residential_2611.jpg', 'Residential_1417.jpg', 'Residential_1786.jpg', 'Residential_1925.jpg', 'Residential_2220.jpg', 'Residential_2803.jpg', 'Residential_874.jpg', 'Residential_922.jpg', 'Residential_1499.jpg', 'Residential_645.jpg', 'Residential_1378.jpg', 'Residential_61.jpg', 'Residential_1452.jpg', 'Residential_1669.jpg', 'Residential_376.jpg', 'Residential_2039.jpg', 'Residential_1374.jpg', 'Residential_1879.jpg', 'Residential_379.jpg', 'Residential_1338.jpg', 'Residential_2718.jpg', 'Residential_1736.jpg', 'Residential_1601.jpg', 'Residential_384.jpg', 'Residential_2230.jpg', 'Residential_2596.jpg', 'Residential_2621.jpg', 'Residential_1583.jpg', 'Residential_2956.jpg', 'Residential_1804.jpg', 'Residential_2256.jpg', 'Residential_2275.jpg', 'Residential_1393.jpg', 'Residential_421.jpg', 'Residential_1996.jpg', 'Residential_1293.jpg', 'Residential_699.jpg', 'Residential_2588.jpg', 'Residential_26.jpg', 'Residential_972.jpg', 'Residential_25.jpg', 'Residential_2358.jpg', 'Residential_73.jpg', 'Residential_411.jpg', 'Residential_2525.jpg', 'Residential_2479.jpg', 'Residential_1956.jpg', 'Residential_804.jpg', 'Residential_1663.jpg', 'Residential_1637.jpg', 'Residential_68.jpg', 'Residential_747.jpg', 'Residential_1114.jpg', 'Residential_808.jpg', 'Residential_2833.jpg', 'Residential_2345.jpg', 'Residential_1930.jpg', 'Residential_2330.jpg', 'Residential_1296.jpg', 'Residential_1886.jpg', 'Residential_2680.jpg', 'Residential_2081.jpg', 'Residential_166.jpg', 'Residential_2362.jpg', 'Residential_936.jpg', 'Residential_1731.jpg', 'Residential_348.jpg', 'Residential_586.jpg', 'Residential_2191.jpg', 'Residential_2028.jpg', 'Residential_1517.jpg', 'Residential_276.jpg', 'Residential_202.jpg', 'Residential_701.jpg', 'Residential_1502.jpg', 'Residential_2316.jpg', 'Residential_445.jpg', 'Residential_564.jpg', 'Residential_1357.jpg', 'Residential_2226.jpg', 'Residential_2364.jpg', 'Residential_55.jpg', 'Residential_1128.jpg', 'Residential_95.jpg', 'Residential_415.jpg', 'Residential_2463.jpg', 'Residential_1480.jpg', 'Residential_553.jpg', 'Residential_1962.jpg', 'Residential_2536.jpg', 'Residential_478.jpg', 'Residential_136.jpg', 'Residential_105.jpg', 'Residential_1118.jpg', 'Residential_490.jpg', 'Residential_785.jpg', 'Residential_1551.jpg', 'Residential_2082.jpg', 'Residential_144.jpg', 'Residential_1834.jpg', 'Residential_601.jpg', 'Residential_1463.jpg', 'Residential_1164.jpg', 'Residential_56.jpg', 'Residential_2758.jpg', 'Residential_915.jpg', 'Residential_1712.jpg', 'Residential_130.jpg', 'Residential_1340.jpg', 'Residential_1853.jpg', 'Residential_2967.jpg', 'Residential_238.jpg', 'Residential_1964.jpg', 'Residential_2887.jpg', 'Residential_28.jpg', 'Residential_2960.jpg', 'Residential_945.jpg', 'Residential_170.jpg', 'Residential_2734.jpg', 'Residential_1206.jpg', 'Residential_1067.jpg', 'Residential_2233.jpg', 'Residential_794.jpg', 'Residential_337.jpg', 'Residential_1888.jpg', 'Residential_1628.jpg', 'Residential_2664.jpg', 'Residential_1354.jpg', 'Residential_1949.jpg', 'Residential_2507.jpg', 'Residential_2261.jpg', 'Residential_2025.jpg', 'Residential_1909.jpg', 'Residential_2426.jpg', 'Residential_2966.jpg', 'Residential_398.jpg', 'Residential_2837.jpg', 'Residential_2928.jpg', 'Residential_1212.jpg', 'Residential_1204.jpg', 'Residential_2728.jpg', 'Residential_2640.jpg', 'Residential_2666.jpg', 'Residential_1874.jpg', 'Residential_1346.jpg', 'Residential_2933.jpg', 'Residential_1643.jpg', 'Residential_2062.jpg', 'Residential_1264.jpg', 'Residential_2488.jpg', 'Residential_1592.jpg', 'Residential_359.jpg', 'Residential_1571.jpg', 'Residential_993.jpg', 'Residential_1438.jpg', 'Residential_2687.jpg', 'Residential_2569.jpg', 'Residential_950.jpg', 'Residential_1630.jpg', 'Residential_2064.jpg', 'Residential_2425.jpg', 'Residential_1143.jpg', 'Residential_340.jpg', 'Residential_1266.jpg', 'Residential_2663.jpg', 'Residential_2912.jpg', 'Residential_1457.jpg', 'Residential_184.jpg', 'Residential_888.jpg', 'Residential_1927.jpg', 'Residential_2382.jpg', 'Residential_2773.jpg', 'Residential_2619.jpg', 'Residential_208.jpg', 'Residential_1618.jpg', 'Residential_927.jpg', 'Residential_841.jpg', 'Residential_910.jpg', 'Residential_2319.jpg', 'Residential_1360.jpg', 'Residential_1850.jpg', 'Residential_1188.jpg', 'Residential_1694.jpg', 'Residential_2671.jpg', 'Residential_1569.jpg', 'Residential_2154.jpg', 'Residential_870.jpg', 'Residential_452.jpg', 'Residential_462.jpg', 'Residential_1373.jpg', 'Residential_501.jpg', 'Residential_2635.jpg', 'Residential_1852.jpg', 'Residential_620.jpg', 'Residential_419.jpg', 'Residential_2454.jpg', 'Residential_1562.jpg', 'Residential_853.jpg', 'Residential_1250.jpg', 'Residential_668.jpg', 'Residential_886.jpg', 'Residential_2749.jpg', 'Residential_1363.jpg', 'Residential_463.jpg', 'Residential_1347.jpg', 'Residential_2846.jpg', 'Residential_737.jpg', 'Residential_1467.jpg', 'Residential_1771.jpg', 'Residential_861.jpg', 'Residential_946.jpg', 'Residential_308.jpg', 'Residential_2991.jpg', 'Residential_1633.jpg', 'Residential_1282.jpg', 'Residential_2766.jpg', 'Residential_297.jpg', 'Residential_34.jpg', 'Residential_2042.jpg', 'Residential_1105.jpg', 'Residential_2365.jpg', 'Residential_89.jpg', 'Residential_2694.jpg', 'Residential_1616.jpg', 'Residential_2395.jpg', 'Residential_1032.jpg', 'Residential_2318.jpg', 'Residential_1185.jpg', 'Residential_733.jpg', 'Residential_1327.jpg', 'Residential_1760.jpg', 'Residential_615.jpg', 'Residential_2131.jpg', 'Residential_1757.jpg', 'Residential_2229.jpg', 'Residential_331.jpg', 'Residential_697.jpg', 'Residential_596.jpg', 'Residential_511.jpg', 'Residential_1899.jpg', 'Residential_967.jpg', 'Residential_2465.jpg', 'Residential_2409.jpg', 'Residential_855.jpg', 'Residential_749.jpg', 'Residential_1351.jpg', 'Residential_2961.jpg', 'Residential_1976.jpg', 'Residential_2711.jpg', 'Residential_2896.jpg', 'Residential_178.jpg', 'Residential_1026.jpg', 'Residential_2153.jpg', 'Residential_1756.jpg', 'Residential_1503.jpg', 'Residential_460.jpg', 'Residential_2109.jpg', 'Residential_1125.jpg', 'Residential_2804.jpg', 'Residential_2370.jpg', 'Residential_367.jpg', 'Residential_1388.jpg', 'Residential_113.jpg', 'Residential_1654.jpg', 'Residential_2405.jpg', 'Residential_2655.jpg', 'Residential_1790.jpg', 'Residential_1045.jpg', 'Residential_407.jpg', 'Residential_4.jpg', 'Residential_1052.jpg', 'Residential_887.jpg', 'Residential_1239.jpg', 'Residential_1752.jpg', 'Residential_479.jpg', 'Residential_2184.jpg', 'Residential_934.jpg', 'Residential_2218.jpg', 'Residential_2685.jpg', 'Residential_720.jpg', 'Residential_2848.jpg', 'Residential_457.jpg', 'Residential_1518.jpg', 'Residential_1606.jpg', 'Residential_150.jpg', 'Residential_1146.jpg', 'Residential_711.jpg', 'Residential_710.jpg', 'Residential_2608.jpg', 'Residential_528.jpg', 'Residential_1189.jpg', 'Residential_2853.jpg', 'Residential_1875.jpg', 'Residential_2312.jpg', 'Residential_372.jpg', 'Residential_2108.jpg', 'Residential_1155.jpg', 'Residential_1280.jpg', 'Residential_1558.jpg', 'Residential_1851.jpg', 'Residential_1950.jpg', 'Residential_2016.jpg', 'Residential_1788.jpg', 'Residential_1812.jpg', 'Residential_789.jpg', 'Residential_2204.jpg', 'Residential_1911.jpg', 'Residential_482.jpg', 'Residential_1820.jpg', 'Residential_2842.jpg', 'Residential_333.jpg', 'Residential_2132.jpg', 'Residential_1567.jpg', 'Residential_2211.jpg', 'Residential_1261.jpg', 'Residential_1054.jpg', 'Residential_1723.jpg', 'Residential_1703.jpg', 'Residential_2185.jpg', 'Residential_2530.jpg', 'Residential_1597.jpg', 'Residential_2902.jpg', 'Residential_1099.jpg', 'Residential_225.jpg', 'Residential_288.jpg', 'Residential_1552.jpg', 'Residential_2163.jpg', 'Residential_1135.jpg', 'Residential_10.jpg', 'Residential_692.jpg', 'Residential_652.jpg', 'Residential_1831.jpg', 'Residential_1307.jpg', 'Residential_2998.jpg', 'Residential_1650.jpg', 'Residential_2443.jpg', 'Residential_556.jpg', 'Residential_1932.jpg', 'Residential_2943.jpg', 'Residential_2727.jpg', 'Residential_509.jpg', 'Residential_736.jpg', 'Residential_1951.jpg', 'Residential_1841.jpg', 'Residential_2923.jpg', 'Residential_97.jpg', 'Residential_823.jpg', 'Residential_1941.jpg', 'Residential_71.jpg', 'Residential_994.jpg', 'Residential_1075.jpg', 'Residential_2767.jpg', 'Residential_1880.jpg', 'Residential_1659.jpg', 'Residential_800.jpg', 'Residential_1823.jpg', 'Residential_2473.jpg', 'Residential_425.jpg', 'Residential_207.jpg', 'Residential_1021.jpg', 'Residential_1439.jpg', 'Residential_2467.jpg', 'Residential_42.jpg', 'Residential_1141.jpg', 'Residential_185.jpg', 'Residential_199.jpg', 'Residential_1151.jpg', 'Residential_2440.jpg', 'Residential_1223.jpg', 'Residential_2407.jpg', 'Residential_1896.jpg', 'Residential_502.jpg', 'Residential_2754.jpg', 'Residential_617.jpg', 'Residential_1179.jpg', 'Residential_731.jpg', 'Residential_1792.jpg', 'Residential_2869.jpg', 'Residential_1985.jpg', 'Residential_1111.jpg', 'Residential_1112.jpg', 'Residential_49.jpg', 'Residential_709.jpg', 'Residential_2002.jpg', 'Residential_846.jpg', 'Residential_1298.jpg', 'Residential_1947.jpg', 'Residential_2486.jpg', 'Residential_364.jpg', 'Residential_881.jpg', 'Residential_966.jpg', 'Residential_1610.jpg', 'Residential_444.jpg', 'Residential_1381.jpg', 'Residential_629.jpg', 'Residential_561.jpg', 'Residential_1604.jpg', 'Residential_1466.jpg', 'Residential_390.jpg', 'Residential_1989.jpg', 'Residential_2814.jpg', 'Residential_2138.jpg', 'Residential_2705.jpg', 'Residential_94.jpg', 'Residential_228.jpg', 'Residential_1749.jpg', 'Residential_3000.jpg', 'Residential_2343.jpg', 'Residential_2508.jpg', 'Residential_987.jpg', 'Residential_2349.jpg', 'Residential_1473.jpg', 'Residential_2058.jpg', 'Residential_1565.jpg', 'Residential_50.jpg', 'Residential_1861.jpg', 'Residential_2111.jpg', 'Residential_2386.jpg', 'Residential_2612.jpg', 'Residential_2466.jpg', 'Residential_420.jpg', 'Residential_2403.jpg', 'Residential_1584.jpg', 'Residential_242.jpg', 'Residential_2942.jpg', 'Residential_763.jpg', 'Residential_1627.jpg', 'Residential_2152.jpg', 'Residential_2059.jpg', 'Residential_51.jpg', 'Residential_1273.jpg', 'Residential_2604.jpg', 'Residential_1979.jpg', 'Residential_1591.jpg', 'Residential_2310.jpg', 'Residential_2794.jpg', 'Residential_1313.jpg', 'Residential_2657.jpg', 'Residential_1197.jpg', 'Residential_1873.jpg', 'Residential_58.jpg', 'Residential_1530.jpg', 'Residential_439.jpg', 'Residential_746.jpg', 'Residential_163.jpg', 'Residential_2404.jpg', 'Residential_2422.jpg', 'Residential_2759.jpg', 'Residential_2201.jpg', 'Residential_1002.jpg', 'Residential_1444.jpg', 'Residential_2458.jpg', 'Residential_117.jpg', 'Residential_1110.jpg', 'Residential_294.jpg', 'Residential_735.jpg', 'Residential_1123.jpg', 'Residential_964.jpg', 'Residential_1895.jpg', 'Residential_752.jpg', 'Residential_1716.jpg', 'Residential_642.jpg', 'Residential_397.jpg', 'Residential_803.jpg', 'Residential_2938.jpg', 'Residential_2127.jpg', 'Residential_597.jpg', 'Residential_2124.jpg', 'Residential_9.jpg', 'Residential_484.jpg', 'Residential_992.jpg', 'Residential_1952.jpg', 'Residential_988.jpg', 'Residential_2578.jpg', 'Residential_1600.jpg', 'Residential_2751.jpg', 'Residential_833.jpg', 'Residential_678.jpg', 'Residential_2456.jpg', 'Residential_192.jpg', 'Residential_1341.jpg', 'Residential_1209.jpg', 'Residential_2311.jpg', 'Residential_428.jpg', 'Residential_890.jpg', 'Residential_2790.jpg', 'Residential_2001.jpg', 'Residential_569.jpg', 'Residential_1744.jpg', 'Residential_1815.jpg', 'Residential_1392.jpg', 'Residential_1747.jpg', 'Residential_1279.jpg', 'Residential_1924.jpg', 'Residential_2102.jpg', 'Residential_2388.jpg', 'Residential_1508.jpg', 'Residential_1044.jpg', 'Residential_2513.jpg', 'Residential_1060.jpg', 'Residential_623.jpg', 'Residential_2615.jpg', 'Residential_2096.jpg', 'Residential_641.jpg', 'Residential_2783.jpg', 'Residential_513.jpg', 'Residential_2073.jpg', 'Residential_1727.jpg', 'Residential_149.jpg', 'Residential_1319.jpg', 'Residential_795.jpg', 'Residential_2500.jpg', 'Residential_1829.jpg', 'Residential_1677.jpg', 'Residential_2485.jpg', 'Residential_2544.jpg', 'Residential_434.jpg', 'Residential_2189.jpg', 'Residential_916.jpg', 'Residential_385.jpg', 'Residential_1281.jpg', 'Residential_180.jpg', 'Residential_1385.jpg', 'Residential_1069.jpg', 'Residential_109.jpg', 'Residential_2552.jpg', 'Residential_1449.jpg', 'Residential_135.jpg', 'Residential_2105.jpg', 'Residential_1029.jpg', 'Residential_1227.jpg', 'Residential_1434.jpg', 'Residential_1537.jpg', 'Residential_1544.jpg', 'Residential_408.jpg', 'Residential_2251.jpg', 'Residential_1986.jpg', 'Residential_74.jpg', 'Residential_1316.jpg', 'Residential_1328.jpg', 'Residential_1877.jpg', 'Residential_349.jpg', 'Residential_402.jpg', 'Residential_1355.jpg', 'Residential_1343.jpg', 'Residential_2907.jpg', 'Residential_2373.jpg', 'Residential_395.jpg', 'Residential_1358.jpg', 'Residential_365.jpg', 'Residential_2693.jpg', 'Residential_908.jpg', 'Residential_1127.jpg', 'Residential_2805.jpg', 'Residential_2512.jpg', 'Residential_154.jpg', 'Residential_1490.jpg', 'Residential_2752.jpg', 'Residential_1892.jpg', 'Residential_677.jpg', 'Residential_2841.jpg', 'Residential_247.jpg', 'Residential_16.jpg', 'Residential_405.jpg', 'Residential_1706.jpg', 'Residential_1774.jpg', 'Residential_1894.jpg', 'Residential_2668.jpg', 'Residential_403.jpg', 'Residential_1084.jpg', 'Residential_1915.jpg', 'Residential_1309.jpg', 'Residential_2339.jpg', 'Residential_2590.jpg', 'Residential_2714.jpg', 'Residential_209.jpg', 'Residential_2690.jpg', 'Residential_2944.jpg', 'Residential_2776.jpg', 'Residential_414.jpg', 'Residential_435.jpg', 'Residential_186.jpg', 'Residential_1984.jpg', 'Residential_86.jpg', 'Residential_2577.jpg', 'Residential_1721.jpg', 'Residential_441.jpg', 'Residential_429.jpg', 'Residential_978.jpg', 'Residential_2103.jpg', 'Residential_498.jpg', 'Residential_1722.jpg', 'Residential_2730.jpg', 'Residential_2959.jpg', 'Residential_1613.jpg', 'Residential_1554.jpg', 'Residential_1090.jpg', 'Residential_1936.jpg', 'Residential_662.jpg', 'Residential_141.jpg', 'Residential_1671.jpg', 'Residential_2564.jpg', 'Residential_2905.jpg', 'Residential_2335.jpg', 'Residential_2983.jpg', 'Residential_2198.jpg', 'Residential_1805.jpg', 'Residential_210.jpg', 'Residential_440.jpg', 'Residential_1758.jpg', 'Residential_1883.jpg', 'Residential_548.jpg', 'Residential_1904.jpg', 'Residential_2702.jpg', 'Residential_152.jpg', 'Residential_27.jpg', 'Residential_2478.jpg', 'Residential_320.jpg', 'Residential_1784.jpg', 'Residential_2188.jpg', 'Residential_2006.jpg', 'Residential_834.jpg', 'Residential_996.jpg', 'Residential_147.jpg', 'Residential_1396.jpg', 'Residential_842.jpg', 'Residential_1078.jpg', 'Residential_1914.jpg', 'Residential_2315.jpg', 'Residential_1607.jpg', 'Residential_2470.jpg', 'Residential_2436.jpg', 'Residential_750.jpg', 'Residential_1938.jpg', 'Residential_2434.jpg', 'Residential_1462.jpg', 'Residential_1836.jpg', 'Residential_2166.jpg', 'Residential_1240.jpg', 'Residential_714.jpg', 'Residential_2128.jpg', 'Residential_317.jpg', 'Residential_1068.jpg', 'Residential_1857.jpg', 'Residential_956.jpg', 'Residential_534.jpg', 'Residential_2034.jpg', 'Residential_2632.jpg', 'Residential_469.jpg', 'Residential_2050.jpg', 'Residential_1590.jpg', 'Residential_1754.jpg', 'Residential_2613.jpg', 'Residential_341.jpg', 'Residential_2317.jpg', 'Residential_494.jpg', 'Residential_926.jpg', 'Residential_814.jpg', 'Residential_983.jpg', 'Residential_518.jpg', 'Residential_1256.jpg', 'Residential_1885.jpg', 'Residential_2177.jpg', 'Residential_805.jpg', 'Residential_2785.jpg', 'Residential_2674.jpg', 'Residential_2788.jpg', 'Residential_292.jpg', 'Residential_1557.jpg', 'Residential_898.jpg', 'Residential_31.jpg', 'Residential_1872.jpg', 'Residential_279.jpg', 'Residential_2368.jpg', 'Residential_2238.jpg', 'Residential_1513.jpg', 'Residential_2546.jpg', 'Residential_2270.jpg', 'Residential_2439.jpg', 'Residential_751.jpg', 'Residential_2448.jpg', 'Residential_2299.jpg', 'Residential_2223.jpg', 'Residential_765.jpg', 'Residential_2037.jpg', 'Residential_828.jpg', 'Residential_1278.jpg', 'Residential_1890.jpg', 'Residential_62.jpg', 'Residential_2421.jpg', 'Residential_2277.jpg', 'Residential_303.jpg', 'Residential_2447.jpg', 'Residential_2957.jpg', 'Residential_1269.jpg', 'Residential_1963.jpg', 'Residential_2022.jpg', 'Residential_2539.jpg', 'Residential_2137.jpg', 'Residential_1967.jpg', 'Residential_1840.jpg', 'Residential_1295.jpg', 'Residential_2796.jpg', 'Residential_2129.jpg', 'Residential_770.jpg', 'Residential_1038.jpg', 'Residential_1306.jpg', 'Residential_1117.jpg', 'Residential_1437.jpg', 'Residential_477.jpg', 'Residential_862.jpg', 'Residential_2732.jpg', 'Residential_1833.jpg', 'Residential_1389.jpg', 'Residential_214.jpg', 'Residential_285.jpg', 'Residential_2235.jpg', 'Residential_2770.jpg', 'Residential_2538.jpg', 'Residential_1482.jpg', 'Residential_562.jpg', 'Residential_1259.jpg', 'Residential_975.jpg', 'Residential_1450.jpg', 'Residential_2900.jpg', 'Residential_2952.jpg', 'Residential_650.jpg', 'Residential_1323.jpg', 'Residential_1957.jpg', 'Residential_2908.jpg', 'Residential_2205.jpg', 'Residential_2438.jpg', 'Residential_485.jpg', 'Residential_1247.jpg', 'Residential_2884.jpg', 'Residential_1402.jpg', 'Residential_1913.jpg', 'Residential_875.jpg', 'Residential_1660.jpg', 'Residential_2474.jpg', 'Residential_1728.jpg', 'Residential_1858.jpg', 'Residential_1512.jpg', 'Residential_2653.jpg', 'Residential_1077.jpg', 'Residential_450.jpg', 'Residential_2406.jpg', 'Residential_2616.jpg', 'Residential_2452.jpg', 'Residential_339.jpg', 'Residential_1199.jpg', 'Residential_1182.jpg', 'Residential_2.jpg', 'Residential_593.jpg', 'Residential_1500.jpg', 'Residential_901.jpg', 'Residential_1906.jpg', 'Residential_2397.jpg', 'Residential_2202.jpg', 'Residential_608.jpg', 'Residential_2291.jpg', 'Residential_1262.jpg', 'Residential_329.jpg', 'Residential_2098.jpg', 'Residential_2430.jpg', 'Residential_1006.jpg', 'Residential_1419.jpg', 'Residential_313.jpg', 'Residential_2913.jpg', 'Residential_510.jpg', 'Residential_142.jpg', 'Residential_1073.jpg', 'Residential_1797.jpg', 'Residential_1999.jpg', 'Residential_15.jpg', 'Residential_2019.jpg', 'Residential_832.jpg', 'Residential_2023.jpg', 'Residential_1408.jpg', 'Residential_1692.jpg', 'Residential_2681.jpg', 'Residential_635.jpg', 'Residential_2476.jpg', 'Residential_2122.jpg', 'Residential_1292.jpg', 'Residential_468.jpg', 'Residential_1088.jpg', 'Residential_1522.jpg', 'Residential_315.jpg', 'Residential_955.jpg', 'Residential_626.jpg', 'Residential_1471.jpg', 'Residential_1693.jpg', 'Residential_884.jpg', 'Residential_1775.jpg', 'Residential_1053.jpg', 'Residential_2570.jpg', 'Residential_1345.jpg', 'Residential_817.jpg', 'Residential_1876.jpg', 'Residential_1545.jpg', 'Residential_976.jpg', 'Residential_2915.jpg', 'Residential_2074.jpg', 'Residential_1887.jpg', 'Residential_1149.jpg', 'Residential_1166.jpg', 'Residential_2880.jpg', 'Residential_797.jpg', 'Residential_1331.jpg', 'Residential_1645.jpg', 'Residential_2562.jpg', 'Residential_2420.jpg', 'Residential_1187.jpg', 'Residential_103.jpg', 'Residential_616.jpg', 'Residential_131.jpg', 'Residential_1828.jpg', 'Residential_1802.jpg', 'Residential_2809.jpg', 'Residential_1864.jpg', 'Residential_2259.jpg', 'Residential_2581.jpg', 'Residential_2591.jpg', 'Residential_2851.jpg', 'Residential_1905.jpg', 'Residential_2160.jpg', 'Residential_2086.jpg', 'Residential_8.jpg', 'Residential_2877.jpg', 'Residential_2389.jpg', 'Residential_1807.jpg', 'Residential_1652.jpg', 'Residential_2571.jpg', 'Residential_2549.jpg', 'Residential_600.jpg', 'Residential_2918.jpg', 'Residential_1718.jpg', 'Residential_2196.jpg', 'Residential_2816.jpg', 'Residential_1729.jpg', 'Residential_102.jpg', 'Residential_2052.jpg', 'Residential_261.jpg', 'Residential_516.jpg', 'Residential_319.jpg', 'Residential_2686.jpg', 'Residential_545.jpg', 'Residential_2852.jpg', 'Residential_2708.jpg', 'Residential_1030.jpg', 'Residential_1993.jpg', 'Residential_2987.jpg', 'Residential_401.jpg', 'Residential_289.jpg', 'Residential_311.jpg', 'Residential_2886.jpg', 'Residential_811.jpg', 'Residential_2337.jpg', 'Residential_2123.jpg', 'Residential_1154.jpg', 'Residential_2630.jpg', 'Residential_1300.jpg', 'Residential_304.jpg', 'Residential_540.jpg', 'Residential_1987.jpg', 'Residential_2985.jpg', 'Residential_1372.jpg', 'Residential_1245.jpg', 'Residential_744.jpg', 'Residential_633.jpg', 'Residential_826.jpg', 'Residential_447.jpg', 'Residential_1730.jpg', 'Residential_1248.jpg', 'Residential_2336.jpg', 'Residential_2237.jpg', 'Residential_219.jpg', 'Residential_2334.jpg', 'Residential_1478.jpg', 'Residential_1505.jpg', 'Residential_353.jpg', 'Residential_277.jpg', 'Residential_2350.jpg', 'Residential_557.jpg', 'Residential_2113.jpg', 'Residential_533.jpg', 'Residential_880.jpg', 'Residential_2638.jpg', 'Residential_1027.jpg', 'Residential_1160.jpg', 'Residential_1664.jpg', 'Residential_2652.jpg', 'Residential_2044.jpg', 'Residential_2890.jpg', 'Residential_2603.jpg', 'Residential_2000.jpg', 'Residential_717.jpg', 'Residential_1192.jpg', 'Residential_1778.jpg', 'Residential_2799.jpg', 'Residential_2045.jpg', 'Residential_1688.jpg', 'Residential_2227.jpg', 'Residential_2212.jpg', 'Residential_2423.jpg', 'Residential_312.jpg', 'Residential_2781.jpg', 'Residential_1320.jpg', 'Residential_879.jpg', 'Residential_684.jpg', 'Residential_761.jpg', 'Residential_2266.jpg', 'Residential_171.jpg', 'Residential_336.jpg', 'Residential_1301.jpg', 'Residential_1980.jpg', 'Residential_1811.jpg', 'Residential_2394.jpg', 'Residential_2906.jpg', 'Residential_121.jpg', 'Residential_2829.jpg', 'Residential_464.jpg', 'Residential_2057.jpg', 'Residential_2309.jpg', 'Residential_412.jpg', 'Residential_2011.jpg', 'Residential_191.jpg', 'Residential_1324.jpg', 'Residential_949.jpg', 'Residential_2326.jpg', 'Residential_386.jpg', 'Residential_1546.jpg', 'Residential_1741.jpg', 'Residential_2889.jpg', 'Residential_2367.jpg', 'Residential_487.jpg', 'Residential_1586.jpg', 'Residential_1933.jpg', 'Residential_517.jpg', 'Residential_126.jpg', 'Residential_1196.jpg', 'Residential_1361.jpg', 'Residential_791.jpg', 'Residential_2408.jpg', 'Residential_1122.jpg', 'Residential_507.jpg', 'Residential_2250.jpg', 'Residential_2558.jpg', 'Residential_674.jpg', 'Residential_133.jpg', 'Residential_624.jpg', 'Residential_314.jpg', 'Residential_254.jpg', 'Residential_2533.jpg', 'Residential_1042.jpg', 'Residential_165.jpg', 'Residential_1287.jpg', 'Residential_1436.jpg', 'Residential_393.jpg', 'Residential_2567.jpg', 'Residential_2482.jpg', 'Residential_576.jpg', 'Residential_1124.jpg', 'Residential_1830.jpg', 'Residential_1243.jpg', 'Residential_2141.jpg', 'Residential_2264.jpg', 'Residential_1594.jpg', 'Residential_1412.jpg', 'Residential_2700.jpg', 'Residential_1163.jpg', 'Residential_2898.jpg', 'Residential_2995.jpg', 'Residential_555.jpg', 'Residential_2999.jpg', 'Residential_1596.jpg', 'Residential_572.jpg', 'Residential_2629.jpg', 'Residential_947.jpg', 'Residential_2134.jpg', 'Residential_143.jpg', 'Residential_496.jpg', 'Residential_265.jpg', 'Residential_2053.jpg', 'Residential_1321.jpg', 'Residential_2100.jpg', 'Residential_1059.jpg', 'Residential_1294.jpg', 'Residential_2895.jpg', 'Residential_358.jpg', 'Residential_790.jpg', 'Residential_558.jpg', 'Residential_2592.jpg', 'Residential_196.jpg', 'Residential_1180.jpg', 'Residential_1813.jpg', 'Residential_1242.jpg', 'Residential_2756.jpg', 'Residential_1595.jpg', 'Residential_40.jpg', 'Residential_2253.jpg', 'Residential_2965.jpg', 'Residential_1783.jpg', 'Residential_1087.jpg', 'Residential_1102.jpg', 'Residential_1553.jpg', 'Residential_2535.jpg', 'Residential_712.jpg', 'Residential_59.jpg', 'Residential_2361.jpg', 'Residential_437.jpg', 'Residential_2792.jpg', 'Residential_2179.jpg', 'Residential_1277.jpg', 'Residential_560.jpg', 'Residential_334.jpg', 'Residential_138.jpg', 'Residential_1593.jpg', 'Residential_2676.jpg', 'Residential_1921.jpg', 'Residential_291.jpg', 'Residential_1058.jpg', 'Residential_942.jpg', 'Residential_857.jpg', 'Residential_944.jpg', 'Residential_2502.jpg', 'Residential_1658.jpg', 'Residential_2641.jpg', 'Residential_1367.jpg', 'Residential_1946.jpg', 'Residential_715.jpg', 'Residential_2633.jpg', 'Residential_66.jpg', 'Residential_2774.jpg', 'Residential_1430.jpg', 'Residential_175.jpg', 'Residential_639.jpg', 'Residential_1318.jpg', 'Residential_1481.jpg', 'Residential_1150.jpg', 'Residential_2953.jpg', 'Residential_614.jpg', 'Residential_215.jpg', 'Residential_2561.jpg', 'Residential_2826.jpg', 'Residential_1395.jpg', 'Residential_381.jpg', 'Residential_1506.jpg', 'Residential_1407.jpg', 'Residential_2401.jpg', 'Residential_2631.jpg', 'Residential_24.jpg', 'Residential_1170.jpg', 'Residential_1086.jpg', 'Residential_2660.jpg', 'Residential_1302.jpg', 'Residential_585.jpg', 'Residential_1907.jpg', 'Residential_1678.jpg', 'Residential_2735.jpg', 'Residential_1719.jpg', 'Residential_406.jpg', 'Residential_2924.jpg', 'Residential_181.jpg', 'Residential_1651.jpg', 'Residential_290.jpg', 'Residential_2038.jpg', 'Residential_2076.jpg', 'Residential_2140.jpg', 'Residential_660.jpg', 'Residential_245.jpg', 'Residential_1535.jpg', 'Residential_1696.jpg', 'Residential_982.jpg', 'Residential_2844.jpg', 'Residential_1492.jpg', 'Residential_2380.jpg', 'Residential_1145.jpg', 'Residential_1136.jpg', 'Residential_1219.jpg', 'Residential_300.jpg', 'Residential_1635.jpg', 'Residential_871.jpg', 'Residential_599.jpg', 'Residential_909.jpg', 'Residential_1082.jpg', 'Residential_2882.jpg', 'Residential_2755.jpg', 'Residential_1476.jpg', 'Residential_2748.jpg', 'Residential_2911.jpg', 'Residential_1753.jpg', 'Residential_605.jpg', 'Residential_493.jpg', 'Residential_1016.jpg', 'Residential_53.jpg', 'Residential_1001.jpg', 'Residential_2216.jpg', 'Residential_807.jpg', 'Residential_2817.jpg', 'Residential_739.jpg', 'Residential_2234.jpg', 'Residential_1634.jpg', 'Residential_542.jpg', 'Residential_1275.jpg', 'Residential_151.jpg', 'Residential_2876.jpg', 'Residential_2534.jpg', 'Residential_2698.jpg', 'Residential_670.jpg', 'Residential_698.jpg', 'Residential_2381.jpg', 'Residential_1666.jpg', 'Residential_158.jpg', 'Residential_2656.jpg', 'Residential_2301.jpg', 'Residential_2279.jpg', 'Residential_269.jpg', 'Residential_2830.jpg', 'Residential_378.jpg', 'Residential_2835.jpg', 'Residential_2033.jpg', 'Residential_2955.jpg', 'Residential_911.jpg', 'Residential_1878.jpg', 'Residential_2032.jpg', 'Residential_2079.jpg', 'Residential_148.jpg', 'Residential_2920.jpg', 'Residential_203.jpg', 'Residential_921.jpg', 'Residential_755.jpg', 'Residential_2717.jpg', 'Residential_2225.jpg', 'Residential_1231.jpg', 'Residential_2322.jpg', 'Residential_2679.jpg', 'Residential_903.jpg', 'Residential_2643.jpg', 'Residential_1291.jpg', 'Residential_125.jpg', 'Residential_396.jpg', 'Residential_1018.jpg', 'Residential_1350.jpg', 'Residential_847.jpg', 'Residential_1007.jpg', 'Residential_2449.jpg', 'Residential_2078.jpg', 'Residential_438.jpg', 'Residential_330.jpg', 'Residential_872.jpg', 'Residential_648.jpg', 'Residential_891.jpg', 'Residential_2647.jpg', 'Residential_124.jpg', 'Residential_810.jpg', 'Residential_2993.jpg', 'Residential_2723.jpg', 'Residential_876.jpg', 'Residential_2344.jpg', 'Residential_2859.jpg', 'Residential_2862.jpg', 'Residential_941.jpg', 'Residential_2031.jpg', 'Residential_531.jpg', 'Residential_2858.jpg', 'Residential_2055.jpg', 'Residential_2342.jpg', 'Residential_2015.jpg', 'Residential_2527.jpg', 'Residential_574.jpg', 'Residential_298.jpg', 'Residential_2280.jpg', 'Residential_604.jpg', 'Residential_1330.jpg', 'Residential_2046.jpg', 'Residential_2208.jpg', 'Residential_1285.jpg', 'Residential_1617.jpg', 'Residential_904.jpg', 'Residential_1587.jpg', 'Residential_598.jpg', 'Residential_65.jpg', 'Residential_2605.jpg', 'Residential_172.jpg', 'Residential_1472.jpg', 'Residential_741.jpg', 'Residential_2302.jpg', 'Residential_2925.jpg', 'Residential_1903.jpg', 'Residential_2787.jpg', 'Residential_127.jpg', 'Residential_284.jpg', 'Residential_491.jpg', 'Residential_607.jpg', 'Residential_347.jpg', 'Residential_2518.jpg', 'Residential_953.jpg', 'Residential_162.jpg', 'Residential_2922.jpg', 'Residential_2285.jpg', 'Residential_119.jpg', 'Residential_2931.jpg', 'Residential_815.jpg', 'Residential_1226.jpg', 'Residential_2219.jpg', 'Residential_206.jpg', 'Residential_1866.jpg', 'Residential_943.jpg', 'Residential_5.jpg', 'Residential_100.jpg', 'Residential_753.jpg', 'Residential_1916.jpg', 'Residential_2357.jpg', 'Residential_1312.jpg', 'Residential_2541.jpg', 'Residential_2035.jpg', 'Residential_495.jpg', 'Residential_1173.jpg', 'Residential_1284.jpg', 'Residential_2780.jpg', 'Residential_2375.jpg', 'Residential_2873.jpg', 'Residential_820.jpg', 'Residential_952.jpg', 'Residential_115.jpg', 'Residential_653.jpg', 'Residential_461.jpg', 'Residential_2071.jpg', 'Residential_2104.jpg', 'Residential_1566.jpg', 'Residential_2910.jpg', 'Residential_87.jpg', 'Residential_2819.jpg', 'Residential_1563.jpg', 'Residential_2300.jpg', 'Residential_979.jpg', 'Residential_1575.jpg', 'Residential_2840.jpg', 'Residential_212.jpg', 'Residential_278.jpg', 'Residential_436.jpg', 'Residential_1576.jpg', 'Residential_1237.jpg', 'Residential_2738.jpg', 'Residential_1065.jpg', 'Residential_625.jpg', 'Residential_2764.jpg', 'Residential_2435.jpg', 'Residential_2026.jpg', 'Residential_2173.jpg', 'Residential_1705.jpg', 'Residential_1572.jpg', 'Residential_467.jpg', 'Residential_631.jpg', 'Residential_764.jpg', 'Residential_2529.jpg', 'Residential_194.jpg', 'Residential_2077.jpg', 'Residential_2743.jpg', 'Residential_1426.jpg', 'Residential_1578.jpg', 'Residential_169.jpg', 'Residential_1564.jpg', 'Residential_969.jpg', 'Residential_1101.jpg', 'Residential_1031.jpg', 'Residential_1005.jpg', 'Residential_1990.jpg', 'Residential_1456.jpg', 'Residential_2496.jpg', 'Residential_923.jpg', 'Residential_1339.jpg', 'Residential_2654.jpg', 'Residential_2744.jpg', 'Residential_1845.jpg', 'Residential_371.jpg', 'Residential_93.jpg', 'Residential_356.jpg', 'Residential_1175.jpg', 'Residential_2916.jpg', 'Residential_497.jpg', 'Residential_2164.jpg', 'Residential_1055.jpg', 'Residential_1662.jpg', 'Residential_683.jpg', 'Residential_776.jpg', 'Residential_2903.jpg', 'Residential_443.jpg', 'Residential_29.jpg', 'Residential_1310.jpg', 'Residential_1810.jpg', 'Residential_1000.jpg', 'Residential_1974.jpg', 'Residential_1362.jpg', 'Residential_2665.jpg', 'Residential_250.jpg', 'Residential_188.jpg', 'Residential_2871.jpg', 'Residential_352.jpg', 'Residential_2063.jpg', 'Residential_970.jpg', 'Residential_2255.jpg', 'Residential_2245.jpg', 'Residential_2292.jpg', 'Residential_740.jpg', 'Residential_899.jpg', 'Residential_107.jpg', 'Residential_2658.jpg', 'Residential_1707.jpg', 'Residential_19.jpg', 'Residential_2547.jpg', 'Residential_1714.jpg', 'Residential_1435.jpg', 'Residential_1598.jpg', 'Residential_2060.jpg', 'Residential_679.jpg', 'Residential_718.jpg', 'Residential_2617.jpg', 'Residential_2431.jpg', 'Residential_2168.jpg', 'Residential_1040.jpg', 'Residential_659.jpg', 'Residential_575.jpg', 'Residential_2870.jpg', 'Residential_1665.jpg', 'Residential_1570.jpg', 'Residential_743.jpg', 'Residential_2828.jpg', 'Residential_1884.jpg', 'Residential_1800.jpg', 'Residential_392.jpg', 'Residential_1140.jpg', 'Residential_1289.jpg', 'Residential_1326.jpg', 'Residential_766.jpg', 'Residential_1267.jpg', 'Residential_118.jpg', 'Residential_1050.jpg', 'Residential_1615.jpg', 'Residential_2623.jpg', 'Residential_757.jpg', 'Residential_427.jpg', 'Residential_2789.jpg', 'Residential_787.jpg', 'Residential_2402.jpg', 'Residential_1849.jpg', 'Residential_2192.jpg', 'Residential_1560.jpg', 'Residential_2760.jpg', 'Residential_655.jpg', 'Residential_703.jpg', 'Residential_2940.jpg', 'Residential_1272.jpg', 'Residential_2579.jpg', 'Residential_1415.jpg', 'Residential_1131.jpg', 'Residential_1479.jpg', 'Residential_2715.jpg', 'Residential_990.jpg', 'Residential_1418.jpg', 'Residential_2112.jpg', 'Residential_1519.jpg', 'Residential_1632.jpg', 'Residential_702.jpg', 'Residential_1860.jpg', 'Residential_448.jpg', 'Residential_1776.jpg', 'Residential_638.jpg', 'Residential_1184.jpg', 'Residential_1944.jpg', 'Residential_2190.jpg', 'Residential_1780.jpg', 'Residential_2181.jpg', 'Residential_2246.jpg', 'Residential_296.jpg', 'Residential_2659.jpg', 'Residential_2568.jpg', 'Residential_919.jpg', 'Residential_489.jpg', 'Residential_2263.jpg', 'Residential_2497.jpg', 'Residential_2948.jpg', 'Residential_179.jpg', 'Residential_930.jpg', 'Residential_157.jpg', 'Residential_999.jpg', 'Residential_1991.jpg', 'Residential_2945.jpg', 'Residential_1929.jpg', 'Residential_2950.jpg', 'Residential_67.jpg', 'Residential_1955.jpg', 'Residential_2360.jpg', 'Residential_360.jpg', 'Residential_1039.jpg', 'Residential_754.jpg', 'Residential_980.jpg', 'Residential_998.jpg', 'Residential_2509.jpg', 'Residential_1153.jpg', 'Residential_2934.jpg', 'Residential_234.jpg', 'Residential_2506.jpg', 'Residential_2352.jpg', 'Residential_1791.jpg', 'Residential_2501.jpg', 'Residential_2399.jpg', 'Residential_622.jpg', 'Residential_253.jpg', 'Residential_22.jpg', 'Residential_1465.jpg', 'Residential_1766.jpg', 'Residential_1953.jpg', 'Residential_1496.jpg', 'Residential_2692.jpg', 'Residential_488.jpg', 'Residential_1969.jpg', 'Residential_2493.jpg', 'Residential_1867.jpg', 'Residential_6.jpg', 'Residential_2147.jpg', 'Residential_98.jpg', 'Residential_2822.jpg', 'Residential_480.jpg', 'Residential_1202.jpg', 'Residential_1799.jpg', 'Residential_2866.jpg', 'Residential_630.jpg', 'Residential_256.jpg', 'Residential_2061.jpg', 'Residential_1682.jpg', 'Residential_866.jpg', 'Residential_1768.jpg', 'Residential_1767.jpg', 'Residential_167.jpg', 'Residential_1208.jpg', 'Residential_1046.jpg', 'Residential_257.jpg', 'Residential_2556.jpg', 'Residential_981.jpg', 'Residential_1152.jpg', 'Residential_1083.jpg', 'Residential_1232.jpg', 'Residential_2110.jpg', 'Residential_1538.jpg', 'Residential_156.jpg', 'Residential_2139.jpg', 'Residential_2130.jpg', 'Residential_2378.jpg', 'Residential_1574.jpg', 'Residential_471.jpg', 'Residential_2839.jpg', 'Residential_1825.jpg', 'Residential_2949.jpg', 'Residential_786.jpg', 'Residential_453.jpg', 'Residential_2824.jpg', 'Residential_1854.jpg', 'Residential_2306.jpg', 'Residential_1898.jpg', 'Residential_1218.jpg', 'Residential_2550.jpg', 'Residential_2459.jpg', 'Residential_1698.jpg', 'Residential_1137.jpg', 'Residential_532.jpg', 'Residential_2366.jpg', 'Residential_1258.jpg', 'Residential_2332.jpg', 'Residential_2742.jpg', 'Residential_933.jpg', 'Residential_1089.jpg', 'Residential_1423.jpg', 'Residential_801.jpg', 'Residential_760.jpg', 'Residential_1165.jpg', 'Residential_1366.jpg', 'Residential_2968.jpg', 'Residential_851.jpg', 'Residential_1464.jpg', 'Residential_1725.jpg', 'Residential_1271.jpg', 'Residential_2583.jpg', 'Residential_640.jpg', 'Residential_2213.jpg', 'Residential_2346.jpg', 'Residential_2101.jpg', 'Residential_1138.jpg', 'Residential_902.jpg', 'Residential_1919.jpg', 'Residential_80.jpg', 'Residential_316.jpg', 'Residential_1304.jpg', 'Residential_2369.jpg', 'Residential_1920.jpg', 'Residential_2576.jpg', 'Residential_2777.jpg', 'Residential_920.jpg', 'Residential_704.jpg', 'Residential_79.jpg', 'Residential_1686.jpg', 'Residential_2451.jpg', 'Residential_2515.jpg', 'Residential_23.jpg', 'Residential_840.jpg', 'Residential_2182.jpg', 'Residential_1074.jpg', 'Residential_2557.jpg', 'Residential_1983.jpg', 'Residential_2932.jpg', 'Residential_1982.jpg', 'Residential_931.jpg', 'Residential_632.jpg', 'Residential_2836.jpg', 'Residential_2432.jpg', 'Residential_1181.jpg', 'Residential_935.jpg', 'Residential_323.jpg', 'Residential_232.jpg', 'Residential_221.jpg', 'Residential_1132.jpg', 'Residential_836.jpg', 'Residential_1809.jpg', 'Residential_2195.jpg', 'Residential_465.jpg', 'Residential_328.jpg', 'Residential_716.jpg', 'Residential_2099.jpg', 'Residential_1410.jpg', 'Residential_505.jpg', 'Residential_47.jpg', 'Residential_1657.jpg', 'Residential_1108.jpg', 'Residential_2737.jpg', 'Residential_1387.jpg', 'Residential_1514.jpg', 'Residential_781.jpg', 'Residential_1761.jpg', 'Residential_2566.jpg', 'Residential_2768.jpg', 'Residential_2085.jpg', 'Residential_2411.jpg', 'Residential_39.jpg', 'Residential_2121.jpg', 'Residential_1656.jpg', 'Residential_2639.jpg', 'Residential_1305.jpg', 'Residential_14.jpg', 'Residential_775.jpg', 'Residential_2926.jpg', 'Residential_2453.jpg', 'Residential_515.jpg', 'Residential_2236.jpg', 'Residential_769.jpg', 'Residential_2716.jpg', 'Residential_1798.jpg', 'Residential_2627.jpg', 'Residential_1997.jpg', 'Residential_1644.jpg', 'Residential_2282.jpg', 'Residential_1785.jpg', 'Residential_2490.jpg', 'Residential_2353.jpg', 'Residential_1667.jpg', 'Residential_413.jpg', 'Residential_2683.jpg', 'Residential_2214.jpg', 'Residential_1455.jpg', 'Residential_778.jpg', 'Residential_2118.jpg', 'Residential_1770.jpg', 'Residential_1614.jpg', 'Residential_1364.jpg', 'Residential_1547.jpg', 'Residential_1442.jpg', 'Residential_2597.jpg', 'Residential_707.jpg', 'Residential_691.jpg', 'Residential_1337.jpg', 'Residential_1403.jpg', 'Residential_332.jpg', 'Residential_2897.jpg', 'Residential_164.jpg', 'Residential_449.jpg', 'Residential_2240.jpg', 'Residential_2174.jpg', 'Residential_248.jpg', 'Residential_1922.jpg', 'Residential_825.jpg', 'Residential_283.jpg', 'Residential_1010.jpg', 'Residential_1023.jpg', 'Residential_643.jpg', 'Residential_965.jpg', 'Residential_106.jpg', 'Residential_2973.jpg']\n",
      "----------------------------------------------------------------------------------------------------------------------------------------------------------------------------------------------------------------------------\n",
      "Directory Path:  /local/home/bsoyuer/citiies_contrastive_learning/eurosat_landcover_clsf_task/2750/River\n",
      "Directory Name:  []\n",
      "Filename :  ['River_1659.jpg', 'River_2177.jpg', 'River_59.jpg', 'River_579.jpg', 'River_133.jpg', 'River_103.jpg', 'River_2461.jpg', 'River_756.jpg', 'River_2424.jpg', 'River_1124.jpg', 'River_329.jpg', 'River_1683.jpg', 'River_309.jpg', 'River_2252.jpg', 'River_1754.jpg', 'River_538.jpg', 'River_2214.jpg', 'River_110.jpg', 'River_1250.jpg', 'River_2179.jpg', 'River_148.jpg', 'River_2478.jpg', 'River_477.jpg', 'River_1114.jpg', 'River_1731.jpg', 'River_1667.jpg', 'River_2072.jpg', 'River_678.jpg', 'River_968.jpg', 'River_2105.jpg', 'River_1246.jpg', 'River_730.jpg', 'River_1101.jpg', 'River_2347.jpg', 'River_603.jpg', 'River_1085.jpg', 'River_2035.jpg', 'River_1685.jpg', 'River_190.jpg', 'River_202.jpg', 'River_124.jpg', 'River_1970.jpg', 'River_352.jpg', 'River_213.jpg', 'River_253.jpg', 'River_790.jpg', 'River_2496.jpg', 'River_286.jpg', 'River_531.jpg', 'River_1875.jpg', 'River_1306.jpg', 'River_242.jpg', 'River_1217.jpg', 'River_1703.jpg', 'River_2488.jpg', 'River_862.jpg', 'River_1080.jpg', 'River_1324.jpg', 'River_2008.jpg', 'River_1565.jpg', 'River_295.jpg', 'River_1139.jpg', 'River_926.jpg', 'River_1847.jpg', 'River_128.jpg', 'River_1799.jpg', 'River_2104.jpg', 'River_521.jpg', 'River_1212.jpg', 'River_1492.jpg', 'River_326.jpg', 'River_1728.jpg', 'River_513.jpg', 'River_353.jpg', 'River_1068.jpg', 'River_551.jpg', 'River_872.jpg', 'River_606.jpg', 'River_2402.jpg', 'River_909.jpg', 'River_1191.jpg', 'River_312.jpg', 'River_42.jpg', 'River_2414.jpg', 'River_2242.jpg', 'River_465.jpg', 'River_2050.jpg', 'River_1586.jpg', 'River_1545.jpg', 'River_749.jpg', 'River_1857.jpg', 'River_873.jpg', 'River_2228.jpg', 'River_1771.jpg', 'River_1384.jpg', 'River_1560.jpg', 'River_1159.jpg', 'River_591.jpg', 'River_1583.jpg', 'River_799.jpg', 'River_2197.jpg', 'River_2336.jpg', 'River_2373.jpg', 'River_2103.jpg', 'River_1783.jpg', 'River_181.jpg', 'River_935.jpg', 'River_2184.jpg', 'River_466.jpg', 'River_1698.jpg', 'River_2143.jpg', 'River_765.jpg', 'River_854.jpg', 'River_2380.jpg', 'River_1582.jpg', 'River_2009.jpg', 'River_594.jpg', 'River_1469.jpg', 'River_1867.jpg', 'River_2265.jpg', 'River_1521.jpg', 'River_2367.jpg', 'River_711.jpg', 'River_2491.jpg', 'River_1329.jpg', 'River_2169.jpg', 'River_821.jpg', 'River_2093.jpg', 'River_2479.jpg', 'River_2420.jpg', 'River_373.jpg', 'River_2171.jpg', 'River_149.jpg', 'River_2188.jpg', 'River_191.jpg', 'River_1852.jpg', 'River_1395.jpg', 'River_979.jpg', 'River_1030.jpg', 'River_1414.jpg', 'River_2034.jpg', 'River_403.jpg', 'River_224.jpg', 'River_1762.jpg', 'River_932.jpg', 'River_2144.jpg', 'River_276.jpg', 'River_1576.jpg', 'River_2487.jpg', 'River_2477.jpg', 'River_1600.jpg', 'River_100.jpg', 'River_1494.jpg', 'River_2167.jpg', 'River_921.jpg', 'River_815.jpg', 'River_1182.jpg', 'River_2388.jpg', 'River_1758.jpg', 'River_171.jpg', 'River_2180.jpg', 'River_2124.jpg', 'River_2129.jpg', 'River_1621.jpg', 'River_900.jpg', 'River_1398.jpg', 'River_650.jpg', 'River_9.jpg', 'River_1798.jpg', 'River_627.jpg', 'River_2486.jpg', 'River_2.jpg', 'River_617.jpg', 'River_1607.jpg', 'River_46.jpg', 'River_2361.jpg', 'River_2063.jpg', 'River_623.jpg', 'River_605.jpg', 'River_289.jpg', 'River_300.jpg', 'River_925.jpg', 'River_2126.jpg', 'River_896.jpg', 'River_2073.jpg', 'River_2159.jpg', 'River_1455.jpg', 'River_2274.jpg', 'River_1290.jpg', 'River_640.jpg', 'River_1086.jpg', 'River_1405.jpg', 'River_1585.jpg', 'River_2182.jpg', 'River_2271.jpg', 'River_228.jpg', 'River_1827.jpg', 'River_1286.jpg', 'River_596.jpg', 'River_527.jpg', 'River_1757.jpg', 'River_2160.jpg', 'River_533.jpg', 'River_722.jpg', 'River_1015.jpg', 'River_226.jpg', 'River_2315.jpg', 'River_2091.jpg', 'River_1543.jpg', 'River_2141.jpg', 'River_923.jpg', 'River_712.jpg', 'River_1177.jpg', 'River_386.jpg', 'River_2112.jpg', 'River_1641.jpg', 'River_1037.jpg', 'River_2245.jpg', 'River_1305.jpg', 'River_847.jpg', 'River_1613.jpg', 'River_1855.jpg', 'River_2195.jpg', 'River_1841.jpg', 'River_139.jpg', 'River_808.jpg', 'River_744.jpg', 'River_2042.jpg', 'River_657.jpg', 'River_1619.jpg', 'River_11.jpg', 'River_1781.jpg', 'River_2255.jpg', 'River_1089.jpg', 'River_2249.jpg', 'River_1152.jpg', 'River_1185.jpg', 'River_1328.jpg', 'River_2365.jpg', 'River_1366.jpg', 'River_1071.jpg', 'River_1130.jpg', 'River_1096.jpg', 'River_2217.jpg', 'River_2282.jpg', 'River_2004.jpg', 'River_347.jpg', 'River_482.jpg', 'River_152.jpg', 'River_675.jpg', 'River_1357.jpg', 'River_1676.jpg', 'River_1379.jpg', 'River_915.jpg', 'River_277.jpg', 'River_705.jpg', 'River_79.jpg', 'River_322.jpg', 'River_2088.jpg', 'River_272.jpg', 'River_275.jpg', 'River_1340.jpg', 'River_376.jpg', 'River_1928.jpg', 'River_246.jpg', 'River_734.jpg', 'River_86.jpg', 'River_2017.jpg', 'River_1231.jpg', 'River_746.jpg', 'River_806.jpg', 'River_1947.jpg', 'River_1946.jpg', 'River_1752.jpg', 'River_187.jpg', 'River_817.jpg', 'River_1965.jpg', 'River_1050.jpg', 'River_547.jpg', 'River_399.jpg', 'River_1493.jpg', 'River_392.jpg', 'River_989.jpg', 'River_2498.jpg', 'River_1314.jpg', 'River_1618.jpg', 'River_777.jpg', 'River_2342.jpg', 'River_225.jpg', 'River_1782.jpg', 'River_1365.jpg', 'River_500.jpg', 'River_1161.jpg', 'River_1806.jpg', 'River_851.jpg', 'River_2397.jpg', 'River_1275.jpg', 'River_1178.jpg', 'River_1983.jpg', 'River_2079.jpg', 'River_129.jpg', 'River_1906.jpg', 'River_1953.jpg', 'River_1169.jpg', 'River_155.jpg', 'River_635.jpg', 'River_1279.jpg', 'River_738.jpg', 'River_2490.jpg', 'River_1176.jpg', 'River_2289.jpg', 'River_131.jpg', 'River_229.jpg', 'River_2156.jpg', 'River_1060.jpg', 'River_2136.jpg', 'River_1349.jpg', 'River_205.jpg', 'River_1884.jpg', 'River_536.jpg', 'River_1544.jpg', 'River_2240.jpg', 'River_40.jpg', 'River_2146.jpg', 'River_1644.jpg', 'River_2409.jpg', 'River_2309.jpg', 'River_1396.jpg', 'River_1954.jpg', 'River_1449.jpg', 'River_362.jpg', 'River_2357.jpg', 'River_1184.jpg', 'River_1786.jpg', 'River_1536.jpg', 'River_841.jpg', 'River_2466.jpg', 'River_1702.jpg', 'River_1107.jpg', 'River_1595.jpg', 'River_880.jpg', 'River_1110.jpg', 'River_1663.jpg', 'River_840.jpg', 'River_1226.jpg', 'River_1293.jpg', 'River_2283.jpg', 'River_154.jpg', 'River_2244.jpg', 'River_794.jpg', 'River_729.jpg', 'River_8.jpg', 'River_92.jpg', 'River_2292.jpg', 'River_2469.jpg', 'River_663.jpg', 'River_50.jpg', 'River_1203.jpg', 'River_2343.jpg', 'River_1822.jpg', 'River_685.jpg', 'River_515.jpg', 'River_1573.jpg', 'River_803.jpg', 'River_1170.jpg', 'River_559.jpg', 'River_1401.jpg', 'River_1594.jpg', 'River_13.jpg', 'River_1116.jpg', 'River_819.jpg', 'River_1090.jpg', 'River_1104.jpg', 'River_2116.jpg', 'River_553.jpg', 'River_182.jpg', 'River_2060.jpg', 'River_1729.jpg', 'River_1402.jpg', 'River_1700.jpg', 'River_922.jpg', 'River_672.jpg', 'River_2196.jpg', 'River_1419.jpg', 'River_1436.jpg', 'River_236.jpg', 'River_336.jpg', 'River_950.jpg', 'River_1568.jpg', 'River_1902.jpg', 'River_1971.jpg', 'River_1948.jpg', 'River_1632.jpg', 'River_1920.jpg', 'River_1738.jpg', 'River_424.jpg', 'River_2306.jpg', 'River_581.jpg', 'River_1730.jpg', 'River_1993.jpg', 'River_574.jpg', 'River_1369.jpg', 'River_2259.jpg', 'River_1155.jpg', 'River_2316.jpg', 'River_2412.jpg', 'River_1969.jpg', 'River_552.jpg', 'River_1642.jpg', 'River_1248.jpg', 'River_2446.jpg', 'River_1276.jpg', 'River_1140.jpg', 'River_1694.jpg', 'River_2043.jpg', 'River_1966.jpg', 'River_1238.jpg', 'River_274.jpg', 'River_1643.jpg', 'River_593.jpg', 'River_1454.jpg', 'River_856.jpg', 'River_317.jpg', 'River_2301.jpg', 'River_185.jpg', 'River_1215.jpg', 'River_2453.jpg', 'River_462.jpg', 'River_866.jpg', 'River_313.jpg', 'River_2001.jpg', 'River_268.jpg', 'River_686.jpg', 'River_1321.jpg', 'River_948.jpg', 'River_1156.jpg', 'River_1853.jpg', 'River_902.jpg', 'River_1748.jpg', 'River_1330.jpg', 'River_2481.jpg', 'River_1144.jpg', 'River_1309.jpg', 'River_748.jpg', 'River_927.jpg', 'River_2362.jpg', 'River_1759.jpg', 'River_95.jpg', 'River_575.jpg', 'River_2360.jpg', 'River_1346.jpg', 'River_360.jpg', 'River_2002.jpg', 'River_120.jpg', 'River_2015.jpg', 'River_262.jpg', 'River_355.jpg', 'River_2288.jpg', 'River_1891.jpg', 'River_573.jpg', 'River_1400.jpg', 'River_642.jpg', 'River_1181.jpg', 'River_1490.jpg', 'River_697.jpg', 'River_518.jpg', 'River_1183.jpg', 'River_1772.jpg', 'River_2368.jpg', 'River_563.jpg', 'River_1055.jpg', 'River_677.jpg', 'River_1937.jpg', 'River_1522.jpg', 'River_1154.jpg', 'River_199.jpg', 'River_1268.jpg', 'River_613.jpg', 'River_2074.jpg', 'River_234.jpg', 'River_1671.jpg', 'River_55.jpg', 'River_995.jpg', 'River_2322.jpg', 'River_478.jpg', 'River_2021.jpg', 'River_887.jpg', 'River_1427.jpg', 'River_659.jpg', 'River_2183.jpg', 'River_1193.jpg', 'River_898.jpg', 'River_244.jpg', 'River_1385.jpg', 'River_259.jpg', 'River_1858.jpg', 'River_1846.jpg', 'River_1223.jpg', 'River_750.jpg', 'River_2122.jpg', 'River_1968.jpg', 'River_1677.jpg', 'River_2186.jpg', 'River_1693.jpg', 'River_802.jpg', 'River_2024.jpg', 'River_2055.jpg', 'River_1266.jpg', 'River_2133.jpg', 'River_2090.jpg', 'River_1044.jpg', 'River_1367.jpg', 'River_1353.jpg', 'River_1381.jpg', 'River_2494.jpg', 'River_1921.jpg', 'River_2014.jpg', 'River_823.jpg', 'River_2384.jpg', 'River_1616.jpg', 'River_1672.jpg', 'River_683.jpg', 'River_1810.jpg', 'River_2203.jpg', 'River_1224.jpg', 'River_1725.jpg', 'River_250.jpg', 'River_2038.jpg', 'River_454.jpg', 'River_432.jpg', 'River_1117.jpg', 'River_1029.jpg', 'River_754.jpg', 'River_809.jpg', 'River_448.jpg', 'River_2051.jpg', 'River_266.jpg', 'River_910.jpg', 'River_2426.jpg', 'River_240.jpg', 'River_1661.jpg', 'River_852.jpg', 'River_924.jpg', 'River_2251.jpg', 'River_557.jpg', 'River_233.jpg', 'River_2405.jpg', 'River_2348.jpg', 'River_178.jpg', 'River_690.jpg', 'River_2401.jpg', 'River_2049.jpg', 'River_1196.jpg', 'River_837.jpg', 'River_2224.jpg', 'River_548.jpg', 'River_796.jpg', 'River_293.jpg', 'River_965.jpg', 'River_1466.jpg', 'River_1234.jpg', 'River_174.jpg', 'River_1487.jpg', 'River_956.jpg', 'River_1048.jpg', 'River_1958.jpg', 'River_220.jpg', 'River_1323.jpg', 'River_884.jpg', 'River_1041.jpg', 'River_1840.jpg', 'River_1167.jpg', 'River_382.jpg', 'River_2382.jpg', 'River_1097.jpg', 'River_584.jpg', 'River_2339.jpg', 'River_2023.jpg', 'River_2391.jpg', 'River_328.jpg', 'River_2097.jpg', 'River_913.jpg', 'River_69.jpg', 'River_175.jpg', 'River_1486.jpg', 'River_2189.jpg', 'River_2199.jpg', 'River_265.jpg', 'River_452.jpg', 'River_1172.jpg', 'River_1614.jpg', 'River_810.jpg', 'River_1801.jpg', 'River_996.jpg', 'River_832.jpg', 'River_2056.jpg', 'River_1446.jpg', 'River_1482.jpg', 'River_378.jpg', 'River_842.jpg', 'River_1088.jpg', 'River_1837.jpg', 'River_184.jpg', 'River_1532.jpg', 'River_1070.jpg', 'River_2071.jpg', 'River_904.jpg', 'River_282.jpg', 'River_1795.jpg', 'River_2358.jpg', 'River_1510.jpg', 'River_1010.jpg', 'River_1895.jpg', 'River_1451.jpg', 'River_230.jpg', 'River_1026.jpg', 'River_1630.jpg', 'River_1441.jpg', 'River_1785.jpg', 'River_1087.jpg', 'River_1316.jpg', 'River_122.jpg', 'River_1623.jpg', 'River_197.jpg', 'River_119.jpg', 'River_2248.jpg', 'River_494.jpg', 'River_1277.jpg', 'River_966.jpg', 'River_471.jpg', 'River_1348.jpg', 'River_1995.jpg', 'River_2427.jpg', 'River_870.jpg', 'River_1047.jpg', 'River_70.jpg', 'River_964.jpg', 'River_1856.jpg', 'River_1626.jpg', 'River_540.jpg', 'River_2303.jpg', 'River_1027.jpg', 'River_1254.jpg', 'River_1570.jpg', 'River_522.jpg', 'River_781.jpg', 'River_134.jpg', 'River_1336.jpg', 'River_930.jpg', 'River_1039.jpg', 'River_1796.jpg', 'River_1617.jpg', 'River_2439.jpg', 'River_1218.jpg', 'River_123.jpg', 'River_1145.jpg', 'River_2425.jpg', 'River_1233.jpg', 'River_1680.jpg', 'River_1003.jpg', 'River_2413.jpg', 'River_1300.jpg', 'River_2150.jpg', 'River_2387.jpg', 'River_1423.jpg', 'River_2323.jpg', 'River_1245.jpg', 'River_1120.jpg', 'River_14.jpg', 'River_556.jpg', 'River_1058.jpg', 'River_371.jpg', 'River_323.jpg', 'River_541.jpg', 'River_364.jpg', 'River_2495.jpg', 'River_1360.jpg', 'River_550.jpg', 'River_787.jpg', 'River_1654.jpg', 'River_125.jpg', 'River_621.jpg', 'River_595.jpg', 'River_2375.jpg', 'River_43.jpg', 'River_1368.jpg', 'River_2058.jpg', 'River_291.jpg', 'River_1475.jpg', 'River_2383.jpg', 'River_18.jpg', 'River_32.jpg', 'River_1746.jpg', 'River_844.jpg', 'River_775.jpg', 'River_2275.jpg', 'River_1975.jpg', 'River_163.jpg', 'River_433.jpg', 'River_780.jpg', 'River_1.jpg', 'River_1453.jpg', 'River_1407.jpg', 'River_759.jpg', 'River_1201.jpg', 'River_1602.jpg', 'River_876.jpg', 'River_1394.jpg', 'River_334.jpg', 'River_1924.jpg', 'River_1903.jpg', 'River_28.jpg', 'River_2281.jpg', 'River_1262.jpg', 'River_1158.jpg', 'River_2404.jpg', 'River_2436.jpg', 'River_2250.jpg', 'River_1347.jpg', 'River_1267.jpg', 'River_1506.jpg', 'River_1289.jpg', 'River_1516.jpg', 'River_1647.jpg', 'River_1859.jpg', 'River_1488.jpg', 'River_243.jpg', 'River_701.jpg', 'River_897.jpg', 'River_420.jpg', 'River_1620.jpg', 'River_2447.jpg', 'River_2483.jpg', 'River_694.jpg', 'River_982.jpg', 'River_1334.jpg', 'River_2422.jpg', 'River_1880.jpg', 'River_2193.jpg', 'River_868.jpg', 'River_1095.jpg', 'River_1622.jpg', 'River_905.jpg', 'River_1931.jpg', 'River_449.jpg', 'River_162.jpg', 'River_779.jpg', 'River_2253.jpg', 'River_1755.jpg', 'River_1832.jpg', 'River_487.jpg', 'River_1001.jpg', 'River_2307.jpg', 'River_17.jpg', 'River_1067.jpg', 'River_583.jpg', 'River_789.jpg', 'River_161.jpg', 'River_2262.jpg', 'River_1720.jpg', 'River_628.jpg', 'River_117.jpg', 'River_2441.jpg', 'River_1706.jpg', 'River_1741.jpg', 'River_753.jpg', 'River_63.jpg', 'River_1666.jpg', 'River_2033.jpg', 'River_2438.jpg', 'River_442.jpg', 'River_1151.jpg', 'River_598.jpg', 'River_1649.jpg', 'River_1611.jpg', 'River_1566.jpg', 'River_2359.jpg', 'River_646.jpg', 'River_2492.jpg', 'River_1740.jpg', 'River_2099.jpg', 'River_343.jpg', 'River_158.jpg', 'River_2385.jpg', 'River_853.jpg', 'River_2456.jpg', 'River_1216.jpg', 'River_1045.jpg', 'River_1478.jpg', 'River_1202.jpg', 'River_1132.jpg', 'River_998.jpg', 'River_1887.jpg', 'River_446.jpg', 'River_2369.jpg', 'River_2227.jpg', 'River_31.jpg', 'River_592.jpg', 'River_350.jpg', 'River_1514.jpg', 'River_972.jpg', 'River_176.jpg', 'River_62.jpg', 'River_453.jpg', 'River_261.jpg', 'River_490.jpg', 'River_456.jpg', 'River_788.jpg', 'River_1260.jpg', 'River_1285.jpg', 'River_1628.jpg', 'River_1844.jpg', 'River_1138.jpg', 'River_1471.jpg', 'River_1019.jpg', 'River_2132.jpg', 'River_200.jpg', 'River_795.jpg', 'River_2210.jpg', 'River_1820.jpg', 'River_1794.jpg', 'River_2350.jpg', 'River_1905.jpg', 'River_2410.jpg', 'River_607.jpg', 'River_682.jpg', 'River_1082.jpg', 'River_2465.jpg', 'River_260.jpg', 'River_1745.jpg', 'River_121.jpg', 'River_725.jpg', 'River_2086.jpg', 'River_2005.jpg', 'River_204.jpg', 'River_859.jpg', 'River_1962.jpg', 'River_488.jpg', 'River_1712.jpg', 'River_2396.jpg', 'River_2261.jpg', 'River_2298.jpg', 'River_333.jpg', 'River_1237.jpg', 'River_41.jpg', 'River_217.jpg', 'River_2370.jpg', 'River_294.jpg', 'River_2266.jpg', 'River_850.jpg', 'River_368.jpg', 'River_1327.jpg', 'River_1428.jpg', 'River_211.jpg', 'River_1499.jpg', 'River_1838.jpg', 'River_21.jpg', 'River_899.jpg', 'River_1547.jpg', 'River_1352.jpg', 'River_111.jpg', 'River_1524.jpg', 'River_172.jpg', 'River_2463.jpg', 'River_1877.jpg', 'River_528.jpg', 'River_798.jpg', 'River_1294.jpg', 'River_1854.jpg', 'River_1447.jpg', 'River_1422.jpg', 'River_776.jpg', 'River_1445.jpg', 'River_30.jpg', 'River_270.jpg', 'River_1459.jpg', 'River_257.jpg', 'River_283.jpg', 'River_1128.jpg', 'River_600.jpg', 'River_890.jpg', 'River_335.jpg', 'River_2233.jpg', 'River_1338.jpg', 'River_1271.jpg', 'River_908.jpg', 'River_1943.jpg', 'River_1866.jpg', 'River_2300.jpg', 'River_2295.jpg', 'River_1171.jpg', 'River_45.jpg', 'River_1227.jpg', 'River_1988.jpg', 'River_835.jpg', 'River_1897.jpg', 'River_2276.jpg', 'River_1709.jpg', 'River_2064.jpg', 'River_1925.jpg', 'River_766.jpg', 'River_1126.jpg', 'River_1767.jpg', 'River_1391.jpg', 'River_2130.jpg', 'River_1410.jpg', 'River_1247.jpg', 'River_519.jpg', 'River_1678.jpg', 'River_2080.jpg', 'River_15.jpg', 'River_1826.jpg', 'River_1535.jpg', 'River_235.jpg', 'River_2451.jpg', 'River_668.jpg', 'River_955.jpg', 'River_1831.jpg', 'River_1808.jpg', 'River_395.jpg', 'River_1426.jpg', 'River_1147.jpg', 'River_251.jpg', 'River_1440.jpg', 'River_1940.jpg', 'River_1146.jpg', 'River_1477.jpg', 'River_1259.jpg', 'River_1310.jpg', 'River_715.jpg', 'River_615.jpg', 'River_710.jpg', 'River_457.jpg', 'River_1885.jpg', 'River_2176.jpg', 'River_2260.jpg', 'River_2076.jpg', 'River_653.jpg', 'River_1012.jpg', 'River_818.jpg', 'River_1572.jpg', 'River_2423.jpg', 'River_970.jpg', 'River_1377.jpg', 'River_2450.jpg', 'River_714.jpg', 'River_384.jpg', 'River_631.jpg', 'River_914.jpg', 'River_830.jpg', 'River_198.jpg', 'River_1793.jpg', 'River_962.jpg', 'River_742.jpg', 'River_461.jpg', 'River_441.jpg', 'River_1206.jpg', 'River_1688.jpg', 'River_2497.jpg', 'River_1297.jpg', 'River_2356.jpg', 'River_760.jpg', 'River_130.jpg', 'River_1229.jpg', 'River_1092.jpg', 'River_667.jpg', 'River_2069.jpg', 'River_1851.jpg', 'River_1699.jpg', 'River_723.jpg', 'River_774.jpg', 'River_408.jpg', 'River_472.jpg', 'River_349.jpg', 'River_138.jpg', 'River_1935.jpg', 'River_1713.jpg', 'River_2154.jpg', 'River_2377.jpg', 'River_1504.jpg', 'River_1205.jpg', 'River_107.jpg', 'River_2089.jpg', 'River_159.jpg', 'River_1098.jpg', 'River_1065.jpg', 'River_691.jpg', 'River_1028.jpg', 'River_2100.jpg', 'River_2013.jpg', 'River_1990.jpg', 'River_969.jpg', 'River_588.jpg', 'River_2394.jpg', 'River_1719.jpg', 'River_702.jpg', 'River_2222.jpg', 'River_1865.jpg', 'River_308.jpg', 'River_1952.jpg', 'River_1807.jpg', 'River_1942.jpg', 'River_387.jpg', 'River_1059.jpg', 'River_1941.jpg', 'River_2372.jpg', 'River_74.jpg', 'River_509.jpg', 'River_1604.jpg', 'River_1160.jpg', 'River_1998.jpg', 'River_2335.jpg', 'River_1043.jpg', 'River_2127.jpg', 'River_1064.jpg', 'River_865.jpg', 'River_684.jpg', 'River_674.jpg', 'River_1129.jpg', 'River_569.jpg', 'River_2354.jpg', 'River_2318.jpg', 'River_1390.jpg', 'River_555.jpg', 'River_2153.jpg', 'River_2085.jpg', 'River_1198.jpg', 'River_2092.jpg', 'River_658.jpg', 'River_5.jpg', 'River_1519.jpg', 'River_1484.jpg', 'River_1765.jpg', 'River_2098.jpg', 'River_1809.jpg', 'River_2408.jpg', 'River_1813.jpg', 'River_2254.jpg', 'River_1540.jpg', 'River_1682.jpg', 'River_1485.jpg', 'River_954.jpg', 'River_2500.jpg', 'River_1633.jpg', 'River_1910.jpg', 'River_75.jpg', 'River_512.jpg', 'River_645.jpg', 'River_1320.jpg', 'River_2219.jpg', 'River_2334.jpg', 'River_1624.jpg', 'River_292.jpg', 'River_1256.jpg', 'River_604.jpg', 'River_445.jpg', 'River_2108.jpg', 'River_1598.jpg', 'River_590.jpg', 'River_1629.jpg', 'River_2019.jpg', 'River_35.jpg', 'River_1539.jpg', 'River_1726.jpg', 'River_1319.jpg', 'River_2340.jpg', 'River_1033.jpg', 'River_287.jpg', 'River_1163.jpg', 'River_1977.jpg', 'River_946.jpg', 'River_530.jpg', 'River_1194.jpg', 'River_1904.jpg', 'River_1687.jpg', 'River_526.jpg', 'River_208.jpg', 'River_1533.jpg', 'River_1408.jpg', 'River_2390.jpg', 'River_1664.jpg', 'River_1674.jpg', 'River_638.jpg', 'River_2131.jpg', 'River_1951.jpg', 'River_1964.jpg', 'River_60.jpg', 'River_2279.jpg', 'River_827.jpg', 'River_374.jpg', 'River_1042.jpg', 'River_484.jpg', 'River_1462.jpg', 'River_1374.jpg', 'River_361.jpg', 'River_1886.jpg', 'River_1383.jpg', 'River_101.jpg', 'River_986.jpg', 'River_997.jpg', 'River_1219.jpg', 'River_1303.jpg', 'River_1957.jpg', 'River_2353.jpg', 'River_1691.jpg', 'River_2192.jpg', 'River_2118.jpg', 'River_1308.jpg', 'River_189.jpg', 'River_2151.jpg', 'River_813.jpg', 'River_1715.jpg', 'River_976.jpg', 'River_704.jpg', 'River_1860.jpg', 'River_2137.jpg', 'River_2341.jpg', 'River_1864.jpg', 'River_1359.jpg', 'River_655.jpg', 'River_2191.jpg', 'River_404.jpg', 'River_1133.jpg', 'River_1559.jpg', 'River_1538.jpg', 'River_1425.jpg', 'River_150.jpg', 'River_102.jpg', 'River_1264.jpg', 'River_1073.jpg', 'River_858.jpg', 'River_1358.jpg', 'River_963.jpg', 'River_885.jpg', 'River_523.jpg', 'River_544.jpg', 'River_2198.jpg', 'River_751.jpg', 'River_1296.jpg', 'River_1444.jpg', 'River_2026.jpg', 'River_2238.jpg', 'River_1008.jpg', 'River_2378.jpg', 'River_699.jpg', 'River_2432.jpg', 'River_2485.jpg', 'River_687.jpg', 'River_418.jpg', 'River_974.jpg', 'River_194.jpg', 'River_2328.jpg', 'River_577.jpg', 'River_1734.jpg', 'River_66.jpg', 'River_2070.jpg', 'River_951.jpg', 'River_210.jpg', 'River_1893.jpg', 'River_1769.jpg', 'River_2366.jpg', 'River_1850.jpg', 'River_2428.jpg', 'River_641.jpg', 'River_439.jpg', 'River_1915.jpg', 'River_2173.jpg', 'River_1723.jpg', 'River_24.jpg', 'River_843.jpg', 'River_169.jpg', 'River_1648.jpg', 'River_1121.jpg', 'River_2062.jpg', 'River_2231.jpg', 'River_76.jpg', 'River_93.jpg', 'River_1811.jpg', 'River_2475.jpg', 'River_1093.jpg', 'River_2312.jpg', 'River_703.jpg', 'River_917.jpg', 'River_396.jpg', 'River_2389.jpg', 'River_1513.jpg', 'River_1013.jpg', 'River_1207.jpg', 'River_1180.jpg', 'River_1603.jpg', 'River_271.jpg', 'River_597.jpg', 'River_285.jpg', 'River_1777.jpg', 'River_1874.jpg', 'River_1301.jpg', 'River_1230.jpg', 'River_444.jpg', 'River_146.jpg', 'River_77.jpg', 'River_1890.jpg', 'River_578.jpg', 'River_525.jpg', 'River_886.jpg', 'River_1210.jpg', 'River_356.jpg', 'River_338.jpg', 'River_1011.jpg', 'River_920.jpg', 'River_1593.jpg', 'River_1599.jpg', 'River_113.jpg', 'River_2135.jpg', 'River_1189.jpg', 'River_549.jpg', 'River_1356.jpg', 'River_1007.jpg', 'River_2155.jpg', 'River_12.jpg', 'River_695.jpg', 'River_2223.jpg', 'River_2057.jpg', 'River_2025.jpg', 'River_1417.jpg', 'River_142.jpg', 'River_514.jpg', 'River_2284.jpg', 'River_1470.jpg', 'River_2458.jpg', 'River_56.jpg', 'River_1669.jpg', 'River_1681.jpg', 'River_1025.jpg', 'River_2291.jpg', 'River_1584.jpg', 'River_2268.jpg', 'River_1561.jpg', 'River_2454.jpg', 'River_879.jpg', 'River_96.jpg', 'River_1563.jpg', 'River_2467.jpg', 'River_1113.jpg', 'River_1721.jpg', 'River_1373.jpg', 'River_1944.jpg', 'River_612.jpg', 'River_994.jpg', 'River_1061.jpg', 'River_476.jpg', 'River_614.jpg', 'River_570.jpg', 'River_1318.jpg', 'River_1335.jpg', 'River_2296.jpg', 'River_2277.jpg', 'River_410.jpg', 'River_2327.jpg', 'River_1917.jpg', 'River_2290.jpg', 'River_296.jpg', 'River_676.jpg', 'River_1718.jpg', 'River_1753.jpg', 'River_1625.jpg', 'River_358.jpg', 'River_2246.jpg', 'River_164.jpg', 'River_2095.jpg', 'River_1689.jpg', 'River_758.jpg', 'River_2006.jpg', 'River_1638.jpg', 'River_1763.jpg', 'River_1429.jpg', 'River_1551.jpg', 'River_764.jpg', 'River_665.jpg', 'River_2037.jpg', 'River_1735.jpg', 'River_2077.jpg', 'River_97.jpg', 'River_2484.jpg', 'River_1930.jpg', 'River_1863.jpg', 'River_2148.jpg', 'River_639.jpg', 'River_1727.jpg', 'River_245.jpg', 'River_1341.jpg', 'River_907.jpg', 'River_1512.jpg', 'River_1000.jpg', 'River_2187.jpg', 'River_805.jpg', 'River_231.jpg', 'River_649.jpg', 'River_344.jpg', 'River_1791.jpg', 'River_1287.jpg', 'River_412.jpg', 'River_1343.jpg', 'River_670.jpg', 'River_2474.jpg', 'River_2113.jpg', 'River_2230.jpg', 'River_2304.jpg', 'River_2059.jpg', 'River_1363.jpg', 'River_1062.jpg', 'River_377.jpg', 'River_37.jpg', 'River_2170.jpg', 'River_1991.jpg', 'River_2087.jpg', 'River_644.jpg', 'River_727.jpg', 'River_2212.jpg', 'River_437.jpg', 'River_535.jpg', 'River_1164.jpg', 'River_2480.jpg', 'River_1317.jpg', 'River_504.jpg', 'River_610.jpg', 'River_949.jpg', 'River_1938.jpg', 'River_1322.jpg', 'River_719.jpg', 'River_2213.jpg', 'River_215.jpg', 'River_1815.jpg', 'River_1364.jpg', 'River_1302.jpg', 'River_1639.jpg', 'River_1981.jpg', 'River_554.jpg', 'River_992.jpg', 'River_237.jpg', 'River_1945.jpg', 'River_524.jpg', 'River_834.jpg', 'River_1020.jpg', 'River_720.jpg', 'River_1326.jpg', 'River_170.jpg', 'River_1136.jpg', 'River_284.jpg', 'River_2216.jpg', 'River_804.jpg', 'River_1474.jpg', 'River_331.jpg', 'River_2031.jpg', 'River_1662.jpg', 'River_1370.jpg', 'River_1479.jpg', 'River_1005.jpg', 'River_755.jpg', 'River_599.jpg', 'River_793.jpg', 'River_2459.jpg', 'River_2324.jpg', 'River_1503.jpg', 'River_726.jpg', 'River_582.jpg', 'River_1546.jpg', 'River_1148.jpg', 'River_688.jpg', 'River_1149.jpg', 'River_209.jpg', 'River_656.jpg', 'River_1899.jpg', 'River_564.jpg', 'River_1716.jpg', 'River_2499.jpg', 'River_1106.jpg', 'River_1849.jpg', 'River_192.jpg', 'River_739.jpg', 'River_1876.jpg', 'River_299.jpg', 'River_2430.jpg', 'River_1541.jpg', 'River_157.jpg', 'River_1004.jpg', 'River_1999.jpg', 'River_624.jpg', 'River_1830.jpg', 'River_2220.jpg', 'River_436.jpg', 'River_2398.jpg', 'River_255.jpg', 'River_1018.jpg', 'River_648.jpg', 'River_1761.jpg', 'River_1790.jpg', 'River_29.jpg', 'River_616.jpg', 'River_1463.jpg', 'River_622.jpg', 'River_529.jpg', 'River_839.jpg', 'River_717.jpg', 'River_812.jpg', 'River_1912.jpg', 'River_2120.jpg', 'River_1435.jpg', 'River_2158.jpg', 'River_1032.jpg', 'River_1489.jpg', 'River_1165.jpg', 'River_601.jpg', 'River_144.jpg', 'River_1528.jpg', 'River_381.jpg', 'River_942.jpg', 'River_1816.jpg', 'River_2128.jpg', 'River_2232.jpg', 'River_2455.jpg', 'River_2134.jpg', 'River_256.jpg', 'River_1076.jpg', 'River_1927.jpg', 'River_2206.jpg', 'River_1430.jpg', 'River_2018.jpg', 'River_1567.jpg', 'River_1766.jpg', 'River_1608.jpg', 'River_2332.jpg', 'River_1650.jpg', 'River_321.jpg', 'River_498.jpg', 'River_1881.jpg', 'River_1879.jpg', 'River_1530.jpg', 'River_451.jpg', 'River_1590.jpg', 'River_1179.jpg', 'River_539.jpg', 'River_2236.jpg', 'River_985.jpg', 'River_1569.jpg', 'River_1878.jpg', 'River_889.jpg', 'River_65.jpg', 'River_1929.jpg', 'River_957.jpg', 'River_415.jpg', 'River_68.jpg', 'River_1392.jpg', 'River_2201.jpg', 'River_2331.jpg', 'River_1265.jpg', 'River_127.jpg', 'River_1956.jpg', 'River_354.jpg', 'River_348.jpg', 'River_1228.jpg', 'River_2464.jpg', 'River_1118.jpg', 'River_546.jpg', 'River_1014.jpg', 'River_769.jpg', 'River_429.jpg', 'River_1063.jpg', 'River_1258.jpg', 'River_2294.jpg', 'River_2111.jpg', 'River_732.jpg', 'River_2000.jpg', 'River_26.jpg', 'River_1252.jpg', 'River_2081.jpg', 'River_193.jpg', 'River_1375.jpg', 'River_39.jpg', 'River_2075.jpg', 'River_1615.jpg', 'River_999.jpg', 'River_1137.jpg', 'River_345.jpg', 'River_2308.jpg', 'River_1558.jpg', 'River_80.jpg', 'River_82.jpg', 'River_238.jpg', 'River_2054.jpg', 'River_784.jpg', 'River_630.jpg', 'River_1588.jpg', 'River_1100.jpg', 'River_1919.jpg', 'River_1739.jpg', 'River_380.jpg', 'River_567.jpg', 'River_1452.jpg', 'River_2468.jpg', 'River_1200.jpg', 'River_1023.jpg', 'River_938.jpg', 'River_2344.jpg', 'River_241.jpg', 'River_264.jpg', 'River_1591.jpg', 'River_2016.jpg', 'River_38.jpg', 'River_831.jpg', 'River_375.jpg', 'River_1235.jpg', 'River_1439.jpg', 'River_845.jpg', 'River_724.jpg', 'River_27.jpg', 'River_637.jpg', 'River_49.jpg', 'River_145.jpg', 'River_2386.jpg', 'River_414.jpg', 'River_768.jpg', 'River_427.jpg', 'River_681.jpg', 'River_393.jpg', 'River_2121.jpg', 'River_1552.jpg', 'River_733.jpg', 'River_1610.jpg', 'River_165.jpg', 'River_232.jpg', 'River_1963.jpg', 'River_492.jpg', 'River_940.jpg', 'River_1388.jpg', 'River_1040.jpg', 'River_443.jpg', 'River_611.jpg', 'River_397.jpg', 'River_666.jpg', 'River_2174.jpg', 'River_252.jpg', 'River_369.jpg', 'River_1961.jpg', 'River_1836.jpg', 'River_2066.jpg', 'River_1824.jpg', 'River_936.jpg', 'River_447.jpg', 'River_1035.jpg', 'River_2286.jpg', 'River_1255.jpg', 'River_1362.jpg', 'River_1872.jpg', 'River_532.jpg', 'River_1932.jpg', 'River_2429.jpg', 'River_1424.jpg', 'River_2211.jpg', 'River_1389.jpg', 'River_1420.jpg', 'River_306.jpg', 'River_520.jpg', 'River_1780.jpg', 'River_849.jpg', 'River_1404.jpg', 'River_2053.jpg', 'River_1331.jpg', 'River_1996.jpg', 'River_2048.jpg', 'River_1312.jpg', 'River_1099.jpg', 'River_1187.jpg', 'River_2229.jpg', 'River_370.jpg', 'River_99.jpg', 'River_475.jpg', 'River_1057.jpg', 'River_1458.jpg', 'River_183.jpg', 'River_961.jpg', 'River_249.jpg', 'River_1371.jpg', 'River_416.jpg', 'River_1749.jpg', 'River_633.jpg', 'River_585.jpg', 'River_696.jpg', 'River_1174.jpg', 'River_1645.jpg', 'River_661.jpg', 'River_2178.jpg', 'River_1923.jpg', 'River_1697.jpg', 'River_180.jpg', 'River_1871.jpg', 'River_1214.jpg', 'River_977.jpg', 'River_1787.jpg', 'River_135.jpg', 'River_2406.jpg', 'River_495.jpg', 'River_1670.jpg', 'River_1472.jpg', 'River_543.jpg', 'River_263.jpg', 'River_1204.jpg', 'River_2269.jpg', 'River_1339.jpg', 'River_2046.jpg', 'River_2310.jpg', 'River_1127.jpg', 'River_2437.jpg', 'River_1190.jpg', 'River_770.jpg', 'River_1908.jpg', 'River_2036.jpg', 'River_179.jpg', 'River_1232.jpg', 'River_1443.jpg', 'River_1823.jpg', 'River_315.jpg', 'River_1665.jpg', 'River_216.jpg', 'River_881.jpg', 'River_151.jpg', 'River_1378.jpg', 'River_1274.jpg', 'River_1548.jpg', 'River_1403.jpg', 'River_680.jpg', 'River_2489.jpg', 'River_943.jpg', 'River_440.jpg', 'River_572.jpg', 'River_1350.jpg', 'River_2393.jpg', 'River_389.jpg', 'River_2185.jpg', 'River_2003.jpg', 'River_417.jpg', 'River_136.jpg', 'River_2349.jpg', 'River_468.jpg', 'River_934.jpg', 'River_928.jpg', 'River_1911.jpg', 'River_2226.jpg', 'River_517.jpg', 'River_2047.jpg', 'River_1601.jpg', 'River_2083.jpg', 'River_1480.jpg', 'River_1542.jpg', 'River_1051.jpg', 'River_359.jpg', 'River_1883.jpg', 'River_1468.jpg', 'River_1984.jpg', 'River_2202.jpg', 'River_346.jpg', 'River_206.jpg', 'River_2039.jpg', 'River_1304.jpg', 'River_534.jpg', 'River_459.jpg', 'River_486.jpg', 'River_1272.jpg', 'River_565.jpg', 'River_797.jpg', 'River_1653.jpg', 'River_829.jpg', 'River_25.jpg', 'River_2218.jpg', 'River_1054.jpg', 'River_1173.jpg', 'River_1122.jpg', 'River_931.jpg', 'River_1579.jpg', 'River_1737.jpg', 'River_1143.jpg', 'River_2381.jpg', 'River_1456.jpg', 'River_1168.jpg', 'River_2416.jpg', 'River_1411.jpg', 'River_990.jpg', 'River_1817.jpg', 'River_2010.jpg', 'River_1261.jpg', 'River_1497.jpg', 'River_112.jpg', 'River_402.jpg', 'River_365.jpg', 'River_431.jpg', 'River_54.jpg', 'River_1315.jpg', 'River_116.jpg', 'River_2337.jpg', 'River_1523.jpg', 'River_83.jpg', 'River_434.jpg', 'River_2208.jpg', 'River_893.jpg', 'River_1779.jpg', 'River_2264.jpg', 'River_510.jpg', 'River_846.jpg', 'River_502.jpg', 'River_919.jpg', 'River_325.jpg', 'River_1637.jpg', 'River_1038.jpg', 'River_2011.jpg', 'River_1673.jpg', 'River_1760.jpg', 'River_423.jpg', 'River_2317.jpg', 'River_1900.jpg', 'River_1997.jpg', 'River_1868.jpg', 'River_1421.jpg', 'River_1581.jpg', 'River_2272.jpg', 'River_1896.jpg', 'River_1562.jpg', 'River_1325.jpg', 'River_186.jpg', 'River_379.jpg', 'River_1345.jpg', 'River_108.jpg', 'River_1221.jpg', 'River_1861.jpg', 'River_2403.jpg', 'River_1922.jpg', 'River_1083.jpg', 'River_757.jpg', 'River_64.jpg', 'River_1778.jpg', 'River_800.jpg', 'River_1834.jpg', 'River_1197.jpg', 'River_1839.jpg', 'River_877.jpg', 'River_388.jpg', 'River_1074.jpg', 'River_864.jpg', 'River_1131.jpg', 'River_1415.jpg', 'River_1337.jpg', 'River_1208.jpg', 'River_2102.jpg', 'River_2114.jpg', 'River_1756.jpg', 'River_643.jpg', 'River_1382.jpg', 'River_2376.jpg', 'River_227.jpg', 'River_1525.jpg', 'River_1386.jpg', 'River_357.jpg', 'River_1094.jpg', 'River_1733.jpg', 'River_1710.jpg', 'River_939.jpg', 'River_367.jpg', 'River_1800.jpg', 'River_871.jpg', 'River_1281.jpg', 'River_980.jpg', 'River_542.jpg', 'River_952.jpg', 'River_2285.jpg', 'River_771.jpg', 'River_503.jpg', 'River_1240.jpg', 'River_1520.jpg', 'River_508.jpg', 'River_602.jpg', 'River_2225.jpg', 'River_497.jpg', 'River_2442.jpg', 'River_1380.jpg', 'River_1333.jpg', 'River_2241.jpg', 'River_867.jpg', 'River_1053.jpg', 'River_1220.jpg', 'River_1505.jpg', 'River_1939.jpg', 'River_1298.jpg', 'River_36.jpg', 'River_2012.jpg', 'River_651.jpg', 'River_1481.jpg', 'River_2041.jpg', 'River_2181.jpg', 'River_1829.jpg', 'River_73.jpg', 'River_1768.jpg', 'River_855.jpg', 'River_118.jpg', 'River_895.jpg', 'River_2400.jpg', 'River_560.jpg', 'River_458.jpg', 'River_1597.jpg', 'River_2200.jpg', 'River_2094.jpg', 'River_1818.jpg', 'River_2032.jpg', 'River_984.jpg', 'River_485.jpg', 'River_33.jpg', 'River_1105.jpg', 'River_2457.jpg', 'River_1508.jpg', 'River_1675.jpg', 'River_106.jpg', 'River_2399.jpg', 'River_875.jpg', 'River_81.jpg', 'River_2157.jpg', 'River_1695.jpg', 'River_801.jpg', 'River_2473.jpg', 'River_16.jpg', 'River_2345.jpg', 'River_975.jpg', 'River_1774.jpg', 'River_945.jpg', 'River_629.jpg', 'River_425.jpg', 'River_2165.jpg', 'River_2379.jpg', 'River_1526.jpg', 'River_383.jpg', 'River_1770.jpg', 'River_239.jpg', 'River_1557.jpg', 'River_479.jpg', 'River_2052.jpg', 'River_2215.jpg', 'River_861.jpg', 'River_430.jpg', 'River_44.jpg', 'River_1507.jpg', 'River_1450.jpg', 'River_743.jpg', 'River_2078.jpg', 'River_2168.jpg', 'River_1959.jpg', 'River_589.jpg', 'River_1564.jpg', 'River_422.jpg', 'River_1502.jpg', 'River_1399.jpg', 'River_506.jpg', 'River_636.jpg', 'River_1153.jpg', 'River_483.jpg', 'River_2445.jpg', 'River_1589.jpg', 'River_1501.jpg', 'River_838.jpg', 'River_1199.jpg', 'River_2293.jpg', 'River_1438.jpg', 'River_1577.jpg', 'River_288.jpg', 'River_2145.jpg', 'River_2313.jpg', 'River_4.jpg', 'River_413.jpg', 'River_2448.jpg', 'River_959.jpg', 'River_1646.jpg', 'River_807.jpg', 'River_1112.jpg', 'River_1236.jpg', 'River_2235.jpg', 'River_2147.jpg', 'River_141.jpg', 'River_2142.jpg', 'River_2029.jpg', 'River_311.jpg', 'River_6.jpg', 'River_2065.jpg', 'River_874.jpg', 'River_1913.jpg', 'River_1292.jpg', 'River_2433.jpg', 'River_1789.jpg', 'River_109.jpg', 'River_464.jpg', 'River_280.jpg', 'River_2221.jpg', 'River_671.jpg', 'River_1894.jpg', 'River_1814.jpg', 'River_1069.jpg', 'River_2257.jpg', 'River_450.jpg', 'River_188.jpg', 'River_1081.jpg', 'River_1978.jpg', 'River_51.jpg', 'River_673.jpg', 'River_2417.jpg', 'River_626.jpg', 'River_888.jpg', 'River_2139.jpg', 'River_2443.jpg', 'River_1842.jpg', 'River_438.jpg', 'River_1835.jpg', 'River_1518.jpg', 'River_2407.jpg', 'River_1244.jpg', 'River_2440.jpg', 'River_1280.jpg', 'River_669.jpg', 'River_1461.jpg', 'River_918.jpg', 'River_2028.jpg', 'River_2022.jpg', 'River_2434.jpg', 'River_700.jpg', 'River_1432.jpg', 'River_916.jpg', 'River_1845.jpg', 'River_1974.jpg', 'River_460.jpg', 'River_218.jpg', 'River_1251.jpg', 'River_1175.jpg', 'River_2419.jpg', 'River_741.jpg', 'River_2314.jpg', 'River_2476.jpg', 'River_426.jpg', 'River_708.jpg', 'River_1079.jpg', 'River_1269.jpg', 'River_1711.jpg', 'River_1291.jpg', 'River_1209.jpg', 'River_2239.jpg', 'River_372.jpg', 'River_2263.jpg', 'River_1843.jpg', 'River_2325.jpg', 'River_324.jpg', 'River_273.jpg', 'River_792.jpg', 'River_2346.jpg', 'River_2115.jpg', 'River_166.jpg', 'River_78.jpg', 'River_1431.jpg', 'River_67.jpg', 'River_2299.jpg', 'River_1495.jpg', 'River_1511.jpg', 'River_58.jpg', 'River_1534.jpg', 'River_1299.jpg', 'River_1819.jpg', 'River_2106.jpg', 'River_1413.jpg', 'River_2431.jpg', 'River_863.jpg', 'River_1631.jpg', 'River_303.jpg', 'River_1072.jpg', 'River_2329.jpg', 'River_153.jpg', 'River_1724.jpg', 'River_330.jpg', 'River_2435.jpg', 'River_2040.jpg', 'River_1243.jpg', 'River_2082.jpg', 'River_2172.jpg', 'River_499.jpg', 'River_327.jpg', 'River_469.jpg', 'River_747.jpg', 'River_2287.jpg', 'River_2247.jpg', 'River_318.jpg', 'River_692.jpg', 'River_1804.jpg', 'River_409.jpg', 'River_825.jpg', 'River_1750.jpg', 'River_2270.jpg', 'River_1270.jpg', 'River_339.jpg', 'River_2109.jpg', 'River_1976.jpg', 'River_958.jpg', 'River_1239.jpg', 'River_772.jpg', 'River_1967.jpg', 'River_196.jpg', 'River_1736.jpg', 'River_783.jpg', 'River_1115.jpg', 'River_219.jpg', 'River_341.jpg', 'River_7.jpg', 'River_773.jpg', 'River_1288.jpg', 'River_104.jpg', 'River_1992.jpg', 'River_1313.jpg', 'River_1828.jpg', 'River_967.jpg', 'River_505.jpg', 'River_1119.jpg', 'River_654.jpg', 'River_983.jpg', 'River_2470.jpg', 'River_1898.jpg', 'River_2421.jpg', 'River_248.jpg', 'River_1776.jpg', 'River_2302.jpg', 'River_435.jpg', 'River_828.jpg', 'River_247.jpg', 'River_1213.jpg', 'River_1686.jpg', 'River_1717.jpg', 'River_767.jpg', 'River_944.jpg', 'River_609.jpg', 'River_2161.jpg', 'River_1596.jpg', 'River_290.jpg', 'River_221.jpg', 'River_2107.jpg', 'River_679.jpg', 'River_580.jpg', 'River_1188.jpg', 'River_489.jpg', 'River_91.jpg', 'River_1077.jpg', 'River_1473.jpg', 'River_1263.jpg', 'River_882.jpg', 'River_906.jpg', 'River_1134.jpg', 'River_147.jpg', 'River_1901.jpg', 'River_706.jpg', 'River_2175.jpg', 'River_2149.jpg', 'River_1078.jpg', 'River_1284.jpg', 'River_778.jpg', 'River_1609.jpg', 'River_2482.jpg', 'River_2256.jpg', 'River_1006.jpg', 'River_1792.jpg', 'River_735.jpg', 'River_1397.jpg', 'River_201.jpg', 'River_664.jpg', 'River_1355.jpg', 'River_2460.jpg', 'River_400.jpg', 'River_1949.jpg', 'River_314.jpg', 'River_869.jpg', 'River_2278.jpg', 'River_491.jpg', 'River_1211.jpg', 'River_1914.jpg', 'River_991.jpg', 'River_1108.jpg', 'River_2472.jpg', 'River_132.jpg', 'River_2415.jpg', 'River_1825.jpg', 'River_2237.jpg', 'River_953.jpg', 'River_545.jpg', 'River_587.jpg', 'River_1973.jpg', 'River_891.jpg', 'River_576.jpg', 'River_467.jpg', 'River_20.jpg', 'River_561.jpg', 'River_1668.jpg', 'River_61.jpg', 'River_1592.jpg', 'River_2190.jpg', 'River_363.jpg', 'River_1186.jpg', 'River_319.jpg', 'River_2140.jpg', 'River_1605.jpg', 'River_1498.jpg', 'River_496.jpg', 'River_1434.jpg', 'River_1483.jpg', 'River_2166.jpg', 'River_1909.jpg', 'River_2493.jpg', 'River_833.jpg', 'River_2352.jpg', 'River_1412.jpg', 'River_254.jpg', 'River_558.jpg', 'River_401.jpg', 'River_1049.jpg', 'River_1416.jpg', 'River_1587.jpg', 'River_1651.jpg', 'River_320.jpg', 'River_1640.jpg', 'River_455.jpg', 'River_1571.jpg', 'River_406.jpg', 'River_608.jpg', 'River_1690.jpg', 'River_332.jpg', 'River_419.jpg', 'River_728.jpg', 'River_310.jpg', 'River_2411.jpg', 'River_718.jpg', 'River_993.jpg', 'River_1744.jpg', 'River_501.jpg', 'River_1918.jpg', 'River_1123.jpg', 'River_2320.jpg', 'River_568.jpg', 'River_1342.jpg', 'River_820.jpg', 'River_978.jpg', 'River_1882.jpg', 'River_2162.jpg', 'River_278.jpg', 'River_912.jpg', 'River_1406.jpg', 'River_94.jpg', 'River_2234.jpg', 'River_405.jpg', 'River_89.jpg', 'River_2297.jpg', 'River_160.jpg', 'River_709.jpg', 'River_2205.jpg', 'River_689.jpg', 'River_2355.jpg', 'River_1056.jpg', 'River_493.jpg', 'River_721.jpg', 'River_1848.jpg', 'River_1448.jpg', 'River_2267.jpg', 'River_1034.jpg', 'River_2123.jpg', 'River_90.jpg', 'River_52.jpg', 'River_2258.jpg', 'River_2030.jpg', 'River_1960.jpg', 'River_1989.jpg', 'River_307.jpg', 'River_1660.jpg', 'River_2326.jpg', 'River_195.jpg', 'River_1103.jpg', 'River_618.jpg', 'River_2044.jpg', 'River_1980.jpg', 'River_1111.jpg', 'River_2311.jpg', 'River_826.jpg', 'River_1982.jpg', 'River_1457.jpg', 'River_1889.jpg', 'River_1496.jpg', 'River_1704.jpg', 'River_1354.jpg', 'River_1307.jpg', 'River_1162.jpg', 'River_2462.jpg', 'River_2068.jpg', 'River_824.jpg', 'River_366.jpg', 'River_786.jpg', 'River_203.jpg', 'River_1125.jpg', 'River_391.jpg', 'River_1784.jpg', 'River_1950.jpg', 'River_745.jpg', 'River_507.jpg', 'River_1743.jpg', 'River_662.jpg', 'River_85.jpg', 'River_1869.jpg', 'River_1714.jpg', 'River_1376.jpg', 'River_19.jpg', 'River_2449.jpg', 'River_394.jpg', 'River_1972.jpg', 'River_1344.jpg', 'River_1788.jpg', 'River_267.jpg', 'River_625.jpg', 'River_892.jpg', 'River_1433.jpg', 'River_791.jpg', 'River_1141.jpg', 'River_1732.jpg', 'River_816.jpg', 'River_2119.jpg', 'River_731.jpg', 'River_2007.jpg', 'River_2444.jpg', 'River_883.jpg', 'River_115.jpg', 'River_47.jpg', 'River_737.jpg', 'River_177.jpg', 'River_1550.jpg', 'River_736.jpg', 'River_470.jpg', 'River_428.jpg', 'River_586.jpg', 'River_1627.jpg', 'River_511.jpg', 'River_822.jpg', 'River_421.jpg', 'River_537.jpg', 'River_1295.jpg', 'River_1652.jpg', 'River_2194.jpg', 'River_848.jpg', 'River_2338.jpg', 'River_2164.jpg', 'River_1742.jpg', 'River_1926.jpg', 'River_390.jpg', 'River_1031.jpg', 'River_1705.jpg', 'River_652.jpg', 'River_933.jpg', 'River_1166.jpg', 'River_1636.jpg', 'River_2471.jpg', 'River_1249.jpg', 'River_168.jpg', 'River_1805.jpg', 'River_57.jpg', 'River_1527.jpg', 'River_2333.jpg', 'River_1442.jpg', 'River_1955.jpg', 'River_857.jpg', 'River_305.jpg', 'River_2364.jpg', 'River_2319.jpg', 'River_2330.jpg', 'River_1102.jpg', 'River_1195.jpg', 'River_647.jpg', 'River_114.jpg', 'River_1574.jpg', 'River_1657.jpg', 'River_3.jpg', 'River_1635.jpg', 'River_2138.jpg', 'River_1135.jpg', 'River_1888.jpg', 'River_1465.jpg', 'River_1803.jpg', 'River_474.jpg', 'River_1517.jpg', 'River_1701.jpg', 'River_1862.jpg', 'River_1764.jpg', 'River_351.jpg', 'River_2045.jpg', 'River_562.jpg', 'River_223.jpg', 'River_1091.jpg', 'River_23.jpg', 'River_340.jpg', 'River_1722.jpg', 'River_516.jpg', 'River_1797.jpg', 'River_173.jpg', 'River_1283.jpg', 'River_2374.jpg', 'River_1775.jpg', 'River_947.jpg', 'River_1467.jpg', 'River_2067.jpg', 'River_1150.jpg', 'River_298.jpg', 'River_713.jpg', 'River_1192.jpg', 'River_1537.jpg', 'River_1046.jpg', 'River_1575.jpg', 'River_1747.jpg', 'River_941.jpg', 'River_297.jpg', 'River_1460.jpg', 'River_752.jpg', 'River_1696.jpg', 'River_34.jpg', 'River_1002.jpg', 'River_87.jpg', 'River_1987.jpg', 'River_1985.jpg', 'River_1658.jpg', 'River_126.jpg', 'River_156.jpg', 'River_2110.jpg', 'River_2280.jpg', 'River_258.jpg', 'River_1692.jpg', 'River_1773.jpg', 'River_698.jpg', 'River_1933.jpg', 'River_1802.jpg', 'River_2209.jpg', 'River_1282.jpg', 'River_214.jpg', 'River_1021.jpg', 'River_988.jpg', 'River_1437.jpg', 'River_878.jpg', 'River_1986.jpg', 'River_2363.jpg', 'River_1109.jpg', 'River_1612.jpg', 'River_1549.jpg', 'River_2027.jpg', 'River_342.jpg', 'River_140.jpg', 'River_2020.jpg', 'River_1606.jpg', 'River_1578.jpg', 'River_1075.jpg', 'River_48.jpg', 'River_212.jpg', 'River_660.jpg', 'River_1870.jpg', 'River_2061.jpg', 'River_707.jpg', 'River_782.jpg', 'River_1225.jpg', 'River_207.jpg', 'River_1016.jpg', 'River_1372.jpg', 'River_337.jpg', 'River_632.jpg', 'River_620.jpg', 'River_302.jpg', 'River_2101.jpg', 'River_2163.jpg', 'River_1634.jpg', 'River_2117.jpg', 'River_316.jpg', 'River_901.jpg', 'River_1554.jpg', 'River_903.jpg', 'River_1017.jpg', 'River_1679.jpg', 'River_411.jpg', 'River_1979.jpg', 'River_1873.jpg', 'River_1556.jpg', 'River_1916.jpg', 'River_1553.jpg', 'River_1052.jpg', 'River_785.jpg', 'River_1409.jpg', 'River_929.jpg', 'River_167.jpg', 'River_2392.jpg', 'River_1555.jpg', 'River_693.jpg', 'River_407.jpg', 'River_481.jpg', 'River_1332.jpg', 'River_1464.jpg', 'River_762.jpg', 'River_2371.jpg', 'River_22.jpg', 'River_1009.jpg', 'River_1084.jpg', 'River_143.jpg', 'River_1580.jpg', 'River_1656.jpg', 'River_634.jpg', 'River_1821.jpg', 'River_1253.jpg', 'River_619.jpg', 'River_814.jpg', 'River_1708.jpg', 'River_571.jpg', 'River_716.jpg', 'River_1529.jpg', 'River_1934.jpg', 'River_960.jpg', 'River_894.jpg', 'River_2452.jpg', 'River_1707.jpg', 'River_1393.jpg', 'River_2084.jpg', 'River_463.jpg', 'River_1257.jpg', 'River_1936.jpg', 'River_1022.jpg', 'River_1241.jpg', 'River_1278.jpg', 'River_2351.jpg', 'River_1024.jpg', 'River_304.jpg', 'River_2243.jpg', 'River_137.jpg', 'River_71.jpg', 'River_222.jpg', 'River_1509.jpg', 'River_763.jpg', 'River_2152.jpg', 'River_480.jpg', 'River_473.jpg', 'River_1361.jpg', 'River_1655.jpg', 'River_2321.jpg', 'River_2418.jpg', 'River_2125.jpg', 'River_1066.jpg', 'River_1311.jpg', 'River_84.jpg', 'River_740.jpg', 'River_1907.jpg', 'River_1418.jpg', 'River_301.jpg', 'River_1036.jpg', 'River_1833.jpg', 'River_1812.jpg', 'River_811.jpg', 'River_1351.jpg', 'River_2096.jpg', 'River_98.jpg', 'River_761.jpg', 'River_398.jpg', 'River_987.jpg', 'River_279.jpg', 'River_1994.jpg', 'River_937.jpg', 'River_269.jpg', 'River_1515.jpg', 'River_2305.jpg', 'River_1157.jpg', 'River_971.jpg', 'River_1242.jpg', 'River_1491.jpg', 'River_10.jpg', 'River_1142.jpg', 'River_2204.jpg', 'River_2273.jpg', 'River_1751.jpg', 'River_981.jpg', 'River_1273.jpg', 'River_88.jpg', 'River_72.jpg', 'River_1476.jpg', 'River_1684.jpg', 'River_1387.jpg', 'River_566.jpg', 'River_1531.jpg', 'River_860.jpg', 'River_2207.jpg', 'River_1892.jpg', 'River_1222.jpg', 'River_281.jpg', 'River_836.jpg', 'River_973.jpg', 'River_2395.jpg', 'River_385.jpg', 'River_1500.jpg', 'River_911.jpg', 'River_53.jpg', 'River_105.jpg']\n",
      "----------------------------------------------------------------------------------------------------------------------------------------------------------------------------------------------------------------------------\n",
      "Directory Path:  /local/home/bsoyuer/citiies_contrastive_learning/eurosat_landcover_clsf_task/2750/SeaLake\n",
      "Directory Name:  []\n",
      "Filename :  ['SeaLake_2737.jpg', 'SeaLake_598.jpg', 'SeaLake_1478.jpg', 'SeaLake_1221.jpg', 'SeaLake_1293.jpg', 'SeaLake_1427.jpg', 'SeaLake_390.jpg', 'SeaLake_996.jpg', 'SeaLake_964.jpg', 'SeaLake_2215.jpg', 'SeaLake_2839.jpg', 'SeaLake_255.jpg', 'SeaLake_1290.jpg', 'SeaLake_2258.jpg', 'SeaLake_1668.jpg', 'SeaLake_1448.jpg', 'SeaLake_442.jpg', 'SeaLake_1163.jpg', 'SeaLake_1476.jpg', 'SeaLake_162.jpg', 'SeaLake_589.jpg', 'SeaLake_67.jpg', 'SeaLake_799.jpg', 'SeaLake_816.jpg', 'SeaLake_912.jpg', 'SeaLake_2825.jpg', 'SeaLake_2427.jpg', 'SeaLake_2099.jpg', 'SeaLake_2960.jpg', 'SeaLake_1191.jpg', 'SeaLake_766.jpg', 'SeaLake_2101.jpg', 'SeaLake_339.jpg', 'SeaLake_1788.jpg', 'SeaLake_65.jpg', 'SeaLake_568.jpg', 'SeaLake_2333.jpg', 'SeaLake_1076.jpg', 'SeaLake_1098.jpg', 'SeaLake_2605.jpg', 'SeaLake_1830.jpg', 'SeaLake_516.jpg', 'SeaLake_2805.jpg', 'SeaLake_371.jpg', 'SeaLake_1696.jpg', 'SeaLake_1594.jpg', 'SeaLake_44.jpg', 'SeaLake_1852.jpg', 'SeaLake_2089.jpg', 'SeaLake_1206.jpg', 'SeaLake_1889.jpg', 'SeaLake_1299.jpg', 'SeaLake_1157.jpg', 'SeaLake_432.jpg', 'SeaLake_1028.jpg', 'SeaLake_2822.jpg', 'SeaLake_600.jpg', 'SeaLake_351.jpg', 'SeaLake_623.jpg', 'SeaLake_2795.jpg', 'SeaLake_93.jpg', 'SeaLake_1762.jpg', 'SeaLake_1927.jpg', 'SeaLake_435.jpg', 'SeaLake_2134.jpg', 'SeaLake_94.jpg', 'SeaLake_1003.jpg', 'SeaLake_146.jpg', 'SeaLake_2926.jpg', 'SeaLake_1234.jpg', 'SeaLake_1902.jpg', 'SeaLake_604.jpg', 'SeaLake_586.jpg', 'SeaLake_938.jpg', 'SeaLake_1050.jpg', 'SeaLake_293.jpg', 'SeaLake_965.jpg', 'SeaLake_2551.jpg', 'SeaLake_97.jpg', 'SeaLake_2566.jpg', 'SeaLake_2156.jpg', 'SeaLake_3.jpg', 'SeaLake_1222.jpg', 'SeaLake_164.jpg', 'SeaLake_763.jpg', 'SeaLake_2054.jpg', 'SeaLake_2439.jpg', 'SeaLake_1469.jpg', 'SeaLake_2341.jpg', 'SeaLake_2610.jpg', 'SeaLake_1296.jpg', 'SeaLake_2432.jpg', 'SeaLake_203.jpg', 'SeaLake_2791.jpg', 'SeaLake_1205.jpg', 'SeaLake_2628.jpg', 'SeaLake_1083.jpg', 'SeaLake_2359.jpg', 'SeaLake_967.jpg', 'SeaLake_2640.jpg', 'SeaLake_2652.jpg', 'SeaLake_1436.jpg', 'SeaLake_1433.jpg', 'SeaLake_1720.jpg', 'SeaLake_574.jpg', 'SeaLake_2343.jpg', 'SeaLake_2901.jpg', 'SeaLake_2744.jpg', 'SeaLake_1964.jpg', 'SeaLake_507.jpg', 'SeaLake_382.jpg', 'SeaLake_1753.jpg', 'SeaLake_2715.jpg', 'SeaLake_2311.jpg', 'SeaLake_656.jpg', 'SeaLake_742.jpg', 'SeaLake_318.jpg', 'SeaLake_1253.jpg', 'SeaLake_2929.jpg', 'SeaLake_648.jpg', 'SeaLake_455.jpg', 'SeaLake_2937.jpg', 'SeaLake_261.jpg', 'SeaLake_879.jpg', 'SeaLake_837.jpg', 'SeaLake_2984.jpg', 'SeaLake_2896.jpg', 'SeaLake_197.jpg', 'SeaLake_544.jpg', 'SeaLake_1365.jpg', 'SeaLake_2704.jpg', 'SeaLake_1364.jpg', 'SeaLake_2490.jpg', 'SeaLake_1422.jpg', 'SeaLake_2570.jpg', 'SeaLake_157.jpg', 'SeaLake_2884.jpg', 'SeaLake_2339.jpg', 'SeaLake_2136.jpg', 'SeaLake_2242.jpg', 'SeaLake_1212.jpg', 'SeaLake_1508.jpg', 'SeaLake_1896.jpg', 'SeaLake_854.jpg', 'SeaLake_2643.jpg', 'SeaLake_1518.jpg', 'SeaLake_2593.jpg', 'SeaLake_2172.jpg', 'SeaLake_928.jpg', 'SeaLake_1982.jpg', 'SeaLake_2335.jpg', 'SeaLake_175.jpg', 'SeaLake_1722.jpg', 'SeaLake_1133.jpg', 'SeaLake_619.jpg', 'SeaLake_1097.jpg', 'SeaLake_1993.jpg', 'SeaLake_2163.jpg', 'SeaLake_1228.jpg', 'SeaLake_1827.jpg', 'SeaLake_2821.jpg', 'SeaLake_2313.jpg', 'SeaLake_1666.jpg', 'SeaLake_171.jpg', 'SeaLake_2870.jpg', 'SeaLake_2394.jpg', 'SeaLake_2444.jpg', 'SeaLake_2506.jpg', 'SeaLake_856.jpg', 'SeaLake_296.jpg', 'SeaLake_1534.jpg', 'SeaLake_1703.jpg', 'SeaLake_2010.jpg', 'SeaLake_192.jpg', 'SeaLake_2182.jpg', 'SeaLake_447.jpg', 'SeaLake_272.jpg', 'SeaLake_2198.jpg', 'SeaLake_1001.jpg', 'SeaLake_1797.jpg', 'SeaLake_2516.jpg', 'SeaLake_2616.jpg', 'SeaLake_2501.jpg', 'SeaLake_1198.jpg', 'SeaLake_2866.jpg', 'SeaLake_1144.jpg', 'SeaLake_2664.jpg', 'SeaLake_2049.jpg', 'SeaLake_1798.jpg', 'SeaLake_567.jpg', 'SeaLake_1619.jpg', 'SeaLake_1517.jpg', 'SeaLake_2255.jpg', 'SeaLake_1597.jpg', 'SeaLake_2419.jpg', 'SeaLake_2171.jpg', 'SeaLake_1974.jpg', 'SeaLake_349.jpg', 'SeaLake_1783.jpg', 'SeaLake_122.jpg', 'SeaLake_381.jpg', 'SeaLake_2953.jpg', 'SeaLake_440.jpg', 'SeaLake_1213.jpg', 'SeaLake_1748.jpg', 'SeaLake_104.jpg', 'SeaLake_2581.jpg', 'SeaLake_2065.jpg', 'SeaLake_2536.jpg', 'SeaLake_2974.jpg', 'SeaLake_2002.jpg', 'SeaLake_809.jpg', 'SeaLake_1404.jpg', 'SeaLake_1981.jpg', 'SeaLake_1618.jpg', 'SeaLake_2338.jpg', 'SeaLake_337.jpg', 'SeaLake_54.jpg', 'SeaLake_2587.jpg', 'SeaLake_2686.jpg', 'SeaLake_2928.jpg', 'SeaLake_875.jpg', 'SeaLake_1705.jpg', 'SeaLake_265.jpg', 'SeaLake_2151.jpg', 'SeaLake_2008.jpg', 'SeaLake_1386.jpg', 'SeaLake_2187.jpg', 'SeaLake_961.jpg', 'SeaLake_2844.jpg', 'SeaLake_2625.jpg', 'SeaLake_46.jpg', 'SeaLake_2654.jpg', 'SeaLake_2492.jpg', 'SeaLake_1435.jpg', 'SeaLake_1455.jpg', 'SeaLake_1965.jpg', 'SeaLake_2858.jpg', 'SeaLake_1311.jpg', 'SeaLake_690.jpg', 'SeaLake_357.jpg', 'SeaLake_1312.jpg', 'SeaLake_2269.jpg', 'SeaLake_130.jpg', 'SeaLake_1671.jpg', 'SeaLake_890.jpg', 'SeaLake_1294.jpg', 'SeaLake_1813.jpg', 'SeaLake_2817.jpg', 'SeaLake_2944.jpg', 'SeaLake_2201.jpg', 'SeaLake_1819.jpg', 'SeaLake_2539.jpg', 'SeaLake_1462.jpg', 'SeaLake_2959.jpg', 'SeaLake_640.jpg', 'SeaLake_2239.jpg', 'SeaLake_392.jpg', 'SeaLake_1399.jpg', 'SeaLake_1175.jpg', 'SeaLake_1188.jpg', 'SeaLake_323.jpg', 'SeaLake_955.jpg', 'SeaLake_419.jpg', 'SeaLake_2437.jpg', 'SeaLake_778.jpg', 'SeaLake_1408.jpg', 'SeaLake_2114.jpg', 'SeaLake_383.jpg', 'SeaLake_513.jpg', 'SeaLake_222.jpg', 'SeaLake_535.jpg', 'SeaLake_649.jpg', 'SeaLake_2388.jpg', 'SeaLake_759.jpg', 'SeaLake_1387.jpg', 'SeaLake_182.jpg', 'SeaLake_2204.jpg', 'SeaLake_1286.jpg', 'SeaLake_2897.jpg', 'SeaLake_1499.jpg', 'SeaLake_1761.jpg', 'SeaLake_2815.jpg', 'SeaLake_230.jpg', 'SeaLake_1042.jpg', 'SeaLake_691.jpg', 'SeaLake_2489.jpg', 'SeaLake_1444.jpg', 'SeaLake_1155.jpg', 'SeaLake_1108.jpg', 'SeaLake_1225.jpg', 'SeaLake_41.jpg', 'SeaLake_2036.jpg', 'SeaLake_1548.jpg', 'SeaLake_681.jpg', 'SeaLake_35.jpg', 'SeaLake_780.jpg', 'SeaLake_605.jpg', 'SeaLake_2183.jpg', 'SeaLake_1323.jpg', 'SeaLake_1908.jpg', 'SeaLake_2688.jpg', 'SeaLake_951.jpg', 'SeaLake_2142.jpg', 'SeaLake_1110.jpg', 'SeaLake_941.jpg', 'SeaLake_2083.jpg', 'SeaLake_1701.jpg', 'SeaLake_2407.jpg', 'SeaLake_1237.jpg', 'SeaLake_1370.jpg', 'SeaLake_2967.jpg', 'SeaLake_1611.jpg', 'SeaLake_2344.jpg', 'SeaLake_101.jpg', 'SeaLake_2170.jpg', 'SeaLake_931.jpg', 'SeaLake_2194.jpg', 'SeaLake_1466.jpg', 'SeaLake_2663.jpg', 'SeaLake_1322.jpg', 'SeaLake_2970.jpg', 'SeaLake_2397.jpg', 'SeaLake_2122.jpg', 'SeaLake_687.jpg', 'SeaLake_346.jpg', 'SeaLake_258.jpg', 'SeaLake_2739.jpg', 'SeaLake_828.jpg', 'SeaLake_827.jpg', 'SeaLake_1153.jpg', 'SeaLake_2908.jpg', 'SeaLake_2191.jpg', 'SeaLake_1650.jpg', 'SeaLake_214.jpg', 'SeaLake_1564.jpg', 'SeaLake_1485.jpg', 'SeaLake_2761.jpg', 'SeaLake_1630.jpg', 'SeaLake_235.jpg', 'SeaLake_1674.jpg', 'SeaLake_2938.jpg', 'SeaLake_1074.jpg', 'SeaLake_1724.jpg', 'SeaLake_1055.jpg', 'SeaLake_2607.jpg', 'SeaLake_907.jpg', 'SeaLake_2330.jpg', 'SeaLake_2494.jpg', 'SeaLake_2127.jpg', 'SeaLake_1555.jpg', 'SeaLake_2975.jpg', 'SeaLake_496.jpg', 'SeaLake_492.jpg', 'SeaLake_1304.jpg', 'SeaLake_1247.jpg', 'SeaLake_1283.jpg', 'SeaLake_1689.jpg', 'SeaLake_895.jpg', 'SeaLake_2462.jpg', 'SeaLake_698.jpg', 'SeaLake_1397.jpg', 'SeaLake_411.jpg', 'SeaLake_1554.jpg', 'SeaLake_1777.jpg', 'SeaLake_1781.jpg', 'SeaLake_2292.jpg', 'SeaLake_558.jpg', 'SeaLake_2305.jpg', 'SeaLake_658.jpg', 'SeaLake_2677.jpg', 'SeaLake_2819.jpg', 'SeaLake_2772.jpg', 'SeaLake_375.jpg', 'SeaLake_2644.jpg', 'SeaLake_1022.jpg', 'SeaLake_1999.jpg', 'SeaLake_2820.jpg', 'SeaLake_2864.jpg', 'SeaLake_294.jpg', 'SeaLake_2662.jpg', 'SeaLake_954.jpg', 'SeaLake_746.jpg', 'SeaLake_2682.jpg', 'SeaLake_1829.jpg', 'SeaLake_2982.jpg', 'SeaLake_1340.jpg', 'SeaLake_1390.jpg', 'SeaLake_2939.jpg', 'SeaLake_2631.jpg', 'SeaLake_1828.jpg', 'SeaLake_1655.jpg', 'SeaLake_537.jpg', 'SeaLake_1778.jpg', 'SeaLake_433.jpg', 'SeaLake_2919.jpg', 'SeaLake_891.jpg', 'SeaLake_1654.jpg', 'SeaLake_994.jpg', 'SeaLake_3000.jpg', 'SeaLake_2577.jpg', 'SeaLake_1310.jpg', 'SeaLake_2997.jpg', 'SeaLake_2251.jpg', 'SeaLake_1950.jpg', 'SeaLake_1102.jpg', 'SeaLake_2283.jpg', 'SeaLake_50.jpg', 'SeaLake_844.jpg', 'SeaLake_1868.jpg', 'SeaLake_1994.jpg', 'SeaLake_30.jpg', 'SeaLake_2475.jpg', 'SeaLake_1486.jpg', 'SeaLake_2655.jpg', 'SeaLake_486.jpg', 'SeaLake_42.jpg', 'SeaLake_2479.jpg', 'SeaLake_446.jpg', 'SeaLake_1749.jpg', 'SeaLake_624.jpg', 'SeaLake_1459.jpg', 'SeaLake_99.jpg', 'SeaLake_584.jpg', 'SeaLake_2777.jpg', 'SeaLake_257.jpg', 'SeaLake_2457.jpg', 'SeaLake_2565.jpg', 'SeaLake_803.jpg', 'SeaLake_1620.jpg', 'SeaLake_1769.jpg', 'SeaLake_2728.jpg', 'SeaLake_886.jpg', 'SeaLake_772.jpg', 'SeaLake_2299.jpg', 'SeaLake_2800.jpg', 'SeaLake_831.jpg', 'SeaLake_732.jpg', 'SeaLake_2472.jpg', 'SeaLake_845.jpg', 'SeaLake_1792.jpg', 'SeaLake_782.jpg', 'SeaLake_689.jpg', 'SeaLake_1740.jpg', 'SeaLake_2558.jpg', 'SeaLake_1279.jpg', 'SeaLake_2914.jpg', 'SeaLake_224.jpg', 'SeaLake_291.jpg', 'SeaLake_1979.jpg', 'SeaLake_1880.jpg', 'SeaLake_1014.jpg', 'SeaLake_502.jpg', 'SeaLake_2253.jpg', 'SeaLake_2448.jpg', 'SeaLake_364.jpg', 'SeaLake_2369.jpg', 'SeaLake_638.jpg', 'SeaLake_2548.jpg', 'SeaLake_2380.jpg', 'SeaLake_1346.jpg', 'SeaLake_26.jpg', 'SeaLake_1443.jpg', 'SeaLake_1006.jpg', 'SeaLake_2838.jpg', 'SeaLake_2949.jpg', 'SeaLake_2850.jpg', 'SeaLake_1570.jpg', 'SeaLake_1847.jpg', 'SeaLake_1047.jpg', 'SeaLake_2186.jpg', 'SeaLake_548.jpg', 'SeaLake_1503.jpg', 'SeaLake_747.jpg', 'SeaLake_920.jpg', 'SeaLake_2734.jpg', 'SeaLake_733.jpg', 'SeaLake_1997.jpg', 'SeaLake_1093.jpg', 'SeaLake_1604.jpg', 'SeaLake_2243.jpg', 'SeaLake_1142.jpg', 'SeaLake_1787.jpg', 'SeaLake_2406.jpg', 'SeaLake_2356.jpg', 'SeaLake_2666.jpg', 'SeaLake_873.jpg', 'SeaLake_2014.jpg', 'SeaLake_19.jpg', 'SeaLake_2378.jpg', 'SeaLake_2700.jpg', 'SeaLake_810.jpg', 'SeaLake_2355.jpg', 'SeaLake_2429.jpg', 'SeaLake_282.jpg', 'SeaLake_2260.jpg', 'SeaLake_2483.jpg', 'SeaLake_934.jpg', 'SeaLake_267.jpg', 'SeaLake_2185.jpg', 'SeaLake_1329.jpg', 'SeaLake_399.jpg', 'SeaLake_2150.jpg', 'SeaLake_2848.jpg', 'SeaLake_802.jpg', 'SeaLake_1483.jpg', 'SeaLake_1843.jpg', 'SeaLake_308.jpg', 'SeaLake_2422.jpg', 'SeaLake_2302.jpg', 'SeaLake_1411.jpg', 'SeaLake_2784.jpg', 'SeaLake_1173.jpg', 'SeaLake_2818.jpg', 'SeaLake_564.jpg', 'SeaLake_28.jpg', 'SeaLake_2315.jpg', 'SeaLake_2227.jpg', 'SeaLake_2614.jpg', 'SeaLake_2702.jpg', 'SeaLake_70.jpg', 'SeaLake_1623.jpg', 'SeaLake_2011.jpg', 'SeaLake_1759.jpg', 'SeaLake_2137.jpg', 'SeaLake_1856.jpg', 'SeaLake_2665.jpg', 'SeaLake_764.jpg', 'SeaLake_2622.jpg', 'SeaLake_1027.jpg', 'SeaLake_2782.jpg', 'SeaLake_876.jpg', 'SeaLake_1763.jpg', 'SeaLake_2764.jpg', 'SeaLake_1936.jpg', 'SeaLake_2465.jpg', 'SeaLake_342.jpg', 'SeaLake_429.jpg', 'SeaLake_525.jpg', 'SeaLake_454.jpg', 'SeaLake_560.jpg', 'SeaLake_2635.jpg', 'SeaLake_31.jpg', 'SeaLake_608.jpg', 'SeaLake_592.jpg', 'SeaLake_462.jpg', 'SeaLake_1541.jpg', 'SeaLake_957.jpg', 'SeaLake_2923.jpg', 'SeaLake_449.jpg', 'SeaLake_453.jpg', 'SeaLake_795.jpg', 'SeaLake_694.jpg', 'SeaLake_2431.jpg', 'SeaLake_1250.jpg', 'SeaLake_1612.jpg', 'SeaLake_800.jpg', 'SeaLake_1263.jpg', 'SeaLake_2240.jpg', 'SeaLake_2424.jpg', 'SeaLake_285.jpg', 'SeaLake_111.jpg', 'SeaLake_602.jpg', 'SeaLake_1262.jpg', 'SeaLake_1707.jpg', 'SeaLake_752.jpg', 'SeaLake_1359.jpg', 'SeaLake_464.jpg', 'SeaLake_90.jpg', 'SeaLake_1492.jpg', 'SeaLake_1851.jpg', 'SeaLake_2672.jpg', 'SeaLake_1794.jpg', 'SeaLake_2362.jpg', 'SeaLake_2638.jpg', 'SeaLake_1892.jpg', 'SeaLake_143.jpg', 'SeaLake_2100.jpg', 'SeaLake_29.jpg', 'SeaLake_851.jpg', 'SeaLake_181.jpg', 'SeaLake_1121.jpg', 'SeaLake_2274.jpg', 'SeaLake_2964.jpg', 'SeaLake_2031.jpg', 'SeaLake_470.jpg', 'SeaLake_1273.jpg', 'SeaLake_2084.jpg', 'SeaLake_2062.jpg', 'SeaLake_1737.jpg', 'SeaLake_270.jpg', 'SeaLake_504.jpg', 'SeaLake_862.jpg', 'SeaLake_1951.jpg', 'SeaLake_902.jpg', 'SeaLake_269.jpg', 'SeaLake_2630.jpg', 'SeaLake_1528.jpg', 'SeaLake_2153.jpg', 'SeaLake_1959.jpg', 'SeaLake_1566.jpg', 'SeaLake_1484.jpg', 'SeaLake_1638.jpg', 'SeaLake_551.jpg', 'SeaLake_2515.jpg', 'SeaLake_1569.jpg', 'SeaLake_174.jpg', 'SeaLake_2995.jpg', 'SeaLake_1220.jpg', 'SeaLake_2879.jpg', 'SeaLake_1467.jpg', 'SeaLake_911.jpg', 'SeaLake_594.jpg', 'SeaLake_743.jpg', 'SeaLake_2418.jpg', 'SeaLake_2405.jpg', 'SeaLake_150.jpg', 'SeaLake_250.jpg', 'SeaLake_1767.jpg', 'SeaLake_280.jpg', 'SeaLake_1104.jpg', 'SeaLake_2597.jpg', 'SeaLake_2894.jpg', 'SeaLake_2471.jpg', 'SeaLake_494.jpg', 'SeaLake_2381.jpg', 'SeaLake_947.jpg', 'SeaLake_1344.jpg', 'SeaLake_2304.jpg', 'SeaLake_1599.jpg', 'SeaLake_710.jpg', 'SeaLake_1806.jpg', 'SeaLake_1773.jpg', 'SeaLake_2882.jpg', 'SeaLake_1075.jpg', 'SeaLake_2758.jpg', 'SeaLake_1941.jpg', 'SeaLake_1632.jpg', 'SeaLake_1877.jpg', 'SeaLake_2573.jpg', 'SeaLake_1963.jpg', 'SeaLake_79.jpg', 'SeaLake_2741.jpg', 'SeaLake_1826.jpg', 'SeaLake_2641.jpg', 'SeaLake_1150.jpg', 'SeaLake_1425.jpg', 'SeaLake_2166.jpg', 'SeaLake_2390.jpg', 'SeaLake_935.jpg', 'SeaLake_2323.jpg', 'SeaLake_210.jpg', 'SeaLake_2763.jpg', 'SeaLake_833.jpg', 'SeaLake_677.jpg', 'SeaLake_1802.jpg', 'SeaLake_2102.jpg', 'SeaLake_2044.jpg', 'SeaLake_305.jpg', 'SeaLake_1756.jpg', 'SeaLake_2300.jpg', 'SeaLake_2081.jpg', 'SeaLake_1268.jpg', 'SeaLake_1840.jpg', 'SeaLake_1146.jpg', 'SeaLake_1285.jpg', 'SeaLake_134.jpg', 'SeaLake_1667.jpg', 'SeaLake_1883.jpg', 'SeaLake_1181.jpg', 'SeaLake_402.jpg', 'SeaLake_501.jpg', 'SeaLake_2647.jpg', 'SeaLake_288.jpg', 'SeaLake_1600.jpg', 'SeaLake_206.jpg', 'SeaLake_1080.jpg', 'SeaLake_2058.jpg', 'SeaLake_550.jpg', 'SeaLake_1746.jpg', 'SeaLake_2007.jpg', 'SeaLake_959.jpg', 'SeaLake_2387.jpg', 'SeaLake_140.jpg', 'SeaLake_319.jpg', 'SeaLake_1857.jpg', 'SeaLake_952.jpg', 'SeaLake_883.jpg', 'SeaLake_2238.jpg', 'SeaLake_1540.jpg', 'SeaLake_1406.jpg', 'SeaLake_1366.jpg', 'SeaLake_1524.jpg', 'SeaLake_1029.jpg', 'SeaLake_540.jpg', 'SeaLake_2776.jpg', 'SeaLake_2053.jpg', 'SeaLake_1019.jpg', 'SeaLake_1037.jpg', 'SeaLake_485.jpg', 'SeaLake_113.jpg', 'SeaLake_2612.jpg', 'SeaLake_1132.jpg', 'SeaLake_2103.jpg', 'SeaLake_676.jpg', 'SeaLake_482.jpg', 'SeaLake_1728.jpg', 'SeaLake_2064.jpg', 'SeaLake_268.jpg', 'SeaLake_789.jpg', 'SeaLake_1512.jpg', 'SeaLake_983.jpg', 'SeaLake_212.jpg', 'SeaLake_727.jpg', 'SeaLake_865.jpg', 'SeaLake_123.jpg', 'SeaLake_2068.jpg', 'SeaLake_438.jpg', 'SeaLake_1692.jpg', 'SeaLake_1321.jpg', 'SeaLake_2393.jpg', 'SeaLake_1139.jpg', 'SeaLake_2126.jpg', 'SeaLake_260.jpg', 'SeaLake_2140.jpg', 'SeaLake_1710.jpg', 'SeaLake_1375.jpg', 'SeaLake_853.jpg', 'SeaLake_397.jpg', 'SeaLake_922.jpg', 'SeaLake_343.jpg', 'SeaLake_2015.jpg', 'SeaLake_1845.jpg', 'SeaLake_1394.jpg', 'SeaLake_542.jpg', 'SeaLake_1631.jpg', 'SeaLake_765.jpg', 'SeaLake_1955.jpg', 'SeaLake_2860.jpg', 'SeaLake_493.jpg', 'SeaLake_228.jpg', 'SeaLake_302.jpg', 'SeaLake_543.jpg', 'SeaLake_2779.jpg', 'SeaLake_2846.jpg', 'SeaLake_2159.jpg', 'SeaLake_791.jpg', 'SeaLake_2585.jpg', 'SeaLake_569.jpg', 'SeaLake_700.jpg', 'SeaLake_1521.jpg', 'SeaLake_1995.jpg', 'SeaLake_1771.jpg', 'SeaLake_2415.jpg', 'SeaLake_1415.jpg', 'SeaLake_909.jpg', 'SeaLake_133.jpg', 'SeaLake_2111.jpg', 'SeaLake_1125.jpg', 'SeaLake_2836.jpg', 'SeaLake_2828.jpg', 'SeaLake_1227.jpg', 'SeaLake_1073.jpg', 'SeaLake_1583.jpg', 'SeaLake_58.jpg', 'SeaLake_1578.jpg', 'SeaLake_2226.jpg', 'SeaLake_2531.jpg', 'SeaLake_1330.jpg', 'SeaLake_1765.jpg', 'SeaLake_804.jpg', 'SeaLake_2184.jpg', 'SeaLake_7.jpg', 'SeaLake_2296.jpg', 'SeaLake_2124.jpg', 'SeaLake_1509.jpg', 'SeaLake_405.jpg', 'SeaLake_49.jpg', 'SeaLake_737.jpg', 'SeaLake_793.jpg', 'SeaLake_840.jpg', 'SeaLake_1698.jpg', 'SeaLake_479.jpg', 'SeaLake_1660.jpg', 'SeaLake_471.jpg', 'SeaLake_1326.jpg', 'SeaLake_301.jpg', 'SeaLake_1307.jpg', 'SeaLake_410.jpg', 'SeaLake_1195.jpg', 'SeaLake_2930.jpg', 'SeaLake_92.jpg', 'SeaLake_1434.jpg', 'SeaLake_2561.jpg', 'SeaLake_180.jpg', 'SeaLake_1912.jpg', 'SeaLake_1099.jpg', 'SeaLake_2749.jpg', 'SeaLake_1460.jpg', 'SeaLake_2133.jpg', 'SeaLake_380.jpg', 'SeaLake_2679.jpg', 'SeaLake_2237.jpg', 'SeaLake_855.jpg', 'SeaLake_696.jpg', 'SeaLake_609.jpg', 'SeaLake_1596.jpg', 'SeaLake_313.jpg', 'SeaLake_45.jpg', 'SeaLake_675.jpg', 'SeaLake_2474.jpg', 'SeaLake_422.jpg', 'SeaLake_2765.jpg', 'SeaLake_1882.jpg', 'SeaLake_2595.jpg', 'SeaLake_871.jpg', 'SeaLake_980.jpg', 'SeaLake_2993.jpg', 'SeaLake_1520.jpg', 'SeaLake_2331.jpg', 'SeaLake_667.jpg', 'SeaLake_1165.jpg', 'SeaLake_1452.jpg', 'SeaLake_445.jpg', 'SeaLake_475.jpg', 'SeaLake_839.jpg', 'SeaLake_11.jpg', 'SeaLake_1159.jpg', 'SeaLake_1768.jpg', 'SeaLake_639.jpg', 'SeaLake_1193.jpg', 'SeaLake_231.jpg', 'SeaLake_2611.jpg', 'SeaLake_1913.jpg', 'SeaLake_1379.jpg', 'SeaLake_1490.jpg', 'SeaLake_615.jpg', 'SeaLake_2149.jpg', 'SeaLake_2379.jpg', 'SeaLake_1376.jpg', 'SeaLake_1977.jpg', 'SeaLake_1609.jpg', 'SeaLake_2452.jpg', 'SeaLake_822.jpg', 'SeaLake_1682.jpg', 'SeaLake_1568.jpg', 'SeaLake_2434.jpg', 'SeaLake_1580.jpg', 'SeaLake_546.jpg', 'SeaLake_2746.jpg', 'SeaLake_1579.jpg', 'SeaLake_1246.jpg', 'SeaLake_657.jpg', 'SeaLake_2206.jpg', 'SeaLake_145.jpg', 'SeaLake_903.jpg', 'SeaLake_2022.jpg', 'SeaLake_1861.jpg', 'SeaLake_2312.jpg', 'SeaLake_1906.jpg', 'SeaLake_1873.jpg', 'SeaLake_1603.jpg', 'SeaLake_927.jpg', 'SeaLake_1871.jpg', 'SeaLake_2797.jpg', 'SeaLake_2783.jpg', 'SeaLake_999.jpg', 'SeaLake_654.jpg', 'SeaLake_1917.jpg', 'SeaLake_826.jpg', 'SeaLake_211.jpg', 'SeaLake_813.jpg', 'SeaLake_731.jpg', 'SeaLake_87.jpg', 'SeaLake_2385.jpg', 'SeaLake_68.jpg', 'SeaLake_1754.jpg', 'SeaLake_1687.jpg', 'SeaLake_1091.jpg', 'SeaLake_2361.jpg', 'SeaLake_1714.jpg', 'SeaLake_2270.jpg', 'SeaLake_1716.jpg', 'SeaLake_1653.jpg', 'SeaLake_1402.jpg', 'SeaLake_278.jpg', 'SeaLake_1860.jpg', 'SeaLake_1095.jpg', 'SeaLake_1869.jpg', 'SeaLake_300.jpg', 'SeaLake_2485.jpg', 'SeaLake_287.jpg', 'SeaLake_1281.jpg', 'SeaLake_641.jpg', 'SeaLake_2181.jpg', 'SeaLake_2042.jpg', 'SeaLake_1652.jpg', 'SeaLake_1526.jpg', 'SeaLake_1136.jpg', 'SeaLake_73.jpg', 'SeaLake_2660.jpg', 'SeaLake_441.jpg', 'SeaLake_259.jpg', 'SeaLake_1725.jpg', 'SeaLake_2096.jpg', 'SeaLake_2569.jpg', 'SeaLake_468.jpg', 'SeaLake_2290.jpg', 'SeaLake_2463.jpg', 'SeaLake_476.jpg', 'SeaLake_18.jpg', 'SeaLake_723.jpg', 'SeaLake_2421.jpg', 'SeaLake_1945.jpg', 'SeaLake_642.jpg', 'SeaLake_1932.jpg', 'SeaLake_1361.jpg', 'SeaLake_578.jpg', 'SeaLake_788.jpg', 'SeaLake_2829.jpg', 'SeaLake_663.jpg', 'SeaLake_531.jpg', 'SeaLake_821.jpg', 'SeaLake_2931.jpg', 'SeaLake_2177.jpg', 'SeaLake_2460.jpg', 'SeaLake_1101.jpg', 'SeaLake_1683.jpg', 'SeaLake_2887.jpg', 'SeaLake_2957.jpg', 'SeaLake_1833.jpg', 'SeaLake_1642.jpg', 'SeaLake_2281.jpg', 'SeaLake_1894.jpg', 'SeaLake_849.jpg', 'SeaLake_277.jpg', 'SeaLake_1865.jpg', 'SeaLake_1697.jpg', 'SeaLake_2994.jpg', 'SeaLake_1009.jpg', 'SeaLake_1333.jpg', 'SeaLake_918.jpg', 'SeaLake_354.jpg', 'SeaLake_1937.jpg', 'SeaLake_1796.jpg', 'SeaLake_207.jpg', 'SeaLake_358.jpg', 'SeaLake_98.jpg', 'SeaLake_1713.jpg', 'SeaLake_1628.jpg', 'SeaLake_1901.jpg', 'SeaLake_2657.jpg', 'SeaLake_1114.jpg', 'SeaLake_1790.jpg', 'SeaLake_1477.jpg', 'SeaLake_2658.jpg', 'SeaLake_1708.jpg', 'SeaLake_2987.jpg', 'SeaLake_921.jpg', 'SeaLake_1573.jpg', 'SeaLake_580.jpg', 'SeaLake_2608.jpg', 'SeaLake_669.jpg', 'SeaLake_1656.jpg', 'SeaLake_1.jpg', 'SeaLake_547.jpg', 'SeaLake_1429.jpg', 'SeaLake_932.jpg', 'SeaLake_2118.jpg', 'SeaLake_2326.jpg', 'SeaLake_1608.jpg', 'SeaLake_1533.jpg', 'SeaLake_2352.jpg', 'SeaLake_2742.jpg', 'SeaLake_2247.jpg', 'SeaLake_923.jpg', 'SeaLake_2602.jpg', 'SeaLake_753.jpg', 'SeaLake_1530.jpg', 'SeaLake_1458.jpg', 'SeaLake_477.jpg', 'SeaLake_1506.jpg', 'SeaLake_945.jpg', 'SeaLake_1585.jpg', 'SeaLake_2698.jpg', 'SeaLake_1210.jpg', 'SeaLake_160.jpg', 'SeaLake_1989.jpg', 'SeaLake_2899.jpg', 'SeaLake_286.jpg', 'SeaLake_2874.jpg', 'SeaLake_2487.jpg', 'SeaLake_1238.jpg', 'SeaLake_1734.jpg', 'SeaLake_571.jpg', 'SeaLake_417.jpg', 'SeaLake_2740.jpg', 'SeaLake_2371.jpg', 'SeaLake_1715.jpg', 'SeaLake_2890.jpg', 'SeaLake_436.jpg', 'SeaLake_2722.jpg', 'SeaLake_2082.jpg', 'SeaLake_2129.jpg', 'SeaLake_528.jpg', 'SeaLake_1077.jpg', 'SeaLake_1558.jpg', 'SeaLake_36.jpg', 'SeaLake_2717.jpg', 'SeaLake_2942.jpg', 'SeaLake_2526.jpg', 'SeaLake_2885.jpg', 'SeaLake_6.jpg', 'SeaLake_2160.jpg', 'SeaLake_2738.jpg', 'SeaLake_2762.jpg', 'SeaLake_1306.jpg', 'SeaLake_276.jpg', 'SeaLake_575.jpg', 'SeaLake_725.jpg', 'SeaLake_1035.jpg', 'SeaLake_478.jpg', 'SeaLake_1043.jpg', 'SeaLake_2288.jpg', 'SeaLake_693.jpg', 'SeaLake_771.jpg', 'SeaLake_1551.jpg', 'SeaLake_1699.jpg', 'SeaLake_460.jpg', 'SeaLake_1718.jpg', 'SeaLake_1663.jpg', 'SeaLake_596.jpg', 'SeaLake_2032.jpg', 'SeaLake_1556.jpg', 'SeaLake_1675.jpg', 'SeaLake_990.jpg', 'SeaLake_2651.jpg', 'SeaLake_1930.jpg', 'SeaLake_1023.jpg', 'SeaLake_215.jpg', 'SeaLake_715.jpg', 'SeaLake_2690.jpg', 'SeaLake_1468.jpg', 'SeaLake_2449.jpg', 'SeaLake_2073.jpg', 'SeaLake_1044.jpg', 'SeaLake_2324.jpg', 'SeaLake_1546.jpg', 'SeaLake_444.jpg', 'SeaLake_1226.jpg', 'SeaLake_2892.jpg', 'SeaLake_863.jpg', 'SeaLake_1211.jpg', 'SeaLake_526.jpg', 'SeaLake_34.jpg', 'SeaLake_2076.jpg', 'SeaLake_2927.jpg', 'SeaLake_108.jpg', 'SeaLake_2755.jpg', 'SeaLake_2508.jpg', 'SeaLake_2190.jpg', 'SeaLake_2347.jpg', 'SeaLake_943.jpg', 'SeaLake_2606.jpg', 'SeaLake_368.jpg', 'SeaLake_2504.jpg', 'SeaLake_1911.jpg', 'SeaLake_1577.jpg', 'SeaLake_327.jpg', 'SeaLake_2832.jpg', 'SeaLake_2045.jpg', 'SeaLake_2603.jpg', 'SeaLake_37.jpg', 'SeaLake_2402.jpg', 'SeaLake_1270.jpg', 'SeaLake_43.jpg', 'SeaLake_2905.jpg', 'SeaLake_695.jpg', 'SeaLake_497.jpg', 'SeaLake_321.jpg', 'SeaLake_2034.jpg', 'SeaLake_2046.jpg', 'SeaLake_2659.jpg', 'SeaLake_2104.jpg', 'SeaLake_924.jpg', 'SeaLake_949.jpg', 'SeaLake_2112.jpg', 'SeaLake_62.jpg', 'SeaLake_1560.jpg', 'SeaLake_1103.jpg', 'SeaLake_1665.jpg', 'SeaLake_805.jpg', 'SeaLake_1719.jpg', 'SeaLake_2855.jpg', 'SeaLake_2578.jpg', 'SeaLake_2790.jpg', 'SeaLake_27.jpg', 'SeaLake_1552.jpg', 'SeaLake_1875.jpg', 'SeaLake_2047.jpg', 'SeaLake_1048.jpg', 'SeaLake_527.jpg', 'SeaLake_1419.jpg', 'SeaLake_1278.jpg', 'SeaLake_1078.jpg', 'SeaLake_2408.jpg', 'SeaLake_2703.jpg', 'SeaLake_1471.jpg', 'SeaLake_1695.jpg', 'SeaLake_1931.jpg', 'SeaLake_808.jpg', 'SeaLake_1962.jpg', 'SeaLake_1938.jpg', 'SeaLake_2935.jpg', 'SeaLake_1557.jpg', 'SeaLake_1058.jpg', 'SeaLake_530.jpg', 'SeaLake_2656.jpg', 'SeaLake_1553.jpg', 'SeaLake_2411.jpg', 'SeaLake_2718.jpg', 'SeaLake_1190.jpg', 'SeaLake_1449.jpg', 'SeaLake_2241.jpg', 'SeaLake_1809.jpg', 'SeaLake_2470.jpg', 'SeaLake_452.jpg', 'SeaLake_1842.jpg', 'SeaLake_2498.jpg', 'SeaLake_2701.jpg', 'SeaLake_2043.jpg', 'SeaLake_2329.jpg', 'SeaLake_2716.jpg', 'SeaLake_2907.jpg', 'SeaLake_1016.jpg', 'SeaLake_1904.jpg', 'SeaLake_1947.jpg', 'SeaLake_1522.jpg', 'SeaLake_1717.jpg', 'SeaLake_962.jpg', 'SeaLake_2332.jpg', 'SeaLake_2827.jpg', 'SeaLake_2924.jpg', 'SeaLake_697.jpg', 'SeaLake_2263.jpg', 'SeaLake_2629.jpg', 'SeaLake_1859.jpg', 'SeaLake_2169.jpg', 'SeaLake_776.jpg', 'SeaLake_1538.jpg', 'SeaLake_178.jpg', 'SeaLake_473.jpg', 'SeaLake_717.jpg', 'SeaLake_2209.jpg', 'SeaLake_1935.jpg', 'SeaLake_1140.jpg', 'SeaLake_740.jpg', 'SeaLake_1004.jpg', 'SeaLake_2534.jpg', 'SeaLake_1302.jpg', 'SeaLake_185.jpg', 'SeaLake_1985.jpg', 'SeaLake_2175.jpg', 'SeaLake_2143.jpg', 'SeaLake_289.jpg', 'SeaLake_1491.jpg', 'SeaLake_2218.jpg', 'SeaLake_2205.jpg', 'SeaLake_2119.jpg', 'SeaLake_332.jpg', 'SeaLake_1651.jpg', 'SeaLake_894.jpg', 'SeaLake_424.jpg', 'SeaLake_2875.jpg', 'SeaLake_304.jpg', 'SeaLake_1255.jpg', 'SeaLake_1151.jpg', 'SeaLake_2979.jpg', 'SeaLake_538.jpg', 'SeaLake_229.jpg', 'SeaLake_2867.jpg', 'SeaLake_234.jpg', 'SeaLake_64.jpg', 'SeaLake_100.jpg', 'SeaLake_2729.jpg', 'SeaLake_20.jpg', 'SeaLake_1170.jpg', 'SeaLake_1327.jpg', 'SeaLake_2560.jpg', 'SeaLake_953.jpg', 'SeaLake_1662.jpg', 'SeaLake_14.jpg', 'SeaLake_1610.jpg', 'SeaLake_2851.jpg', 'SeaLake_1629.jpg', 'SeaLake_240.jpg', 'SeaLake_472.jpg', 'SeaLake_2383.jpg', 'SeaLake_956.jpg', 'SeaLake_1464.jpg', 'SeaLake_1823.jpg', 'SeaLake_1423.jpg', 'SeaLake_913.jpg', 'SeaLake_1287.jpg', 'SeaLake_1539.jpg', 'SeaLake_970.jpg', 'SeaLake_1991.jpg', 'SeaLake_1275.jpg', 'SeaLake_2732.jpg', 'SeaLake_1288.jpg', 'SeaLake_2713.jpg', 'SeaLake_2050.jpg', 'SeaLake_1709.jpg', 'SeaLake_1389.jpg', 'SeaLake_1082.jpg', 'SeaLake_1179.jpg', 'SeaLake_361.jpg', 'SeaLake_2346.jpg', 'SeaLake_195.jpg', 'SeaLake_1686.jpg', 'SeaLake_74.jpg', 'SeaLake_1274.jpg', 'SeaLake_2425.jpg', 'SeaLake_520.jpg', 'SeaLake_2743.jpg', 'SeaLake_1367.jpg', 'SeaLake_1041.jpg', 'SeaLake_1308.jpg', 'SeaLake_1291.jpg', 'SeaLake_2833.jpg', 'SeaLake_139.jpg', 'SeaLake_91.jpg', 'SeaLake_2809.jpg', 'SeaLake_1659.jpg', 'SeaLake_1858.jpg', 'SeaLake_335.jpg', 'SeaLake_2646.jpg', 'SeaLake_1895.jpg', 'SeaLake_2853.jpg', 'SeaLake_2588.jpg', 'SeaLake_2639.jpg', 'SeaLake_554.jpg', 'SeaLake_311.jpg', 'SeaLake_223.jpg', 'SeaLake_1733.jpg', 'SeaLake_166.jpg', 'SeaLake_2572.jpg', 'SeaLake_1137.jpg', 'SeaLake_910.jpg', 'SeaLake_1730.jpg', 'SeaLake_1441.jpg', 'SeaLake_509.jpg', 'SeaLake_118.jpg', 'SeaLake_1505.jpg', 'SeaLake_2165.jpg', 'SeaLake_549.jpg', 'SeaLake_1808.jpg', 'SeaLake_1032.jpg', 'SeaLake_202.jpg', 'SeaLake_1967.jpg', 'SeaLake_2235.jpg', 'SeaLake_647.jpg', 'SeaLake_1915.jpg', 'SeaLake_40.jpg', 'SeaLake_888.jpg', 'SeaLake_2794.jpg', 'SeaLake_2110.jpg', 'SeaLake_2538.jpg', 'SeaLake_977.jpg', 'SeaLake_266.jpg', 'SeaLake_1030.jpg', 'SeaLake_1741.jpg', 'SeaLake_2620.jpg', 'SeaLake_1297.jpg', 'SeaLake_121.jpg', 'SeaLake_719.jpg', 'SeaLake_2436.jpg', 'SeaLake_1704.jpg', 'SeaLake_1026.jpg', 'SeaLake_634.jpg', 'SeaLake_1162.jpg', 'SeaLake_2203.jpg', 'SeaLake_2280.jpg', 'SeaLake_177.jpg', 'SeaLake_2750.jpg', 'SeaLake_1900.jpg', 'SeaLake_251.jpg', 'SeaLake_2144.jpg', 'SeaLake_55.jpg', 'SeaLake_1236.jpg', 'SeaLake_998.jpg', 'SeaLake_1426.jpg', 'SeaLake_1368.jpg', 'SeaLake_736.jpg', 'SeaLake_1171.jpg', 'SeaLake_1289.jpg', 'SeaLake_1726.jpg', 'SeaLake_566.jpg', 'SeaLake_406.jpg', 'SeaLake_724.jpg', 'SeaLake_2154.jpg', 'SeaLake_2252.jpg', 'SeaLake_1820.jpg', 'SeaLake_2192.jpg', 'SeaLake_1502.jpg', 'SeaLake_2575.jpg', 'SeaLake_1335.jpg', 'SeaLake_2085.jpg', 'SeaLake_512.jpg', 'SeaLake_847.jpg', 'SeaLake_2074.jpg', 'SeaLake_487.jpg', 'SeaLake_2778.jpg', 'SeaLake_1169.jpg', 'SeaLake_2553.jpg', 'SeaLake_2808.jpg', 'SeaLake_1961.jpg', 'SeaLake_297.jpg', 'SeaLake_2752.jpg', 'SeaLake_2016.jpg', 'SeaLake_2086.jpg', 'SeaLake_1544.jpg', 'SeaLake_1764.jpg', 'SeaLake_2604.jpg', 'SeaLake_1621.jpg', 'SeaLake_704.jpg', 'SeaLake_2087.jpg', 'SeaLake_1363.jpg', 'SeaLake_1410.jpg', 'SeaLake_529.jpg', 'SeaLake_1494.jpg', 'SeaLake_760.jpg', 'SeaLake_120.jpg', 'SeaLake_2634.jpg', 'SeaLake_1899.jpg', 'SeaLake_1839.jpg', 'SeaLake_340.jpg', 'SeaLake_2286.jpg', 'SeaLake_2052.jpg', 'SeaLake_2615.jpg', 'SeaLake_2781.jpg', 'SeaLake_797.jpg', 'SeaLake_135.jpg', 'SeaLake_706.jpg', 'SeaLake_315.jpg', 'SeaLake_2840.jpg', 'SeaLake_2021.jpg', 'SeaLake_2691.jpg', 'SeaLake_2961.jpg', 'SeaLake_1051.jpg', 'SeaLake_1567.jpg', 'SeaLake_1240.jpg', 'SeaLake_59.jpg', 'SeaLake_966.jpg', 'SeaLake_2878.jpg', 'SeaLake_1377.jpg', 'SeaLake_1487.jpg', 'SeaLake_2670.jpg', 'SeaLake_2973.jpg', 'SeaLake_1269.jpg', 'SeaLake_1036.jpg', 'SeaLake_2284.jpg', 'SeaLake_2814.jpg', 'SeaLake_314.jpg', 'SeaLake_1111.jpg', 'SeaLake_1086.jpg', 'SeaLake_1207.jpg', 'SeaLake_1010.jpg', 'SeaLake_1984.jpg', 'SeaLake_1495.jpg', 'SeaLake_124.jpg', 'SeaLake_785.jpg', 'SeaLake_237.jpg', 'SeaLake_2719.jpg', 'SeaLake_1214.jpg', 'SeaLake_184.jpg', 'SeaLake_1331.jpg', 'SeaLake_2583.jpg', 'SeaLake_2321.jpg', 'SeaLake_15.jpg', 'SeaLake_606.jpg', 'SeaLake_1354.jpg', 'SeaLake_1831.jpg', 'SeaLake_2451.jpg', 'SeaLake_1496.jpg', 'SeaLake_107.jpg', 'SeaLake_755.jpg', 'SeaLake_2453.jpg', 'SeaLake_1648.jpg', 'SeaLake_2903.jpg', 'SeaLake_702.jpg', 'SeaLake_1614.jpg', 'SeaLake_796.jpg', 'SeaLake_1736.jpg', 'SeaLake_832.jpg', 'SeaLake_1260.jpg', 'SeaLake_1507.jpg', 'SeaLake_2289.jpg', 'SeaLake_1635.jpg', 'SeaLake_748.jpg', 'SeaLake_1012.jpg', 'SeaLake_1391.jpg', 'SeaLake_790.jpg', 'SeaLake_2624.jpg', 'SeaLake_2705.jpg', 'SeaLake_683.jpg', 'SeaLake_2857.jpg', 'SeaLake_536.jpg', 'SeaLake_138.jpg', 'SeaLake_1535.jpg', 'SeaLake_169.jpg', 'SeaLake_585.jpg', 'SeaLake_2370.jpg', 'SeaLake_626.jpg', 'SeaLake_1090.jpg', 'SeaLake_1606.jpg', 'SeaLake_395.jpg', 'SeaLake_1639.jpg', 'SeaLake_2075.jpg', 'SeaLake_1384.jpg', 'SeaLake_1409.jpg', 'SeaLake_2017.jpg', 'SeaLake_2793.jpg', 'SeaLake_1956.jpg', 'SeaLake_1824.jpg', 'SeaLake_398.jpg', 'SeaLake_2760.jpg', 'SeaLake_2080.jpg', 'SeaLake_1752.jpg', 'SeaLake_1300.jpg', 'SeaLake_2880.jpg', 'SeaLake_1117.jpg', 'SeaLake_2996.jpg', 'SeaLake_1571.jpg', 'SeaLake_1627.jpg', 'SeaLake_439.jpg', 'SeaLake_2921.jpg', 'SeaLake_408.jpg', 'SeaLake_378.jpg', 'SeaLake_2525.jpg', 'SeaLake_2267.jpg', 'SeaLake_4.jpg', 'SeaLake_2514.jpg', 'SeaLake_2400.jpg', 'SeaLake_940.jpg', 'SeaLake_1272.jpg', 'SeaLake_2518.jpg', 'SeaLake_331.jpg', 'SeaLake_622.jpg', 'SeaLake_2586.jpg', 'SeaLake_2199.jpg', 'SeaLake_1946.jpg', 'SeaLake_2826.jpg', 'SeaLake_978.jpg', 'SeaLake_205.jpg', 'SeaLake_541.jpg', 'SeaLake_434.jpg', 'SeaLake_2093.jpg', 'SeaLake_491.jpg', 'SeaLake_2768.jpg', 'SeaLake_991.jpg', 'SeaLake_2528.jpg', 'SeaLake_407.jpg', 'SeaLake_2023.jpg', 'SeaLake_2179.jpg', 'SeaLake_2668.jpg', 'SeaLake_2823.jpg', 'SeaLake_1898.jpg', 'SeaLake_679.jpg', 'SeaLake_1120.jpg', 'SeaLake_2254.jpg', 'SeaLake_2005.jpg', 'SeaLake_420.jpg', 'SeaLake_1400.jpg', 'SeaLake_2687.jpg', 'SeaLake_125.jpg', 'SeaLake_1711.jpg', 'SeaLake_2459.jpg', 'SeaLake_2273.jpg', 'SeaLake_1313.jpg', 'SeaLake_279.jpg', 'SeaLake_818.jpg', 'SeaLake_2368.jpg', 'SeaLake_1657.jpg', 'SeaLake_1072.jpg', 'SeaLake_117.jpg', 'SeaLake_2006.jpg', 'SeaLake_2037.jpg', 'SeaLake_1592.jpg', 'SeaLake_671.jpg', 'SeaLake_987.jpg', 'SeaLake_1070.jpg', 'SeaLake_1766.jpg', 'SeaLake_1135.jpg', 'SeaLake_61.jpg', 'SeaLake_2962.jpg', 'SeaLake_595.jpg', 'SeaLake_1547.jpg', 'SeaLake_2079.jpg', 'SeaLake_861.jpg', 'SeaLake_2130.jpg', 'SeaLake_1061.jpg', 'SeaLake_1261.jpg', 'SeaLake_2906.jpg', 'SeaLake_2918.jpg', 'SeaLake_1232.jpg', 'SeaLake_1622.jpg', 'SeaLake_1867.jpg', 'SeaLake_179.jpg', 'SeaLake_1245.jpg', 'SeaLake_2293.jpg', 'SeaLake_263.jpg', 'SeaLake_2196.jpg', 'SeaLake_249.jpg', 'SeaLake_2216.jpg', 'SeaLake_1481.jpg', 'SeaLake_2328.jpg', 'SeaLake_1952.jpg', 'SeaLake_1414.jpg', 'SeaLake_655.jpg', 'SeaLake_1545.jpg', 'SeaLake_2801.jpg', 'SeaLake_1745.jpg', 'SeaLake_2029.jpg', 'SeaLake_1374.jpg', 'SeaLake_1975.jpg', 'SeaLake_2591.jpg', 'SeaLake_1670.jpg', 'SeaLake_495.jpg', 'SeaLake_1998.jpg', 'SeaLake_958.jpg', 'SeaLake_936.jpg', 'SeaLake_1785.jpg', 'SeaLake_356.jpg', 'SeaLake_2933.jpg', 'SeaLake_232.jpg', 'SeaLake_1681.jpg', 'SeaLake_1416.jpg', 'SeaLake_2003.jpg', 'SeaLake_2210.jpg', 'SeaLake_621.jpg', 'SeaLake_1431.jpg', 'SeaLake_209.jpg', 'SeaLake_1684.jpg', 'SeaLake_1735.jpg', 'SeaLake_1516.jpg', 'SeaLake_559.jpg', 'SeaLake_2673.jpg', 'SeaLake_555.jpg', 'SeaLake_761.jpg', 'SeaLake_1446.jpg', 'SeaLake_1586.jpg', 'SeaLake_2871.jpg', 'SeaLake_1128.jpg', 'SeaLake_2543.jpg', 'SeaLake_2476.jpg', 'SeaLake_2693.jpg', 'SeaLake_506.jpg', 'SeaLake_345.jpg', 'SeaLake_836.jpg', 'SeaLake_2027.jpg', 'SeaLake_2571.jpg', 'SeaLake_514.jpg', 'SeaLake_2520.jpg', 'SeaLake_1822.jpg', 'SeaLake_972.jpg', 'SeaLake_1267.jpg', 'SeaLake_2503.jpg', 'SeaLake_347.jpg', 'SeaLake_88.jpg', 'SeaLake_2496.jpg', 'SeaLake_2426.jpg', 'SeaLake_413.jpg', 'SeaLake_2141.jpg', 'SeaLake_1589.jpg', 'SeaLake_2915.jpg', 'SeaLake_2416.jpg', 'SeaLake_2109.jpg', 'SeaLake_2985.jpg', 'SeaLake_2977.jpg', 'SeaLake_1800.jpg', 'SeaLake_490.jpg', 'SeaLake_2714.jpg', 'SeaLake_147.jpg', 'SeaLake_593.jpg', 'SeaLake_729.jpg', 'SeaLake_448.jpg', 'SeaLake_1864.jpg', 'SeaLake_2830.jpg', 'SeaLake_2502.jpg', 'SeaLake_423.jpg', 'SeaLake_645.jpg', 'SeaLake_867.jpg', 'SeaLake_643.jpg', 'SeaLake_290.jpg', 'SeaLake_2599.jpg', 'SeaLake_2121.jpg', 'SeaLake_1298.jpg', 'SeaLake_1141.jpg', 'SeaLake_2886.jpg', 'SeaLake_2377.jpg', 'SeaLake_66.jpg', 'SeaLake_110.jpg', 'SeaLake_534.jpg', 'SeaLake_2986.jpg', 'SeaLake_2841.jpg', 'SeaLake_728.jpg', 'SeaLake_2447.jpg', 'SeaLake_2812.jpg', 'SeaLake_1646.jpg', 'SeaLake_1542.jpg', 'SeaLake_2125.jpg', 'SeaLake_2618.jpg', 'SeaLake_2831.jpg', 'SeaLake_2683.jpg', 'SeaLake_659.jpg', 'SeaLake_2322.jpg', 'SeaLake_2403.jpg', 'SeaLake_2699.jpg', 'SeaLake_2147.jpg', 'SeaLake_850.jpg', 'SeaLake_1106.jpg', 'SeaLake_2645.jpg', 'SeaLake_2771.jpg', 'SeaLake_1679.jpg', 'SeaLake_1318.jpg', 'SeaLake_701.jpg', 'SeaLake_1218.jpg', 'SeaLake_387.jpg', 'SeaLake_1392.jpg', 'SeaLake_1943.jpg', 'SeaLake_770.jpg', 'SeaLake_613.jpg', 'SeaLake_141.jpg', 'SeaLake_2792.jpg', 'SeaLake_1688.jpg', 'SeaLake_374.jpg', 'SeaLake_901.jpg', 'SeaLake_2108.jpg', 'SeaLake_711.jpg', 'SeaLake_1676.jpg', 'SeaLake_2221.jpg', 'SeaLake_333.jpg', 'SeaLake_1349.jpg', 'SeaLake_344.jpg', 'SeaLake_1339.jpg', 'SeaLake_985.jpg', 'SeaLake_1202.jpg', 'SeaLake_1069.jpg', 'SeaLake_325.jpg', 'SeaLake_2268.jpg', 'SeaLake_2900.jpg', 'SeaLake_2769.jpg', 'SeaLake_1314.jpg', 'SeaLake_2161.jpg', 'SeaLake_635.jpg', 'SeaLake_2473.jpg', 'SeaLake_2916.jpg', 'SeaLake_1130.jpg', 'SeaLake_2527.jpg', 'SeaLake_316.jpg', 'SeaLake_1122.jpg', 'SeaLake_1973.jpg', 'SeaLake_1096.jpg', 'SeaLake_2410.jpg', 'SeaLake_1960.jpg', 'SeaLake_2847.jpg', 'SeaLake_403.jpg', 'SeaLake_937.jpg', 'SeaLake_581.jpg', 'SeaLake_617.jpg', 'SeaLake_630.jpg', 'SeaLake_2724.jpg', 'SeaLake_2564.jpg', 'SeaLake_1166.jpg', 'SeaLake_200.jpg', 'SeaLake_77.jpg', 'SeaLake_360.jpg', 'SeaLake_1071.jpg', 'SeaLake_1920.jpg', 'SeaLake_2941.jpg', 'SeaLake_1233.jpg', 'SeaLake_2248.jpg', 'SeaLake_2004.jpg', 'SeaLake_1706.jpg', 'SeaLake_2854.jpg', 'SeaLake_1317.jpg', 'SeaLake_2678.jpg', 'SeaLake_2353.jpg', 'SeaLake_57.jpg', 'SeaLake_1343.jpg', 'SeaLake_2547.jpg', 'SeaLake_846.jpg', 'SeaLake_299.jpg', 'SeaLake_665.jpg', 'SeaLake_757.jpg', 'SeaLake_830.jpg', 'SeaLake_1021.jpg', 'SeaLake_1209.jpg', 'SeaLake_1336.jpg', 'SeaLake_1348.jpg', 'SeaLake_391.jpg', 'SeaLake_201.jpg', 'SeaLake_1814.jpg', 'SeaLake_1934.jpg', 'SeaLake_208.jpg', 'SeaLake_1177.jpg', 'SeaLake_2837.jpg', 'SeaLake_2207.jpg', 'SeaLake_2395.jpg', 'SeaLake_1347.jpg', 'SeaLake_1189.jpg', 'SeaLake_552.jpg', 'SeaLake_532.jpg', 'SeaLake_220.jpg', 'SeaLake_1582.jpg', 'SeaLake_2684.jpg', 'SeaLake_500.jpg', 'SeaLake_2632.jpg', 'SeaLake_1062.jpg', 'SeaLake_777.jpg', 'SeaLake_1282.jpg', 'SeaLake_252.jpg', 'SeaLake_1013.jpg', 'SeaLake_975.jpg', 'SeaLake_2649.jpg', 'SeaLake_2020.jpg', 'SeaLake_869.jpg', 'SeaLake_2168.jpg', 'SeaLake_1841.jpg', 'SeaLake_1565.jpg', 'SeaLake_1804.jpg', 'SeaLake_2992.jpg', 'SeaLake_2213.jpg', 'SeaLake_1418.jpg', 'SeaLake_2038.jpg', 'SeaLake_2775.jpg', 'SeaLake_2365.jpg', 'SeaLake_86.jpg', 'SeaLake_2173.jpg', 'SeaLake_2576.jpg', 'SeaLake_1182.jpg', 'SeaLake_1988.jpg', 'SeaLake_2195.jpg', 'SeaLake_2766.jpg', 'SeaLake_1501.jpg', 'SeaLake_699.jpg', 'SeaLake_2567.jpg', 'SeaLake_2208.jpg', 'SeaLake_2059.jpg', 'SeaLake_131.jpg', 'SeaLake_1161.jpg', 'SeaLake_1084.jpg', 'SeaLake_372.jpg', 'SeaLake_2522.jpg', 'SeaLake_872.jpg', 'SeaLake_2098.jpg', 'SeaLake_1738.jpg', 'SeaLake_1123.jpg', 'SeaLake_2727.jpg', 'SeaLake_2458.jpg', 'SeaLake_1669.jpg', 'SeaLake_2048.jpg', 'SeaLake_2319.jpg', 'SeaLake_2998.jpg', 'SeaLake_2988.jpg', 'SeaLake_350.jpg', 'SeaLake_369.jpg', 'SeaLake_522.jpg', 'SeaLake_2568.jpg', 'SeaLake_2835.jpg', 'SeaLake_2834.jpg', 'SeaLake_2106.jpg', 'SeaLake_2061.jpg', 'SeaLake_1772.jpg', 'SeaLake_1511.jpg', 'SeaLake_518.jpg', 'SeaLake_775.jpg', 'SeaLake_1881.jpg', 'SeaLake_1846.jpg', 'SeaLake_246.jpg', 'SeaLake_2107.jpg', 'SeaLake_1972.jpg', 'SeaLake_2843.jpg', 'SeaLake_2711.jpg', 'SeaLake_359.jpg', 'SeaLake_83.jpg', 'SeaLake_1445.jpg', 'SeaLake_2491.jpg', 'SeaLake_2849.jpg', 'SeaLake_298.jpg', 'SeaLake_1795.jpg', 'SeaLake_1727.jpg', 'SeaLake_1054.jpg', 'SeaLake_2138.jpg', 'SeaLake_1983.jpg', 'SeaLake_562.jpg', 'SeaLake_570.jpg', 'SeaLake_431.jpg', 'SeaLake_1549.jpg', 'SeaLake_1944.jpg', 'SeaLake_2676.jpg', 'SeaLake_661.jpg', 'SeaLake_988.jpg', 'SeaLake_2231.jpg', 'SeaLake_1803.jpg', 'SeaLake_2512.jpg', 'SeaLake_2396.jpg', 'SeaLake_1060.jpg', 'SeaLake_1341.jpg', 'SeaLake_2409.jpg', 'SeaLake_1691.jpg', 'SeaLake_1167.jpg', 'SeaLake_2617.jpg', 'SeaLake_2246.jpg', 'SeaLake_2868.jpg', 'SeaLake_2803.jpg', 'SeaLake_2018.jpg', 'SeaLake_1879.jpg', 'SeaLake_1598.jpg', 'SeaLake_1248.jpg', 'SeaLake_1008.jpg', 'SeaLake_1092.jpg', 'SeaLake_426.jpg', 'SeaLake_929.jpg', 'SeaLake_1811.jpg', 'SeaLake_1513.jpg', 'SeaLake_1601.jpg', 'SeaLake_396.jpg', 'SeaLake_708.jpg', 'SeaLake_2264.jpg', 'SeaLake_1284.jpg', 'SeaLake_688.jpg', 'SeaLake_2162.jpg', 'SeaLake_2796.jpg', 'SeaLake_483.jpg', 'SeaLake_1342.jpg', 'SeaLake_2217.jpg', 'SeaLake_561.jpg', 'SeaLake_2893.jpg', 'SeaLake_186.jpg', 'SeaLake_1053.jpg', 'SeaLake_703.jpg', 'SeaLake_2469.jpg', 'SeaLake_161.jpg', 'SeaLake_317.jpg', 'SeaLake_1124.jpg', 'SeaLake_2090.jpg', 'SeaLake_2859.jpg', 'SeaLake_488.jpg', 'SeaLake_1910.jpg', 'SeaLake_1068.jpg', 'SeaLake_1320.jpg', 'SeaLake_306.jpg', 'SeaLake_2780.jpg', 'SeaLake_1156.jpg', 'SeaLake_1033.jpg', 'SeaLake_2932.jpg', 'SeaLake_2067.jpg', 'SeaLake_2117.jpg', 'SeaLake_2978.jpg', 'SeaLake_2039.jpg', 'SeaLake_489.jpg', 'SeaLake_95.jpg', 'SeaLake_2530.jpg', 'SeaLake_2345.jpg', 'SeaLake_2813.jpg', 'SeaLake_336.jpg', 'SeaLake_829.jpg', 'SeaLake_2350.jpg', 'SeaLake_388.jpg', 'SeaLake_904.jpg', 'SeaLake_1543.jpg', 'SeaLake_2637.jpg', 'SeaLake_2596.jpg', 'SeaLake_815.jpg', 'SeaLake_2375.jpg', 'SeaLake_2517.jpg', 'SeaLake_1658.jpg', 'SeaLake_576.jpg', 'SeaLake_2040.jpg', 'SeaLake_1987.jpg', 'SeaLake_2272.jpg', 'SeaLake_2139.jpg', 'SeaLake_2308.jpg', 'SeaLake_2609.jpg', 'SeaLake_248.jpg', 'SeaLake_1046.jpg', 'SeaLake_591.jpg', 'SeaLake_2303.jpg', 'SeaLake_2912.jpg', 'SeaLake_1301.jpg', 'SeaLake_1192.jpg', 'SeaLake_307.jpg', 'SeaLake_2904.jpg', 'SeaLake_2563.jpg', 'SeaLake_1751.jpg', 'SeaLake_1457.jpg', 'SeaLake_1439.jpg', 'SeaLake_129.jpg', 'SeaLake_238.jpg', 'SeaLake_2285.jpg', 'SeaLake_2382.jpg', 'SeaLake_1559.jpg', 'SeaLake_2443.jpg', 'SeaLake_2535.jpg', 'SeaLake_1412.jpg', 'SeaLake_933.jpg', 'SeaLake_2349.jpg', 'SeaLake_1885.jpg', 'SeaLake_154.jpg', 'SeaLake_572.jpg', 'SeaLake_2095.jpg', 'SeaLake_1244.jpg', 'SeaLake_2910.jpg', 'SeaLake_1561.jpg', 'SeaLake_2077.jpg', 'SeaLake_2234.jpg', 'SeaLake_1815.jpg', 'SeaLake_2748.jpg', 'SeaLake_76.jpg', 'SeaLake_1066.jpg', 'SeaLake_557.jpg', 'SeaLake_2189.jpg', 'SeaLake_9.jpg', 'SeaLake_451.jpg', 'SeaLake_1183.jpg', 'SeaLake_2135.jpg', 'SeaLake_2197.jpg', 'SeaLake_1593.jpg', 'SeaLake_1034.jpg', 'SeaLake_1396.jpg', 'SeaLake_481.jpg', 'SeaLake_2088.jpg', 'SeaLake_1174.jpg', 'SeaLake_1126.jpg', 'SeaLake_2266.jpg', 'SeaLake_2030.jpg', 'SeaLake_2863.jpg', 'SeaLake_376.jpg', 'SeaLake_1928.jpg', 'SeaLake_825.jpg', 'SeaLake_1929.jpg', 'SeaLake_884.jpg', 'SeaLake_33.jpg', 'SeaLake_2671.jpg', 'SeaLake_1440.jpg', 'SeaLake_1664.jpg', 'SeaLake_1504.jpg', 'SeaLake_1816.jpg', 'SeaLake_2325.jpg', 'SeaLake_39.jpg', 'SeaLake_2456.jpg', 'SeaLake_2669.jpg', 'SeaLake_2807.jpg', 'SeaLake_2342.jpg', 'SeaLake_2066.jpg', 'SeaLake_1884.jpg', 'SeaLake_819.jpg', 'SeaLake_2747.jpg', 'SeaLake_2276.jpg', 'SeaLake_2788.jpg', 'SeaLake_2529.jpg', 'SeaLake_456.jpg', 'SeaLake_2865.jpg', 'SeaLake_1844.jpg', 'SeaLake_352.jpg', 'SeaLake_204.jpg', 'SeaLake_870.jpg', 'SeaLake_798.jpg', 'SeaLake_1393.jpg', 'SeaLake_505.jpg', 'SeaLake_668.jpg', 'SeaLake_1793.jpg', 'SeaLake_2132.jpg', 'SeaLake_852.jpg', 'SeaLake_1976.jpg', 'SeaLake_1641.jpg', 'SeaLake_908.jpg', 'SeaLake_329.jpg', 'SeaLake_620.jpg', 'SeaLake_2320.jpg', 'SeaLake_1112.jpg', 'SeaLake_176.jpg', 'SeaLake_102.jpg', 'SeaLake_718.jpg', 'SeaLake_151.jpg', 'SeaLake_2001.jpg', 'SeaLake_1990.jpg', 'SeaLake_24.jpg', 'SeaLake_1109.jpg', 'SeaLake_1590.jpg', 'SeaLake_2552.jpg', 'SeaLake_2972.jpg', 'SeaLake_2980.jpg', 'SeaLake_2873.jpg', 'SeaLake_386.jpg', 'SeaLake_1637.jpg', 'SeaLake_498.jpg', 'SeaLake_2295.jpg', 'SeaLake_801.jpg', 'SeaLake_1939.jpg', 'SeaLake_1230.jpg', 'SeaLake_461.jpg', 'SeaLake_2033.jpg', 'SeaLake_2745.jpg', 'SeaLake_1532.jpg', 'SeaLake_738.jpg', 'SeaLake_2519.jpg', 'SeaLake_588.jpg', 'SeaLake_1403.jpg', 'SeaLake_2486.jpg', 'SeaLake_713.jpg', 'SeaLake_779.jpg', 'SeaLake_2224.jpg', 'SeaLake_601.jpg', 'SeaLake_2689.jpg', 'SeaLake_1345.jpg', 'SeaLake_2802.jpg', 'SeaLake_720.jpg', 'SeaLake_1624.jpg', 'SeaLake_1807.jpg', 'SeaLake_1315.jpg', 'SeaLake_241.jpg', 'SeaLake_1849.jpg', 'SeaLake_2481.jpg', 'SeaLake_60.jpg', 'SeaLake_917.jpg', 'SeaLake_682.jpg', 'SeaLake_1729.jpg', 'SeaLake_2692.jpg', 'SeaLake_674.jpg', 'SeaLake_896.jpg', 'SeaLake_2220.jpg', 'SeaLake_324.jpg', 'SeaLake_1805.jpg', 'SeaLake_242.jpg', 'SeaLake_2513.jpg', 'SeaLake_1229.jpg', 'SeaLake_981.jpg', 'SeaLake_2753.jpg', 'SeaLake_545.jpg', 'SeaLake_1178.jpg', 'SeaLake_2158.jpg', 'SeaLake_1223.jpg', 'SeaLake_281.jpg', 'SeaLake_973.jpg', 'SeaLake_2623.jpg', 'SeaLake_2730.jpg', 'SeaLake_1437.jpg', 'SeaLake_1799.jpg', 'SeaLake_2278.jpg', 'SeaLake_1057.jpg', 'SeaLake_112.jpg', 'SeaLake_1971.jpg', 'SeaLake_2024.jpg', 'SeaLake_2316.jpg', 'SeaLake_517.jpg', 'SeaLake_2454.jpg', 'SeaLake_2804.jpg', 'SeaLake_189.jpg', 'SeaLake_2225.jpg', 'SeaLake_1479.jpg', 'SeaLake_2770.jpg', 'SeaLake_1633.jpg', 'SeaLake_521.jpg', 'SeaLake_1264.jpg', 'SeaLake_499.jpg', 'SeaLake_1172.jpg', 'SeaLake_366.jpg', 'SeaLake_1602.jpg', 'SeaLake_1216.jpg', 'SeaLake_2115.jpg', 'SeaLake_767.jpg', 'SeaLake_126.jpg', 'SeaLake_1673.jpg', 'SeaLake_1607.jpg', 'SeaLake_1138.jpg', 'SeaLake_2245.jpg', 'SeaLake_401.jpg', 'SeaLake_199.jpg', 'SeaLake_1758.jpg', 'SeaLake_842.jpg', 'SeaLake_2298.jpg', 'SeaLake_781.jpg', 'SeaLake_2648.jpg', 'SeaLake_1224.jpg', 'SeaLake_1587.jpg', 'SeaLake_2902.jpg', 'SeaLake_2094.jpg', 'SeaLake_156.jpg', 'SeaLake_2773.jpg', 'SeaLake_1438.jpg', 'SeaLake_2012.jpg', 'SeaLake_1196.jpg', 'SeaLake_2694.jpg', 'SeaLake_1430.jpg', 'SeaLake_72.jpg', 'SeaLake_10.jpg', 'SeaLake_806.jpg', 'SeaLake_1081.jpg', 'SeaLake_1219.jpg', 'SeaLake_1523.jpg', 'SeaLake_47.jpg', 'SeaLake_1463.jpg', 'SeaLake_1056.jpg', 'SeaLake_1784.jpg', 'SeaLake_1474.jpg', 'SeaLake_2148.jpg', 'SeaLake_579.jpg', 'SeaLake_2200.jpg', 'SeaLake_1739.jpg', 'SeaLake_1428.jpg', 'SeaLake_2000.jpg', 'SeaLake_707.jpg', 'SeaLake_950.jpg', 'SeaLake_1647.jpg', 'SeaLake_484.jpg', 'SeaLake_1334.jpg', 'SeaLake_948.jpg', 'SeaLake_1079.jpg', 'SeaLake_2367.jpg', 'SeaLake_2943.jpg', 'SeaLake_2488.jpg', 'SeaLake_2981.jpg', 'SeaLake_820.jpg', 'SeaLake_2294.jpg', 'SeaLake_1266.jpg', 'SeaLake_1154.jpg', 'SeaLake_2500.jpg', 'SeaLake_1160.jpg', 'SeaLake_1498.jpg', 'SeaLake_153.jpg', 'SeaLake_2364.jpg', 'SeaLake_1025.jpg', 'SeaLake_1199.jpg', 'SeaLake_1742.jpg', 'SeaLake_2327.jpg', 'SeaLake_1187.jpg', 'SeaLake_2636.jpg', 'SeaLake_1925.jpg', 'SeaLake_1588.jpg', 'SeaLake_866.jpg', 'SeaLake_946.jpg', 'SeaLake_2950.jpg', 'SeaLake_916.jpg', 'SeaLake_51.jpg', 'SeaLake_976.jpg', 'SeaLake_2510.jpg', 'SeaLake_1257.jpg', 'SeaLake_1776.jpg', 'SeaLake_2523.jpg', 'SeaLake_1575.jpg', 'SeaLake_2872.jpg', 'SeaLake_1249.jpg', 'SeaLake_2202.jpg', 'SeaLake_892.jpg', 'SeaLake_1482.jpg', 'SeaLake_868.jpg', 'SeaLake_1085.jpg', 'SeaLake_1017.jpg', 'SeaLake_2384.jpg', 'SeaLake_2554.jpg', 'SeaLake_898.jpg', 'SeaLake_2958.jpg', 'SeaLake_1854.jpg', 'SeaLake_726.jpg', 'SeaLake_425.jpg', 'SeaLake_2947.jpg', 'SeaLake_1789.jpg', 'SeaLake_2146.jpg', 'SeaLake_2983.jpg', 'SeaLake_680.jpg', 'SeaLake_2123.jpg', 'SeaLake_1677.jpg', 'SeaLake_2956.jpg', 'SeaLake_1519.jpg', 'SeaLake_1576.jpg', 'SeaLake_1821.jpg', 'SeaLake_275.jpg', 'SeaLake_2211.jpg', 'SeaLake_2990.jpg', 'SeaLake_1731.jpg', 'SeaLake_968.jpg', 'SeaLake_969.jpg', 'SeaLake_1591.jpg', 'SeaLake_2505.jpg', 'SeaLake_2954.jpg', 'SeaLake_243.jpg', 'SeaLake_519.jpg', 'SeaLake_193.jpg', 'SeaLake_2116.jpg', 'SeaLake_1256.jpg', 'SeaLake_2549.jpg', 'SeaLake_1231.jpg', 'SeaLake_2309.jpg', 'SeaLake_2373.jpg', 'SeaLake_712.jpg', 'SeaLake_1039.jpg', 'SeaLake_1100.jpg', 'SeaLake_8.jpg', 'SeaLake_653.jpg', 'SeaLake_191.jpg', 'SeaLake_1276.jpg', 'SeaLake_2180.jpg', 'SeaLake_2562.jpg', 'SeaLake_982.jpg', 'SeaLake_995.jpg', 'SeaLake_2412.jpg', 'SeaLake_2936.jpg', 'SeaLake_1180.jpg', 'SeaLake_292.jpg', 'SeaLake_465.jpg', 'SeaLake_385.jpg', 'SeaLake_284.jpg', 'SeaLake_1744.jpg', 'SeaLake_1488.jpg', 'SeaLake_2999.jpg', 'SeaLake_974.jpg', 'SeaLake_2945.jpg', 'SeaLake_2555.jpg', 'SeaLake_2584.jpg', 'SeaLake_2856.jpg', 'SeaLake_1201.jpg', 'SeaLake_2627.jpg', 'SeaLake_330.jpg', 'SeaLake_925.jpg', 'SeaLake_2413.jpg', 'SeaLake_1775.jpg', 'SeaLake_2259.jpg', 'SeaLake_2559.jpg', 'SeaLake_2626.jpg', 'SeaLake_814.jpg', 'SeaLake_914.jpg', 'SeaLake_2922.jpg', 'SeaLake_2675.jpg', 'SeaLake_119.jpg', 'SeaLake_859.jpg', 'SeaLake_2948.jpg', 'SeaLake_2009.jpg', 'SeaLake_1942.jpg', 'SeaLake_2351.jpg', 'SeaLake_1325.jpg', 'SeaLake_1757.jpg', 'SeaLake_2806.jpg', 'SeaLake_1832.jpg', 'SeaLake_404.jpg', 'SeaLake_2590.jpg', 'SeaLake_1862.jpg', 'SeaLake_877.jpg', 'SeaLake_75.jpg', 'SeaLake_2976.jpg', 'SeaLake_1271.jpg', 'SeaLake_860.jpg', 'SeaLake_577.jpg', 'SeaLake_2735.jpg', 'SeaLake_16.jpg', 'SeaLake_515.jpg', 'SeaLake_1049.jpg', 'SeaLake_303.jpg', 'SeaLake_1470.jpg', 'SeaLake_1063.jpg', 'SeaLake_1926.jpg', 'SeaLake_105.jpg', 'SeaLake_2358.jpg', 'SeaLake_1774.jpg', 'SeaLake_334.jpg', 'SeaLake_900.jpg', 'SeaLake_1295.jpg', 'SeaLake_2799.jpg', 'SeaLake_2282.jpg', 'SeaLake_1978.jpg', 'SeaLake_2697.jpg', 'SeaLake_1853.jpg', 'SeaLake_312.jpg', 'SeaLake_992.jpg', 'SeaLake_2354.jpg', 'SeaLake_2176.jpg', 'SeaLake_807.jpg', 'SeaLake_2482.jpg', 'SeaLake_365.jpg', 'SeaLake_784.jpg', 'SeaLake_158.jpg', 'SeaLake_23.jpg', 'SeaLake_384.jpg', 'SeaLake_2883.jpg', 'SeaLake_1563.jpg', 'SeaLake_2971.jpg', 'SeaLake_1040.jpg', 'SeaLake_2428.jpg', 'SeaLake_632.jpg', 'SeaLake_2277.jpg', 'SeaLake_1357.jpg', 'SeaLake_631.jpg', 'SeaLake_587.jpg', 'SeaLake_1779.jpg', 'SeaLake_843.jpg', 'SeaLake_2493.jpg', 'SeaLake_2881.jpg', 'SeaLake_2842.jpg', 'SeaLake_2621.jpg', 'SeaLake_1045.jpg', 'SeaLake_414.jpg', 'SeaLake_362.jpg', 'SeaLake_2078.jpg', 'SeaLake_794.jpg', 'SeaLake_1002.jpg', 'SeaLake_1243.jpg', 'SeaLake_2757.jpg', 'SeaLake_1909.jpg', 'SeaLake_1107.jpg', 'SeaLake_1405.jpg', 'SeaLake_1850.jpg', 'SeaLake_1119.jpg', 'SeaLake_1204.jpg', 'SeaLake_1615.jpg', 'SeaLake_2178.jpg', 'SeaLake_750.jpg', 'SeaLake_1645.jpg', 'SeaLake_817.jpg', 'SeaLake_1355.jpg', 'SeaLake_1497.jpg', 'SeaLake_1152.jpg', 'SeaLake_989.jpg', 'SeaLake_2314.jpg', 'SeaLake_1613.jpg', 'SeaLake_1020.jpg', 'SeaLake_963.jpg', 'SeaLake_2532.jpg', 'SeaLake_2222.jpg', 'SeaLake_1319.jpg', 'SeaLake_1309.jpg', 'SeaLake_1878.jpg', 'SeaLake_2862.jpg', 'SeaLake_1493.jpg', 'SeaLake_1625.jpg', 'SeaLake_1131.jpg', 'SeaLake_1886.jpg', 'SeaLake_2279.jpg', 'SeaLake_607.jpg', 'SeaLake_2789.jpg', 'SeaLake_2464.jpg', 'SeaLake_684.jpg', 'SeaLake_233.jpg', 'SeaLake_2712.jpg', 'SeaLake_714.jpg', 'SeaLake_149.jpg', 'SeaLake_1933.jpg', 'SeaLake_1450.jpg', 'SeaLake_1129.jpg', 'SeaLake_618.jpg', 'SeaLake_1447.jpg', 'SeaLake_1907.jpg', 'SeaLake_363.jpg', 'SeaLake_273.jpg', 'SeaLake_2877.jpg', 'SeaLake_2398.jpg', 'SeaLake_1065.jpg', 'SeaLake_389.jpg', 'SeaLake_1143.jpg', 'SeaLake_2642.jpg', 'SeaLake_89.jpg', 'SeaLake_430.jpg', 'SeaLake_1480.jpg', 'SeaLake_2706.jpg', 'SeaLake_2363.jpg', 'SeaLake_106.jpg', 'SeaLake_322.jpg', 'SeaLake_2650.jpg', 'SeaLake_236.jpg', 'SeaLake_1413.jpg', 'SeaLake_2934.jpg', 'SeaLake_2188.jpg', 'SeaLake_749.jpg', 'SeaLake_660.jpg', 'SeaLake_1385.jpg', 'SeaLake_1305.jpg', 'SeaLake_2710.jpg', 'SeaLake_2946.jpg', 'SeaLake_1127.jpg', 'SeaLake_1337.jpg', 'SeaLake_2193.jpg', 'SeaLake_1694.jpg', 'SeaLake_379.jpg', 'SeaLake_2414.jpg', 'SeaLake_762.jpg', 'SeaLake_1277.jpg', 'SeaLake_1940.jpg', 'SeaLake_2438.jpg', 'SeaLake_1145.jpg', 'SeaLake_2041.jpg', 'SeaLake_1617.jpg', 'SeaLake_1356.jpg', 'SeaLake_2069.jpg', 'SeaLake_2155.jpg', 'SeaLake_474.jpg', 'SeaLake_2455.jpg', 'SeaLake_136.jpg', 'SeaLake_254.jpg', 'SeaLake_1810.jpg', 'SeaLake_1855.jpg', 'SeaLake_637.jpg', 'SeaLake_2057.jpg', 'SeaLake_1401.jpg', 'SeaLake_1184.jpg', 'SeaLake_2244.jpg', 'SeaLake_213.jpg', 'SeaLake_1500.jpg', 'SeaLake_899.jpg', 'SeaLake_53.jpg', 'SeaLake_1324.jpg', 'SeaLake_2317.jpg', 'SeaLake_1473.jpg', 'SeaLake_705.jpg', 'SeaLake_2357.jpg', 'SeaLake_2417.jpg', 'SeaLake_2709.jpg', 'SeaLake_1536.jpg', 'SeaLake_1750.jpg', 'SeaLake_2230.jpg', 'SeaLake_1732.jpg', 'SeaLake_692.jpg', 'SeaLake_897.jpg', 'SeaLake_2810.jpg', 'SeaLake_1453.jpg', 'SeaLake_253.jpg', 'SeaLake_2249.jpg', 'SeaLake_1395.jpg', 'SeaLake_2497.jpg', 'SeaLake_1398.jpg', 'SeaLake_309.jpg', 'SeaLake_2484.jpg', 'SeaLake_2707.jpg', 'SeaLake_2366.jpg', 'SeaLake_1489.jpg', 'SeaLake_874.jpg', 'SeaLake_2720.jpg', 'SeaLake_2386.jpg', 'SeaLake_1644.jpg', 'SeaLake_2128.jpg', 'SeaLake_1148.jpg', 'SeaLake_523.jpg', 'SeaLake_2229.jpg', 'SeaLake_2152.jpg', 'SeaLake_942.jpg', 'SeaLake_627.jpg', 'SeaLake_573.jpg', 'SeaLake_835.jpg', 'SeaLake_1890.jpg', 'SeaLake_326.jpg', 'SeaLake_2441.jpg', 'SeaLake_1918.jpg', 'SeaLake_2261.jpg', 'SeaLake_616.jpg', 'SeaLake_148.jpg', 'SeaLake_1358.jpg', 'SeaLake_1954.jpg', 'SeaLake_2917.jpg', 'SeaLake_1420.jpg', 'SeaLake_2726.jpg', 'SeaLake_437.jpg', 'SeaLake_2898.jpg', 'SeaLake_2480.jpg', 'SeaLake_2695.jpg', 'SeaLake_2120.jpg', 'SeaLake_2256.jpg', 'SeaLake_1116.jpg', 'SeaLake_1636.jpg', 'SeaLake_218.jpg', 'SeaLake_2435.jpg', 'SeaLake_612.jpg', 'SeaLake_2035.jpg', 'SeaLake_919.jpg', 'SeaLake_754.jpg', 'SeaLake_1371.jpg', 'SeaLake_353.jpg', 'SeaLake_1000.jpg', 'SeaLake_1067.jpg', 'SeaLake_508.jpg', 'SeaLake_1581.jpg', 'SeaLake_1018.jpg', 'SeaLake_80.jpg', 'SeaLake_1678.jpg', 'SeaLake_2736.jpg', 'SeaLake_443.jpg', 'SeaLake_78.jpg', 'SeaLake_716.jpg', 'SeaLake_1848.jpg', 'SeaLake_2600.jpg', 'SeaLake_2495.jpg', 'SeaLake_2097.jpg', 'SeaLake_1115.jpg', 'SeaLake_864.jpg', 'SeaLake_1352.jpg', 'SeaLake_811.jpg', 'SeaLake_1421.jpg', 'SeaLake_394.jpg', 'SeaLake_256.jpg', 'SeaLake_906.jpg', 'SeaLake_1747.jpg', 'SeaLake_2920.jpg', 'SeaLake_2404.jpg', 'SeaLake_880.jpg', 'SeaLake_142.jpg', 'SeaLake_84.jpg', 'SeaLake_2852.jpg', 'SeaLake_1949.jpg', 'SeaLake_758.jpg', 'SeaLake_838.jpg', 'SeaLake_225.jpg', 'SeaLake_71.jpg', 'SeaLake_2708.jpg', 'SeaLake_262.jpg', 'SeaLake_2759.jpg', 'SeaLake_2989.jpg', 'SeaLake_400.jpg', 'SeaLake_172.jpg', 'SeaLake_636.jpg', 'SeaLake_2861.jpg', 'SeaLake_469.jpg', 'SeaLake_1258.jpg', 'SeaLake_1870.jpg', 'SeaLake_81.jpg', 'SeaLake_48.jpg', 'SeaLake_2756.jpg', 'SeaLake_2071.jpg', 'SeaLake_103.jpg', 'SeaLake_1362.jpg', 'SeaLake_1957.jpg', 'SeaLake_165.jpg', 'SeaLake_1958.jpg', 'SeaLake_2392.jpg', 'SeaLake_1836.jpg', 'SeaLake_939.jpg', 'SeaLake_2685.jpg', 'SeaLake_2592.jpg', 'SeaLake_13.jpg', 'SeaLake_1185.jpg', 'SeaLake_603.jpg', 'SeaLake_2845.jpg', 'SeaLake_1616.jpg', 'SeaLake_1241.jpg', 'SeaLake_1113.jpg', 'SeaLake_2250.jpg', 'SeaLake_2113.jpg', 'SeaLake_2337.jpg', 'SeaLake_2733.jpg', 'SeaLake_2060.jpg', 'SeaLake_2391.jpg', 'SeaLake_751.jpg', 'SeaLake_1369.jpg', 'SeaLake_2461.jpg', 'SeaLake_1176.jpg', 'SeaLake_984.jpg', 'SeaLake_1893.jpg', 'SeaLake_1059.jpg', 'SeaLake_2940.jpg', 'SeaLake_2681.jpg', 'SeaLake_2219.jpg', 'SeaLake_2774.jpg', 'SeaLake_597.jpg', 'SeaLake_2537.jpg', 'SeaLake_295.jpg', 'SeaLake_1584.jpg', 'SeaLake_1996.jpg', 'SeaLake_219.jpg', 'SeaLake_1252.jpg', 'SeaLake_1661.jpg', 'SeaLake_1818.jpg', 'SeaLake_1328.jpg', 'SeaLake_1837.jpg', 'SeaLake_2233.jpg', 'SeaLake_625.jpg', 'SeaLake_2445.jpg', 'SeaLake_1685.jpg', 'SeaLake_1007.jpg', 'SeaLake_1562.jpg', 'SeaLake_2348.jpg', 'SeaLake_1791.jpg', 'SeaLake_1923.jpg', 'SeaLake_1897.jpg', 'SeaLake_415.jpg', 'SeaLake_735.jpg', 'SeaLake_2876.jpg', 'SeaLake_1721.jpg', 'SeaLake_1953.jpg', 'SeaLake_1158.jpg', 'SeaLake_2271.jpg', 'SeaLake_2767.jpg', 'SeaLake_2579.jpg', 'SeaLake_1980.jpg', 'SeaLake_2786.jpg', 'SeaLake_524.jpg', 'SeaLake_194.jpg', 'SeaLake_651.jpg', 'SeaLake_646.jpg', 'SeaLake_466.jpg', 'SeaLake_629.jpg', 'SeaLake_1626.jpg', 'SeaLake_1903.jpg', 'SeaLake_1200.jpg', 'SeaLake_2653.jpg', 'SeaLake_2297.jpg', 'SeaLake_1280.jpg', 'SeaLake_1690.jpg', 'SeaLake_2811.jpg', 'SeaLake_1292.jpg', 'SeaLake_1948.jpg', 'SeaLake_173.jpg', 'SeaLake_274.jpg', 'SeaLake_1105.jpg', 'SeaLake_971.jpg', 'SeaLake_341.jpg', 'SeaLake_1866.jpg', 'SeaLake_227.jpg', 'SeaLake_348.jpg', 'SeaLake_685.jpg', 'SeaLake_167.jpg', 'SeaLake_421.jpg', 'SeaLake_2963.jpg', 'SeaLake_239.jpg', 'SeaLake_881.jpg', 'SeaLake_190.jpg', 'SeaLake_1649.jpg', 'SeaLake_1316.jpg', 'SeaLake_652.jpg', 'SeaLake_1235.jpg', 'SeaLake_463.jpg', 'SeaLake_2968.jpg', 'SeaLake_1442.jpg', 'SeaLake_734.jpg', 'SeaLake_412.jpg', 'SeaLake_2442.jpg', 'SeaLake_1835.jpg', 'SeaLake_2401.jpg', 'SeaLake_721.jpg', 'SeaLake_1472.jpg', 'SeaLake_792.jpg', 'SeaLake_2601.jpg', 'SeaLake_2680.jpg', 'SeaLake_2468.jpg', 'SeaLake_1149.jpg', 'SeaLake_1702.jpg', 'SeaLake_2582.jpg', 'SeaLake_2026.jpg', 'SeaLake_1825.jpg', 'SeaLake_2167.jpg', 'SeaLake_744.jpg', 'SeaLake_1332.jpg', 'SeaLake_416.jpg', 'SeaLake_2723.jpg', 'SeaLake_1782.jpg', 'SeaLake_812.jpg', 'SeaLake_2306.jpg', 'SeaLake_2072.jpg', 'SeaLake_783.jpg', 'SeaLake_1094.jpg', 'SeaLake_155.jpg', 'SeaLake_2372.jpg', 'SeaLake_1208.jpg', 'SeaLake_2891.jpg', 'SeaLake_1700.jpg', 'SeaLake_2028.jpg', 'SeaLake_611.jpg', 'SeaLake_745.jpg', 'SeaLake_1388.jpg', 'SeaLake_2524.jpg', 'SeaLake_2440.jpg', 'SeaLake_1924.jpg', 'SeaLake_709.jpg', 'SeaLake_2667.jpg', 'SeaLake_1531.jpg', 'SeaLake_418.jpg', 'SeaLake_226.jpg', 'SeaLake_1254.jpg', 'SeaLake_2556.jpg', 'SeaLake_503.jpg', 'SeaLake_787.jpg', 'SeaLake_1922.jpg', 'SeaLake_2430.jpg', 'SeaLake_82.jpg', 'SeaLake_187.jpg', 'SeaLake_834.jpg', 'SeaLake_2307.jpg', 'SeaLake_644.jpg', 'SeaLake_1992.jpg', 'SeaLake_1360.jpg', 'SeaLake_986.jpg', 'SeaLake_245.jpg', 'SeaLake_450.jpg', 'SeaLake_1424.jpg', 'SeaLake_2275.jpg', 'SeaLake_1838.jpg', 'SeaLake_960.jpg', 'SeaLake_310.jpg', 'SeaLake_2721.jpg', 'SeaLake_599.jpg', 'SeaLake_127.jpg', 'SeaLake_2025.jpg', 'SeaLake_1186.jpg', 'SeaLake_137.jpg', 'SeaLake_247.jpg', 'SeaLake_1465.jpg', 'SeaLake_1088.jpg', 'SeaLake_2340.jpg', 'SeaLake_2063.jpg', 'SeaLake_63.jpg', 'SeaLake_511.jpg', 'SeaLake_1164.jpg', 'SeaLake_1672.jpg', 'SeaLake_2310.jpg', 'SeaLake_2533.jpg', 'SeaLake_85.jpg', 'SeaLake_887.jpg', 'SeaLake_2145.jpg', 'SeaLake_409.jpg', 'SeaLake_1011.jpg', 'SeaLake_2257.jpg', 'SeaLake_1817.jpg', 'SeaLake_1381.jpg', 'SeaLake_1527.jpg', 'SeaLake_370.jpg', 'SeaLake_2613.jpg', 'SeaLake_1417.jpg', 'SeaLake_21.jpg', 'SeaLake_467.jpg', 'SeaLake_590.jpg', 'SeaLake_2131.jpg', 'SeaLake_633.jpg', 'SeaLake_144.jpg', 'SeaLake_2174.jpg', 'SeaLake_458.jpg', 'SeaLake_556.jpg', 'SeaLake_217.jpg', 'SeaLake_2696.jpg', 'SeaLake_115.jpg', 'SeaLake_1550.jpg', 'SeaLake_1259.jpg', 'SeaLake_1239.jpg', 'SeaLake_1874.jpg', 'SeaLake_2787.jpg', 'SeaLake_1456.jpg', 'SeaLake_769.jpg', 'SeaLake_480.jpg', 'SeaLake_1693.jpg', 'SeaLake_1812.jpg', 'SeaLake_1914.jpg', 'SeaLake_271.jpg', 'SeaLake_1876.jpg', 'SeaLake_2731.jpg', 'SeaLake_1373.jpg', 'SeaLake_2895.jpg', 'SeaLake_1529.jpg', 'SeaLake_1680.jpg', 'SeaLake_1834.jpg', 'SeaLake_1786.jpg', 'SeaLake_878.jpg', 'SeaLake_2446.jpg', 'SeaLake_614.jpg', 'SeaLake_1969.jpg', 'SeaLake_944.jpg', 'SeaLake_1005.jpg', 'SeaLake_1475.jpg', 'SeaLake_1891.jpg', 'SeaLake_1378.jpg', 'SeaLake_2164.jpg', 'SeaLake_1755.jpg', 'SeaLake_1194.jpg', 'SeaLake_2.jpg', 'SeaLake_1537.jpg', 'SeaLake_1643.jpg', 'SeaLake_2798.jpg', 'SeaLake_1203.jpg', 'SeaLake_69.jpg', 'SeaLake_2287.jpg', 'SeaLake_168.jpg', 'SeaLake_320.jpg', 'SeaLake_1380.jpg', 'SeaLake_2507.jpg', 'SeaLake_2589.jpg', 'SeaLake_393.jpg', 'SeaLake_1966.jpg', 'SeaLake_666.jpg', 'SeaLake_355.jpg', 'SeaLake_2869.jpg', 'SeaLake_841.jpg', 'SeaLake_116.jpg', 'SeaLake_2991.jpg', 'SeaLake_2262.jpg', 'SeaLake_2951.jpg', 'SeaLake_2236.jpg', 'SeaLake_2633.jpg', 'SeaLake_2420.jpg', 'SeaLake_283.jpg', 'SeaLake_889.jpg', 'SeaLake_582.jpg', 'SeaLake_664.jpg', 'SeaLake_1595.jpg', 'SeaLake_428.jpg', 'SeaLake_1015.jpg', 'SeaLake_1743.jpg', 'SeaLake_2557.jpg', 'SeaLake_583.jpg', 'SeaLake_2056.jpg', 'SeaLake_768.jpg', 'SeaLake_1089.jpg', 'SeaLake_565.jpg', 'SeaLake_2751.jpg', 'SeaLake_686.jpg', 'SeaLake_2214.jpg', 'SeaLake_1760.jpg', 'SeaLake_1905.jpg', 'SeaLake_1407.jpg', 'SeaLake_2466.jpg', 'SeaLake_2550.jpg', 'SeaLake_563.jpg', 'SeaLake_1338.jpg', 'SeaLake_1372.jpg', 'SeaLake_2105.jpg', 'SeaLake_2336.jpg', 'SeaLake_1723.jpg', 'SeaLake_1574.jpg', 'SeaLake_2594.jpg', 'SeaLake_672.jpg', 'SeaLake_377.jpg', 'SeaLake_1242.jpg', 'SeaLake_170.jpg', 'SeaLake_773.jpg', 'SeaLake_885.jpg', 'SeaLake_2909.jpg', 'SeaLake_373.jpg', 'SeaLake_1986.jpg', 'SeaLake_2824.jpg', 'SeaLake_2925.jpg', 'SeaLake_926.jpg', 'SeaLake_1251.jpg', 'SeaLake_979.jpg', 'SeaLake_893.jpg', 'SeaLake_328.jpg', 'SeaLake_553.jpg', 'SeaLake_1038.jpg', 'SeaLake_2966.jpg', 'SeaLake_533.jpg', 'SeaLake_510.jpg', 'SeaLake_2754.jpg', 'SeaLake_1916.jpg', 'SeaLake_2952.jpg', 'SeaLake_2888.jpg', 'SeaLake_628.jpg', 'SeaLake_2965.jpg', 'SeaLake_1353.jpg', 'SeaLake_188.jpg', 'SeaLake_1712.jpg', 'SeaLake_2619.jpg', 'SeaLake_2070.jpg', 'SeaLake_882.jpg', 'SeaLake_1863.jpg', 'SeaLake_2423.jpg', 'SeaLake_1970.jpg', 'SeaLake_2091.jpg', 'SeaLake_993.jpg', 'SeaLake_2092.jpg', 'SeaLake_2674.jpg', 'SeaLake_1197.jpg', 'SeaLake_1780.jpg', 'SeaLake_1461.jpg', 'SeaLake_741.jpg', 'SeaLake_2223.jpg', 'SeaLake_1514.jpg', 'SeaLake_2545.jpg', 'SeaLake_650.jpg', 'SeaLake_216.jpg', 'SeaLake_2399.jpg', 'SeaLake_152.jpg', 'SeaLake_905.jpg', 'SeaLake_367.jpg', 'SeaLake_2232.jpg', 'SeaLake_2389.jpg', 'SeaLake_2511.jpg', 'SeaLake_1888.jpg', 'SeaLake_1134.jpg', 'SeaLake_2955.jpg', 'SeaLake_183.jpg', 'SeaLake_2542.jpg', 'SeaLake_2157.jpg', 'SeaLake_22.jpg', 'SeaLake_2509.jpg', 'SeaLake_1634.jpg', 'SeaLake_2969.jpg', 'SeaLake_17.jpg', 'SeaLake_1303.jpg', 'SeaLake_25.jpg', 'SeaLake_338.jpg', 'SeaLake_128.jpg', 'SeaLake_2467.jpg', 'SeaLake_2477.jpg', 'SeaLake_163.jpg', 'SeaLake_848.jpg', 'SeaLake_457.jpg', 'SeaLake_539.jpg', 'SeaLake_1351.jpg', 'SeaLake_2544.jpg', 'SeaLake_1605.jpg', 'SeaLake_2785.jpg', 'SeaLake_1024.jpg', 'SeaLake_114.jpg', 'SeaLake_1052.jpg', 'SeaLake_739.jpg', 'SeaLake_109.jpg', 'SeaLake_1064.jpg', 'SeaLake_159.jpg', 'SeaLake_1770.jpg', 'SeaLake_824.jpg', 'SeaLake_2019.jpg', 'SeaLake_2725.jpg', 'SeaLake_1872.jpg', 'SeaLake_52.jpg', 'SeaLake_774.jpg', 'SeaLake_264.jpg', 'SeaLake_673.jpg', 'SeaLake_198.jpg', 'SeaLake_2051.jpg', 'SeaLake_2580.jpg', 'SeaLake_1572.jpg', 'SeaLake_1217.jpg', 'SeaLake_2913.jpg', 'SeaLake_857.jpg', 'SeaLake_459.jpg', 'SeaLake_678.jpg', 'SeaLake_1118.jpg', 'SeaLake_2291.jpg', 'SeaLake_2661.jpg', 'SeaLake_2374.jpg', 'SeaLake_1451.jpg', 'SeaLake_1147.jpg', 'SeaLake_2360.jpg', 'SeaLake_2540.jpg', 'SeaLake_2541.jpg', 'SeaLake_2433.jpg', 'SeaLake_1921.jpg', 'SeaLake_610.jpg', 'SeaLake_12.jpg', 'SeaLake_2334.jpg', 'SeaLake_1454.jpg', 'SeaLake_858.jpg', 'SeaLake_1087.jpg', 'SeaLake_2889.jpg', 'SeaLake_722.jpg', 'SeaLake_1968.jpg', 'SeaLake_196.jpg', 'SeaLake_1265.jpg', 'SeaLake_38.jpg', 'SeaLake_1383.jpg', 'SeaLake_756.jpg', 'SeaLake_1168.jpg', 'SeaLake_1919.jpg', 'SeaLake_2499.jpg', 'SeaLake_2816.jpg', 'SeaLake_2574.jpg', 'SeaLake_1432.jpg', 'SeaLake_823.jpg', 'SeaLake_1510.jpg', 'SeaLake_1215.jpg', 'SeaLake_2055.jpg', 'SeaLake_670.jpg', 'SeaLake_2478.jpg', 'SeaLake_2521.jpg', 'SeaLake_1801.jpg', 'SeaLake_1640.jpg', 'SeaLake_2013.jpg', 'SeaLake_997.jpg', 'SeaLake_2318.jpg', 'SeaLake_2450.jpg', 'SeaLake_730.jpg', 'SeaLake_2911.jpg', 'SeaLake_2546.jpg', 'SeaLake_2212.jpg', 'SeaLake_2376.jpg', 'SeaLake_221.jpg', 'SeaLake_1031.jpg', 'SeaLake_915.jpg', 'SeaLake_427.jpg', 'SeaLake_244.jpg', 'SeaLake_1350.jpg', 'SeaLake_2598.jpg', 'SeaLake_786.jpg', 'SeaLake_2228.jpg', 'SeaLake_2265.jpg', 'SeaLake_1525.jpg', 'SeaLake_1887.jpg', 'SeaLake_96.jpg', 'SeaLake_1515.jpg', 'SeaLake_2301.jpg', 'SeaLake_56.jpg', 'SeaLake_32.jpg', 'SeaLake_1382.jpg', 'SeaLake_5.jpg', 'SeaLake_662.jpg', 'SeaLake_930.jpg', 'SeaLake_132.jpg']\n",
      "----------------------------------------------------------------------------------------------------------------------------------------------------------------------------------------------------------------------------\n"
     ]
    }
   ],
   "source": [
    "from os import walk\n",
    "i = 0\n",
    "for (dirpath, dirname, filename) in walk(BASE_PATH):\n",
    "    print(\"Directory Path: \", dirpath)\n",
    "    print(\"Directory Name: \", dirname)\n",
    "    print(\"Filename : \", filename)\n",
    "    print(\"----------------------\"*10)\n",
    "    i += 1\n",
    "    if i > 3:\n",
    "        break"
   ]
  },
  {
   "cell_type": "code",
   "execution_count": null,
   "metadata": {
    "id": "mYP-kgYIfFwv"
   },
   "outputs": [],
   "source": [
    "from os import walk\n",
    "\n",
    "i = 0\n",
    "DATA_DF = pd.DataFrame(columns = ['image_id', 'label']) \n",
    "\n",
    "for (dirpath, dirname, filename) in walk(BASE_PATH):\n",
    "    for each_file in filename:\n",
    "        DATA_DF.loc[i] = [each_file, dirpath.split('/')[-1]]\n",
    "        i += 1\n",
    "    #break\n",
    "DATA_DF.to_csv(FULL_DATA_DF, index=False)\n",
    "DATA_DF.head()\n"
   ]
  },
  {
   "cell_type": "markdown",
   "metadata": {
    "id": "ezKUB_xtxZeM"
   },
   "source": [
    "## Processing data folders to train and test\n"
   ]
  },
  {
   "cell_type": "code",
   "execution_count": 24,
   "metadata": {
    "id": "k3gWsPSLoXfW"
   },
   "outputs": [],
   "source": [
    "DATA_DF = pd.read_csv(FULL_DATA_DF)\n",
    "DATA_DF = DATA_DF.sample(frac = 1, random_state=48) \n",
    "TRAIN_DF = DATA_DF[:-int(len(DATA_DF)*VALID_SIZE)]\n",
    "VALID_DF = DATA_DF[-int(len(DATA_DF)*VALID_SIZE) :]"
   ]
  },
  {
   "cell_type": "code",
   "execution_count": 25,
   "metadata": {
    "colab": {
     "base_uri": "https://localhost:8080/",
     "height": 204
    },
    "id": "ZbE1gr-wj5bp",
    "outputId": "ab1ae881-ca3a-4bef-e1cc-f538ad5ece82"
   },
   "outputs": [
    {
     "data": {
      "text/html": [
       "<div>\n",
       "<style scoped>\n",
       "    .dataframe tbody tr th:only-of-type {\n",
       "        vertical-align: middle;\n",
       "    }\n",
       "\n",
       "    .dataframe tbody tr th {\n",
       "        vertical-align: top;\n",
       "    }\n",
       "\n",
       "    .dataframe thead th {\n",
       "        text-align: right;\n",
       "    }\n",
       "</style>\n",
       "<table border=\"1\" class=\"dataframe\">\n",
       "  <thead>\n",
       "    <tr style=\"text-align: right;\">\n",
       "      <th></th>\n",
       "      <th>index</th>\n",
       "      <th>image_id</th>\n",
       "      <th>label</th>\n",
       "    </tr>\n",
       "  </thead>\n",
       "  <tbody>\n",
       "    <tr>\n",
       "      <th>0</th>\n",
       "      <td>19127</td>\n",
       "      <td>Pasture_1123.jpg</td>\n",
       "      <td>Pasture</td>\n",
       "    </tr>\n",
       "    <tr>\n",
       "      <th>1</th>\n",
       "      <td>3197</td>\n",
       "      <td>River_1286.jpg</td>\n",
       "      <td>River</td>\n",
       "    </tr>\n",
       "    <tr>\n",
       "      <th>2</th>\n",
       "      <td>24557</td>\n",
       "      <td>Highway_2076.jpg</td>\n",
       "      <td>Highway</td>\n",
       "    </tr>\n",
       "    <tr>\n",
       "      <th>3</th>\n",
       "      <td>17042</td>\n",
       "      <td>Forest_2343.jpg</td>\n",
       "      <td>Forest</td>\n",
       "    </tr>\n",
       "    <tr>\n",
       "      <th>4</th>\n",
       "      <td>3697</td>\n",
       "      <td>River_163.jpg</td>\n",
       "      <td>River</td>\n",
       "    </tr>\n",
       "  </tbody>\n",
       "</table>\n",
       "</div>"
      ],
      "text/plain": [
       "   index          image_id    label\n",
       "0  19127  Pasture_1123.jpg  Pasture\n",
       "1   3197    River_1286.jpg    River\n",
       "2  24557  Highway_2076.jpg  Highway\n",
       "3  17042   Forest_2343.jpg   Forest\n",
       "4   3697     River_163.jpg    River"
      ]
     },
     "execution_count": 25,
     "metadata": {},
     "output_type": "execute_result"
    }
   ],
   "source": [
    "TRAIN_DF.reset_index(inplace = True) \n",
    "TRAIN_DF.head()"
   ]
  },
  {
   "cell_type": "code",
   "execution_count": 26,
   "metadata": {
    "colab": {
     "base_uri": "https://localhost:8080/",
     "height": 204
    },
    "id": "Wl0zLSL5j5en",
    "outputId": "e0cba414-e61b-45be-ceb8-286e3f46054d"
   },
   "outputs": [
    {
     "data": {
      "text/html": [
       "<div>\n",
       "<style scoped>\n",
       "    .dataframe tbody tr th:only-of-type {\n",
       "        vertical-align: middle;\n",
       "    }\n",
       "\n",
       "    .dataframe tbody tr th {\n",
       "        vertical-align: top;\n",
       "    }\n",
       "\n",
       "    .dataframe thead th {\n",
       "        text-align: right;\n",
       "    }\n",
       "</style>\n",
       "<table border=\"1\" class=\"dataframe\">\n",
       "  <thead>\n",
       "    <tr style=\"text-align: right;\">\n",
       "      <th></th>\n",
       "      <th>index</th>\n",
       "      <th>image_id</th>\n",
       "      <th>label</th>\n",
       "    </tr>\n",
       "  </thead>\n",
       "  <tbody>\n",
       "    <tr>\n",
       "      <th>0</th>\n",
       "      <td>21985</td>\n",
       "      <td>Industrial_1048.jpg</td>\n",
       "      <td>Industrial</td>\n",
       "    </tr>\n",
       "    <tr>\n",
       "      <th>1</th>\n",
       "      <td>25621</td>\n",
       "      <td>Highway_1755.jpg</td>\n",
       "      <td>Highway</td>\n",
       "    </tr>\n",
       "    <tr>\n",
       "      <th>2</th>\n",
       "      <td>21573</td>\n",
       "      <td>Industrial_2320.jpg</td>\n",
       "      <td>Industrial</td>\n",
       "    </tr>\n",
       "    <tr>\n",
       "      <th>3</th>\n",
       "      <td>25070</td>\n",
       "      <td>Highway_991.jpg</td>\n",
       "      <td>Highway</td>\n",
       "    </tr>\n",
       "    <tr>\n",
       "      <th>4</th>\n",
       "      <td>13947</td>\n",
       "      <td>HerbaceousVegetation_2854.jpg</td>\n",
       "      <td>HerbaceousVegetation</td>\n",
       "    </tr>\n",
       "  </tbody>\n",
       "</table>\n",
       "</div>"
      ],
      "text/plain": [
       "   index                       image_id                 label\n",
       "0  21985            Industrial_1048.jpg            Industrial\n",
       "1  25621               Highway_1755.jpg               Highway\n",
       "2  21573            Industrial_2320.jpg            Industrial\n",
       "3  25070                Highway_991.jpg               Highway\n",
       "4  13947  HerbaceousVegetation_2854.jpg  HerbaceousVegetation"
      ]
     },
     "execution_count": 26,
     "metadata": {},
     "output_type": "execute_result"
    }
   ],
   "source": [
    "VALID_DF.reset_index(inplace = True) \n",
    "VALID_DF.head()"
   ]
  },
  {
   "cell_type": "code",
   "execution_count": 27,
   "metadata": {
    "colab": {
     "base_uri": "https://localhost:8080/"
    },
    "id": "3o5pPRbHyz0z",
    "outputId": "990becbb-3dbe-4f2c-b2ae-dc321888060e"
   },
   "outputs": [
    {
     "data": {
      "text/plain": [
       "(72900, 8100)"
      ]
     },
     "execution_count": 27,
     "metadata": {},
     "output_type": "execute_result"
    }
   ],
   "source": [
    "TRAIN_DF.size, VALID_DF.size"
   ]
  },
  {
   "cell_type": "markdown",
   "metadata": {
    "id": "MBjklv4PW2gz"
   },
   "source": [
    "## Creating Dataset and Dataloaders\n",
    "\n",
    "Now we will Create custom dataset by extending pytorch Dataset class. We also add provision for adding transformers for data augmentation."
   ]
  },
  {
   "cell_type": "code",
   "execution_count": 28,
   "metadata": {
    "id": "26XiMqvvWSkV"
   },
   "outputs": [],
   "source": [
    "class EuroSAT(Dataset):\n",
    "    def __init__(self, train_df, train_dir, transform=None):\n",
    "        self.train_dir = train_dir\n",
    "        self.train_df = train_df\n",
    "        self.transform = transform\n",
    "        \n",
    "    def __len__(self):\n",
    "        return len(self.train_df)\n",
    "    \n",
    "    def __getitem__(self, idx):\n",
    "        row = self.train_df.loc[idx]\n",
    "        img_id, label = row['image_id'], row['label']\n",
    "        img = Image.open(os.path.join(self.train_dir, img_id.split('.')[0].split('_')[0], img_id))\n",
    "        if self.transform:\n",
    "            img = self.transform(img)\n",
    "        return img, encode_label(label)"
   ]
  },
  {
   "cell_type": "markdown",
   "metadata": {
    "id": "0FPnAaTjkPeY"
   },
   "source": [
    "### Transformations and Datasets"
   ]
  },
  {
   "cell_type": "code",
   "execution_count": 29,
   "metadata": {
    "colab": {
     "base_uri": "https://localhost:8080/"
    },
    "id": "B0FOgtFikF3f",
    "outputId": "3a8eb001-158f-44bb-dfa0-b6948f7906a3"
   },
   "outputs": [
    {
     "name": "stdout",
     "output_type": "stream",
     "text": [
      "24300 2700\n"
     ]
    }
   ],
   "source": [
    "## Dataset and transformations\n",
    "data_transform = transforms.Compose([\n",
    "                                transforms.Resize(size=(224, 224)),\n",
    "                                 transforms.CenterCrop(224),\n",
    "                                transforms.ToTensor(),\n",
    "                                 transforms.Normalize([0.485, 0.456, 0.406], [0.229, 0.224, 0.225])\n",
    "                                ])\n",
    "train_ds = EuroSAT(TRAIN_DF, BASE_PATH, data_transform)\n",
    "valid_ds = EuroSAT(VALID_DF, BASE_PATH, data_transform)\n",
    "print(len(train_ds), len(valid_ds))"
   ]
  },
  {
   "cell_type": "code",
   "execution_count": 30,
   "metadata": {
    "colab": {
     "base_uri": "https://localhost:8080/",
     "height": 258
    },
    "id": "1tnMa3_gkF_h",
    "outputId": "d8ccd42c-ae36-4f9c-a43b-659c708094de"
   },
   "outputs": [
    {
     "ename": "RuntimeError",
     "evalue": "Caught RuntimeError in pin memory thread for device 0.\nOriginal Traceback (most recent call last):\n  File \"/local/home/bsoyuer/miniconda3/lib/python3.8/site-packages/torch/utils/data/_utils/pin_memory.py\", line 34, in _pin_memory_loop\n    data = pin_memory(data)\n  File \"/local/home/bsoyuer/miniconda3/lib/python3.8/site-packages/torch/utils/data/_utils/pin_memory.py\", line 65, in pin_memory\n    return type(data)([pin_memory(sample) for sample in data])  # type: ignore[call-arg]\n  File \"/local/home/bsoyuer/miniconda3/lib/python3.8/site-packages/torch/utils/data/_utils/pin_memory.py\", line 65, in <listcomp>\n    return type(data)([pin_memory(sample) for sample in data])  # type: ignore[call-arg]\n  File \"/local/home/bsoyuer/miniconda3/lib/python3.8/site-packages/torch/utils/data/_utils/pin_memory.py\", line 50, in pin_memory\n    return data.pin_memory()\nRuntimeError: CUDA error: all CUDA-capable devices are busy or unavailable\nCUDA kernel errors might be asynchronously reported at some other API call,so the stacktrace below might be incorrect.\nFor debugging consider passing CUDA_LAUNCH_BLOCKING=1.\n",
     "output_type": "error",
     "traceback": [
      "\u001b[0;31m---------------------------------------------------------------------------\u001b[0m",
      "\u001b[0;31mRuntimeError\u001b[0m                              Traceback (most recent call last)",
      "Input \u001b[0;32mIn [30]\u001b[0m, in \u001b[0;36m<cell line: 5>\u001b[0;34m()\u001b[0m\n\u001b[1;32m      3\u001b[0m train_dl \u001b[38;5;241m=\u001b[39m DataLoader(train_ds, batch_size, shuffle\u001b[38;5;241m=\u001b[39m\u001b[38;5;28;01mTrue\u001b[39;00m, num_workers\u001b[38;5;241m=\u001b[39m\u001b[38;5;241m2\u001b[39m, pin_memory\u001b[38;5;241m=\u001b[39m\u001b[38;5;28;01mTrue\u001b[39;00m)\n\u001b[1;32m      4\u001b[0m valid_dl \u001b[38;5;241m=\u001b[39m DataLoader(valid_ds, batch_size, shuffle\u001b[38;5;241m=\u001b[39m\u001b[38;5;28;01mFalse\u001b[39;00m, num_workers\u001b[38;5;241m=\u001b[39m\u001b[38;5;241m2\u001b[39m, pin_memory\u001b[38;5;241m=\u001b[39m\u001b[38;5;28;01mTrue\u001b[39;00m)\n\u001b[0;32m----> 5\u001b[0m \u001b[43mshow_batch\u001b[49m\u001b[43m(\u001b[49m\u001b[43mtrain_dl\u001b[49m\u001b[43m)\u001b[49m\n",
      "Input \u001b[0;32mIn [22]\u001b[0m, in \u001b[0;36mshow_batch\u001b[0;34m(dl)\u001b[0m\n\u001b[1;32m     15\u001b[0m \u001b[38;5;28;01mdef\u001b[39;00m \u001b[38;5;21mshow_batch\u001b[39m(dl):\n\u001b[0;32m---> 16\u001b[0m     \u001b[38;5;28;01mfor\u001b[39;00m images, labels \u001b[38;5;129;01min\u001b[39;00m dl:\n\u001b[1;32m     17\u001b[0m         fig, ax \u001b[38;5;241m=\u001b[39m plt\u001b[38;5;241m.\u001b[39msubplots(figsize\u001b[38;5;241m=\u001b[39m(\u001b[38;5;241m16\u001b[39m, \u001b[38;5;241m8\u001b[39m))\n\u001b[1;32m     18\u001b[0m         ax\u001b[38;5;241m.\u001b[39mset_xticks([]); ax\u001b[38;5;241m.\u001b[39mset_yticks([])\n",
      "File \u001b[0;32m~/miniconda3/lib/python3.8/site-packages/torch/utils/data/dataloader.py:530\u001b[0m, in \u001b[0;36m_BaseDataLoaderIter.__next__\u001b[0;34m(self)\u001b[0m\n\u001b[1;32m    528\u001b[0m \u001b[38;5;28;01mif\u001b[39;00m \u001b[38;5;28mself\u001b[39m\u001b[38;5;241m.\u001b[39m_sampler_iter \u001b[38;5;129;01mis\u001b[39;00m \u001b[38;5;28;01mNone\u001b[39;00m:\n\u001b[1;32m    529\u001b[0m     \u001b[38;5;28mself\u001b[39m\u001b[38;5;241m.\u001b[39m_reset()\n\u001b[0;32m--> 530\u001b[0m data \u001b[38;5;241m=\u001b[39m \u001b[38;5;28;43mself\u001b[39;49m\u001b[38;5;241;43m.\u001b[39;49m\u001b[43m_next_data\u001b[49m\u001b[43m(\u001b[49m\u001b[43m)\u001b[49m\n\u001b[1;32m    531\u001b[0m \u001b[38;5;28mself\u001b[39m\u001b[38;5;241m.\u001b[39m_num_yielded \u001b[38;5;241m+\u001b[39m\u001b[38;5;241m=\u001b[39m \u001b[38;5;241m1\u001b[39m\n\u001b[1;32m    532\u001b[0m \u001b[38;5;28;01mif\u001b[39;00m \u001b[38;5;28mself\u001b[39m\u001b[38;5;241m.\u001b[39m_dataset_kind \u001b[38;5;241m==\u001b[39m _DatasetKind\u001b[38;5;241m.\u001b[39mIterable \u001b[38;5;129;01mand\u001b[39;00m \\\n\u001b[1;32m    533\u001b[0m         \u001b[38;5;28mself\u001b[39m\u001b[38;5;241m.\u001b[39m_IterableDataset_len_called \u001b[38;5;129;01mis\u001b[39;00m \u001b[38;5;129;01mnot\u001b[39;00m \u001b[38;5;28;01mNone\u001b[39;00m \u001b[38;5;129;01mand\u001b[39;00m \\\n\u001b[1;32m    534\u001b[0m         \u001b[38;5;28mself\u001b[39m\u001b[38;5;241m.\u001b[39m_num_yielded \u001b[38;5;241m>\u001b[39m \u001b[38;5;28mself\u001b[39m\u001b[38;5;241m.\u001b[39m_IterableDataset_len_called:\n",
      "File \u001b[0;32m~/miniconda3/lib/python3.8/site-packages/torch/utils/data/dataloader.py:1224\u001b[0m, in \u001b[0;36m_MultiProcessingDataLoaderIter._next_data\u001b[0;34m(self)\u001b[0m\n\u001b[1;32m   1222\u001b[0m \u001b[38;5;28;01melse\u001b[39;00m:\n\u001b[1;32m   1223\u001b[0m     \u001b[38;5;28;01mdel\u001b[39;00m \u001b[38;5;28mself\u001b[39m\u001b[38;5;241m.\u001b[39m_task_info[idx]\n\u001b[0;32m-> 1224\u001b[0m     \u001b[38;5;28;01mreturn\u001b[39;00m \u001b[38;5;28;43mself\u001b[39;49m\u001b[38;5;241;43m.\u001b[39;49m\u001b[43m_process_data\u001b[49m\u001b[43m(\u001b[49m\u001b[43mdata\u001b[49m\u001b[43m)\u001b[49m\n",
      "File \u001b[0;32m~/miniconda3/lib/python3.8/site-packages/torch/utils/data/dataloader.py:1250\u001b[0m, in \u001b[0;36m_MultiProcessingDataLoaderIter._process_data\u001b[0;34m(self, data)\u001b[0m\n\u001b[1;32m   1248\u001b[0m \u001b[38;5;28mself\u001b[39m\u001b[38;5;241m.\u001b[39m_try_put_index()\n\u001b[1;32m   1249\u001b[0m \u001b[38;5;28;01mif\u001b[39;00m \u001b[38;5;28misinstance\u001b[39m(data, ExceptionWrapper):\n\u001b[0;32m-> 1250\u001b[0m     \u001b[43mdata\u001b[49m\u001b[38;5;241;43m.\u001b[39;49m\u001b[43mreraise\u001b[49m\u001b[43m(\u001b[49m\u001b[43m)\u001b[49m\n\u001b[1;32m   1251\u001b[0m \u001b[38;5;28;01mreturn\u001b[39;00m data\n",
      "File \u001b[0;32m~/miniconda3/lib/python3.8/site-packages/torch/_utils.py:457\u001b[0m, in \u001b[0;36mExceptionWrapper.reraise\u001b[0;34m(self)\u001b[0m\n\u001b[1;32m    453\u001b[0m \u001b[38;5;28;01mexcept\u001b[39;00m \u001b[38;5;167;01mTypeError\u001b[39;00m:\n\u001b[1;32m    454\u001b[0m     \u001b[38;5;66;03m# If the exception takes multiple arguments, don't try to\u001b[39;00m\n\u001b[1;32m    455\u001b[0m     \u001b[38;5;66;03m# instantiate since we don't know how to\u001b[39;00m\n\u001b[1;32m    456\u001b[0m     \u001b[38;5;28;01mraise\u001b[39;00m \u001b[38;5;167;01mRuntimeError\u001b[39;00m(msg) \u001b[38;5;28;01mfrom\u001b[39;00m \u001b[38;5;28mNone\u001b[39m\n\u001b[0;32m--> 457\u001b[0m \u001b[38;5;28;01mraise\u001b[39;00m exception\n",
      "\u001b[0;31mRuntimeError\u001b[0m: Caught RuntimeError in pin memory thread for device 0.\nOriginal Traceback (most recent call last):\n  File \"/local/home/bsoyuer/miniconda3/lib/python3.8/site-packages/torch/utils/data/_utils/pin_memory.py\", line 34, in _pin_memory_loop\n    data = pin_memory(data)\n  File \"/local/home/bsoyuer/miniconda3/lib/python3.8/site-packages/torch/utils/data/_utils/pin_memory.py\", line 65, in pin_memory\n    return type(data)([pin_memory(sample) for sample in data])  # type: ignore[call-arg]\n  File \"/local/home/bsoyuer/miniconda3/lib/python3.8/site-packages/torch/utils/data/_utils/pin_memory.py\", line 65, in <listcomp>\n    return type(data)([pin_memory(sample) for sample in data])  # type: ignore[call-arg]\n  File \"/local/home/bsoyuer/miniconda3/lib/python3.8/site-packages/torch/utils/data/_utils/pin_memory.py\", line 50, in pin_memory\n    return data.pin_memory()\nRuntimeError: CUDA error: all CUDA-capable devices are busy or unavailable\nCUDA kernel errors might be asynchronously reported at some other API call,so the stacktrace below might be incorrect.\nFor debugging consider passing CUDA_LAUNCH_BLOCKING=1.\n"
     ]
    }
   ],
   "source": [
    "## Data loaders and showing batch of data\n",
    "batch_size = 64\n",
    "train_dl = DataLoader(train_ds, batch_size, shuffle=True, num_workers=2, pin_memory=True)\n",
    "valid_dl = DataLoader(valid_ds, batch_size, shuffle=False, num_workers=2, pin_memory=True)\n",
    "show_batch(train_dl)"
   ]
  },
  {
   "cell_type": "markdown",
   "metadata": {
    "id": "KJgN9N71kGCF"
   },
   "source": [
    "## Model"
   ]
  },
  {
   "cell_type": "code",
   "execution_count": null,
   "metadata": {
    "id": "QFies6eQkGF5"
   },
   "outputs": [],
   "source": [
    "def accuracy(outputs, labels):\n",
    "    _, preds = torch.max(outputs, dim = 1)\n",
    "    return torch.tensor(torch.sum(preds==labels).item() / len(preds))\n",
    "\n",
    "class MulticlassClassifierBase(nn.Module):\n",
    "    \n",
    "    def training_step(self, batch):\n",
    "        img, label = batch\n",
    "        out = self(img)\n",
    "        loss = criterion(out, label)\n",
    "        accu = accuracy(out, label)\n",
    "        return accu ,loss\n",
    "    def validation_step(self, batch):\n",
    "        img, label = batch\n",
    "        out = self(img)\n",
    "        loss = criterion(out, label)\n",
    "        accu = accuracy(out, label)\n",
    "        return {\"val_loss\": loss.detach(), \"val_acc\": accu}\n",
    "    \n",
    "    def validation_epoch_ends(self, outputs):\n",
    "        batch_loss = [x['val_loss'] for x in outputs]\n",
    "        epoch_loss = torch.stack(batch_loss).mean()\n",
    "        batch_acc = [x['val_acc'] for x in outputs]\n",
    "        epoch_acc = torch.stack(batch_acc).mean()\n",
    "        return {\"val_loss\":epoch_loss.item(), \"val_acc\":epoch_acc.item()}\n",
    "    def epoch_end(self, epoch, result):\n",
    "        print(\"Epoch [{}],train_accu: {:.4f}, learning_rate: {:.4f}, train_loss: {:.4f}, val_loss: {:.4f}, val_acc: {:.4f}\".format(\n",
    "            epoch,result['train_accu'], result['lrs'][-1], result['train_loss'], result['val_loss'], result['val_acc']))"
   ]
  },
  {
   "cell_type": "code",
   "execution_count": 21,
   "metadata": {
    "id": "9td8QTUmnO1W"
   },
   "outputs": [
    {
     "ename": "NameError",
     "evalue": "name 'MulticlassClassifierBase' is not defined",
     "output_type": "error",
     "traceback": [
      "\u001b[0;31m---------------------------------------------------------------------------\u001b[0m",
      "\u001b[0;31mNameError\u001b[0m                                 Traceback (most recent call last)",
      "Input \u001b[0;32mIn [21]\u001b[0m, in \u001b[0;36m<cell line: 1>\u001b[0;34m()\u001b[0m\n\u001b[0;32m----> 1\u001b[0m \u001b[38;5;28;01mclass\u001b[39;00m \u001b[38;5;21;01mLULC_Model\u001b[39;00m(\u001b[43mMulticlassClassifierBase\u001b[49m):\n\u001b[1;32m      2\u001b[0m     \u001b[38;5;28;01mdef\u001b[39;00m \u001b[38;5;21m__init__\u001b[39m(\u001b[38;5;28mself\u001b[39m):\n\u001b[1;32m      3\u001b[0m         \u001b[38;5;28msuper\u001b[39m()\u001b[38;5;241m.\u001b[39m\u001b[38;5;21m__init__\u001b[39m()\n",
      "\u001b[0;31mNameError\u001b[0m: name 'MulticlassClassifierBase' is not defined"
     ]
    }
   ],
   "source": [
    "class LULC_Model(MulticlassClassifierBase):\n",
    "    def __init__(self):\n",
    "        super().__init__()\n",
    "        \n",
    "        #self.network = models.wide_resnet50_2(pretrained=True)\n",
    "        \n",
    "        #self.network = models.resnet50(pretrained=True)\n",
    "        \n",
    "        #self.network, embedding = resnet.__dict__['resnet50'](zero_init_residual=True)\n",
    "        self.network = models.resnet50(pretrained=False)\n",
    "        state_dict = torch.load('../vicreg_pure/vicreg/exp/resnet18_100_newest.pth', map_location=\"cpu\")\n",
    "        #state_dict = torch.load('../vicreg_pure/vicreg/exp/resnet50_100epochs_16_factor.pth', map_location=\"cpu\")\n",
    "        #state_dict = torch.load('../Supervised_Model_Resnet50_Scheduler_3.pth', map_location=\"cpu\")\n",
    "        #print(state_dict.keys())\n",
    "        if \"model\" in state_dict:\n",
    "            state_dict = state_dict[\"model\"]\n",
    "            state_dict = {key.replace(\"module.backbone.\", \"\"): value for (key, value) in state_dict.items()}\n",
    "        self.network.load_state_dict(state_dict, strict=False)\n",
    "        \n",
    "        n_inputs = self.network.fc.in_features\n",
    "        self.network.fc = nn.Sequential(\n",
    "                              nn.Linear(n_inputs, 256),\n",
    "                              nn.ReLU(),\n",
    "                              nn.Dropout(0.5),\n",
    "                              nn.Linear(256, NUM_CLASSES),\n",
    "                              nn.LogSoftmax(dim=1)\n",
    "                                )\n",
    "        print(self.network)\n",
    "        \n",
    "    def forward(self, xb):\n",
    "        return self.network(xb)\n",
    "    \n",
    "    def freeze(self):\n",
    "        for param in self.network.parameters():\n",
    "            param.require_grad=False\n",
    "        for param in self.network.fc.parameters():\n",
    "            param.require_grad=True\n",
    "    def unfreeze(self):\n",
    "        for param in self.network.parameters():\n",
    "            param.require_grad=True"
   ]
  },
  {
   "cell_type": "code",
   "execution_count": 15,
   "metadata": {
    "id": "b-GfOlVIsw-f"
   },
   "outputs": [
    {
     "name": "stdout",
     "output_type": "stream",
     "text": [
      "ResNet(\n",
      "  (conv1): Conv2d(3, 64, kernel_size=(7, 7), stride=(2, 2), padding=(3, 3), bias=False)\n",
      "  (bn1): BatchNorm2d(64, eps=1e-05, momentum=0.1, affine=True, track_running_stats=True)\n",
      "  (relu): ReLU(inplace=True)\n",
      "  (maxpool): MaxPool2d(kernel_size=3, stride=2, padding=1, dilation=1, ceil_mode=False)\n",
      "  (layer1): Sequential(\n",
      "    (0): Bottleneck(\n",
      "      (conv1): Conv2d(64, 64, kernel_size=(1, 1), stride=(1, 1), bias=False)\n",
      "      (bn1): BatchNorm2d(64, eps=1e-05, momentum=0.1, affine=True, track_running_stats=True)\n",
      "      (conv2): Conv2d(64, 64, kernel_size=(3, 3), stride=(1, 1), padding=(1, 1), bias=False)\n",
      "      (bn2): BatchNorm2d(64, eps=1e-05, momentum=0.1, affine=True, track_running_stats=True)\n",
      "      (conv3): Conv2d(64, 256, kernel_size=(1, 1), stride=(1, 1), bias=False)\n",
      "      (bn3): BatchNorm2d(256, eps=1e-05, momentum=0.1, affine=True, track_running_stats=True)\n",
      "      (relu): ReLU(inplace=True)\n",
      "      (downsample): Sequential(\n",
      "        (0): Conv2d(64, 256, kernel_size=(1, 1), stride=(1, 1), bias=False)\n",
      "        (1): BatchNorm2d(256, eps=1e-05, momentum=0.1, affine=True, track_running_stats=True)\n",
      "      )\n",
      "    )\n",
      "    (1): Bottleneck(\n",
      "      (conv1): Conv2d(256, 64, kernel_size=(1, 1), stride=(1, 1), bias=False)\n",
      "      (bn1): BatchNorm2d(64, eps=1e-05, momentum=0.1, affine=True, track_running_stats=True)\n",
      "      (conv2): Conv2d(64, 64, kernel_size=(3, 3), stride=(1, 1), padding=(1, 1), bias=False)\n",
      "      (bn2): BatchNorm2d(64, eps=1e-05, momentum=0.1, affine=True, track_running_stats=True)\n",
      "      (conv3): Conv2d(64, 256, kernel_size=(1, 1), stride=(1, 1), bias=False)\n",
      "      (bn3): BatchNorm2d(256, eps=1e-05, momentum=0.1, affine=True, track_running_stats=True)\n",
      "      (relu): ReLU(inplace=True)\n",
      "    )\n",
      "    (2): Bottleneck(\n",
      "      (conv1): Conv2d(256, 64, kernel_size=(1, 1), stride=(1, 1), bias=False)\n",
      "      (bn1): BatchNorm2d(64, eps=1e-05, momentum=0.1, affine=True, track_running_stats=True)\n",
      "      (conv2): Conv2d(64, 64, kernel_size=(3, 3), stride=(1, 1), padding=(1, 1), bias=False)\n",
      "      (bn2): BatchNorm2d(64, eps=1e-05, momentum=0.1, affine=True, track_running_stats=True)\n",
      "      (conv3): Conv2d(64, 256, kernel_size=(1, 1), stride=(1, 1), bias=False)\n",
      "      (bn3): BatchNorm2d(256, eps=1e-05, momentum=0.1, affine=True, track_running_stats=True)\n",
      "      (relu): ReLU(inplace=True)\n",
      "    )\n",
      "  )\n",
      "  (layer2): Sequential(\n",
      "    (0): Bottleneck(\n",
      "      (conv1): Conv2d(256, 128, kernel_size=(1, 1), stride=(1, 1), bias=False)\n",
      "      (bn1): BatchNorm2d(128, eps=1e-05, momentum=0.1, affine=True, track_running_stats=True)\n",
      "      (conv2): Conv2d(128, 128, kernel_size=(3, 3), stride=(2, 2), padding=(1, 1), bias=False)\n",
      "      (bn2): BatchNorm2d(128, eps=1e-05, momentum=0.1, affine=True, track_running_stats=True)\n",
      "      (conv3): Conv2d(128, 512, kernel_size=(1, 1), stride=(1, 1), bias=False)\n",
      "      (bn3): BatchNorm2d(512, eps=1e-05, momentum=0.1, affine=True, track_running_stats=True)\n",
      "      (relu): ReLU(inplace=True)\n",
      "      (downsample): Sequential(\n",
      "        (0): Conv2d(256, 512, kernel_size=(1, 1), stride=(2, 2), bias=False)\n",
      "        (1): BatchNorm2d(512, eps=1e-05, momentum=0.1, affine=True, track_running_stats=True)\n",
      "      )\n",
      "    )\n",
      "    (1): Bottleneck(\n",
      "      (conv1): Conv2d(512, 128, kernel_size=(1, 1), stride=(1, 1), bias=False)\n",
      "      (bn1): BatchNorm2d(128, eps=1e-05, momentum=0.1, affine=True, track_running_stats=True)\n",
      "      (conv2): Conv2d(128, 128, kernel_size=(3, 3), stride=(1, 1), padding=(1, 1), bias=False)\n",
      "      (bn2): BatchNorm2d(128, eps=1e-05, momentum=0.1, affine=True, track_running_stats=True)\n",
      "      (conv3): Conv2d(128, 512, kernel_size=(1, 1), stride=(1, 1), bias=False)\n",
      "      (bn3): BatchNorm2d(512, eps=1e-05, momentum=0.1, affine=True, track_running_stats=True)\n",
      "      (relu): ReLU(inplace=True)\n",
      "    )\n",
      "    (2): Bottleneck(\n",
      "      (conv1): Conv2d(512, 128, kernel_size=(1, 1), stride=(1, 1), bias=False)\n",
      "      (bn1): BatchNorm2d(128, eps=1e-05, momentum=0.1, affine=True, track_running_stats=True)\n",
      "      (conv2): Conv2d(128, 128, kernel_size=(3, 3), stride=(1, 1), padding=(1, 1), bias=False)\n",
      "      (bn2): BatchNorm2d(128, eps=1e-05, momentum=0.1, affine=True, track_running_stats=True)\n",
      "      (conv3): Conv2d(128, 512, kernel_size=(1, 1), stride=(1, 1), bias=False)\n",
      "      (bn3): BatchNorm2d(512, eps=1e-05, momentum=0.1, affine=True, track_running_stats=True)\n",
      "      (relu): ReLU(inplace=True)\n",
      "    )\n",
      "    (3): Bottleneck(\n",
      "      (conv1): Conv2d(512, 128, kernel_size=(1, 1), stride=(1, 1), bias=False)\n",
      "      (bn1): BatchNorm2d(128, eps=1e-05, momentum=0.1, affine=True, track_running_stats=True)\n",
      "      (conv2): Conv2d(128, 128, kernel_size=(3, 3), stride=(1, 1), padding=(1, 1), bias=False)\n",
      "      (bn2): BatchNorm2d(128, eps=1e-05, momentum=0.1, affine=True, track_running_stats=True)\n",
      "      (conv3): Conv2d(128, 512, kernel_size=(1, 1), stride=(1, 1), bias=False)\n",
      "      (bn3): BatchNorm2d(512, eps=1e-05, momentum=0.1, affine=True, track_running_stats=True)\n",
      "      (relu): ReLU(inplace=True)\n",
      "    )\n",
      "  )\n",
      "  (layer3): Sequential(\n",
      "    (0): Bottleneck(\n",
      "      (conv1): Conv2d(512, 256, kernel_size=(1, 1), stride=(1, 1), bias=False)\n",
      "      (bn1): BatchNorm2d(256, eps=1e-05, momentum=0.1, affine=True, track_running_stats=True)\n",
      "      (conv2): Conv2d(256, 256, kernel_size=(3, 3), stride=(2, 2), padding=(1, 1), bias=False)\n",
      "      (bn2): BatchNorm2d(256, eps=1e-05, momentum=0.1, affine=True, track_running_stats=True)\n",
      "      (conv3): Conv2d(256, 1024, kernel_size=(1, 1), stride=(1, 1), bias=False)\n",
      "      (bn3): BatchNorm2d(1024, eps=1e-05, momentum=0.1, affine=True, track_running_stats=True)\n",
      "      (relu): ReLU(inplace=True)\n",
      "      (downsample): Sequential(\n",
      "        (0): Conv2d(512, 1024, kernel_size=(1, 1), stride=(2, 2), bias=False)\n",
      "        (1): BatchNorm2d(1024, eps=1e-05, momentum=0.1, affine=True, track_running_stats=True)\n",
      "      )\n",
      "    )\n",
      "    (1): Bottleneck(\n",
      "      (conv1): Conv2d(1024, 256, kernel_size=(1, 1), stride=(1, 1), bias=False)\n",
      "      (bn1): BatchNorm2d(256, eps=1e-05, momentum=0.1, affine=True, track_running_stats=True)\n",
      "      (conv2): Conv2d(256, 256, kernel_size=(3, 3), stride=(1, 1), padding=(1, 1), bias=False)\n",
      "      (bn2): BatchNorm2d(256, eps=1e-05, momentum=0.1, affine=True, track_running_stats=True)\n",
      "      (conv3): Conv2d(256, 1024, kernel_size=(1, 1), stride=(1, 1), bias=False)\n",
      "      (bn3): BatchNorm2d(1024, eps=1e-05, momentum=0.1, affine=True, track_running_stats=True)\n",
      "      (relu): ReLU(inplace=True)\n",
      "    )\n",
      "    (2): Bottleneck(\n",
      "      (conv1): Conv2d(1024, 256, kernel_size=(1, 1), stride=(1, 1), bias=False)\n",
      "      (bn1): BatchNorm2d(256, eps=1e-05, momentum=0.1, affine=True, track_running_stats=True)\n",
      "      (conv2): Conv2d(256, 256, kernel_size=(3, 3), stride=(1, 1), padding=(1, 1), bias=False)\n",
      "      (bn2): BatchNorm2d(256, eps=1e-05, momentum=0.1, affine=True, track_running_stats=True)\n",
      "      (conv3): Conv2d(256, 1024, kernel_size=(1, 1), stride=(1, 1), bias=False)\n",
      "      (bn3): BatchNorm2d(1024, eps=1e-05, momentum=0.1, affine=True, track_running_stats=True)\n",
      "      (relu): ReLU(inplace=True)\n",
      "    )\n",
      "    (3): Bottleneck(\n",
      "      (conv1): Conv2d(1024, 256, kernel_size=(1, 1), stride=(1, 1), bias=False)\n",
      "      (bn1): BatchNorm2d(256, eps=1e-05, momentum=0.1, affine=True, track_running_stats=True)\n",
      "      (conv2): Conv2d(256, 256, kernel_size=(3, 3), stride=(1, 1), padding=(1, 1), bias=False)\n",
      "      (bn2): BatchNorm2d(256, eps=1e-05, momentum=0.1, affine=True, track_running_stats=True)\n",
      "      (conv3): Conv2d(256, 1024, kernel_size=(1, 1), stride=(1, 1), bias=False)\n",
      "      (bn3): BatchNorm2d(1024, eps=1e-05, momentum=0.1, affine=True, track_running_stats=True)\n",
      "      (relu): ReLU(inplace=True)\n",
      "    )\n",
      "    (4): Bottleneck(\n",
      "      (conv1): Conv2d(1024, 256, kernel_size=(1, 1), stride=(1, 1), bias=False)\n",
      "      (bn1): BatchNorm2d(256, eps=1e-05, momentum=0.1, affine=True, track_running_stats=True)\n",
      "      (conv2): Conv2d(256, 256, kernel_size=(3, 3), stride=(1, 1), padding=(1, 1), bias=False)\n",
      "      (bn2): BatchNorm2d(256, eps=1e-05, momentum=0.1, affine=True, track_running_stats=True)\n",
      "      (conv3): Conv2d(256, 1024, kernel_size=(1, 1), stride=(1, 1), bias=False)\n",
      "      (bn3): BatchNorm2d(1024, eps=1e-05, momentum=0.1, affine=True, track_running_stats=True)\n",
      "      (relu): ReLU(inplace=True)\n",
      "    )\n",
      "    (5): Bottleneck(\n",
      "      (conv1): Conv2d(1024, 256, kernel_size=(1, 1), stride=(1, 1), bias=False)\n",
      "      (bn1): BatchNorm2d(256, eps=1e-05, momentum=0.1, affine=True, track_running_stats=True)\n",
      "      (conv2): Conv2d(256, 256, kernel_size=(3, 3), stride=(1, 1), padding=(1, 1), bias=False)\n",
      "      (bn2): BatchNorm2d(256, eps=1e-05, momentum=0.1, affine=True, track_running_stats=True)\n",
      "      (conv3): Conv2d(256, 1024, kernel_size=(1, 1), stride=(1, 1), bias=False)\n",
      "      (bn3): BatchNorm2d(1024, eps=1e-05, momentum=0.1, affine=True, track_running_stats=True)\n",
      "      (relu): ReLU(inplace=True)\n",
      "    )\n",
      "  )\n",
      "  (layer4): Sequential(\n",
      "    (0): Bottleneck(\n",
      "      (conv1): Conv2d(1024, 512, kernel_size=(1, 1), stride=(1, 1), bias=False)\n",
      "      (bn1): BatchNorm2d(512, eps=1e-05, momentum=0.1, affine=True, track_running_stats=True)\n",
      "      (conv2): Conv2d(512, 512, kernel_size=(3, 3), stride=(2, 2), padding=(1, 1), bias=False)\n",
      "      (bn2): BatchNorm2d(512, eps=1e-05, momentum=0.1, affine=True, track_running_stats=True)\n",
      "      (conv3): Conv2d(512, 2048, kernel_size=(1, 1), stride=(1, 1), bias=False)\n",
      "      (bn3): BatchNorm2d(2048, eps=1e-05, momentum=0.1, affine=True, track_running_stats=True)\n",
      "      (relu): ReLU(inplace=True)\n",
      "      (downsample): Sequential(\n",
      "        (0): Conv2d(1024, 2048, kernel_size=(1, 1), stride=(2, 2), bias=False)\n",
      "        (1): BatchNorm2d(2048, eps=1e-05, momentum=0.1, affine=True, track_running_stats=True)\n",
      "      )\n",
      "    )\n",
      "    (1): Bottleneck(\n",
      "      (conv1): Conv2d(2048, 512, kernel_size=(1, 1), stride=(1, 1), bias=False)\n",
      "      (bn1): BatchNorm2d(512, eps=1e-05, momentum=0.1, affine=True, track_running_stats=True)\n",
      "      (conv2): Conv2d(512, 512, kernel_size=(3, 3), stride=(1, 1), padding=(1, 1), bias=False)\n",
      "      (bn2): BatchNorm2d(512, eps=1e-05, momentum=0.1, affine=True, track_running_stats=True)\n",
      "      (conv3): Conv2d(512, 2048, kernel_size=(1, 1), stride=(1, 1), bias=False)\n",
      "      (bn3): BatchNorm2d(2048, eps=1e-05, momentum=0.1, affine=True, track_running_stats=True)\n",
      "      (relu): ReLU(inplace=True)\n",
      "    )\n",
      "    (2): Bottleneck(\n",
      "      (conv1): Conv2d(2048, 512, kernel_size=(1, 1), stride=(1, 1), bias=False)\n",
      "      (bn1): BatchNorm2d(512, eps=1e-05, momentum=0.1, affine=True, track_running_stats=True)\n",
      "      (conv2): Conv2d(512, 512, kernel_size=(3, 3), stride=(1, 1), padding=(1, 1), bias=False)\n",
      "      (bn2): BatchNorm2d(512, eps=1e-05, momentum=0.1, affine=True, track_running_stats=True)\n",
      "      (conv3): Conv2d(512, 2048, kernel_size=(1, 1), stride=(1, 1), bias=False)\n",
      "      (bn3): BatchNorm2d(2048, eps=1e-05, momentum=0.1, affine=True, track_running_stats=True)\n",
      "      (relu): ReLU(inplace=True)\n",
      "    )\n",
      "  )\n",
      "  (avgpool): AdaptiveAvgPool2d(output_size=(1, 1))\n",
      "  (fc): Sequential(\n",
      "    (0): Linear(in_features=2048, out_features=256, bias=True)\n",
      "    (1): ReLU()\n",
      "    (2): Dropout(p=0.5, inplace=False)\n",
      "    (3): Linear(in_features=256, out_features=10, bias=True)\n",
      "    (4): LogSoftmax(dim=1)\n",
      "  )\n",
      ")\n"
     ]
    }
   ],
   "source": [
    "model = LULC_Model()"
   ]
  },
  {
   "cell_type": "code",
   "execution_count": 16,
   "metadata": {
    "colab": {
     "base_uri": "https://localhost:8080/"
    },
    "id": "4K4t7WT_sxBj",
    "outputId": "fdaee03e-d658-4dc6-bd01-623351c8a438"
   },
   "outputs": [
    {
     "name": "stdout",
     "output_type": "stream",
     "text": [
      "torch.Size([64, 3, 224, 224])\n",
      "torch.Size([64, 10])\n",
      "tensor([-2.4581, -2.4374, -2.2594, -2.2438, -2.2980, -2.0901, -2.4174, -2.3305,\n",
      "        -2.2523, -2.2939], grad_fn=<SelectBackward0>)\n"
     ]
    }
   ],
   "source": [
    "## Running through the data loader => Model => Output\n",
    "def try_batch(dl):\n",
    "    for images, labels in dl:  \n",
    "        print(images.shape)\n",
    "        out = model(images)\n",
    "        print(out.shape)\n",
    "        print(out[0])\n",
    "        break\n",
    "try_batch(train_dl)"
   ]
  },
  {
   "cell_type": "markdown",
   "metadata": {
    "id": "fHSK5twXsxEg"
   },
   "source": [
    "## Training and Evaluating"
   ]
  },
  {
   "cell_type": "code",
   "execution_count": 17,
   "metadata": {
    "id": "JA3xFeIhuvX7"
   },
   "outputs": [],
   "source": [
    "@torch.no_grad()\n",
    "def evaluate(model, valid_loader):\n",
    "    model.eval()\n",
    "    outputs = [model.validation_step(batch) for batch in valid_loader]\n",
    "    return model.validation_epoch_ends(outputs)\n",
    "\n",
    "def get_lr(optimizer):\n",
    "    for param_group in optimizer.param_groups:\n",
    "        return param_group['lr']\n",
    "    \n",
    "def fit(epochs, max_lr,  model, train_loader, valid_loader, weight_decay=0,\\\n",
    "                grad_clip=None,opt_func=torch.optim.SGD, max_epochs_stop=3):\n",
    "  \n",
    "    history = []\n",
    "    valid_loss_min = np.Inf\n",
    "    valid_acc_max = 0\n",
    "    model_file_name = 'lulc.pth'\n",
    "    model_file_name2 = 'lulc_max_acc.pth'\n",
    "    epochs_no_improve =  0\n",
    "    optimizer = opt_func(model.parameters(), lr=max_lr, weight_decay=weight_decay)\n",
    "    scheduler = torch.optim.lr_scheduler.ReduceLROnPlateau(optimizer, 'min', patience=2, factor=0.00001)\n",
    "                         \n",
    "    for epoch in range(epochs):\n",
    "        model.train()\n",
    "        train_loss = []\n",
    "        train_accu = []\n",
    "        lrs = []\n",
    "        for batch in tqdm(train_loader):\n",
    "            \n",
    "            accu, loss = model.training_step(batch)\n",
    "            train_loss.append(loss)\n",
    "            train_accu.append(accu)\n",
    "            loss.backward()\n",
    "            ## Gradient Clipping\n",
    "            if grad_clip:\n",
    "                nn.utils.clip_grad_value_(model.parameters(), grad_clip)\n",
    "            \n",
    "            optimizer.step()\n",
    "            optimizer.zero_grad()\n",
    "            \n",
    "            lrs.append(get_lr(optimizer))\n",
    "            \n",
    "            \n",
    "            \n",
    "        result = evaluate(model, valid_loader)\n",
    "        scheduler.step(result['val_loss'])\n",
    "        ########### Early Stopping ##############                                         \n",
    "        valid_loss = result['val_loss']\n",
    "        valid_acc = result['val_acc']\n",
    "        if valid_acc > valid_acc_max:\n",
    "            torch.save(model.state_dict(), model_file_name2)\n",
    "            valid_acc_max = valid_acc\n",
    "        if valid_loss<valid_loss_min:\n",
    "            torch.save(model.state_dict(), model_file_name)\n",
    "            valid_loss_min = valid_loss                                  \n",
    "            epochs_no_improve = 0          \n",
    "        else:\n",
    "            epochs_no_improve += 1\n",
    "            if epochs_no_improve > max_epochs_stop:\n",
    "                result[\"train_loss\"] = torch.stack(train_loss).mean().item()\n",
    "                result[\"train_accu\"] = torch.stack(train_accu).mean().item()\n",
    "                result[\"lrs\"] = lrs\n",
    "                model.epoch_end(epoch, result)\n",
    "                history.append(result)\n",
    "                print(\"Early Stopping............................\")\n",
    "                return history                                \n",
    "                                                 \n",
    "        result[\"train_loss\"] = torch.stack(train_loss).mean().item()\n",
    "        result[\"train_accu\"] = torch.stack(train_accu).mean().item()\n",
    "        result[\"lrs\"] = lrs\n",
    "        model.epoch_end(epoch, result)\n",
    "        history.append(result)\n",
    "    print(\"VAL LOSS MIN {}\".format(valid_loss_min))\n",
    "    print(\"VAL ACC MAX {}\".format(valid_acc_max))\n",
    "    return history"
   ]
  },
  {
   "cell_type": "markdown",
   "metadata": {
    "id": "_bFUezyPv_Va"
   },
   "source": [
    "## Initializing Device also Loading Data and Model to device¶\n"
   ]
  },
  {
   "cell_type": "code",
   "execution_count": 18,
   "metadata": {
    "id": "71drgKGav_YH"
   },
   "outputs": [],
   "source": [
    "def get_device():\n",
    "    print(torch.cuda.is_available())\n",
    "    if torch.cuda.is_available():\n",
    "        return torch.device('cuda')\n",
    "    else:\n",
    "        return torch.device('cpu')\n",
    "def to_device(data, device):\n",
    "    if isinstance(data, (list, tuple)):\n",
    "        return [to_device(x, device) for x in data]\n",
    "    return data.to(device, non_blocking=True)\n",
    "\n",
    "class DeviceDataLoader():\n",
    "    def __init__(self, dl, device):\n",
    "        self.dl = dl\n",
    "        self.device = device\n",
    "        \n",
    "    def __iter__(self):\n",
    "        for b in self.dl:\n",
    "            yield to_device(b, self.device)\n",
    "            \n",
    "    def __len__(self):\n",
    "        return len(self.dl)"
   ]
  },
  {
   "cell_type": "code",
   "execution_count": 19,
   "metadata": {
    "colab": {
     "base_uri": "https://localhost:8080/"
    },
    "id": "Tg9Zqb6pwJ3w",
    "outputId": "ce162aca-58bb-4e8a-9d8e-804918de6075"
   },
   "outputs": [
    {
     "name": "stdout",
     "output_type": "stream",
     "text": [
      "True\n",
      "ResNet(\n",
      "  (conv1): Conv2d(3, 64, kernel_size=(7, 7), stride=(2, 2), padding=(3, 3), bias=False)\n",
      "  (bn1): BatchNorm2d(64, eps=1e-05, momentum=0.1, affine=True, track_running_stats=True)\n",
      "  (relu): ReLU(inplace=True)\n",
      "  (maxpool): MaxPool2d(kernel_size=3, stride=2, padding=1, dilation=1, ceil_mode=False)\n",
      "  (layer1): Sequential(\n",
      "    (0): Bottleneck(\n",
      "      (conv1): Conv2d(64, 64, kernel_size=(1, 1), stride=(1, 1), bias=False)\n",
      "      (bn1): BatchNorm2d(64, eps=1e-05, momentum=0.1, affine=True, track_running_stats=True)\n",
      "      (conv2): Conv2d(64, 64, kernel_size=(3, 3), stride=(1, 1), padding=(1, 1), bias=False)\n",
      "      (bn2): BatchNorm2d(64, eps=1e-05, momentum=0.1, affine=True, track_running_stats=True)\n",
      "      (conv3): Conv2d(64, 256, kernel_size=(1, 1), stride=(1, 1), bias=False)\n",
      "      (bn3): BatchNorm2d(256, eps=1e-05, momentum=0.1, affine=True, track_running_stats=True)\n",
      "      (relu): ReLU(inplace=True)\n",
      "      (downsample): Sequential(\n",
      "        (0): Conv2d(64, 256, kernel_size=(1, 1), stride=(1, 1), bias=False)\n",
      "        (1): BatchNorm2d(256, eps=1e-05, momentum=0.1, affine=True, track_running_stats=True)\n",
      "      )\n",
      "    )\n",
      "    (1): Bottleneck(\n",
      "      (conv1): Conv2d(256, 64, kernel_size=(1, 1), stride=(1, 1), bias=False)\n",
      "      (bn1): BatchNorm2d(64, eps=1e-05, momentum=0.1, affine=True, track_running_stats=True)\n",
      "      (conv2): Conv2d(64, 64, kernel_size=(3, 3), stride=(1, 1), padding=(1, 1), bias=False)\n",
      "      (bn2): BatchNorm2d(64, eps=1e-05, momentum=0.1, affine=True, track_running_stats=True)\n",
      "      (conv3): Conv2d(64, 256, kernel_size=(1, 1), stride=(1, 1), bias=False)\n",
      "      (bn3): BatchNorm2d(256, eps=1e-05, momentum=0.1, affine=True, track_running_stats=True)\n",
      "      (relu): ReLU(inplace=True)\n",
      "    )\n",
      "    (2): Bottleneck(\n",
      "      (conv1): Conv2d(256, 64, kernel_size=(1, 1), stride=(1, 1), bias=False)\n",
      "      (bn1): BatchNorm2d(64, eps=1e-05, momentum=0.1, affine=True, track_running_stats=True)\n",
      "      (conv2): Conv2d(64, 64, kernel_size=(3, 3), stride=(1, 1), padding=(1, 1), bias=False)\n",
      "      (bn2): BatchNorm2d(64, eps=1e-05, momentum=0.1, affine=True, track_running_stats=True)\n",
      "      (conv3): Conv2d(64, 256, kernel_size=(1, 1), stride=(1, 1), bias=False)\n",
      "      (bn3): BatchNorm2d(256, eps=1e-05, momentum=0.1, affine=True, track_running_stats=True)\n",
      "      (relu): ReLU(inplace=True)\n",
      "    )\n",
      "  )\n",
      "  (layer2): Sequential(\n",
      "    (0): Bottleneck(\n",
      "      (conv1): Conv2d(256, 128, kernel_size=(1, 1), stride=(1, 1), bias=False)\n",
      "      (bn1): BatchNorm2d(128, eps=1e-05, momentum=0.1, affine=True, track_running_stats=True)\n",
      "      (conv2): Conv2d(128, 128, kernel_size=(3, 3), stride=(2, 2), padding=(1, 1), bias=False)\n",
      "      (bn2): BatchNorm2d(128, eps=1e-05, momentum=0.1, affine=True, track_running_stats=True)\n",
      "      (conv3): Conv2d(128, 512, kernel_size=(1, 1), stride=(1, 1), bias=False)\n",
      "      (bn3): BatchNorm2d(512, eps=1e-05, momentum=0.1, affine=True, track_running_stats=True)\n",
      "      (relu): ReLU(inplace=True)\n",
      "      (downsample): Sequential(\n",
      "        (0): Conv2d(256, 512, kernel_size=(1, 1), stride=(2, 2), bias=False)\n",
      "        (1): BatchNorm2d(512, eps=1e-05, momentum=0.1, affine=True, track_running_stats=True)\n",
      "      )\n",
      "    )\n",
      "    (1): Bottleneck(\n",
      "      (conv1): Conv2d(512, 128, kernel_size=(1, 1), stride=(1, 1), bias=False)\n",
      "      (bn1): BatchNorm2d(128, eps=1e-05, momentum=0.1, affine=True, track_running_stats=True)\n",
      "      (conv2): Conv2d(128, 128, kernel_size=(3, 3), stride=(1, 1), padding=(1, 1), bias=False)\n",
      "      (bn2): BatchNorm2d(128, eps=1e-05, momentum=0.1, affine=True, track_running_stats=True)\n",
      "      (conv3): Conv2d(128, 512, kernel_size=(1, 1), stride=(1, 1), bias=False)\n",
      "      (bn3): BatchNorm2d(512, eps=1e-05, momentum=0.1, affine=True, track_running_stats=True)\n",
      "      (relu): ReLU(inplace=True)\n",
      "    )\n",
      "    (2): Bottleneck(\n",
      "      (conv1): Conv2d(512, 128, kernel_size=(1, 1), stride=(1, 1), bias=False)\n",
      "      (bn1): BatchNorm2d(128, eps=1e-05, momentum=0.1, affine=True, track_running_stats=True)\n",
      "      (conv2): Conv2d(128, 128, kernel_size=(3, 3), stride=(1, 1), padding=(1, 1), bias=False)\n",
      "      (bn2): BatchNorm2d(128, eps=1e-05, momentum=0.1, affine=True, track_running_stats=True)\n",
      "      (conv3): Conv2d(128, 512, kernel_size=(1, 1), stride=(1, 1), bias=False)\n",
      "      (bn3): BatchNorm2d(512, eps=1e-05, momentum=0.1, affine=True, track_running_stats=True)\n",
      "      (relu): ReLU(inplace=True)\n",
      "    )\n",
      "    (3): Bottleneck(\n",
      "      (conv1): Conv2d(512, 128, kernel_size=(1, 1), stride=(1, 1), bias=False)\n",
      "      (bn1): BatchNorm2d(128, eps=1e-05, momentum=0.1, affine=True, track_running_stats=True)\n",
      "      (conv2): Conv2d(128, 128, kernel_size=(3, 3), stride=(1, 1), padding=(1, 1), bias=False)\n",
      "      (bn2): BatchNorm2d(128, eps=1e-05, momentum=0.1, affine=True, track_running_stats=True)\n",
      "      (conv3): Conv2d(128, 512, kernel_size=(1, 1), stride=(1, 1), bias=False)\n",
      "      (bn3): BatchNorm2d(512, eps=1e-05, momentum=0.1, affine=True, track_running_stats=True)\n",
      "      (relu): ReLU(inplace=True)\n",
      "    )\n",
      "  )\n",
      "  (layer3): Sequential(\n",
      "    (0): Bottleneck(\n",
      "      (conv1): Conv2d(512, 256, kernel_size=(1, 1), stride=(1, 1), bias=False)\n",
      "      (bn1): BatchNorm2d(256, eps=1e-05, momentum=0.1, affine=True, track_running_stats=True)\n",
      "      (conv2): Conv2d(256, 256, kernel_size=(3, 3), stride=(2, 2), padding=(1, 1), bias=False)\n",
      "      (bn2): BatchNorm2d(256, eps=1e-05, momentum=0.1, affine=True, track_running_stats=True)\n",
      "      (conv3): Conv2d(256, 1024, kernel_size=(1, 1), stride=(1, 1), bias=False)\n",
      "      (bn3): BatchNorm2d(1024, eps=1e-05, momentum=0.1, affine=True, track_running_stats=True)\n",
      "      (relu): ReLU(inplace=True)\n",
      "      (downsample): Sequential(\n",
      "        (0): Conv2d(512, 1024, kernel_size=(1, 1), stride=(2, 2), bias=False)\n",
      "        (1): BatchNorm2d(1024, eps=1e-05, momentum=0.1, affine=True, track_running_stats=True)\n",
      "      )\n",
      "    )\n",
      "    (1): Bottleneck(\n",
      "      (conv1): Conv2d(1024, 256, kernel_size=(1, 1), stride=(1, 1), bias=False)\n",
      "      (bn1): BatchNorm2d(256, eps=1e-05, momentum=0.1, affine=True, track_running_stats=True)\n",
      "      (conv2): Conv2d(256, 256, kernel_size=(3, 3), stride=(1, 1), padding=(1, 1), bias=False)\n",
      "      (bn2): BatchNorm2d(256, eps=1e-05, momentum=0.1, affine=True, track_running_stats=True)\n",
      "      (conv3): Conv2d(256, 1024, kernel_size=(1, 1), stride=(1, 1), bias=False)\n",
      "      (bn3): BatchNorm2d(1024, eps=1e-05, momentum=0.1, affine=True, track_running_stats=True)\n",
      "      (relu): ReLU(inplace=True)\n",
      "    )\n",
      "    (2): Bottleneck(\n",
      "      (conv1): Conv2d(1024, 256, kernel_size=(1, 1), stride=(1, 1), bias=False)\n",
      "      (bn1): BatchNorm2d(256, eps=1e-05, momentum=0.1, affine=True, track_running_stats=True)\n",
      "      (conv2): Conv2d(256, 256, kernel_size=(3, 3), stride=(1, 1), padding=(1, 1), bias=False)\n",
      "      (bn2): BatchNorm2d(256, eps=1e-05, momentum=0.1, affine=True, track_running_stats=True)\n",
      "      (conv3): Conv2d(256, 1024, kernel_size=(1, 1), stride=(1, 1), bias=False)\n",
      "      (bn3): BatchNorm2d(1024, eps=1e-05, momentum=0.1, affine=True, track_running_stats=True)\n",
      "      (relu): ReLU(inplace=True)\n",
      "    )\n",
      "    (3): Bottleneck(\n",
      "      (conv1): Conv2d(1024, 256, kernel_size=(1, 1), stride=(1, 1), bias=False)\n",
      "      (bn1): BatchNorm2d(256, eps=1e-05, momentum=0.1, affine=True, track_running_stats=True)\n",
      "      (conv2): Conv2d(256, 256, kernel_size=(3, 3), stride=(1, 1), padding=(1, 1), bias=False)\n",
      "      (bn2): BatchNorm2d(256, eps=1e-05, momentum=0.1, affine=True, track_running_stats=True)\n",
      "      (conv3): Conv2d(256, 1024, kernel_size=(1, 1), stride=(1, 1), bias=False)\n",
      "      (bn3): BatchNorm2d(1024, eps=1e-05, momentum=0.1, affine=True, track_running_stats=True)\n",
      "      (relu): ReLU(inplace=True)\n",
      "    )\n",
      "    (4): Bottleneck(\n",
      "      (conv1): Conv2d(1024, 256, kernel_size=(1, 1), stride=(1, 1), bias=False)\n",
      "      (bn1): BatchNorm2d(256, eps=1e-05, momentum=0.1, affine=True, track_running_stats=True)\n",
      "      (conv2): Conv2d(256, 256, kernel_size=(3, 3), stride=(1, 1), padding=(1, 1), bias=False)\n",
      "      (bn2): BatchNorm2d(256, eps=1e-05, momentum=0.1, affine=True, track_running_stats=True)\n",
      "      (conv3): Conv2d(256, 1024, kernel_size=(1, 1), stride=(1, 1), bias=False)\n",
      "      (bn3): BatchNorm2d(1024, eps=1e-05, momentum=0.1, affine=True, track_running_stats=True)\n",
      "      (relu): ReLU(inplace=True)\n",
      "    )\n",
      "    (5): Bottleneck(\n",
      "      (conv1): Conv2d(1024, 256, kernel_size=(1, 1), stride=(1, 1), bias=False)\n",
      "      (bn1): BatchNorm2d(256, eps=1e-05, momentum=0.1, affine=True, track_running_stats=True)\n",
      "      (conv2): Conv2d(256, 256, kernel_size=(3, 3), stride=(1, 1), padding=(1, 1), bias=False)\n",
      "      (bn2): BatchNorm2d(256, eps=1e-05, momentum=0.1, affine=True, track_running_stats=True)\n",
      "      (conv3): Conv2d(256, 1024, kernel_size=(1, 1), stride=(1, 1), bias=False)\n",
      "      (bn3): BatchNorm2d(1024, eps=1e-05, momentum=0.1, affine=True, track_running_stats=True)\n",
      "      (relu): ReLU(inplace=True)\n",
      "    )\n",
      "  )\n",
      "  (layer4): Sequential(\n",
      "    (0): Bottleneck(\n",
      "      (conv1): Conv2d(1024, 512, kernel_size=(1, 1), stride=(1, 1), bias=False)\n",
      "      (bn1): BatchNorm2d(512, eps=1e-05, momentum=0.1, affine=True, track_running_stats=True)\n",
      "      (conv2): Conv2d(512, 512, kernel_size=(3, 3), stride=(2, 2), padding=(1, 1), bias=False)\n",
      "      (bn2): BatchNorm2d(512, eps=1e-05, momentum=0.1, affine=True, track_running_stats=True)\n",
      "      (conv3): Conv2d(512, 2048, kernel_size=(1, 1), stride=(1, 1), bias=False)\n",
      "      (bn3): BatchNorm2d(2048, eps=1e-05, momentum=0.1, affine=True, track_running_stats=True)\n",
      "      (relu): ReLU(inplace=True)\n",
      "      (downsample): Sequential(\n",
      "        (0): Conv2d(1024, 2048, kernel_size=(1, 1), stride=(2, 2), bias=False)\n",
      "        (1): BatchNorm2d(2048, eps=1e-05, momentum=0.1, affine=True, track_running_stats=True)\n",
      "      )\n",
      "    )\n",
      "    (1): Bottleneck(\n",
      "      (conv1): Conv2d(2048, 512, kernel_size=(1, 1), stride=(1, 1), bias=False)\n",
      "      (bn1): BatchNorm2d(512, eps=1e-05, momentum=0.1, affine=True, track_running_stats=True)\n",
      "      (conv2): Conv2d(512, 512, kernel_size=(3, 3), stride=(1, 1), padding=(1, 1), bias=False)\n",
      "      (bn2): BatchNorm2d(512, eps=1e-05, momentum=0.1, affine=True, track_running_stats=True)\n",
      "      (conv3): Conv2d(512, 2048, kernel_size=(1, 1), stride=(1, 1), bias=False)\n",
      "      (bn3): BatchNorm2d(2048, eps=1e-05, momentum=0.1, affine=True, track_running_stats=True)\n",
      "      (relu): ReLU(inplace=True)\n",
      "    )\n",
      "    (2): Bottleneck(\n",
      "      (conv1): Conv2d(2048, 512, kernel_size=(1, 1), stride=(1, 1), bias=False)\n",
      "      (bn1): BatchNorm2d(512, eps=1e-05, momentum=0.1, affine=True, track_running_stats=True)\n",
      "      (conv2): Conv2d(512, 512, kernel_size=(3, 3), stride=(1, 1), padding=(1, 1), bias=False)\n",
      "      (bn2): BatchNorm2d(512, eps=1e-05, momentum=0.1, affine=True, track_running_stats=True)\n",
      "      (conv3): Conv2d(512, 2048, kernel_size=(1, 1), stride=(1, 1), bias=False)\n",
      "      (bn3): BatchNorm2d(2048, eps=1e-05, momentum=0.1, affine=True, track_running_stats=True)\n",
      "      (relu): ReLU(inplace=True)\n",
      "    )\n",
      "  )\n",
      "  (avgpool): AdaptiveAvgPool2d(output_size=(1, 1))\n",
      "  (fc): Sequential(\n",
      "    (0): Linear(in_features=2048, out_features=256, bias=True)\n",
      "    (1): ReLU()\n",
      "    (2): Dropout(p=0.5, inplace=False)\n",
      "    (3): Linear(in_features=256, out_features=10, bias=True)\n",
      "    (4): LogSoftmax(dim=1)\n",
      "  )\n",
      ")\n"
     ]
    },
    {
     "name": "stdout",
     "output_type": "stream",
     "text": [
      "torch.Size([64, 3, 224, 224])\n",
      "torch.Size([64, 10])\n",
      "tensor([-2.5199, -2.1401, -2.3465, -2.2976, -2.3014, -2.1968, -2.2715, -2.3138,\n",
      "        -2.3419, -2.3410], device='cuda:0', grad_fn=<SelectBackward0>)\n"
     ]
    }
   ],
   "source": [
    "device = get_device()\n",
    "## Loading data to devide\n",
    "train_dl = DeviceDataLoader(train_dl, device)\n",
    "valid_dl = DeviceDataLoader(valid_dl, device)\n",
    "## Loading model to device\n",
    "model = to_device(LULC_Model(), device)\n",
    "## lets try passing a batch to model again\n",
    "try_batch(train_dl)"
   ]
  },
  {
   "cell_type": "code",
   "execution_count": 28,
   "metadata": {
    "id": "71NKR6kfwdjt"
   },
   "outputs": [],
   "source": [
    "torch.cuda.empty_cache()"
   ]
  },
  {
   "cell_type": "markdown",
   "metadata": {
    "id": "xjHrpjjiwdmz"
   },
   "source": [
    "## Training"
   ]
  },
  {
   "cell_type": "code",
   "execution_count": 20,
   "metadata": {
    "colab": {
     "base_uri": "https://localhost:8080/"
    },
    "id": "EaYTr3Zcwdpo",
    "outputId": "9cb722c0-f42f-46dd-8763-bdc2014ab188"
   },
   "outputs": [
    {
     "data": {
      "text/plain": [
       "{'val_loss': 2.3048808574676514, 'val_acc': 0.059593021869659424}"
      ]
     },
     "execution_count": 20,
     "metadata": {},
     "output_type": "execute_result"
    }
   ],
   "source": [
    "## Hyper Parameters\n",
    "max_epochs_stop = 10\n",
    "max_lr = 1e-4\n",
    "grad_clip = 0.1\n",
    "weight_decay = 1e-6\n",
    "batch_size = 64\n",
    "criterion = nn.CrossEntropyLoss()\n",
    "epochs = 10\n",
    "opt_func = torch.optim.Adam\n",
    "## Evaluating with non-trained model\n",
    "evaluate(model, valid_dl)"
   ]
  },
  {
   "cell_type": "code",
   "execution_count": 21,
   "metadata": {
    "colab": {
     "base_uri": "https://localhost:8080/",
     "height": 733,
     "referenced_widgets": [
      "fa4b464d72f14643aec8ac2dcfac3797",
      "24a2b10dc1f8443daa8fade21343b877",
      "e9fcf99c91834047b9b802e4e13a8b90",
      "fbaaa04dc4374708b477e8d90351f716",
      "a981d68523b04f9182948769a35cfc05",
      "608e7a743d8a43d992629189b966b8a4",
      "fdeadf8324e743ccbe711c3a68f9ab0f",
      "54f8b1045db1416e80beb504bab4ca7a",
      "56522ea3a1a749209ffcb2b2e2de6d52",
      "b2143f97e66440f89d47c0d00d4c68a8",
      "cbef0897241e4bcab27b0bdeb9965930",
      "8a64117e054345db9251eacffd1766d0",
      "bda15ad7b8184153ac29a327a2260430",
      "27b0ba41f7cf42508e9ece6f3419800d",
      "a6c24bee086f4992964c9d3d5bfe3405",
      "0102475e037a4f89a94b68d0b898e45c",
      "1d021bb93d9248ca8aaa6f600f4a52fd",
      "3f2ca16d86f141e5bc48a84f8de3232a",
      "df76d16bb08247d189f42fc07b312d40",
      "cd7664ff96b14c5e8959fa8101db34b6",
      "2633e90277bf48658fde9fc6af145b5b",
      "e070e3504e08433b98b5208935ff18f9",
      "b8ebe489a5d9441fb2f2a08d3c5e6952",
      "9252c389ec474e6ca3f6fbd7049a3e5a",
      "e458945fc24947a98d4e20892f3940d2",
      "ef441438f8764b20ad7ae45f085043ef",
      "2a962651d48047cc9ca40a42239b7890",
      "1b82e3c4c8c9400e8d2d79ffc38b3e92",
      "c08d2fe97d7946f1b390714160772679",
      "852bb1bed3bb4577889a960c49704a46",
      "92d01546f3b64e08881a5bfc805aeeb8",
      "b95208ff31b8452a8c97e4f0a27538f5",
      "01a6c28ad7bd49cda5606d3d2414ff44",
      "1d33690c381a447d8b922e22c1d70dd7",
      "27ca01d3c1114055972ddb187f33bd17",
      "b031c9ca4e7744c0a08718c50288d974",
      "d5bbd3a9b26f4797834cd15a8fbf57b4",
      "2b21ce4fb3fa4021bfc6c4fa59d9e241",
      "ef23f5b0bc094313b03d994b3e2025ed",
      "6a7557a8c434409d8cdb7e76d5805f4f",
      "81ac946575314385af3d8ea8cd8412a9",
      "77b6d08b5e0a48a4a894cc4997dba171",
      "576af7c8c5674da59ccc403fd758fb48",
      "fd994c551db04e81ab384666ef0ae92e",
      "699949937a8643b087cf42c6e5d5a28a",
      "4b8dbc4a152043dd8fb3e3bdfbafa74c",
      "92be76ec742d43e4ab6908f9f6a358e3",
      "9b4111d261104a39812c374924da7b0c",
      "960f58aef0784938b347d3cca1ad8952",
      "7c0e95b9c94e4bea8295b695668ece8b",
      "071dd6f8a7624f059b5a882e269fe33a",
      "9ea5950a950946dabb78602d8bfeb741",
      "7e108d4810fb41bf8f059f27953e4465",
      "e4a6ae098753495d99abba073826a16f",
      "1222dd3a6d3c4635928181022f41bd5f",
      "d9e4835f77cc46f787b6b3025a26d2a5",
      "033c01f8d7004e1da46a6cf5809fb67f",
      "33c29da34b6d449bae4e9dba2a1eca90",
      "f5f280c2921c47f4a2e66d24e3ef9d0f",
      "c1dbf43a387c4d24852d3710198c3872",
      "c310305facec4583a9bf4510e6ac94a8",
      "0db62b3882cf4065b106c80d853f812d",
      "59aad431e6c04052aa7efcfdc5ae9be9",
      "8780c501e7bf4400b315c2865bf4542c",
      "72a936d72f3a4f00ad97272f5db0fcd9",
      "0b714b70362940508bd29ca9540813d7",
      "1d2fceace585455d9fa1a2097026a6fa",
      "67537ebce1074ef88b1ee7fbbf09a19d",
      "16f2db434e574f398b373dbd05eacdbd",
      "25a699b5c9894ed6a104d29927e9b8ed",
      "c516ef7291e146b3aa09fc792e75f4d1",
      "5004852731814581b16934cc2cf0ddc8",
      "8872951aeea8439e80e0b16fadb2f3e9",
      "8ecf5d1edfdd4064965d16c2e84ec982",
      "8196ebf79cd9457e9b8360c3ddcecf84",
      "84bf0d08bdc3460699055c765eff08ec",
      "d5237b5c45dc4057a05141d9de4404d2",
      "0db404667f5946ca86c7ad02c23406ef",
      "2278fe60e70043bfaea42f4feb3305da",
      "3341dc07e72649cfb49ead5feba3db1a"
     ]
    },
    "id": "qJcc1Ps6wv3H",
    "outputId": "1cf72885-2e03-414e-85c0-1757438dc02d"
   },
   "outputs": [
    {
     "data": {
      "application/vnd.jupyter.widget-view+json": {
       "model_id": "e9242326a2e34e45956b21b79b8009fa",
       "version_major": 2,
       "version_minor": 0
      },
      "text/plain": [
       "  0%|          | 0/380 [00:00<?, ?it/s]"
      ]
     },
     "metadata": {},
     "output_type": "display_data"
    },
    {
     "name": "stdout",
     "output_type": "stream",
     "text": [
      "Epoch [0],train_accu: 0.8287, learning_rate: 0.0001, train_loss: 0.5848, val_loss: 0.3882, val_acc: 0.8726\n"
     ]
    },
    {
     "data": {
      "application/vnd.jupyter.widget-view+json": {
       "model_id": "af2461cbe01d44448e07609c7afd5810",
       "version_major": 2,
       "version_minor": 0
      },
      "text/plain": [
       "  0%|          | 0/380 [00:00<?, ?it/s]"
      ]
     },
     "metadata": {},
     "output_type": "display_data"
    },
    {
     "name": "stdout",
     "output_type": "stream",
     "text": [
      "Epoch [1],train_accu: 0.9228, learning_rate: 0.0001, train_loss: 0.2449, val_loss: 0.1520, val_acc: 0.9495\n"
     ]
    },
    {
     "data": {
      "application/vnd.jupyter.widget-view+json": {
       "model_id": "b2fd0e7784e44fb5b0e50ceca3a023a6",
       "version_major": 2,
       "version_minor": 0
      },
      "text/plain": [
       "  0%|          | 0/380 [00:00<?, ?it/s]"
      ]
     },
     "metadata": {},
     "output_type": "display_data"
    },
    {
     "name": "stdout",
     "output_type": "stream",
     "text": [
      "Epoch [2],train_accu: 0.9418, learning_rate: 0.0001, train_loss: 0.1829, val_loss: 0.1776, val_acc: 0.9393\n"
     ]
    },
    {
     "data": {
      "application/vnd.jupyter.widget-view+json": {
       "model_id": "3f2f0d52375741fbb79167f073450e74",
       "version_major": 2,
       "version_minor": 0
      },
      "text/plain": [
       "  0%|          | 0/380 [00:00<?, ?it/s]"
      ]
     },
     "metadata": {},
     "output_type": "display_data"
    },
    {
     "name": "stdout",
     "output_type": "stream",
     "text": [
      "Epoch [3],train_accu: 0.9521, learning_rate: 0.0001, train_loss: 0.1456, val_loss: 0.1744, val_acc: 0.9405\n"
     ]
    },
    {
     "data": {
      "application/vnd.jupyter.widget-view+json": {
       "model_id": "5ae7c95c9a154d22aced3c19d0d50124",
       "version_major": 2,
       "version_minor": 0
      },
      "text/plain": [
       "  0%|          | 0/380 [00:00<?, ?it/s]"
      ]
     },
     "metadata": {},
     "output_type": "display_data"
    },
    {
     "name": "stdout",
     "output_type": "stream",
     "text": [
      "Epoch [4],train_accu: 0.9593, learning_rate: 0.0001, train_loss: 0.1223, val_loss: 0.1241, val_acc: 0.9542\n"
     ]
    },
    {
     "data": {
      "application/vnd.jupyter.widget-view+json": {
       "model_id": "edb30f222aa54a36b771fa72d477a691",
       "version_major": 2,
       "version_minor": 0
      },
      "text/plain": [
       "  0%|          | 0/380 [00:00<?, ?it/s]"
      ]
     },
     "metadata": {},
     "output_type": "display_data"
    },
    {
     "name": "stdout",
     "output_type": "stream",
     "text": [
      "Epoch [5],train_accu: 0.9648, learning_rate: 0.0001, train_loss: 0.1051, val_loss: 0.1155, val_acc: 0.9637\n"
     ]
    },
    {
     "data": {
      "application/vnd.jupyter.widget-view+json": {
       "model_id": "1c6049bc9e23430da3fefcad89865134",
       "version_major": 2,
       "version_minor": 0
      },
      "text/plain": [
       "  0%|          | 0/380 [00:00<?, ?it/s]"
      ]
     },
     "metadata": {},
     "output_type": "display_data"
    },
    {
     "name": "stdout",
     "output_type": "stream",
     "text": [
      "Epoch [6],train_accu: 0.9724, learning_rate: 0.0001, train_loss: 0.0849, val_loss: 0.1434, val_acc: 0.9535\n"
     ]
    },
    {
     "data": {
      "application/vnd.jupyter.widget-view+json": {
       "model_id": "b77930a2dbcf4009bd8c0468c3947cab",
       "version_major": 2,
       "version_minor": 0
      },
      "text/plain": [
       "  0%|          | 0/380 [00:00<?, ?it/s]"
      ]
     },
     "metadata": {},
     "output_type": "display_data"
    },
    {
     "name": "stdout",
     "output_type": "stream",
     "text": [
      "Epoch [7],train_accu: 0.9732, learning_rate: 0.0001, train_loss: 0.0772, val_loss: 0.1280, val_acc: 0.9586\n"
     ]
    },
    {
     "data": {
      "application/vnd.jupyter.widget-view+json": {
       "model_id": "20322abf86994a6392ce70427b1b9927",
       "version_major": 2,
       "version_minor": 0
      },
      "text/plain": [
       "  0%|          | 0/380 [00:00<?, ?it/s]"
      ]
     },
     "metadata": {},
     "output_type": "display_data"
    },
    {
     "name": "stdout",
     "output_type": "stream",
     "text": [
      "Epoch [8],train_accu: 0.9769, learning_rate: 0.0001, train_loss: 0.0682, val_loss: 0.1140, val_acc: 0.9644\n"
     ]
    },
    {
     "data": {
      "application/vnd.jupyter.widget-view+json": {
       "model_id": "8253e337d49a41c78aedbc14b2c4130e",
       "version_major": 2,
       "version_minor": 0
      },
      "text/plain": [
       "  0%|          | 0/380 [00:00<?, ?it/s]"
      ]
     },
     "metadata": {},
     "output_type": "display_data"
    },
    {
     "name": "stdout",
     "output_type": "stream",
     "text": [
      "Epoch [9],train_accu: 0.9812, learning_rate: 0.0001, train_loss: 0.0567, val_loss: 0.1369, val_acc: 0.9611\n",
      "VAL LOSS MIN 0.1139536201953888\n",
      "VAL ACC MAX 0.9643895626068115\n"
     ]
    }
   ],
   "source": [
    "## Freezing except last layer\n",
    "model.freeze()\n",
    "## Training\n",
    "history = fit(epochs, max_lr, model, train_dl, valid_dl, weight_decay, grad_clip, opt_func, max_epochs_stop)"
   ]
  },
  {
   "cell_type": "markdown",
   "metadata": {
    "id": "sBtU_iTcw6gP"
   },
   "source": [
    "## Reports"
   ]
  },
  {
   "cell_type": "markdown",
   "metadata": {
    "id": "ISrA3IXyxQlQ"
   },
   "source": [
    "### Training Reports"
   ]
  },
  {
   "cell_type": "code",
   "execution_count": 25,
   "metadata": {
    "colab": {
     "base_uri": "https://localhost:8080/",
     "height": 295
    },
    "id": "9-rVoqj0wv6y",
    "outputId": "8d1bc270-b3aa-4a05-c7b2-a3e423dca831"
   },
   "outputs": [
    {
     "data": {
      "image/png": "[encoded data removed]",
      "text/plain": [
       "<Figure size 432x288 with 1 Axes>"
      ]
     },
     "metadata": {
      "needs_background": "light",
      "tags": []
     },
     "output_type": "display_data"
    }
   ],
   "source": [
    "def plot_losses(history):\n",
    "    train_losses = [x.get('train_loss') for x in history]\n",
    "    val_losses = [x['val_loss'] for x in history]\n",
    "    plt.plot(train_losses, '-bx')\n",
    "    plt.plot(val_losses, '-rx')\n",
    "    plt.xlabel('epoch')\n",
    "    plt.ylabel('loss')\n",
    "    plt.legend(['Training', 'Validation'])\n",
    "    plt.title('Loss vs. No. of epochs');\n",
    "    \n",
    "plot_losses(history)"
   ]
  },
  {
   "cell_type": "code",
   "execution_count": 26,
   "metadata": {
    "colab": {
     "base_uri": "https://localhost:8080/",
     "height": 295
    },
    "id": "5V3D4z6pwv0x",
    "outputId": "fd68f87c-4030-4d60-9721-0aa174b8b306"
   },
   "outputs": [
    {
     "data": {
      "image/png": "[encoded data removed]",
      "text/plain": [
       "<Figure size 432x288 with 1 Axes>"
      ]
     },
     "metadata": {
      "needs_background": "light",
      "tags": []
     },
     "output_type": "display_data"
    }
   ],
   "source": [
    "def plot_accuracy(history):\n",
    "        \n",
    "    train_accu = [x.get('train_accu') for x in history]\n",
    "    val_accu = [x['val_acc'] for x in history]\n",
    "    plt.plot(train_accu, '-bx')\n",
    "    plt.plot(val_accu, '-rx')\n",
    "    plt.xlabel('epoch')\n",
    "    plt.ylabel('Accuracy')\n",
    "    plt.legend(['Training', 'Validation'])\n",
    "    plt.title('Accuracy vs. No. of epochs');\n",
    "plot_accuracy(history)"
   ]
  },
  {
   "cell_type": "code",
   "execution_count": 27,
   "metadata": {
    "colab": {
     "base_uri": "https://localhost:8080/",
     "height": 295
    },
    "id": "hQjCv2XRw_M5",
    "outputId": "92af07ba-da18-48b0-96c4-11e64167ad75"
   },
   "outputs": [
    {
     "data": {
      "image/png": "[encoded data removed]",
      "text/plain": [
       "<Figure size 432x288 with 1 Axes>"
      ]
     },
     "metadata": {
      "needs_background": "light",
      "tags": []
     },
     "output_type": "display_data"
    }
   ],
   "source": [
    "def plot_lrs(history):\n",
    "    lrs = np.concatenate([x.get('lrs', []) for x in history])\n",
    "    plt.plot(lrs)\n",
    "    plt.xlabel('Batch no.')\n",
    "    plt.ylabel('Learning rate')\n",
    "    plt.title('Learning Rate vs. Batch no.');\n",
    "    \n",
    "plot_lrs(history)"
   ]
  },
  {
   "cell_type": "markdown",
   "metadata": {
    "id": "_mi2yXZIxGCw"
   },
   "source": [
    "### Prediction Reports"
   ]
  },
  {
   "cell_type": "code",
   "execution_count": 28,
   "metadata": {
    "id": "cNCu341mw_Pt"
   },
   "outputs": [],
   "source": [
    "def show_sample(img, target=None):\n",
    "    if target:\n",
    "        print(\"Label\" ,decode_target(int(target), text_labels=True))\n",
    "    plt.imshow(img.permute(1, 2, 0))\n",
    "\n",
    "### Predict Single Images\n",
    "def predict_single(image):\n",
    "    show_sample(image)\n",
    "    xb = image.unsqueeze(0)\n",
    "    xb = to_device(xb, device)\n",
    "    preds = model(xb)\n",
    "    _, prediction = torch.max(preds.cpu().detach(), dim=1)\n",
    "    return decode_target(int(prediction), text_labels=True)\n"
   ]
  },
  {
   "cell_type": "code",
   "execution_count": 29,
   "metadata": {
    "colab": {
     "base_uri": "https://localhost:8080/",
     "height": 287
    },
    "id": "YWpAmb2Lvz2q",
    "outputId": "59b86f9a-247b-49e3-aa76-a913b85078cc"
   },
   "outputs": [
    {
     "data": {
      "application/vnd.google.colaboratory.intrinsic+json": {
       "type": "string"
      },
      "text/plain": [
       "'Highway'"
      ]
     },
     "execution_count": 29,
     "metadata": {
      "tags": []
     },
     "output_type": "execute_result"
    },
    {
     "data": {
      "image/png": "[encoded data removed]",
      "text/plain": [
       "<Figure size 432x288 with 1 Axes>"
      ]
     },
     "metadata": {
      "needs_background": "light",
      "tags": []
     },
     "output_type": "display_data"
    }
   ],
   "source": [
    "predict_single(valid_ds[40][0])"
   ]
  },
  {
   "cell_type": "code",
   "execution_count": 30,
   "metadata": {
    "colab": {
     "base_uri": "https://localhost:8080/",
     "height": 287
    },
    "id": "JmeA1uyKv3ZN",
    "outputId": "b68c4d65-26b3-471a-9e22-99951ac50870"
   },
   "outputs": [
    {
     "data": {
      "application/vnd.google.colaboratory.intrinsic+json": {
       "type": "string"
      },
      "text/plain": [
       "'Industrial'"
      ]
     },
     "execution_count": 30,
     "metadata": {
      "tags": []
     },
     "output_type": "execute_result"
    },
    {
     "data": {
      "image/png": "[encoded data removed]",
      "text/plain": [
       "<Figure size 432x288 with 1 Axes>"
      ]
     },
     "metadata": {
      "needs_background": "light",
      "tags": []
     },
     "output_type": "display_data"
    }
   ],
   "source": [
    "predict_single(valid_ds[30][0])"
   ]
  },
  {
   "cell_type": "code",
   "execution_count": 31,
   "metadata": {
    "colab": {
     "base_uri": "https://localhost:8080/",
     "height": 287
    },
    "id": "hFdHeOjSv3dq",
    "outputId": "1a339dd9-f46d-41dc-caef-bc453fabca5f"
   },
   "outputs": [
    {
     "data": {
      "application/vnd.google.colaboratory.intrinsic+json": {
       "type": "string"
      },
      "text/plain": [
       "'Highway'"
      ]
     },
     "execution_count": 31,
     "metadata": {
      "tags": []
     },
     "output_type": "execute_result"
    },
    {
     "data": {
      "image/png": "[encoded data removed]",
      "text/plain": [
       "<Figure size 432x288 with 1 Axes>"
      ]
     },
     "metadata": {
      "needs_background": "light",
      "tags": []
     },
     "output_type": "display_data"
    }
   ],
   "source": [
    "predict_single(valid_ds[90][0])"
   ]
  },
  {
   "cell_type": "markdown",
   "metadata": {
    "id": "o-NoeFJRwh4y"
   },
   "source": [
    "## Evaluation on whole dataset"
   ]
  },
  {
   "cell_type": "code",
   "execution_count": 32,
   "metadata": {
    "id": "CZGjbH7v1qnZ"
   },
   "outputs": [],
   "source": [
    "batch_size =1\n",
    "@torch.no_grad()\n",
    "def predict_dl(dl, model):\n",
    "    torch.cuda.empty_cache()\n",
    "    batch_pred, labels = [], []\n",
    "    for xb, label in tqdm(dl):\n",
    "        probs = model(xb)\n",
    "        _, pred = torch.max(probs.cpu().detach(), dim=1)\n",
    "        batch_pred.append(pred.cpu().detach())     \n",
    "        labels.append(label)   \n",
    "    return [x for x in batch_pred], \\\n",
    "            [x for x in labels]"
   ]
  },
  {
   "cell_type": "code",
   "execution_count": 33,
   "metadata": {
    "id": "sH7VBrL8BX2B"
   },
   "outputs": [],
   "source": [
    "\n",
    "## Accuracy Evaluation\n",
    "def final_accuracy(predictions, labels):\n",
    "  predictions = to_device(predictions, device)\n",
    "  labels = to_device(labels, device)\n",
    "  ## Total Accuracy\n",
    "  total = 0\n",
    "  for i in range(len(predictions)):\n",
    "    if predictions[i] == labels[i]:\n",
    "      total += 1\n",
    "  acc = total/len(predictions)\n",
    "  print(acc)"
   ]
  },
  {
   "cell_type": "code",
   "execution_count": 34,
   "metadata": {
    "colab": {
     "base_uri": "https://localhost:8080/"
    },
    "id": "NJJT9yrS4CRo",
    "outputId": "f7ffdba3-2ee1-418c-d805-843285d89c87"
   },
   "outputs": [
    {
     "name": "stdout",
     "output_type": "stream",
     "text": [
      "True\n"
     ]
    }
   ],
   "source": [
    "full_ds = EuroSAT(DATA_DF, BASE_PATH, data_transform)\n",
    "full_dl = DataLoader(full_ds, batch_size, shuffle=True, num_workers=0, pin_memory=True)\n",
    "device = get_device()\n",
    "## Loading data to devide\n",
    "full_dl = DeviceDataLoader(full_dl, device)\n"
   ]
  },
  {
   "cell_type": "code",
   "execution_count": 35,
   "metadata": {
    "colab": {
     "base_uri": "https://localhost:8080/",
     "height": 265,
     "referenced_widgets": [
      "f76b6bac4eca4e188fcb51cebcf7c303",
      "b42d5699c93845c29ca9e0a6d3638d22",
      "b4c01599b0de4f3c891da4e03585adf6",
      "f795e0e579ec4e2c9aaee73ac5391988",
      "0fba046df34f47dba2a5526cba504907",
      "44a0ee081e3d4d80878ab398b2c44d9d",
      "6e30d4e1451843599ff71b1b83953bc5",
      "5a572a5108c548a69bd8ec13477f7c73"
     ]
    },
    "id": "cj8-nBUTxDC4",
    "outputId": "6074d0bc-189e-4512-dad2-74777348a16d"
   },
   "outputs": [
    {
     "data": {
      "application/vnd.jupyter.widget-view+json": {
       "model_id": "f76b6bac4eca4e188fcb51cebcf7c303",
       "version_major": 2,
       "version_minor": 0
      },
      "text/plain": [
       "HBox(children=(FloatProgress(value=0.0, max=27000.0), HTML(value='')))"
      ]
     },
     "metadata": {
      "tags": []
     },
     "output_type": "display_data"
    },
    {
     "name": "stdout",
     "output_type": "stream",
     "text": [
      "\n",
      "0.9906666666666667\n"
     ]
    },
    {
     "data": {
      "text/plain": [
       "array([[2943,    0,    0,    0,    1,    1,   13,    0,   11,    0],\n",
       "       [   4, 2998,    2,    0,    0,    7,    0,    0,    0,    0],\n",
       "       [   0,    0, 2976,    0,    0,    6,   17,    0,    0,    0],\n",
       "       [   4,    0,    0, 2499,   12,    0,    3,    1,   45,    0],\n",
       "       [   0,    0,    0,    0, 2476,    0,    1,    5,    1,    0],\n",
       "       [   5,    1,    7,    0,    0, 1976,    4,    0,    4,    0],\n",
       "       [  11,    0,    7,    0,    1,    0, 2460,    0,    1,    0],\n",
       "       [   0,    0,    3,    0,    8,    0,    2, 2994,    0,    0],\n",
       "       [   2,    0,    1,    1,    2,    0,    0,    0, 2430,    4],\n",
       "       [  31,    1,    4,    0,    0,   10,    0,    0,    8, 2996]])"
      ]
     },
     "execution_count": 35,
     "metadata": {
      "tags": []
     },
     "output_type": "execute_result"
    }
   ],
   "source": [
    "predictions, labels = predict_dl(full_dl, model)\n",
    "final_accuracy(predictions, labels)\n",
    "preds = [x.item() for x in predictions]\n",
    "labs = [x.item() for x in labels]\n",
    "cm = confusion_matrix(preds, labs)\n",
    "cm"
   ]
  },
  {
   "cell_type": "code",
   "execution_count": 36,
   "metadata": {
    "colab": {
     "base_uri": "https://localhost:8080/",
     "height": 532
    },
    "id": "70xKBBAmxOaX",
    "outputId": "d9176f03-8c3f-443e-ba40-cd5899ef6def"
   },
   "outputs": [
    {
     "data": {
      "text/plain": [
       "<matplotlib.axes._subplots.AxesSubplot at 0x7f481f27dc88>"
      ]
     },
     "execution_count": 36,
     "metadata": {
      "tags": []
     },
     "output_type": "execute_result"
    },
    {
     "data": {
      "image/png": "[encoded data removed]",
      "text/plain": [
       "<Figure size 1152x432 with 2 Axes>"
      ]
     },
     "metadata": {
      "tags": []
     },
     "output_type": "display_data"
    }
   ],
   "source": [
    "## Plotting Confusion matrix\n",
    "df_cm = pd.DataFrame(cm, CLASSES, CLASSES)\n",
    "sns.set(font_scale=1.4) # for label size\n",
    "plt.figure(figsize = (16,6))\n",
    "sns.heatmap(df_cm, annot=True)"
   ]
  },
  {
   "cell_type": "code",
   "execution_count": 37,
   "metadata": {
    "colab": {
     "base_uri": "https://localhost:8080/",
     "height": 265,
     "referenced_widgets": [
      "12129fbef4ba4d4fbcf10dc1c419b1e9",
      "deb73a710d16480fb1e128fdbac103fb",
      "659cde18296948e9ba661b39f9a3a499",
      "c87c8a0792f0410ca69884b5c485b28d",
      "eeb561ee4d7844bfa7b339e189a160ff",
      "278cd2f7d0364e5c83ef57d87e5c5376",
      "c3f364522f7e4fa1a243deb5c29a0ff2",
      "06638843c9874da58ce20fc6a41eb3a7"
     ]
    },
    "id": "5vK8_lvLvN5p",
    "outputId": "b66fcb92-0179-47de-c294-08bd62930bdf"
   },
   "outputs": [
    {
     "data": {
      "application/vnd.jupyter.widget-view+json": {
       "model_id": "12129fbef4ba4d4fbcf10dc1c419b1e9",
       "version_major": 2,
       "version_minor": 0
      },
      "text/plain": [
       "HBox(children=(FloatProgress(value=0.0, max=27000.0), HTML(value='')))"
      ]
     },
     "metadata": {
      "tags": []
     },
     "output_type": "display_data"
    },
    {
     "name": "stdout",
     "output_type": "stream",
     "text": [
      "\n",
      "0.9912592592592593\n"
     ]
    },
    {
     "data": {
      "text/plain": [
       "array([[2942,    0,    0,    0,    1,    2,   12,    0,    9,    0],\n",
       "       [   4, 2999,    2,    0,    0,    9,    0,    0,    0,    0],\n",
       "       [   0,    0, 2983,    0,    0,    7,   17,    0,    0,    0],\n",
       "       [   5,    0,    0, 2498,   14,    0,    3,    2,   36,    0],\n",
       "       [   0,    0,    0,    0, 2477,    0,    1,    6,    1,    0],\n",
       "       [   6,    0,    6,    0,    0, 1972,    4,    0,    2,    0],\n",
       "       [  12,    0,    6,    0,    1,    0, 2461,    0,    0,    0],\n",
       "       [   0,    0,    0,    0,    3,    0,    2, 2992,    0,    0],\n",
       "       [   3,    0,    1,    2,    4,    1,    0,    0, 2444,    4],\n",
       "       [  28,    1,    2,    0,    0,    9,    0,    0,    8, 2996]])"
      ]
     },
     "execution_count": 37,
     "metadata": {
      "tags": []
     },
     "output_type": "execute_result"
    }
   ],
   "source": [
    "## Evaluation with best validation accuracy model\n",
    "model = LULC_Model()\n",
    "model.load_state_dict(torch.load(\"/content/lulc_max_acc.pth\"))\n",
    "model.eval()\n",
    "model = to_device(model, device)\n",
    "predictions, labels = predict_dl(full_dl, model)\n",
    "final_accuracy(predictions, labels)\n",
    "preds = [x.item() for x in predictions]\n",
    "labs = [x.item() for x in labels]\n",
    "cm = confusion_matrix(preds, labs)\n",
    "cm"
   ]
  },
  {
   "cell_type": "code",
   "execution_count": 38,
   "metadata": {
    "colab": {
     "base_uri": "https://localhost:8080/",
     "height": 532
    },
    "id": "xyhDE6i9vN8o",
    "outputId": "aab740db-0fce-4148-f7f3-86858ff5a536"
   },
   "outputs": [
    {
     "data": {
      "text/plain": [
       "<matplotlib.axes._subplots.AxesSubplot at 0x7f481f27df98>"
      ]
     },
     "execution_count": 38,
     "metadata": {
      "tags": []
     },
     "output_type": "execute_result"
    },
    {
     "data": {
      "image/png": "[encoded data removed]",
      "text/plain": [
       "<Figure size 1152x432 with 2 Axes>"
      ]
     },
     "metadata": {
      "tags": []
     },
     "output_type": "display_data"
    }
   ],
   "source": [
    "## Plotting Confusion matrix\n",
    "df_cm = pd.DataFrame(cm, CLASSES, CLASSES)\n",
    "sns.set(font_scale=1.4) # for label size\n",
    "plt.figure(figsize = (16,6))\n",
    "sns.heatmap(df_cm, annot=True)"
   ]
  }
 ],
 "metadata": {
  "accelerator": "GPU",
  "colab": {
   "collapsed_sections": [],
   "name": " Land Cover Classification using Sentinel-2 Satellite Imagery and Deep Learning.ipynb",
   "provenance": [],
   "toc_visible": true
  },
  "kernelspec": {
   "display_name": "Python 3 (ipykernel)",
   "language": "python",
   "name": "python3"
  },
  "language_info": {
   "codemirror_mode": {
    "name": "ipython",
    "version": 3
   },
   "file_extension": ".py",
   "mimetype": "text/x-python",
   "name": "python",
   "nbconvert_exporter": "python",
   "pygments_lexer": "ipython3",
   "version": "3.8.5"
  },
  "widgets": {
   "application/vnd.jupyter.widget-state+json": {
    "0102475e037a4f89a94b68d0b898e45c": {
     "model_module": "@jupyter-widgets/base",
     "model_name": "LayoutModel",
     "state": {
      "_model_module": "@jupyter-widgets/base",
      "_model_module_version": "1.2.0",
      "_model_name": "LayoutModel",
      "_view_count": null,
      "_view_module": "@jupyter-widgets/base",
      "_view_module_version": "1.2.0",
      "_view_name": "LayoutView",
      "align_content": null,
      "align_items": null,
      "align_self": null,
      "border": null,
      "bottom": null,
      "display": null,
      "flex": null,
      "flex_flow": null,
      "grid_area": null,
      "grid_auto_columns": null,
      "grid_auto_flow": null,
      "grid_auto_rows": null,
      "grid_column": null,
      "grid_gap": null,
      "grid_row": null,
      "grid_template_areas": null,
      "grid_template_columns": null,
      "grid_template_rows": null,
      "height": null,
      "justify_content": null,
      "justify_items": null,
      "left": null,
      "margin": null,
      "max_height": null,
      "max_width": null,
      "min_height": null,
      "min_width": null,
      "object_fit": null,
      "object_position": null,
      "order": null,
      "overflow": null,
      "overflow_x": null,
      "overflow_y": null,
      "padding": null,
      "right": null,
      "top": null,
      "visibility": null,
      "width": null
     }
    },
    "01a6c28ad7bd49cda5606d3d2414ff44": {
     "model_module": "@jupyter-widgets/controls",
     "model_name": "HBoxModel",
     "state": {
      "_dom_classes": [],
      "_model_module": "@jupyter-widgets/controls",
      "_model_module_version": "1.5.0",
      "_model_name": "HBoxModel",
      "_view_count": null,
      "_view_module": "@jupyter-widgets/controls",
      "_view_module_version": "1.5.0",
      "_view_name": "HBoxView",
      "box_style": "",
      "children": [
       "IPY_MODEL_27ca01d3c1114055972ddb187f33bd17",
       "IPY_MODEL_b031c9ca4e7744c0a08718c50288d974"
      ],
      "layout": "IPY_MODEL_1d33690c381a447d8b922e22c1d70dd7"
     }
    },
    "033c01f8d7004e1da46a6cf5809fb67f": {
     "model_module": "@jupyter-widgets/controls",
     "model_name": "HBoxModel",
     "state": {
      "_dom_classes": [],
      "_model_module": "@jupyter-widgets/controls",
      "_model_module_version": "1.5.0",
      "_model_name": "HBoxModel",
      "_view_count": null,
      "_view_module": "@jupyter-widgets/controls",
      "_view_module_version": "1.5.0",
      "_view_name": "HBoxView",
      "box_style": "",
      "children": [
       "IPY_MODEL_f5f280c2921c47f4a2e66d24e3ef9d0f",
       "IPY_MODEL_c1dbf43a387c4d24852d3710198c3872"
      ],
      "layout": "IPY_MODEL_33c29da34b6d449bae4e9dba2a1eca90"
     }
    },
    "06638843c9874da58ce20fc6a41eb3a7": {
     "model_module": "@jupyter-widgets/base",
     "model_name": "LayoutModel",
     "state": {
      "_model_module": "@jupyter-widgets/base",
      "_model_module_version": "1.2.0",
      "_model_name": "LayoutModel",
      "_view_count": null,
      "_view_module": "@jupyter-widgets/base",
      "_view_module_version": "1.2.0",
      "_view_name": "LayoutView",
      "align_content": null,
      "align_items": null,
      "align_self": null,
      "border": null,
      "bottom": null,
      "display": null,
      "flex": null,
      "flex_flow": null,
      "grid_area": null,
      "grid_auto_columns": null,
      "grid_auto_flow": null,
      "grid_auto_rows": null,
      "grid_column": null,
      "grid_gap": null,
      "grid_row": null,
      "grid_template_areas": null,
      "grid_template_columns": null,
      "grid_template_rows": null,
      "height": null,
      "justify_content": null,
      "justify_items": null,
      "left": null,
      "margin": null,
      "max_height": null,
      "max_width": null,
      "min_height": null,
      "min_width": null,
      "object_fit": null,
      "object_position": null,
      "order": null,
      "overflow": null,
      "overflow_x": null,
      "overflow_y": null,
      "padding": null,
      "right": null,
      "top": null,
      "visibility": null,
      "width": null
     }
    },
    "071dd6f8a7624f059b5a882e269fe33a": {
     "model_module": "@jupyter-widgets/controls",
     "model_name": "FloatProgressModel",
     "state": {
      "_dom_classes": [],
      "_model_module": "@jupyter-widgets/controls",
      "_model_module_version": "1.5.0",
      "_model_name": "FloatProgressModel",
      "_view_count": null,
      "_view_module": "@jupyter-widgets/controls",
      "_view_module_version": "1.5.0",
      "_view_name": "ProgressView",
      "bar_style": "success",
      "description": "100%",
      "description_tooltip": null,
      "layout": "IPY_MODEL_e4a6ae098753495d99abba073826a16f",
      "max": 380,
      "min": 0,
      "orientation": "horizontal",
      "style": "IPY_MODEL_7e108d4810fb41bf8f059f27953e4465",
      "value": 380
     }
    },
    "0b714b70362940508bd29ca9540813d7": {
     "model_module": "@jupyter-widgets/base",
     "model_name": "LayoutModel",
     "state": {
      "_model_module": "@jupyter-widgets/base",
      "_model_module_version": "1.2.0",
      "_model_name": "LayoutModel",
      "_view_count": null,
      "_view_module": "@jupyter-widgets/base",
      "_view_module_version": "1.2.0",
      "_view_name": "LayoutView",
      "align_content": null,
      "align_items": null,
      "align_self": null,
      "border": null,
      "bottom": null,
      "display": null,
      "flex": null,
      "flex_flow": null,
      "grid_area": null,
      "grid_auto_columns": null,
      "grid_auto_flow": null,
      "grid_auto_rows": null,
      "grid_column": null,
      "grid_gap": null,
      "grid_row": null,
      "grid_template_areas": null,
      "grid_template_columns": null,
      "grid_template_rows": null,
      "height": null,
      "justify_content": null,
      "justify_items": null,
      "left": null,
      "margin": null,
      "max_height": null,
      "max_width": null,
      "min_height": null,
      "min_width": null,
      "object_fit": null,
      "object_position": null,
      "order": null,
      "overflow": null,
      "overflow_x": null,
      "overflow_y": null,
      "padding": null,
      "right": null,
      "top": null,
      "visibility": null,
      "width": null
     }
    },
    "0db404667f5946ca86c7ad02c23406ef": {
     "model_module": "@jupyter-widgets/base",
     "model_name": "LayoutModel",
     "state": {
      "_model_module": "@jupyter-widgets/base",
      "_model_module_version": "1.2.0",
      "_model_name": "LayoutModel",
      "_view_count": null,
      "_view_module": "@jupyter-widgets/base",
      "_view_module_version": "1.2.0",
      "_view_name": "LayoutView",
      "align_content": null,
      "align_items": null,
      "align_self": null,
      "border": null,
      "bottom": null,
      "display": null,
      "flex": null,
      "flex_flow": null,
      "grid_area": null,
      "grid_auto_columns": null,
      "grid_auto_flow": null,
      "grid_auto_rows": null,
      "grid_column": null,
      "grid_gap": null,
      "grid_row": null,
      "grid_template_areas": null,
      "grid_template_columns": null,
      "grid_template_rows": null,
      "height": null,
      "justify_content": null,
      "justify_items": null,
      "left": null,
      "margin": null,
      "max_height": null,
      "max_width": null,
      "min_height": null,
      "min_width": null,
      "object_fit": null,
      "object_position": null,
      "order": null,
      "overflow": null,
      "overflow_x": null,
      "overflow_y": null,
      "padding": null,
      "right": null,
      "top": null,
      "visibility": null,
      "width": null
     }
    },
    "0db62b3882cf4065b106c80d853f812d": {
     "model_module": "@jupyter-widgets/base",
     "model_name": "LayoutModel",
     "state": {
      "_model_module": "@jupyter-widgets/base",
      "_model_module_version": "1.2.0",
      "_model_name": "LayoutModel",
      "_view_count": null,
      "_view_module": "@jupyter-widgets/base",
      "_view_module_version": "1.2.0",
      "_view_name": "LayoutView",
      "align_content": null,
      "align_items": null,
      "align_self": null,
      "border": null,
      "bottom": null,
      "display": null,
      "flex": null,
      "flex_flow": null,
      "grid_area": null,
      "grid_auto_columns": null,
      "grid_auto_flow": null,
      "grid_auto_rows": null,
      "grid_column": null,
      "grid_gap": null,
      "grid_row": null,
      "grid_template_areas": null,
      "grid_template_columns": null,
      "grid_template_rows": null,
      "height": null,
      "justify_content": null,
      "justify_items": null,
      "left": null,
      "margin": null,
      "max_height": null,
      "max_width": null,
      "min_height": null,
      "min_width": null,
      "object_fit": null,
      "object_position": null,
      "order": null,
      "overflow": null,
      "overflow_x": null,
      "overflow_y": null,
      "padding": null,
      "right": null,
      "top": null,
      "visibility": null,
      "width": null
     }
    },
    "0fba046df34f47dba2a5526cba504907": {
     "model_module": "@jupyter-widgets/controls",
     "model_name": "ProgressStyleModel",
     "state": {
      "_model_module": "@jupyter-widgets/controls",
      "_model_module_version": "1.5.0",
      "_model_name": "ProgressStyleModel",
      "_view_count": null,
      "_view_module": "@jupyter-widgets/base",
      "_view_module_version": "1.2.0",
      "_view_name": "StyleView",
      "bar_color": null,
      "description_width": "initial"
     }
    },
    "12129fbef4ba4d4fbcf10dc1c419b1e9": {
     "model_module": "@jupyter-widgets/controls",
     "model_name": "HBoxModel",
     "state": {
      "_dom_classes": [],
      "_model_module": "@jupyter-widgets/controls",
      "_model_module_version": "1.5.0",
      "_model_name": "HBoxModel",
      "_view_count": null,
      "_view_module": "@jupyter-widgets/controls",
      "_view_module_version": "1.5.0",
      "_view_name": "HBoxView",
      "box_style": "",
      "children": [
       "IPY_MODEL_659cde18296948e9ba661b39f9a3a499",
       "IPY_MODEL_c87c8a0792f0410ca69884b5c485b28d"
      ],
      "layout": "IPY_MODEL_deb73a710d16480fb1e128fdbac103fb"
     }
    },
    "1222dd3a6d3c4635928181022f41bd5f": {
     "model_module": "@jupyter-widgets/controls",
     "model_name": "DescriptionStyleModel",
     "state": {
      "_model_module": "@jupyter-widgets/controls",
      "_model_module_version": "1.5.0",
      "_model_name": "DescriptionStyleModel",
      "_view_count": null,
      "_view_module": "@jupyter-widgets/base",
      "_view_module_version": "1.2.0",
      "_view_name": "StyleView",
      "description_width": ""
     }
    },
    "16f2db434e574f398b373dbd05eacdbd": {
     "model_module": "@jupyter-widgets/controls",
     "model_name": "ProgressStyleModel",
     "state": {
      "_model_module": "@jupyter-widgets/controls",
      "_model_module_version": "1.5.0",
      "_model_name": "ProgressStyleModel",
      "_view_count": null,
      "_view_module": "@jupyter-widgets/base",
      "_view_module_version": "1.2.0",
      "_view_name": "StyleView",
      "bar_color": null,
      "description_width": "initial"
     }
    },
    "1b82e3c4c8c9400e8d2d79ffc38b3e92": {
     "model_module": "@jupyter-widgets/controls",
     "model_name": "HTMLModel",
     "state": {
      "_dom_classes": [],
      "_model_module": "@jupyter-widgets/controls",
      "_model_module_version": "1.5.0",
      "_model_name": "HTMLModel",
      "_view_count": null,
      "_view_module": "@jupyter-widgets/controls",
      "_view_module_version": "1.5.0",
      "_view_name": "HTMLView",
      "description": "",
      "description_tooltip": null,
      "layout": "IPY_MODEL_b95208ff31b8452a8c97e4f0a27538f5",
      "placeholder": "​",
      "style": "IPY_MODEL_92d01546f3b64e08881a5bfc805aeeb8",
      "value": " 380/380 [23:30&lt;00:00,  3.71s/it]"
     }
    },
    "1d021bb93d9248ca8aaa6f600f4a52fd": {
     "model_module": "@jupyter-widgets/controls",
     "model_name": "HBoxModel",
     "state": {
      "_dom_classes": [],
      "_model_module": "@jupyter-widgets/controls",
      "_model_module_version": "1.5.0",
      "_model_name": "HBoxModel",
      "_view_count": null,
      "_view_module": "@jupyter-widgets/controls",
      "_view_module_version": "1.5.0",
      "_view_name": "HBoxView",
      "box_style": "",
      "children": [
       "IPY_MODEL_df76d16bb08247d189f42fc07b312d40",
       "IPY_MODEL_cd7664ff96b14c5e8959fa8101db34b6"
      ],
      "layout": "IPY_MODEL_3f2ca16d86f141e5bc48a84f8de3232a"
     }
    },
    "1d2fceace585455d9fa1a2097026a6fa": {
     "model_module": "@jupyter-widgets/controls",
     "model_name": "FloatProgressModel",
     "state": {
      "_dom_classes": [],
      "_model_module": "@jupyter-widgets/controls",
      "_model_module_version": "1.5.0",
      "_model_name": "FloatProgressModel",
      "_view_count": null,
      "_view_module": "@jupyter-widgets/controls",
      "_view_module_version": "1.5.0",
      "_view_name": "ProgressView",
      "bar_style": "success",
      "description": "100%",
      "description_tooltip": null,
      "layout": "IPY_MODEL_25a699b5c9894ed6a104d29927e9b8ed",
      "max": 380,
      "min": 0,
      "orientation": "horizontal",
      "style": "IPY_MODEL_16f2db434e574f398b373dbd05eacdbd",
      "value": 380
     }
    },
    "1d33690c381a447d8b922e22c1d70dd7": {
     "model_module": "@jupyter-widgets/base",
     "model_name": "LayoutModel",
     "state": {
      "_model_module": "@jupyter-widgets/base",
      "_model_module_version": "1.2.0",
      "_model_name": "LayoutModel",
      "_view_count": null,
      "_view_module": "@jupyter-widgets/base",
      "_view_module_version": "1.2.0",
      "_view_name": "LayoutView",
      "align_content": null,
      "align_items": null,
      "align_self": null,
      "border": null,
      "bottom": null,
      "display": null,
      "flex": null,
      "flex_flow": null,
      "grid_area": null,
      "grid_auto_columns": null,
      "grid_auto_flow": null,
      "grid_auto_rows": null,
      "grid_column": null,
      "grid_gap": null,
      "grid_row": null,
      "grid_template_areas": null,
      "grid_template_columns": null,
      "grid_template_rows": null,
      "height": null,
      "justify_content": null,
      "justify_items": null,
      "left": null,
      "margin": null,
      "max_height": null,
      "max_width": null,
      "min_height": null,
      "min_width": null,
      "object_fit": null,
      "object_position": null,
      "order": null,
      "overflow": null,
      "overflow_x": null,
      "overflow_y": null,
      "padding": null,
      "right": null,
      "top": null,
      "visibility": null,
      "width": null
     }
    },
    "2278fe60e70043bfaea42f4feb3305da": {
     "model_module": "@jupyter-widgets/controls",
     "model_name": "DescriptionStyleModel",
     "state": {
      "_model_module": "@jupyter-widgets/controls",
      "_model_module_version": "1.5.0",
      "_model_name": "DescriptionStyleModel",
      "_view_count": null,
      "_view_module": "@jupyter-widgets/base",
      "_view_module_version": "1.2.0",
      "_view_name": "StyleView",
      "description_width": ""
     }
    },
    "24a2b10dc1f8443daa8fade21343b877": {
     "model_module": "@jupyter-widgets/base",
     "model_name": "LayoutModel",
     "state": {
      "_model_module": "@jupyter-widgets/base",
      "_model_module_version": "1.2.0",
      "_model_name": "LayoutModel",
      "_view_count": null,
      "_view_module": "@jupyter-widgets/base",
      "_view_module_version": "1.2.0",
      "_view_name": "LayoutView",
      "align_content": null,
      "align_items": null,
      "align_self": null,
      "border": null,
      "bottom": null,
      "display": null,
      "flex": null,
      "flex_flow": null,
      "grid_area": null,
      "grid_auto_columns": null,
      "grid_auto_flow": null,
      "grid_auto_rows": null,
      "grid_column": null,
      "grid_gap": null,
      "grid_row": null,
      "grid_template_areas": null,
      "grid_template_columns": null,
      "grid_template_rows": null,
      "height": null,
      "justify_content": null,
      "justify_items": null,
      "left": null,
      "margin": null,
      "max_height": null,
      "max_width": null,
      "min_height": null,
      "min_width": null,
      "object_fit": null,
      "object_position": null,
      "order": null,
      "overflow": null,
      "overflow_x": null,
      "overflow_y": null,
      "padding": null,
      "right": null,
      "top": null,
      "visibility": null,
      "width": null
     }
    },
    "25a699b5c9894ed6a104d29927e9b8ed": {
     "model_module": "@jupyter-widgets/base",
     "model_name": "LayoutModel",
     "state": {
      "_model_module": "@jupyter-widgets/base",
      "_model_module_version": "1.2.0",
      "_model_name": "LayoutModel",
      "_view_count": null,
      "_view_module": "@jupyter-widgets/base",
      "_view_module_version": "1.2.0",
      "_view_name": "LayoutView",
      "align_content": null,
      "align_items": null,
      "align_self": null,
      "border": null,
      "bottom": null,
      "display": null,
      "flex": null,
      "flex_flow": null,
      "grid_area": null,
      "grid_auto_columns": null,
      "grid_auto_flow": null,
      "grid_auto_rows": null,
      "grid_column": null,
      "grid_gap": null,
      "grid_row": null,
      "grid_template_areas": null,
      "grid_template_columns": null,
      "grid_template_rows": null,
      "height": null,
      "justify_content": null,
      "justify_items": null,
      "left": null,
      "margin": null,
      "max_height": null,
      "max_width": null,
      "min_height": null,
      "min_width": null,
      "object_fit": null,
      "object_position": null,
      "order": null,
      "overflow": null,
      "overflow_x": null,
      "overflow_y": null,
      "padding": null,
      "right": null,
      "top": null,
      "visibility": null,
      "width": null
     }
    },
    "2633e90277bf48658fde9fc6af145b5b": {
     "model_module": "@jupyter-widgets/controls",
     "model_name": "ProgressStyleModel",
     "state": {
      "_model_module": "@jupyter-widgets/controls",
      "_model_module_version": "1.5.0",
      "_model_name": "ProgressStyleModel",
      "_view_count": null,
      "_view_module": "@jupyter-widgets/base",
      "_view_module_version": "1.2.0",
      "_view_name": "StyleView",
      "bar_color": null,
      "description_width": "initial"
     }
    },
    "278cd2f7d0364e5c83ef57d87e5c5376": {
     "model_module": "@jupyter-widgets/base",
     "model_name": "LayoutModel",
     "state": {
      "_model_module": "@jupyter-widgets/base",
      "_model_module_version": "1.2.0",
      "_model_name": "LayoutModel",
      "_view_count": null,
      "_view_module": "@jupyter-widgets/base",
      "_view_module_version": "1.2.0",
      "_view_name": "LayoutView",
      "align_content": null,
      "align_items": null,
      "align_self": null,
      "border": null,
      "bottom": null,
      "display": null,
      "flex": null,
      "flex_flow": null,
      "grid_area": null,
      "grid_auto_columns": null,
      "grid_auto_flow": null,
      "grid_auto_rows": null,
      "grid_column": null,
      "grid_gap": null,
      "grid_row": null,
      "grid_template_areas": null,
      "grid_template_columns": null,
      "grid_template_rows": null,
      "height": null,
      "justify_content": null,
      "justify_items": null,
      "left": null,
      "margin": null,
      "max_height": null,
      "max_width": null,
      "min_height": null,
      "min_width": null,
      "object_fit": null,
      "object_position": null,
      "order": null,
      "overflow": null,
      "overflow_x": null,
      "overflow_y": null,
      "padding": null,
      "right": null,
      "top": null,
      "visibility": null,
      "width": null
     }
    },
    "27b0ba41f7cf42508e9ece6f3419800d": {
     "model_module": "@jupyter-widgets/base",
     "model_name": "LayoutModel",
     "state": {
      "_model_module": "@jupyter-widgets/base",
      "_model_module_version": "1.2.0",
      "_model_name": "LayoutModel",
      "_view_count": null,
      "_view_module": "@jupyter-widgets/base",
      "_view_module_version": "1.2.0",
      "_view_name": "LayoutView",
      "align_content": null,
      "align_items": null,
      "align_self": null,
      "border": null,
      "bottom": null,
      "display": null,
      "flex": null,
      "flex_flow": null,
      "grid_area": null,
      "grid_auto_columns": null,
      "grid_auto_flow": null,
      "grid_auto_rows": null,
      "grid_column": null,
      "grid_gap": null,
      "grid_row": null,
      "grid_template_areas": null,
      "grid_template_columns": null,
      "grid_template_rows": null,
      "height": null,
      "justify_content": null,
      "justify_items": null,
      "left": null,
      "margin": null,
      "max_height": null,
      "max_width": null,
      "min_height": null,
      "min_width": null,
      "object_fit": null,
      "object_position": null,
      "order": null,
      "overflow": null,
      "overflow_x": null,
      "overflow_y": null,
      "padding": null,
      "right": null,
      "top": null,
      "visibility": null,
      "width": null
     }
    },
    "27ca01d3c1114055972ddb187f33bd17": {
     "model_module": "@jupyter-widgets/controls",
     "model_name": "FloatProgressModel",
     "state": {
      "_dom_classes": [],
      "_model_module": "@jupyter-widgets/controls",
      "_model_module_version": "1.5.0",
      "_model_name": "FloatProgressModel",
      "_view_count": null,
      "_view_module": "@jupyter-widgets/controls",
      "_view_module_version": "1.5.0",
      "_view_name": "ProgressView",
      "bar_style": "success",
      "description": "100%",
      "description_tooltip": null,
      "layout": "IPY_MODEL_2b21ce4fb3fa4021bfc6c4fa59d9e241",
      "max": 380,
      "min": 0,
      "orientation": "horizontal",
      "style": "IPY_MODEL_d5bbd3a9b26f4797834cd15a8fbf57b4",
      "value": 380
     }
    },
    "2a962651d48047cc9ca40a42239b7890": {
     "model_module": "@jupyter-widgets/controls",
     "model_name": "FloatProgressModel",
     "state": {
      "_dom_classes": [],
      "_model_module": "@jupyter-widgets/controls",
      "_model_module_version": "1.5.0",
      "_model_name": "FloatProgressModel",
      "_view_count": null,
      "_view_module": "@jupyter-widgets/controls",
      "_view_module_version": "1.5.0",
      "_view_name": "ProgressView",
      "bar_style": "success",
      "description": "100%",
      "description_tooltip": null,
      "layout": "IPY_MODEL_852bb1bed3bb4577889a960c49704a46",
      "max": 380,
      "min": 0,
      "orientation": "horizontal",
      "style": "IPY_MODEL_c08d2fe97d7946f1b390714160772679",
      "value": 380
     }
    },
    "2b21ce4fb3fa4021bfc6c4fa59d9e241": {
     "model_module": "@jupyter-widgets/base",
     "model_name": "LayoutModel",
     "state": {
      "_model_module": "@jupyter-widgets/base",
      "_model_module_version": "1.2.0",
      "_model_name": "LayoutModel",
      "_view_count": null,
      "_view_module": "@jupyter-widgets/base",
      "_view_module_version": "1.2.0",
      "_view_name": "LayoutView",
      "align_content": null,
      "align_items": null,
      "align_self": null,
      "border": null,
      "bottom": null,
      "display": null,
      "flex": null,
      "flex_flow": null,
      "grid_area": null,
      "grid_auto_columns": null,
      "grid_auto_flow": null,
      "grid_auto_rows": null,
      "grid_column": null,
      "grid_gap": null,
      "grid_row": null,
      "grid_template_areas": null,
      "grid_template_columns": null,
      "grid_template_rows": null,
      "height": null,
      "justify_content": null,
      "justify_items": null,
      "left": null,
      "margin": null,
      "max_height": null,
      "max_width": null,
      "min_height": null,
      "min_width": null,
      "object_fit": null,
      "object_position": null,
      "order": null,
      "overflow": null,
      "overflow_x": null,
      "overflow_y": null,
      "padding": null,
      "right": null,
      "top": null,
      "visibility": null,
      "width": null
     }
    },
    "3341dc07e72649cfb49ead5feba3db1a": {
     "model_module": "@jupyter-widgets/base",
     "model_name": "LayoutModel",
     "state": {
      "_model_module": "@jupyter-widgets/base",
      "_model_module_version": "1.2.0",
      "_model_name": "LayoutModel",
      "_view_count": null,
      "_view_module": "@jupyter-widgets/base",
      "_view_module_version": "1.2.0",
      "_view_name": "LayoutView",
      "align_content": null,
      "align_items": null,
      "align_self": null,
      "border": null,
      "bottom": null,
      "display": null,
      "flex": null,
      "flex_flow": null,
      "grid_area": null,
      "grid_auto_columns": null,
      "grid_auto_flow": null,
      "grid_auto_rows": null,
      "grid_column": null,
      "grid_gap": null,
      "grid_row": null,
      "grid_template_areas": null,
      "grid_template_columns": null,
      "grid_template_rows": null,
      "height": null,
      "justify_content": null,
      "justify_items": null,
      "left": null,
      "margin": null,
      "max_height": null,
      "max_width": null,
      "min_height": null,
      "min_width": null,
      "object_fit": null,
      "object_position": null,
      "order": null,
      "overflow": null,
      "overflow_x": null,
      "overflow_y": null,
      "padding": null,
      "right": null,
      "top": null,
      "visibility": null,
      "width": null
     }
    },
    "33c29da34b6d449bae4e9dba2a1eca90": {
     "model_module": "@jupyter-widgets/base",
     "model_name": "LayoutModel",
     "state": {
      "_model_module": "@jupyter-widgets/base",
      "_model_module_version": "1.2.0",
      "_model_name": "LayoutModel",
      "_view_count": null,
      "_view_module": "@jupyter-widgets/base",
      "_view_module_version": "1.2.0",
      "_view_name": "LayoutView",
      "align_content": null,
      "align_items": null,
      "align_self": null,
      "border": null,
      "bottom": null,
      "display": null,
      "flex": null,
      "flex_flow": null,
      "grid_area": null,
      "grid_auto_columns": null,
      "grid_auto_flow": null,
      "grid_auto_rows": null,
      "grid_column": null,
      "grid_gap": null,
      "grid_row": null,
      "grid_template_areas": null,
      "grid_template_columns": null,
      "grid_template_rows": null,
      "height": null,
      "justify_content": null,
      "justify_items": null,
      "left": null,
      "margin": null,
      "max_height": null,
      "max_width": null,
      "min_height": null,
      "min_width": null,
      "object_fit": null,
      "object_position": null,
      "order": null,
      "overflow": null,
      "overflow_x": null,
      "overflow_y": null,
      "padding": null,
      "right": null,
      "top": null,
      "visibility": null,
      "width": null
     }
    },
    "3f2ca16d86f141e5bc48a84f8de3232a": {
     "model_module": "@jupyter-widgets/base",
     "model_name": "LayoutModel",
     "state": {
      "_model_module": "@jupyter-widgets/base",
      "_model_module_version": "1.2.0",
      "_model_name": "LayoutModel",
      "_view_count": null,
      "_view_module": "@jupyter-widgets/base",
      "_view_module_version": "1.2.0",
      "_view_name": "LayoutView",
      "align_content": null,
      "align_items": null,
      "align_self": null,
      "border": null,
      "bottom": null,
      "display": null,
      "flex": null,
      "flex_flow": null,
      "grid_area": null,
      "grid_auto_columns": null,
      "grid_auto_flow": null,
      "grid_auto_rows": null,
      "grid_column": null,
      "grid_gap": null,
      "grid_row": null,
      "grid_template_areas": null,
      "grid_template_columns": null,
      "grid_template_rows": null,
      "height": null,
      "justify_content": null,
      "justify_items": null,
      "left": null,
      "margin": null,
      "max_height": null,
      "max_width": null,
      "min_height": null,
      "min_width": null,
      "object_fit": null,
      "object_position": null,
      "order": null,
      "overflow": null,
      "overflow_x": null,
      "overflow_y": null,
      "padding": null,
      "right": null,
      "top": null,
      "visibility": null,
      "width": null
     }
    },
    "44a0ee081e3d4d80878ab398b2c44d9d": {
     "model_module": "@jupyter-widgets/base",
     "model_name": "LayoutModel",
     "state": {
      "_model_module": "@jupyter-widgets/base",
      "_model_module_version": "1.2.0",
      "_model_name": "LayoutModel",
      "_view_count": null,
      "_view_module": "@jupyter-widgets/base",
      "_view_module_version": "1.2.0",
      "_view_name": "LayoutView",
      "align_content": null,
      "align_items": null,
      "align_self": null,
      "border": null,
      "bottom": null,
      "display": null,
      "flex": null,
      "flex_flow": null,
      "grid_area": null,
      "grid_auto_columns": null,
      "grid_auto_flow": null,
      "grid_auto_rows": null,
      "grid_column": null,
      "grid_gap": null,
      "grid_row": null,
      "grid_template_areas": null,
      "grid_template_columns": null,
      "grid_template_rows": null,
      "height": null,
      "justify_content": null,
      "justify_items": null,
      "left": null,
      "margin": null,
      "max_height": null,
      "max_width": null,
      "min_height": null,
      "min_width": null,
      "object_fit": null,
      "object_position": null,
      "order": null,
      "overflow": null,
      "overflow_x": null,
      "overflow_y": null,
      "padding": null,
      "right": null,
      "top": null,
      "visibility": null,
      "width": null
     }
    },
    "4b8dbc4a152043dd8fb3e3bdfbafa74c": {
     "model_module": "@jupyter-widgets/base",
     "model_name": "LayoutModel",
     "state": {
      "_model_module": "@jupyter-widgets/base",
      "_model_module_version": "1.2.0",
      "_model_name": "LayoutModel",
      "_view_count": null,
      "_view_module": "@jupyter-widgets/base",
      "_view_module_version": "1.2.0",
      "_view_name": "LayoutView",
      "align_content": null,
      "align_items": null,
      "align_self": null,
      "border": null,
      "bottom": null,
      "display": null,
      "flex": null,
      "flex_flow": null,
      "grid_area": null,
      "grid_auto_columns": null,
      "grid_auto_flow": null,
      "grid_auto_rows": null,
      "grid_column": null,
      "grid_gap": null,
      "grid_row": null,
      "grid_template_areas": null,
      "grid_template_columns": null,
      "grid_template_rows": null,
      "height": null,
      "justify_content": null,
      "justify_items": null,
      "left": null,
      "margin": null,
      "max_height": null,
      "max_width": null,
      "min_height": null,
      "min_width": null,
      "object_fit": null,
      "object_position": null,
      "order": null,
      "overflow": null,
      "overflow_x": null,
      "overflow_y": null,
      "padding": null,
      "right": null,
      "top": null,
      "visibility": null,
      "width": null
     }
    },
    "5004852731814581b16934cc2cf0ddc8": {
     "model_module": "@jupyter-widgets/base",
     "model_name": "LayoutModel",
     "state": {
      "_model_module": "@jupyter-widgets/base",
      "_model_module_version": "1.2.0",
      "_model_name": "LayoutModel",
      "_view_count": null,
      "_view_module": "@jupyter-widgets/base",
      "_view_module_version": "1.2.0",
      "_view_name": "LayoutView",
      "align_content": null,
      "align_items": null,
      "align_self": null,
      "border": null,
      "bottom": null,
      "display": null,
      "flex": null,
      "flex_flow": null,
      "grid_area": null,
      "grid_auto_columns": null,
      "grid_auto_flow": null,
      "grid_auto_rows": null,
      "grid_column": null,
      "grid_gap": null,
      "grid_row": null,
      "grid_template_areas": null,
      "grid_template_columns": null,
      "grid_template_rows": null,
      "height": null,
      "justify_content": null,
      "justify_items": null,
      "left": null,
      "margin": null,
      "max_height": null,
      "max_width": null,
      "min_height": null,
      "min_width": null,
      "object_fit": null,
      "object_position": null,
      "order": null,
      "overflow": null,
      "overflow_x": null,
      "overflow_y": null,
      "padding": null,
      "right": null,
      "top": null,
      "visibility": null,
      "width": null
     }
    },
    "54f8b1045db1416e80beb504bab4ca7a": {
     "model_module": "@jupyter-widgets/base",
     "model_name": "LayoutModel",
     "state": {
      "_model_module": "@jupyter-widgets/base",
      "_model_module_version": "1.2.0",
      "_model_name": "LayoutModel",
      "_view_count": null,
      "_view_module": "@jupyter-widgets/base",
      "_view_module_version": "1.2.0",
      "_view_name": "LayoutView",
      "align_content": null,
      "align_items": null,
      "align_self": null,
      "border": null,
      "bottom": null,
      "display": null,
      "flex": null,
      "flex_flow": null,
      "grid_area": null,
      "grid_auto_columns": null,
      "grid_auto_flow": null,
      "grid_auto_rows": null,
      "grid_column": null,
      "grid_gap": null,
      "grid_row": null,
      "grid_template_areas": null,
      "grid_template_columns": null,
      "grid_template_rows": null,
      "height": null,
      "justify_content": null,
      "justify_items": null,
      "left": null,
      "margin": null,
      "max_height": null,
      "max_width": null,
      "min_height": null,
      "min_width": null,
      "object_fit": null,
      "object_position": null,
      "order": null,
      "overflow": null,
      "overflow_x": null,
      "overflow_y": null,
      "padding": null,
      "right": null,
      "top": null,
      "visibility": null,
      "width": null
     }
    },
    "56522ea3a1a749209ffcb2b2e2de6d52": {
     "model_module": "@jupyter-widgets/controls",
     "model_name": "HBoxModel",
     "state": {
      "_dom_classes": [],
      "_model_module": "@jupyter-widgets/controls",
      "_model_module_version": "1.5.0",
      "_model_name": "HBoxModel",
      "_view_count": null,
      "_view_module": "@jupyter-widgets/controls",
      "_view_module_version": "1.5.0",
      "_view_name": "HBoxView",
      "box_style": "",
      "children": [
       "IPY_MODEL_cbef0897241e4bcab27b0bdeb9965930",
       "IPY_MODEL_8a64117e054345db9251eacffd1766d0"
      ],
      "layout": "IPY_MODEL_b2143f97e66440f89d47c0d00d4c68a8"
     }
    },
    "576af7c8c5674da59ccc403fd758fb48": {
     "model_module": "@jupyter-widgets/controls",
     "model_name": "FloatProgressModel",
     "state": {
      "_dom_classes": [],
      "_model_module": "@jupyter-widgets/controls",
      "_model_module_version": "1.5.0",
      "_model_name": "FloatProgressModel",
      "_view_count": null,
      "_view_module": "@jupyter-widgets/controls",
      "_view_module_version": "1.5.0",
      "_view_name": "ProgressView",
      "bar_style": "success",
      "description": "100%",
      "description_tooltip": null,
      "layout": "IPY_MODEL_4b8dbc4a152043dd8fb3e3bdfbafa74c",
      "max": 380,
      "min": 0,
      "orientation": "horizontal",
      "style": "IPY_MODEL_699949937a8643b087cf42c6e5d5a28a",
      "value": 380
     }
    },
    "59aad431e6c04052aa7efcfdc5ae9be9": {
     "model_module": "@jupyter-widgets/controls",
     "model_name": "DescriptionStyleModel",
     "state": {
      "_model_module": "@jupyter-widgets/controls",
      "_model_module_version": "1.5.0",
      "_model_name": "DescriptionStyleModel",
      "_view_count": null,
      "_view_module": "@jupyter-widgets/base",
      "_view_module_version": "1.2.0",
      "_view_name": "StyleView",
      "description_width": ""
     }
    },
    "5a572a5108c548a69bd8ec13477f7c73": {
     "model_module": "@jupyter-widgets/base",
     "model_name": "LayoutModel",
     "state": {
      "_model_module": "@jupyter-widgets/base",
      "_model_module_version": "1.2.0",
      "_model_name": "LayoutModel",
      "_view_count": null,
      "_view_module": "@jupyter-widgets/base",
      "_view_module_version": "1.2.0",
      "_view_name": "LayoutView",
      "align_content": null,
      "align_items": null,
      "align_self": null,
      "border": null,
      "bottom": null,
      "display": null,
      "flex": null,
      "flex_flow": null,
      "grid_area": null,
      "grid_auto_columns": null,
      "grid_auto_flow": null,
      "grid_auto_rows": null,
      "grid_column": null,
      "grid_gap": null,
      "grid_row": null,
      "grid_template_areas": null,
      "grid_template_columns": null,
      "grid_template_rows": null,
      "height": null,
      "justify_content": null,
      "justify_items": null,
      "left": null,
      "margin": null,
      "max_height": null,
      "max_width": null,
      "min_height": null,
      "min_width": null,
      "object_fit": null,
      "object_position": null,
      "order": null,
      "overflow": null,
      "overflow_x": null,
      "overflow_y": null,
      "padding": null,
      "right": null,
      "top": null,
      "visibility": null,
      "width": null
     }
    },
    "608e7a743d8a43d992629189b966b8a4": {
     "model_module": "@jupyter-widgets/base",
     "model_name": "LayoutModel",
     "state": {
      "_model_module": "@jupyter-widgets/base",
      "_model_module_version": "1.2.0",
      "_model_name": "LayoutModel",
      "_view_count": null,
      "_view_module": "@jupyter-widgets/base",
      "_view_module_version": "1.2.0",
      "_view_name": "LayoutView",
      "align_content": null,
      "align_items": null,
      "align_self": null,
      "border": null,
      "bottom": null,
      "display": null,
      "flex": null,
      "flex_flow": null,
      "grid_area": null,
      "grid_auto_columns": null,
      "grid_auto_flow": null,
      "grid_auto_rows": null,
      "grid_column": null,
      "grid_gap": null,
      "grid_row": null,
      "grid_template_areas": null,
      "grid_template_columns": null,
      "grid_template_rows": null,
      "height": null,
      "justify_content": null,
      "justify_items": null,
      "left": null,
      "margin": null,
      "max_height": null,
      "max_width": null,
      "min_height": null,
      "min_width": null,
      "object_fit": null,
      "object_position": null,
      "order": null,
      "overflow": null,
      "overflow_x": null,
      "overflow_y": null,
      "padding": null,
      "right": null,
      "top": null,
      "visibility": null,
      "width": null
     }
    },
    "659cde18296948e9ba661b39f9a3a499": {
     "model_module": "@jupyter-widgets/controls",
     "model_name": "FloatProgressModel",
     "state": {
      "_dom_classes": [],
      "_model_module": "@jupyter-widgets/controls",
      "_model_module_version": "1.5.0",
      "_model_name": "FloatProgressModel",
      "_view_count": null,
      "_view_module": "@jupyter-widgets/controls",
      "_view_module_version": "1.5.0",
      "_view_name": "ProgressView",
      "bar_style": "success",
      "description": "100%",
      "description_tooltip": null,
      "layout": "IPY_MODEL_278cd2f7d0364e5c83ef57d87e5c5376",
      "max": 27000,
      "min": 0,
      "orientation": "horizontal",
      "style": "IPY_MODEL_eeb561ee4d7844bfa7b339e189a160ff",
      "value": 27000
     }
    },
    "67537ebce1074ef88b1ee7fbbf09a19d": {
     "model_module": "@jupyter-widgets/controls",
     "model_name": "HTMLModel",
     "state": {
      "_dom_classes": [],
      "_model_module": "@jupyter-widgets/controls",
      "_model_module_version": "1.5.0",
      "_model_name": "HTMLModel",
      "_view_count": null,
      "_view_module": "@jupyter-widgets/controls",
      "_view_module_version": "1.5.0",
      "_view_name": "HTMLView",
      "description": "",
      "description_tooltip": null,
      "layout": "IPY_MODEL_5004852731814581b16934cc2cf0ddc8",
      "placeholder": "​",
      "style": "IPY_MODEL_c516ef7291e146b3aa09fc792e75f4d1",
      "value": " 380/380 [15:39&lt;00:00,  2.47s/it]"
     }
    },
    "699949937a8643b087cf42c6e5d5a28a": {
     "model_module": "@jupyter-widgets/controls",
     "model_name": "ProgressStyleModel",
     "state": {
      "_model_module": "@jupyter-widgets/controls",
      "_model_module_version": "1.5.0",
      "_model_name": "ProgressStyleModel",
      "_view_count": null,
      "_view_module": "@jupyter-widgets/base",
      "_view_module_version": "1.2.0",
      "_view_name": "StyleView",
      "bar_color": null,
      "description_width": "initial"
     }
    },
    "6a7557a8c434409d8cdb7e76d5805f4f": {
     "model_module": "@jupyter-widgets/base",
     "model_name": "LayoutModel",
     "state": {
      "_model_module": "@jupyter-widgets/base",
      "_model_module_version": "1.2.0",
      "_model_name": "LayoutModel",
      "_view_count": null,
      "_view_module": "@jupyter-widgets/base",
      "_view_module_version": "1.2.0",
      "_view_name": "LayoutView",
      "align_content": null,
      "align_items": null,
      "align_self": null,
      "border": null,
      "bottom": null,
      "display": null,
      "flex": null,
      "flex_flow": null,
      "grid_area": null,
      "grid_auto_columns": null,
      "grid_auto_flow": null,
      "grid_auto_rows": null,
      "grid_column": null,
      "grid_gap": null,
      "grid_row": null,
      "grid_template_areas": null,
      "grid_template_columns": null,
      "grid_template_rows": null,
      "height": null,
      "justify_content": null,
      "justify_items": null,
      "left": null,
      "margin": null,
      "max_height": null,
      "max_width": null,
      "min_height": null,
      "min_width": null,
      "object_fit": null,
      "object_position": null,
      "order": null,
      "overflow": null,
      "overflow_x": null,
      "overflow_y": null,
      "padding": null,
      "right": null,
      "top": null,
      "visibility": null,
      "width": null
     }
    },
    "6e30d4e1451843599ff71b1b83953bc5": {
     "model_module": "@jupyter-widgets/controls",
     "model_name": "DescriptionStyleModel",
     "state": {
      "_model_module": "@jupyter-widgets/controls",
      "_model_module_version": "1.5.0",
      "_model_name": "DescriptionStyleModel",
      "_view_count": null,
      "_view_module": "@jupyter-widgets/base",
      "_view_module_version": "1.2.0",
      "_view_name": "StyleView",
      "description_width": ""
     }
    },
    "72a936d72f3a4f00ad97272f5db0fcd9": {
     "model_module": "@jupyter-widgets/controls",
     "model_name": "HBoxModel",
     "state": {
      "_dom_classes": [],
      "_model_module": "@jupyter-widgets/controls",
      "_model_module_version": "1.5.0",
      "_model_name": "HBoxModel",
      "_view_count": null,
      "_view_module": "@jupyter-widgets/controls",
      "_view_module_version": "1.5.0",
      "_view_name": "HBoxView",
      "box_style": "",
      "children": [
       "IPY_MODEL_1d2fceace585455d9fa1a2097026a6fa",
       "IPY_MODEL_67537ebce1074ef88b1ee7fbbf09a19d"
      ],
      "layout": "IPY_MODEL_0b714b70362940508bd29ca9540813d7"
     }
    },
    "77b6d08b5e0a48a4a894cc4997dba171": {
     "model_module": "@jupyter-widgets/base",
     "model_name": "LayoutModel",
     "state": {
      "_model_module": "@jupyter-widgets/base",
      "_model_module_version": "1.2.0",
      "_model_name": "LayoutModel",
      "_view_count": null,
      "_view_module": "@jupyter-widgets/base",
      "_view_module_version": "1.2.0",
      "_view_name": "LayoutView",
      "align_content": null,
      "align_items": null,
      "align_self": null,
      "border": null,
      "bottom": null,
      "display": null,
      "flex": null,
      "flex_flow": null,
      "grid_area": null,
      "grid_auto_columns": null,
      "grid_auto_flow": null,
      "grid_auto_rows": null,
      "grid_column": null,
      "grid_gap": null,
      "grid_row": null,
      "grid_template_areas": null,
      "grid_template_columns": null,
      "grid_template_rows": null,
      "height": null,
      "justify_content": null,
      "justify_items": null,
      "left": null,
      "margin": null,
      "max_height": null,
      "max_width": null,
      "min_height": null,
      "min_width": null,
      "object_fit": null,
      "object_position": null,
      "order": null,
      "overflow": null,
      "overflow_x": null,
      "overflow_y": null,
      "padding": null,
      "right": null,
      "top": null,
      "visibility": null,
      "width": null
     }
    },
    "7c0e95b9c94e4bea8295b695668ece8b": {
     "model_module": "@jupyter-widgets/base",
     "model_name": "LayoutModel",
     "state": {
      "_model_module": "@jupyter-widgets/base",
      "_model_module_version": "1.2.0",
      "_model_name": "LayoutModel",
      "_view_count": null,
      "_view_module": "@jupyter-widgets/base",
      "_view_module_version": "1.2.0",
      "_view_name": "LayoutView",
      "align_content": null,
      "align_items": null,
      "align_self": null,
      "border": null,
      "bottom": null,
      "display": null,
      "flex": null,
      "flex_flow": null,
      "grid_area": null,
      "grid_auto_columns": null,
      "grid_auto_flow": null,
      "grid_auto_rows": null,
      "grid_column": null,
      "grid_gap": null,
      "grid_row": null,
      "grid_template_areas": null,
      "grid_template_columns": null,
      "grid_template_rows": null,
      "height": null,
      "justify_content": null,
      "justify_items": null,
      "left": null,
      "margin": null,
      "max_height": null,
      "max_width": null,
      "min_height": null,
      "min_width": null,
      "object_fit": null,
      "object_position": null,
      "order": null,
      "overflow": null,
      "overflow_x": null,
      "overflow_y": null,
      "padding": null,
      "right": null,
      "top": null,
      "visibility": null,
      "width": null
     }
    },
    "7e108d4810fb41bf8f059f27953e4465": {
     "model_module": "@jupyter-widgets/controls",
     "model_name": "ProgressStyleModel",
     "state": {
      "_model_module": "@jupyter-widgets/controls",
      "_model_module_version": "1.5.0",
      "_model_name": "ProgressStyleModel",
      "_view_count": null,
      "_view_module": "@jupyter-widgets/base",
      "_view_module_version": "1.2.0",
      "_view_name": "StyleView",
      "bar_color": null,
      "description_width": "initial"
     }
    },
    "8196ebf79cd9457e9b8360c3ddcecf84": {
     "model_module": "@jupyter-widgets/controls",
     "model_name": "FloatProgressModel",
     "state": {
      "_dom_classes": [],
      "_model_module": "@jupyter-widgets/controls",
      "_model_module_version": "1.5.0",
      "_model_name": "FloatProgressModel",
      "_view_count": null,
      "_view_module": "@jupyter-widgets/controls",
      "_view_module_version": "1.5.0",
      "_view_name": "ProgressView",
      "bar_style": "success",
      "description": "100%",
      "description_tooltip": null,
      "layout": "IPY_MODEL_0db404667f5946ca86c7ad02c23406ef",
      "max": 380,
      "min": 0,
      "orientation": "horizontal",
      "style": "IPY_MODEL_d5237b5c45dc4057a05141d9de4404d2",
      "value": 380
     }
    },
    "81ac946575314385af3d8ea8cd8412a9": {
     "model_module": "@jupyter-widgets/controls",
     "model_name": "HBoxModel",
     "state": {
      "_dom_classes": [],
      "_model_module": "@jupyter-widgets/controls",
      "_model_module_version": "1.5.0",
      "_model_name": "HBoxModel",
      "_view_count": null,
      "_view_module": "@jupyter-widgets/controls",
      "_view_module_version": "1.5.0",
      "_view_name": "HBoxView",
      "box_style": "",
      "children": [
       "IPY_MODEL_576af7c8c5674da59ccc403fd758fb48",
       "IPY_MODEL_fd994c551db04e81ab384666ef0ae92e"
      ],
      "layout": "IPY_MODEL_77b6d08b5e0a48a4a894cc4997dba171"
     }
    },
    "84bf0d08bdc3460699055c765eff08ec": {
     "model_module": "@jupyter-widgets/controls",
     "model_name": "HTMLModel",
     "state": {
      "_dom_classes": [],
      "_model_module": "@jupyter-widgets/controls",
      "_model_module_version": "1.5.0",
      "_model_name": "HTMLModel",
      "_view_count": null,
      "_view_module": "@jupyter-widgets/controls",
      "_view_module_version": "1.5.0",
      "_view_name": "HTMLView",
      "description": "",
      "description_tooltip": null,
      "layout": "IPY_MODEL_3341dc07e72649cfb49ead5feba3db1a",
      "placeholder": "​",
      "style": "IPY_MODEL_2278fe60e70043bfaea42f4feb3305da",
      "value": " 380/380 [07:49&lt;00:00,  1.24s/it]"
     }
    },
    "852bb1bed3bb4577889a960c49704a46": {
     "model_module": "@jupyter-widgets/base",
     "model_name": "LayoutModel",
     "state": {
      "_model_module": "@jupyter-widgets/base",
      "_model_module_version": "1.2.0",
      "_model_name": "LayoutModel",
      "_view_count": null,
      "_view_module": "@jupyter-widgets/base",
      "_view_module_version": "1.2.0",
      "_view_name": "LayoutView",
      "align_content": null,
      "align_items": null,
      "align_self": null,
      "border": null,
      "bottom": null,
      "display": null,
      "flex": null,
      "flex_flow": null,
      "grid_area": null,
      "grid_auto_columns": null,
      "grid_auto_flow": null,
      "grid_auto_rows": null,
      "grid_column": null,
      "grid_gap": null,
      "grid_row": null,
      "grid_template_areas": null,
      "grid_template_columns": null,
      "grid_template_rows": null,
      "height": null,
      "justify_content": null,
      "justify_items": null,
      "left": null,
      "margin": null,
      "max_height": null,
      "max_width": null,
      "min_height": null,
      "min_width": null,
      "object_fit": null,
      "object_position": null,
      "order": null,
      "overflow": null,
      "overflow_x": null,
      "overflow_y": null,
      "padding": null,
      "right": null,
      "top": null,
      "visibility": null,
      "width": null
     }
    },
    "8780c501e7bf4400b315c2865bf4542c": {
     "model_module": "@jupyter-widgets/base",
     "model_name": "LayoutModel",
     "state": {
      "_model_module": "@jupyter-widgets/base",
      "_model_module_version": "1.2.0",
      "_model_name": "LayoutModel",
      "_view_count": null,
      "_view_module": "@jupyter-widgets/base",
      "_view_module_version": "1.2.0",
      "_view_name": "LayoutView",
      "align_content": null,
      "align_items": null,
      "align_self": null,
      "border": null,
      "bottom": null,
      "display": null,
      "flex": null,
      "flex_flow": null,
      "grid_area": null,
      "grid_auto_columns": null,
      "grid_auto_flow": null,
      "grid_auto_rows": null,
      "grid_column": null,
      "grid_gap": null,
      "grid_row": null,
      "grid_template_areas": null,
      "grid_template_columns": null,
      "grid_template_rows": null,
      "height": null,
      "justify_content": null,
      "justify_items": null,
      "left": null,
      "margin": null,
      "max_height": null,
      "max_width": null,
      "min_height": null,
      "min_width": null,
      "object_fit": null,
      "object_position": null,
      "order": null,
      "overflow": null,
      "overflow_x": null,
      "overflow_y": null,
      "padding": null,
      "right": null,
      "top": null,
      "visibility": null,
      "width": null
     }
    },
    "8872951aeea8439e80e0b16fadb2f3e9": {
     "model_module": "@jupyter-widgets/controls",
     "model_name": "HBoxModel",
     "state": {
      "_dom_classes": [],
      "_model_module": "@jupyter-widgets/controls",
      "_model_module_version": "1.5.0",
      "_model_name": "HBoxModel",
      "_view_count": null,
      "_view_module": "@jupyter-widgets/controls",
      "_view_module_version": "1.5.0",
      "_view_name": "HBoxView",
      "box_style": "",
      "children": [
       "IPY_MODEL_8196ebf79cd9457e9b8360c3ddcecf84",
       "IPY_MODEL_84bf0d08bdc3460699055c765eff08ec"
      ],
      "layout": "IPY_MODEL_8ecf5d1edfdd4064965d16c2e84ec982"
     }
    },
    "8a64117e054345db9251eacffd1766d0": {
     "model_module": "@jupyter-widgets/controls",
     "model_name": "HTMLModel",
     "state": {
      "_dom_classes": [],
      "_model_module": "@jupyter-widgets/controls",
      "_model_module_version": "1.5.0",
      "_model_name": "HTMLModel",
      "_view_count": null,
      "_view_module": "@jupyter-widgets/controls",
      "_view_module_version": "1.5.0",
      "_view_name": "HTMLView",
      "description": "",
      "description_tooltip": null,
      "layout": "IPY_MODEL_0102475e037a4f89a94b68d0b898e45c",
      "placeholder": "​",
      "style": "IPY_MODEL_a6c24bee086f4992964c9d3d5bfe3405",
      "value": " 380/380 [1:10:31&lt;00:00, 11.13s/it]"
     }
    },
    "8ecf5d1edfdd4064965d16c2e84ec982": {
     "model_module": "@jupyter-widgets/base",
     "model_name": "LayoutModel",
     "state": {
      "_model_module": "@jupyter-widgets/base",
      "_model_module_version": "1.2.0",
      "_model_name": "LayoutModel",
      "_view_count": null,
      "_view_module": "@jupyter-widgets/base",
      "_view_module_version": "1.2.0",
      "_view_name": "LayoutView",
      "align_content": null,
      "align_items": null,
      "align_self": null,
      "border": null,
      "bottom": null,
      "display": null,
      "flex": null,
      "flex_flow": null,
      "grid_area": null,
      "grid_auto_columns": null,
      "grid_auto_flow": null,
      "grid_auto_rows": null,
      "grid_column": null,
      "grid_gap": null,
      "grid_row": null,
      "grid_template_areas": null,
      "grid_template_columns": null,
      "grid_template_rows": null,
      "height": null,
      "justify_content": null,
      "justify_items": null,
      "left": null,
      "margin": null,
      "max_height": null,
      "max_width": null,
      "min_height": null,
      "min_width": null,
      "object_fit": null,
      "object_position": null,
      "order": null,
      "overflow": null,
      "overflow_x": null,
      "overflow_y": null,
      "padding": null,
      "right": null,
      "top": null,
      "visibility": null,
      "width": null
     }
    },
    "9252c389ec474e6ca3f6fbd7049a3e5a": {
     "model_module": "@jupyter-widgets/base",
     "model_name": "LayoutModel",
     "state": {
      "_model_module": "@jupyter-widgets/base",
      "_model_module_version": "1.2.0",
      "_model_name": "LayoutModel",
      "_view_count": null,
      "_view_module": "@jupyter-widgets/base",
      "_view_module_version": "1.2.0",
      "_view_name": "LayoutView",
      "align_content": null,
      "align_items": null,
      "align_self": null,
      "border": null,
      "bottom": null,
      "display": null,
      "flex": null,
      "flex_flow": null,
      "grid_area": null,
      "grid_auto_columns": null,
      "grid_auto_flow": null,
      "grid_auto_rows": null,
      "grid_column": null,
      "grid_gap": null,
      "grid_row": null,
      "grid_template_areas": null,
      "grid_template_columns": null,
      "grid_template_rows": null,
      "height": null,
      "justify_content": null,
      "justify_items": null,
      "left": null,
      "margin": null,
      "max_height": null,
      "max_width": null,
      "min_height": null,
      "min_width": null,
      "object_fit": null,
      "object_position": null,
      "order": null,
      "overflow": null,
      "overflow_x": null,
      "overflow_y": null,
      "padding": null,
      "right": null,
      "top": null,
      "visibility": null,
      "width": null
     }
    },
    "92be76ec742d43e4ab6908f9f6a358e3": {
     "model_module": "@jupyter-widgets/controls",
     "model_name": "DescriptionStyleModel",
     "state": {
      "_model_module": "@jupyter-widgets/controls",
      "_model_module_version": "1.5.0",
      "_model_name": "DescriptionStyleModel",
      "_view_count": null,
      "_view_module": "@jupyter-widgets/base",
      "_view_module_version": "1.2.0",
      "_view_name": "StyleView",
      "description_width": ""
     }
    },
    "92d01546f3b64e08881a5bfc805aeeb8": {
     "model_module": "@jupyter-widgets/controls",
     "model_name": "DescriptionStyleModel",
     "state": {
      "_model_module": "@jupyter-widgets/controls",
      "_model_module_version": "1.5.0",
      "_model_name": "DescriptionStyleModel",
      "_view_count": null,
      "_view_module": "@jupyter-widgets/base",
      "_view_module_version": "1.2.0",
      "_view_name": "StyleView",
      "description_width": ""
     }
    },
    "960f58aef0784938b347d3cca1ad8952": {
     "model_module": "@jupyter-widgets/controls",
     "model_name": "HBoxModel",
     "state": {
      "_dom_classes": [],
      "_model_module": "@jupyter-widgets/controls",
      "_model_module_version": "1.5.0",
      "_model_name": "HBoxModel",
      "_view_count": null,
      "_view_module": "@jupyter-widgets/controls",
      "_view_module_version": "1.5.0",
      "_view_name": "HBoxView",
      "box_style": "",
      "children": [
       "IPY_MODEL_071dd6f8a7624f059b5a882e269fe33a",
       "IPY_MODEL_9ea5950a950946dabb78602d8bfeb741"
      ],
      "layout": "IPY_MODEL_7c0e95b9c94e4bea8295b695668ece8b"
     }
    },
    "9b4111d261104a39812c374924da7b0c": {
     "model_module": "@jupyter-widgets/base",
     "model_name": "LayoutModel",
     "state": {
      "_model_module": "@jupyter-widgets/base",
      "_model_module_version": "1.2.0",
      "_model_name": "LayoutModel",
      "_view_count": null,
      "_view_module": "@jupyter-widgets/base",
      "_view_module_version": "1.2.0",
      "_view_name": "LayoutView",
      "align_content": null,
      "align_items": null,
      "align_self": null,
      "border": null,
      "bottom": null,
      "display": null,
      "flex": null,
      "flex_flow": null,
      "grid_area": null,
      "grid_auto_columns": null,
      "grid_auto_flow": null,
      "grid_auto_rows": null,
      "grid_column": null,
      "grid_gap": null,
      "grid_row": null,
      "grid_template_areas": null,
      "grid_template_columns": null,
      "grid_template_rows": null,
      "height": null,
      "justify_content": null,
      "justify_items": null,
      "left": null,
      "margin": null,
      "max_height": null,
      "max_width": null,
      "min_height": null,
      "min_width": null,
      "object_fit": null,
      "object_position": null,
      "order": null,
      "overflow": null,
      "overflow_x": null,
      "overflow_y": null,
      "padding": null,
      "right": null,
      "top": null,
      "visibility": null,
      "width": null
     }
    },
    "9ea5950a950946dabb78602d8bfeb741": {
     "model_module": "@jupyter-widgets/controls",
     "model_name": "HTMLModel",
     "state": {
      "_dom_classes": [],
      "_model_module": "@jupyter-widgets/controls",
      "_model_module_version": "1.5.0",
      "_model_name": "HTMLModel",
      "_view_count": null,
      "_view_module": "@jupyter-widgets/controls",
      "_view_module_version": "1.5.0",
      "_view_name": "HTMLView",
      "description": "",
      "description_tooltip": null,
      "layout": "IPY_MODEL_d9e4835f77cc46f787b6b3025a26d2a5",
      "placeholder": "​",
      "style": "IPY_MODEL_1222dd3a6d3c4635928181022f41bd5f",
      "value": " 380/380 [20:39&lt;00:00,  3.26s/it]"
     }
    },
    "a6c24bee086f4992964c9d3d5bfe3405": {
     "model_module": "@jupyter-widgets/controls",
     "model_name": "DescriptionStyleModel",
     "state": {
      "_model_module": "@jupyter-widgets/controls",
      "_model_module_version": "1.5.0",
      "_model_name": "DescriptionStyleModel",
      "_view_count": null,
      "_view_module": "@jupyter-widgets/base",
      "_view_module_version": "1.2.0",
      "_view_name": "StyleView",
      "description_width": ""
     }
    },
    "a981d68523b04f9182948769a35cfc05": {
     "model_module": "@jupyter-widgets/controls",
     "model_name": "ProgressStyleModel",
     "state": {
      "_model_module": "@jupyter-widgets/controls",
      "_model_module_version": "1.5.0",
      "_model_name": "ProgressStyleModel",
      "_view_count": null,
      "_view_module": "@jupyter-widgets/base",
      "_view_module_version": "1.2.0",
      "_view_name": "StyleView",
      "bar_color": null,
      "description_width": "initial"
     }
    },
    "b031c9ca4e7744c0a08718c50288d974": {
     "model_module": "@jupyter-widgets/controls",
     "model_name": "HTMLModel",
     "state": {
      "_dom_classes": [],
      "_model_module": "@jupyter-widgets/controls",
      "_model_module_version": "1.5.0",
      "_model_name": "HTMLModel",
      "_view_count": null,
      "_view_module": "@jupyter-widgets/controls",
      "_view_module_version": "1.5.0",
      "_view_name": "HTMLView",
      "description": "",
      "description_tooltip": null,
      "layout": "IPY_MODEL_6a7557a8c434409d8cdb7e76d5805f4f",
      "placeholder": "​",
      "style": "IPY_MODEL_ef23f5b0bc094313b03d994b3e2025ed",
      "value": " 380/380 [15:38&lt;00:00,  2.47s/it]"
     }
    },
    "b2143f97e66440f89d47c0d00d4c68a8": {
     "model_module": "@jupyter-widgets/base",
     "model_name": "LayoutModel",
     "state": {
      "_model_module": "@jupyter-widgets/base",
      "_model_module_version": "1.2.0",
      "_model_name": "LayoutModel",
      "_view_count": null,
      "_view_module": "@jupyter-widgets/base",
      "_view_module_version": "1.2.0",
      "_view_name": "LayoutView",
      "align_content": null,
      "align_items": null,
      "align_self": null,
      "border": null,
      "bottom": null,
      "display": null,
      "flex": null,
      "flex_flow": null,
      "grid_area": null,
      "grid_auto_columns": null,
      "grid_auto_flow": null,
      "grid_auto_rows": null,
      "grid_column": null,
      "grid_gap": null,
      "grid_row": null,
      "grid_template_areas": null,
      "grid_template_columns": null,
      "grid_template_rows": null,
      "height": null,
      "justify_content": null,
      "justify_items": null,
      "left": null,
      "margin": null,
      "max_height": null,
      "max_width": null,
      "min_height": null,
      "min_width": null,
      "object_fit": null,
      "object_position": null,
      "order": null,
      "overflow": null,
      "overflow_x": null,
      "overflow_y": null,
      "padding": null,
      "right": null,
      "top": null,
      "visibility": null,
      "width": null
     }
    },
    "b42d5699c93845c29ca9e0a6d3638d22": {
     "model_module": "@jupyter-widgets/base",
     "model_name": "LayoutModel",
     "state": {
      "_model_module": "@jupyter-widgets/base",
      "_model_module_version": "1.2.0",
      "_model_name": "LayoutModel",
      "_view_count": null,
      "_view_module": "@jupyter-widgets/base",
      "_view_module_version": "1.2.0",
      "_view_name": "LayoutView",
      "align_content": null,
      "align_items": null,
      "align_self": null,
      "border": null,
      "bottom": null,
      "display": null,
      "flex": null,
      "flex_flow": null,
      "grid_area": null,
      "grid_auto_columns": null,
      "grid_auto_flow": null,
      "grid_auto_rows": null,
      "grid_column": null,
      "grid_gap": null,
      "grid_row": null,
      "grid_template_areas": null,
      "grid_template_columns": null,
      "grid_template_rows": null,
      "height": null,
      "justify_content": null,
      "justify_items": null,
      "left": null,
      "margin": null,
      "max_height": null,
      "max_width": null,
      "min_height": null,
      "min_width": null,
      "object_fit": null,
      "object_position": null,
      "order": null,
      "overflow": null,
      "overflow_x": null,
      "overflow_y": null,
      "padding": null,
      "right": null,
      "top": null,
      "visibility": null,
      "width": null
     }
    },
    "b4c01599b0de4f3c891da4e03585adf6": {
     "model_module": "@jupyter-widgets/controls",
     "model_name": "FloatProgressModel",
     "state": {
      "_dom_classes": [],
      "_model_module": "@jupyter-widgets/controls",
      "_model_module_version": "1.5.0",
      "_model_name": "FloatProgressModel",
      "_view_count": null,
      "_view_module": "@jupyter-widgets/controls",
      "_view_module_version": "1.5.0",
      "_view_name": "ProgressView",
      "bar_style": "success",
      "description": "100%",
      "description_tooltip": null,
      "layout": "IPY_MODEL_44a0ee081e3d4d80878ab398b2c44d9d",
      "max": 27000,
      "min": 0,
      "orientation": "horizontal",
      "style": "IPY_MODEL_0fba046df34f47dba2a5526cba504907",
      "value": 27000
     }
    },
    "b8ebe489a5d9441fb2f2a08d3c5e6952": {
     "model_module": "@jupyter-widgets/controls",
     "model_name": "DescriptionStyleModel",
     "state": {
      "_model_module": "@jupyter-widgets/controls",
      "_model_module_version": "1.5.0",
      "_model_name": "DescriptionStyleModel",
      "_view_count": null,
      "_view_module": "@jupyter-widgets/base",
      "_view_module_version": "1.2.0",
      "_view_name": "StyleView",
      "description_width": ""
     }
    },
    "b95208ff31b8452a8c97e4f0a27538f5": {
     "model_module": "@jupyter-widgets/base",
     "model_name": "LayoutModel",
     "state": {
      "_model_module": "@jupyter-widgets/base",
      "_model_module_version": "1.2.0",
      "_model_name": "LayoutModel",
      "_view_count": null,
      "_view_module": "@jupyter-widgets/base",
      "_view_module_version": "1.2.0",
      "_view_name": "LayoutView",
      "align_content": null,
      "align_items": null,
      "align_self": null,
      "border": null,
      "bottom": null,
      "display": null,
      "flex": null,
      "flex_flow": null,
      "grid_area": null,
      "grid_auto_columns": null,
      "grid_auto_flow": null,
      "grid_auto_rows": null,
      "grid_column": null,
      "grid_gap": null,
      "grid_row": null,
      "grid_template_areas": null,
      "grid_template_columns": null,
      "grid_template_rows": null,
      "height": null,
      "justify_content": null,
      "justify_items": null,
      "left": null,
      "margin": null,
      "max_height": null,
      "max_width": null,
      "min_height": null,
      "min_width": null,
      "object_fit": null,
      "object_position": null,
      "order": null,
      "overflow": null,
      "overflow_x": null,
      "overflow_y": null,
      "padding": null,
      "right": null,
      "top": null,
      "visibility": null,
      "width": null
     }
    },
    "bda15ad7b8184153ac29a327a2260430": {
     "model_module": "@jupyter-widgets/controls",
     "model_name": "ProgressStyleModel",
     "state": {
      "_model_module": "@jupyter-widgets/controls",
      "_model_module_version": "1.5.0",
      "_model_name": "ProgressStyleModel",
      "_view_count": null,
      "_view_module": "@jupyter-widgets/base",
      "_view_module_version": "1.2.0",
      "_view_name": "StyleView",
      "bar_color": null,
      "description_width": "initial"
     }
    },
    "c08d2fe97d7946f1b390714160772679": {
     "model_module": "@jupyter-widgets/controls",
     "model_name": "ProgressStyleModel",
     "state": {
      "_model_module": "@jupyter-widgets/controls",
      "_model_module_version": "1.5.0",
      "_model_name": "ProgressStyleModel",
      "_view_count": null,
      "_view_module": "@jupyter-widgets/base",
      "_view_module_version": "1.2.0",
      "_view_name": "StyleView",
      "bar_color": null,
      "description_width": "initial"
     }
    },
    "c1dbf43a387c4d24852d3710198c3872": {
     "model_module": "@jupyter-widgets/controls",
     "model_name": "HTMLModel",
     "state": {
      "_dom_classes": [],
      "_model_module": "@jupyter-widgets/controls",
      "_model_module_version": "1.5.0",
      "_model_name": "HTMLModel",
      "_view_count": null,
      "_view_module": "@jupyter-widgets/controls",
      "_view_module_version": "1.5.0",
      "_view_name": "HTMLView",
      "description": "",
      "description_tooltip": null,
      "layout": "IPY_MODEL_8780c501e7bf4400b315c2865bf4542c",
      "placeholder": "​",
      "style": "IPY_MODEL_59aad431e6c04052aa7efcfdc5ae9be9",
      "value": " 380/380 [12:50&lt;00:00,  2.03s/it]"
     }
    },
    "c310305facec4583a9bf4510e6ac94a8": {
     "model_module": "@jupyter-widgets/controls",
     "model_name": "ProgressStyleModel",
     "state": {
      "_model_module": "@jupyter-widgets/controls",
      "_model_module_version": "1.5.0",
      "_model_name": "ProgressStyleModel",
      "_view_count": null,
      "_view_module": "@jupyter-widgets/base",
      "_view_module_version": "1.2.0",
      "_view_name": "StyleView",
      "bar_color": null,
      "description_width": "initial"
     }
    },
    "c3f364522f7e4fa1a243deb5c29a0ff2": {
     "model_module": "@jupyter-widgets/controls",
     "model_name": "DescriptionStyleModel",
     "state": {
      "_model_module": "@jupyter-widgets/controls",
      "_model_module_version": "1.5.0",
      "_model_name": "DescriptionStyleModel",
      "_view_count": null,
      "_view_module": "@jupyter-widgets/base",
      "_view_module_version": "1.2.0",
      "_view_name": "StyleView",
      "description_width": ""
     }
    },
    "c516ef7291e146b3aa09fc792e75f4d1": {
     "model_module": "@jupyter-widgets/controls",
     "model_name": "DescriptionStyleModel",
     "state": {
      "_model_module": "@jupyter-widgets/controls",
      "_model_module_version": "1.5.0",
      "_model_name": "DescriptionStyleModel",
      "_view_count": null,
      "_view_module": "@jupyter-widgets/base",
      "_view_module_version": "1.2.0",
      "_view_name": "StyleView",
      "description_width": ""
     }
    },
    "c87c8a0792f0410ca69884b5c485b28d": {
     "model_module": "@jupyter-widgets/controls",
     "model_name": "HTMLModel",
     "state": {
      "_dom_classes": [],
      "_model_module": "@jupyter-widgets/controls",
      "_model_module_version": "1.5.0",
      "_model_name": "HTMLModel",
      "_view_count": null,
      "_view_module": "@jupyter-widgets/controls",
      "_view_module_version": "1.5.0",
      "_view_name": "HTMLView",
      "description": "",
      "description_tooltip": null,
      "layout": "IPY_MODEL_06638843c9874da58ce20fc6a41eb3a7",
      "placeholder": "​",
      "style": "IPY_MODEL_c3f364522f7e4fa1a243deb5c29a0ff2",
      "value": " 27000/27000 [06:18&lt;00:00, 71.40it/s]"
     }
    },
    "cbef0897241e4bcab27b0bdeb9965930": {
     "model_module": "@jupyter-widgets/controls",
     "model_name": "FloatProgressModel",
     "state": {
      "_dom_classes": [],
      "_model_module": "@jupyter-widgets/controls",
      "_model_module_version": "1.5.0",
      "_model_name": "FloatProgressModel",
      "_view_count": null,
      "_view_module": "@jupyter-widgets/controls",
      "_view_module_version": "1.5.0",
      "_view_name": "ProgressView",
      "bar_style": "success",
      "description": "100%",
      "description_tooltip": null,
      "layout": "IPY_MODEL_27b0ba41f7cf42508e9ece6f3419800d",
      "max": 380,
      "min": 0,
      "orientation": "horizontal",
      "style": "IPY_MODEL_bda15ad7b8184153ac29a327a2260430",
      "value": 380
     }
    },
    "cd7664ff96b14c5e8959fa8101db34b6": {
     "model_module": "@jupyter-widgets/controls",
     "model_name": "HTMLModel",
     "state": {
      "_dom_classes": [],
      "_model_module": "@jupyter-widgets/controls",
      "_model_module_version": "1.5.0",
      "_model_name": "HTMLModel",
      "_view_count": null,
      "_view_module": "@jupyter-widgets/controls",
      "_view_module_version": "1.5.0",
      "_view_name": "HTMLView",
      "description": "",
      "description_tooltip": null,
      "layout": "IPY_MODEL_9252c389ec474e6ca3f6fbd7049a3e5a",
      "placeholder": "​",
      "style": "IPY_MODEL_b8ebe489a5d9441fb2f2a08d3c5e6952",
      "value": " 380/380 [31:20&lt;00:00,  4.95s/it]"
     }
    },
    "d5237b5c45dc4057a05141d9de4404d2": {
     "model_module": "@jupyter-widgets/controls",
     "model_name": "ProgressStyleModel",
     "state": {
      "_model_module": "@jupyter-widgets/controls",
      "_model_module_version": "1.5.0",
      "_model_name": "ProgressStyleModel",
      "_view_count": null,
      "_view_module": "@jupyter-widgets/base",
      "_view_module_version": "1.2.0",
      "_view_name": "StyleView",
      "bar_color": null,
      "description_width": "initial"
     }
    },
    "d5bbd3a9b26f4797834cd15a8fbf57b4": {
     "model_module": "@jupyter-widgets/controls",
     "model_name": "ProgressStyleModel",
     "state": {
      "_model_module": "@jupyter-widgets/controls",
      "_model_module_version": "1.5.0",
      "_model_name": "ProgressStyleModel",
      "_view_count": null,
      "_view_module": "@jupyter-widgets/base",
      "_view_module_version": "1.2.0",
      "_view_name": "StyleView",
      "bar_color": null,
      "description_width": "initial"
     }
    },
    "d9e4835f77cc46f787b6b3025a26d2a5": {
     "model_module": "@jupyter-widgets/base",
     "model_name": "LayoutModel",
     "state": {
      "_model_module": "@jupyter-widgets/base",
      "_model_module_version": "1.2.0",
      "_model_name": "LayoutModel",
      "_view_count": null,
      "_view_module": "@jupyter-widgets/base",
      "_view_module_version": "1.2.0",
      "_view_name": "LayoutView",
      "align_content": null,
      "align_items": null,
      "align_self": null,
      "border": null,
      "bottom": null,
      "display": null,
      "flex": null,
      "flex_flow": null,
      "grid_area": null,
      "grid_auto_columns": null,
      "grid_auto_flow": null,
      "grid_auto_rows": null,
      "grid_column": null,
      "grid_gap": null,
      "grid_row": null,
      "grid_template_areas": null,
      "grid_template_columns": null,
      "grid_template_rows": null,
      "height": null,
      "justify_content": null,
      "justify_items": null,
      "left": null,
      "margin": null,
      "max_height": null,
      "max_width": null,
      "min_height": null,
      "min_width": null,
      "object_fit": null,
      "object_position": null,
      "order": null,
      "overflow": null,
      "overflow_x": null,
      "overflow_y": null,
      "padding": null,
      "right": null,
      "top": null,
      "visibility": null,
      "width": null
     }
    },
    "deb73a710d16480fb1e128fdbac103fb": {
     "model_module": "@jupyter-widgets/base",
     "model_name": "LayoutModel",
     "state": {
      "_model_module": "@jupyter-widgets/base",
      "_model_module_version": "1.2.0",
      "_model_name": "LayoutModel",
      "_view_count": null,
      "_view_module": "@jupyter-widgets/base",
      "_view_module_version": "1.2.0",
      "_view_name": "LayoutView",
      "align_content": null,
      "align_items": null,
      "align_self": null,
      "border": null,
      "bottom": null,
      "display": null,
      "flex": null,
      "flex_flow": null,
      "grid_area": null,
      "grid_auto_columns": null,
      "grid_auto_flow": null,
      "grid_auto_rows": null,
      "grid_column": null,
      "grid_gap": null,
      "grid_row": null,
      "grid_template_areas": null,
      "grid_template_columns": null,
      "grid_template_rows": null,
      "height": null,
      "justify_content": null,
      "justify_items": null,
      "left": null,
      "margin": null,
      "max_height": null,
      "max_width": null,
      "min_height": null,
      "min_width": null,
      "object_fit": null,
      "object_position": null,
      "order": null,
      "overflow": null,
      "overflow_x": null,
      "overflow_y": null,
      "padding": null,
      "right": null,
      "top": null,
      "visibility": null,
      "width": null
     }
    },
    "df76d16bb08247d189f42fc07b312d40": {
     "model_module": "@jupyter-widgets/controls",
     "model_name": "FloatProgressModel",
     "state": {
      "_dom_classes": [],
      "_model_module": "@jupyter-widgets/controls",
      "_model_module_version": "1.5.0",
      "_model_name": "FloatProgressModel",
      "_view_count": null,
      "_view_module": "@jupyter-widgets/controls",
      "_view_module_version": "1.5.0",
      "_view_name": "ProgressView",
      "bar_style": "success",
      "description": "100%",
      "description_tooltip": null,
      "layout": "IPY_MODEL_e070e3504e08433b98b5208935ff18f9",
      "max": 380,
      "min": 0,
      "orientation": "horizontal",
      "style": "IPY_MODEL_2633e90277bf48658fde9fc6af145b5b",
      "value": 380
     }
    },
    "e070e3504e08433b98b5208935ff18f9": {
     "model_module": "@jupyter-widgets/base",
     "model_name": "LayoutModel",
     "state": {
      "_model_module": "@jupyter-widgets/base",
      "_model_module_version": "1.2.0",
      "_model_name": "LayoutModel",
      "_view_count": null,
      "_view_module": "@jupyter-widgets/base",
      "_view_module_version": "1.2.0",
      "_view_name": "LayoutView",
      "align_content": null,
      "align_items": null,
      "align_self": null,
      "border": null,
      "bottom": null,
      "display": null,
      "flex": null,
      "flex_flow": null,
      "grid_area": null,
      "grid_auto_columns": null,
      "grid_auto_flow": null,
      "grid_auto_rows": null,
      "grid_column": null,
      "grid_gap": null,
      "grid_row": null,
      "grid_template_areas": null,
      "grid_template_columns": null,
      "grid_template_rows": null,
      "height": null,
      "justify_content": null,
      "justify_items": null,
      "left": null,
      "margin": null,
      "max_height": null,
      "max_width": null,
      "min_height": null,
      "min_width": null,
      "object_fit": null,
      "object_position": null,
      "order": null,
      "overflow": null,
      "overflow_x": null,
      "overflow_y": null,
      "padding": null,
      "right": null,
      "top": null,
      "visibility": null,
      "width": null
     }
    },
    "e458945fc24947a98d4e20892f3940d2": {
     "model_module": "@jupyter-widgets/controls",
     "model_name": "HBoxModel",
     "state": {
      "_dom_classes": [],
      "_model_module": "@jupyter-widgets/controls",
      "_model_module_version": "1.5.0",
      "_model_name": "HBoxModel",
      "_view_count": null,
      "_view_module": "@jupyter-widgets/controls",
      "_view_module_version": "1.5.0",
      "_view_name": "HBoxView",
      "box_style": "",
      "children": [
       "IPY_MODEL_2a962651d48047cc9ca40a42239b7890",
       "IPY_MODEL_1b82e3c4c8c9400e8d2d79ffc38b3e92"
      ],
      "layout": "IPY_MODEL_ef441438f8764b20ad7ae45f085043ef"
     }
    },
    "e4a6ae098753495d99abba073826a16f": {
     "model_module": "@jupyter-widgets/base",
     "model_name": "LayoutModel",
     "state": {
      "_model_module": "@jupyter-widgets/base",
      "_model_module_version": "1.2.0",
      "_model_name": "LayoutModel",
      "_view_count": null,
      "_view_module": "@jupyter-widgets/base",
      "_view_module_version": "1.2.0",
      "_view_name": "LayoutView",
      "align_content": null,
      "align_items": null,
      "align_self": null,
      "border": null,
      "bottom": null,
      "display": null,
      "flex": null,
      "flex_flow": null,
      "grid_area": null,
      "grid_auto_columns": null,
      "grid_auto_flow": null,
      "grid_auto_rows": null,
      "grid_column": null,
      "grid_gap": null,
      "grid_row": null,
      "grid_template_areas": null,
      "grid_template_columns": null,
      "grid_template_rows": null,
      "height": null,
      "justify_content": null,
      "justify_items": null,
      "left": null,
      "margin": null,
      "max_height": null,
      "max_width": null,
      "min_height": null,
      "min_width": null,
      "object_fit": null,
      "object_position": null,
      "order": null,
      "overflow": null,
      "overflow_x": null,
      "overflow_y": null,
      "padding": null,
      "right": null,
      "top": null,
      "visibility": null,
      "width": null
     }
    },
    "e9fcf99c91834047b9b802e4e13a8b90": {
     "model_module": "@jupyter-widgets/controls",
     "model_name": "FloatProgressModel",
     "state": {
      "_dom_classes": [],
      "_model_module": "@jupyter-widgets/controls",
      "_model_module_version": "1.5.0",
      "_model_name": "FloatProgressModel",
      "_view_count": null,
      "_view_module": "@jupyter-widgets/controls",
      "_view_module_version": "1.5.0",
      "_view_name": "ProgressView",
      "bar_style": "success",
      "description": "100%",
      "description_tooltip": null,
      "layout": "IPY_MODEL_608e7a743d8a43d992629189b966b8a4",
      "max": 380,
      "min": 0,
      "orientation": "horizontal",
      "style": "IPY_MODEL_a981d68523b04f9182948769a35cfc05",
      "value": 380
     }
    },
    "eeb561ee4d7844bfa7b339e189a160ff": {
     "model_module": "@jupyter-widgets/controls",
     "model_name": "ProgressStyleModel",
     "state": {
      "_model_module": "@jupyter-widgets/controls",
      "_model_module_version": "1.5.0",
      "_model_name": "ProgressStyleModel",
      "_view_count": null,
      "_view_module": "@jupyter-widgets/base",
      "_view_module_version": "1.2.0",
      "_view_name": "StyleView",
      "bar_color": null,
      "description_width": "initial"
     }
    },
    "ef23f5b0bc094313b03d994b3e2025ed": {
     "model_module": "@jupyter-widgets/controls",
     "model_name": "DescriptionStyleModel",
     "state": {
      "_model_module": "@jupyter-widgets/controls",
      "_model_module_version": "1.5.0",
      "_model_name": "DescriptionStyleModel",
      "_view_count": null,
      "_view_module": "@jupyter-widgets/base",
      "_view_module_version": "1.2.0",
      "_view_name": "StyleView",
      "description_width": ""
     }
    },
    "ef441438f8764b20ad7ae45f085043ef": {
     "model_module": "@jupyter-widgets/base",
     "model_name": "LayoutModel",
     "state": {
      "_model_module": "@jupyter-widgets/base",
      "_model_module_version": "1.2.0",
      "_model_name": "LayoutModel",
      "_view_count": null,
      "_view_module": "@jupyter-widgets/base",
      "_view_module_version": "1.2.0",
      "_view_name": "LayoutView",
      "align_content": null,
      "align_items": null,
      "align_self": null,
      "border": null,
      "bottom": null,
      "display": null,
      "flex": null,
      "flex_flow": null,
      "grid_area": null,
      "grid_auto_columns": null,
      "grid_auto_flow": null,
      "grid_auto_rows": null,
      "grid_column": null,
      "grid_gap": null,
      "grid_row": null,
      "grid_template_areas": null,
      "grid_template_columns": null,
      "grid_template_rows": null,
      "height": null,
      "justify_content": null,
      "justify_items": null,
      "left": null,
      "margin": null,
      "max_height": null,
      "max_width": null,
      "min_height": null,
      "min_width": null,
      "object_fit": null,
      "object_position": null,
      "order": null,
      "overflow": null,
      "overflow_x": null,
      "overflow_y": null,
      "padding": null,
      "right": null,
      "top": null,
      "visibility": null,
      "width": null
     }
    },
    "f5f280c2921c47f4a2e66d24e3ef9d0f": {
     "model_module": "@jupyter-widgets/controls",
     "model_name": "FloatProgressModel",
     "state": {
      "_dom_classes": [],
      "_model_module": "@jupyter-widgets/controls",
      "_model_module_version": "1.5.0",
      "_model_name": "FloatProgressModel",
      "_view_count": null,
      "_view_module": "@jupyter-widgets/controls",
      "_view_module_version": "1.5.0",
      "_view_name": "ProgressView",
      "bar_style": "success",
      "description": "100%",
      "description_tooltip": null,
      "layout": "IPY_MODEL_0db62b3882cf4065b106c80d853f812d",
      "max": 380,
      "min": 0,
      "orientation": "horizontal",
      "style": "IPY_MODEL_c310305facec4583a9bf4510e6ac94a8",
      "value": 380
     }
    },
    "f76b6bac4eca4e188fcb51cebcf7c303": {
     "model_module": "@jupyter-widgets/controls",
     "model_name": "HBoxModel",
     "state": {
      "_dom_classes": [],
      "_model_module": "@jupyter-widgets/controls",
      "_model_module_version": "1.5.0",
      "_model_name": "HBoxModel",
      "_view_count": null,
      "_view_module": "@jupyter-widgets/controls",
      "_view_module_version": "1.5.0",
      "_view_name": "HBoxView",
      "box_style": "",
      "children": [
       "IPY_MODEL_b4c01599b0de4f3c891da4e03585adf6",
       "IPY_MODEL_f795e0e579ec4e2c9aaee73ac5391988"
      ],
      "layout": "IPY_MODEL_b42d5699c93845c29ca9e0a6d3638d22"
     }
    },
    "f795e0e579ec4e2c9aaee73ac5391988": {
     "model_module": "@jupyter-widgets/controls",
     "model_name": "HTMLModel",
     "state": {
      "_dom_classes": [],
      "_model_module": "@jupyter-widgets/controls",
      "_model_module_version": "1.5.0",
      "_model_name": "HTMLModel",
      "_view_count": null,
      "_view_module": "@jupyter-widgets/controls",
      "_view_module_version": "1.5.0",
      "_view_name": "HTMLView",
      "description": "",
      "description_tooltip": null,
      "layout": "IPY_MODEL_5a572a5108c548a69bd8ec13477f7c73",
      "placeholder": "​",
      "style": "IPY_MODEL_6e30d4e1451843599ff71b1b83953bc5",
      "value": " 27000/27000 [06:23&lt;00:00, 70.32it/s]"
     }
    },
    "fa4b464d72f14643aec8ac2dcfac3797": {
     "model_module": "@jupyter-widgets/controls",
     "model_name": "HBoxModel",
     "state": {
      "_dom_classes": [],
      "_model_module": "@jupyter-widgets/controls",
      "_model_module_version": "1.5.0",
      "_model_name": "HBoxModel",
      "_view_count": null,
      "_view_module": "@jupyter-widgets/controls",
      "_view_module_version": "1.5.0",
      "_view_name": "HBoxView",
      "box_style": "",
      "children": [
       "IPY_MODEL_e9fcf99c91834047b9b802e4e13a8b90",
       "IPY_MODEL_fbaaa04dc4374708b477e8d90351f716"
      ],
      "layout": "IPY_MODEL_24a2b10dc1f8443daa8fade21343b877"
     }
    },
    "fbaaa04dc4374708b477e8d90351f716": {
     "model_module": "@jupyter-widgets/controls",
     "model_name": "HTMLModel",
     "state": {
      "_dom_classes": [],
      "_model_module": "@jupyter-widgets/controls",
      "_model_module_version": "1.5.0",
      "_model_name": "HTMLModel",
      "_view_count": null,
      "_view_module": "@jupyter-widgets/controls",
      "_view_module_version": "1.5.0",
      "_view_name": "HTMLView",
      "description": "",
      "description_tooltip": null,
      "layout": "IPY_MODEL_54f8b1045db1416e80beb504bab4ca7a",
      "placeholder": "​",
      "style": "IPY_MODEL_fdeadf8324e743ccbe711c3a68f9ab0f",
      "value": " 380/380 [11:56&lt;00:00,  1.89s/it]"
     }
    },
    "fd994c551db04e81ab384666ef0ae92e": {
     "model_module": "@jupyter-widgets/controls",
     "model_name": "HTMLModel",
     "state": {
      "_dom_classes": [],
      "_model_module": "@jupyter-widgets/controls",
      "_model_module_version": "1.5.0",
      "_model_name": "HTMLModel",
      "_view_count": null,
      "_view_module": "@jupyter-widgets/controls",
      "_view_module_version": "1.5.0",
      "_view_name": "HTMLView",
      "description": "",
      "description_tooltip": null,
      "layout": "IPY_MODEL_9b4111d261104a39812c374924da7b0c",
      "placeholder": "​",
      "style": "IPY_MODEL_92be76ec742d43e4ab6908f9f6a358e3",
      "value": " 380/380 [07:49&lt;00:00,  1.24s/it]"
     }
    },
    "fdeadf8324e743ccbe711c3a68f9ab0f": {
     "model_module": "@jupyter-widgets/controls",
     "model_name": "DescriptionStyleModel",
     "state": {
      "_model_module": "@jupyter-widgets/controls",
      "_model_module_version": "1.5.0",
      "_model_name": "DescriptionStyleModel",
      "_view_count": null,
      "_view_module": "@jupyter-widgets/base",
      "_view_module_version": "1.2.0",
      "_view_name": "StyleView",
      "description_width": ""
     }
    }
   }
  }
 },
 "nbformat": 4,
 "nbformat_minor": 1
}
